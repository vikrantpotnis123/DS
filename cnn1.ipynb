{
  "nbformat": 4,
  "nbformat_minor": 0,
  "metadata": {
    "colab": {
      "name": "cnn1.ipynb",
      "provenance": [],
      "collapsed_sections": [],
      "include_colab_link": true
    },
    "kernelspec": {
      "name": "python3",
      "display_name": "Python 3"
    }
  },
  "cells": [
    {
      "cell_type": "markdown",
      "metadata": {
        "id": "view-in-github",
        "colab_type": "text"
      },
      "source": [
        "<a href=\"https://colab.research.google.com/github/vikrantpotnis123/DS/blob/master/cnn1.ipynb\" target=\"_parent\"><img src=\"https://colab.research.google.com/assets/colab-badge.svg\" alt=\"Open In Colab\"/></a>"
      ]
    },
    {
      "cell_type": "code",
      "metadata": {
        "id": "XFCaXIrHgekm",
        "colab_type": "code",
        "colab": {}
      },
      "source": [
        "import torch\n",
        "import torch.nn as nn\n",
        "import torch.nn.functional as F\n",
        "import torchvision \n",
        "import torchvision.transforms as transforms\n",
        "torch.set_printoptions(linewidth=120)"
      ],
      "execution_count": null,
      "outputs": []
    },
    {
      "cell_type": "code",
      "metadata": {
        "id": "V517BGJMhcy5",
        "colab_type": "code",
        "colab": {}
      },
      "source": [
        "# init params\n",
        "train_set = torchvision.datasets.FashionMNIST(\n",
        "    root = './data/FashionMNIST',\n",
        "    train = True,\n",
        "    download=True,\n",
        "    transform = transforms.Compose([\n",
        "      transforms.ToTensor()                 \n",
        "    ]   \n",
        "    )\n",
        ")\n",
        "train_loader = torch.utils.data.DataLoader(\n",
        "    train_set, batch_size = 64, shuffle=True\n",
        ")\n",
        "\n",
        "\n",
        "test_set = torchvision.datasets.FashionMNIST(\n",
        "    root = './data/FashionMNIST',\n",
        "    train = False,\n",
        "    download = False,\n",
        "    transform = transforms.Compose([\n",
        "      transforms.ToTensor()                 \n",
        "    ]   \n",
        "    )\n",
        ")\n",
        "test_loader = torch.utils.data.DataLoader(\n",
        "    test_set, batch_size = 64, shuffle=True\n",
        ")\n",
        "\n",
        "#device config\n",
        "device = torch.device('cuda' if torch.cuda.is_available() else 'cpu')\n",
        "\n",
        "#hyper paramters\n",
        "num_classes = 10\n",
        "num_epochs  = 15\n",
        "batch_size = 4\n",
        "learning_rate = 0.001"
      ],
      "execution_count": null,
      "outputs": []
    },
    {
      "cell_type": "code",
      "metadata": {
        "id": "WHNLnUEZjFh0",
        "colab_type": "code",
        "colab": {}
      },
      "source": [
        "import numpy as np\n",
        "import matplotlib.pyplot as plt\n",
        "torch.set_printoptions(linewidth=120)"
      ],
      "execution_count": null,
      "outputs": []
    },
    {
      "cell_type": "code",
      "metadata": {
        "id": "3HSp9pORh0Xf",
        "colab_type": "code",
        "colab": {}
      },
      "source": [
        "len(train_set)"
      ],
      "execution_count": null,
      "outputs": []
    },
    {
      "cell_type": "code",
      "metadata": {
        "id": "eWVKlJpXjrWb",
        "colab_type": "code",
        "colab": {}
      },
      "source": [
        "train_set.targets"
      ],
      "execution_count": null,
      "outputs": []
    },
    {
      "cell_type": "code",
      "metadata": {
        "id": "5KM3vWhUjz--",
        "colab_type": "code",
        "colab": {}
      },
      "source": [
        "train_set.targets.bincount()\n"
      ],
      "execution_count": null,
      "outputs": []
    },
    {
      "cell_type": "code",
      "metadata": {
        "id": "kAVOfSK0kEs8",
        "colab_type": "code",
        "colab": {}
      },
      "source": [
        "sample = next(iter(train_set))\n",
        "print(len(sample))\n",
        "type(sample)"
      ],
      "execution_count": null,
      "outputs": []
    },
    {
      "cell_type": "code",
      "metadata": {
        "id": "yvtMGHZQkm0a",
        "colab_type": "code",
        "colab": {}
      },
      "source": [
        "image, label = sample\n",
        "print(image.shape)\n",
        "print(label)\n",
        "#label.shape"
      ],
      "execution_count": null,
      "outputs": []
    },
    {
      "cell_type": "code",
      "metadata": {
        "id": "Us7zkOESl4Bn",
        "colab_type": "code",
        "colab": {}
      },
      "source": [
        ""
      ],
      "execution_count": null,
      "outputs": []
    },
    {
      "cell_type": "code",
      "metadata": {
        "id": "KyjNfR9Ok7Rw",
        "colab_type": "code",
        "colab": {}
      },
      "source": [
        "plt.imshow(image.squeeze(), cmap='gray')\n",
        "print('label: ', label)"
      ],
      "execution_count": null,
      "outputs": []
    },
    {
      "cell_type": "code",
      "metadata": {
        "id": "56rqDFw8lsWL",
        "colab_type": "code",
        "colab": {}
      },
      "source": [
        "batch = next(iter(train_loader))\n",
        "len(batch)"
      ],
      "execution_count": null,
      "outputs": []
    },
    {
      "cell_type": "code",
      "metadata": {
        "id": "_WB9KVHmmJIy",
        "colab_type": "code",
        "colab": {}
      },
      "source": [
        "type(batch)"
      ],
      "execution_count": null,
      "outputs": []
    },
    {
      "cell_type": "code",
      "metadata": {
        "id": "Mdl9v6ZUmMm0",
        "colab_type": "code",
        "colab": {}
      },
      "source": [
        "images, labels = batch"
      ],
      "execution_count": null,
      "outputs": []
    },
    {
      "cell_type": "code",
      "metadata": {
        "id": "6p6HnJm-mm-E",
        "colab_type": "code",
        "colab": {}
      },
      "source": [
        "labels.shape"
      ],
      "execution_count": null,
      "outputs": []
    },
    {
      "cell_type": "code",
      "metadata": {
        "id": "R4m2TPGImRsN",
        "colab_type": "code",
        "colab": {}
      },
      "source": [
        "images.shape"
      ],
      "execution_count": null,
      "outputs": []
    },
    {
      "cell_type": "code",
      "metadata": {
        "id": "djd3GDtkmkR8",
        "colab_type": "code",
        "colab": {}
      },
      "source": [
        "grid = torchvision.utils.make_grid(images, nrow=10)\n",
        "plt.figure(figsize=(15,15))\n",
        "plt.imshow(np.transpose(grid, (1, 2 ,  0)))\n",
        "print('labels: ', labels)"
      ],
      "execution_count": null,
      "outputs": []
    },
    {
      "cell_type": "code",
      "metadata": {
        "id": "6Af_a6eBJl0Z",
        "colab_type": "code",
        "colab": {}
      },
      "source": [
        "class ConvNet(nn.Module):\n",
        "  \n",
        "    def __init__(self):\n",
        "      super().__init__()\n",
        "      self.conv1 = nn.Conv2d(1, 20, 5, 1)\n",
        "      self.conv2 = nn.Conv2d(20, 50, 5, 1)\n",
        "      self.fc1 = nn.Linear(4*4*50, 500)\n",
        "      self.dropout1 = nn.Dropout(0.5)\n",
        "      self.fc2 = nn.Linear(500, 10)\n",
        "\n",
        "    def forward(self, x):\n",
        "      x = F.relu(self.conv1(x))\n",
        "      x = F.max_pool2d(x, 2, 2)\n",
        "      x = F.relu(self.conv2(x))\n",
        "      x = F.max_pool2d(x, 2, 2)\n",
        "      x = x.view(-1, 4*4*50)\n",
        "      x = F.relu(self.fc1(x))\n",
        "      x = self.dropout1(x)\n",
        "      x = self.fc2(x)\n",
        "      return x\n",
        "    "
      ],
      "execution_count": null,
      "outputs": []
    },
    {
      "cell_type": "code",
      "metadata": {
        "id": "eb1Mw_Q9Kml1",
        "colab_type": "code",
        "colab": {}
      },
      "source": [
        "model = ConvNet().to(device)\n",
        "model"
      ],
      "execution_count": null,
      "outputs": []
    },
    {
      "cell_type": "code",
      "metadata": {
        "id": "SLasYsn_J2Av",
        "colab_type": "code",
        "colab": {}
      },
      "source": [
        "criterion = nn.CrossEntropyLoss()\n",
        "optimizer = torch.optim.Adam(model.parameters(), lr = 0.001)"
      ],
      "execution_count": null,
      "outputs": []
    },
    {
      "cell_type": "code",
      "metadata": {
        "id": "DJKneEMpKrq4",
        "colab_type": "code",
        "colab": {}
      },
      "source": [
        "n_total_steps = len(train_loader) # 600\n",
        "for e in range(num_epochs):\n",
        "  n_loss = 0.0\n",
        "  n_correct = 0.0\n",
        "\n",
        "  for i, (images, labels) in enumerate(train_loader): \n",
        "    images = images.to(device)\n",
        "    labels = labels.to(device)\n",
        "    output= model(images)\n",
        "    loss = criterion(output, labels)\n",
        "    \n",
        "    optimizer.zero_grad()\n",
        "    loss.backward()\n",
        "    optimizer.step()\n",
        "    \n",
        "    # print every 100th iteration\n",
        "    if ((i+1)%100 == 0):\n",
        "      print(f'epoch {e+1}/{num_epochs}, step {i*1}/{n_total_steps}, loss = {loss.item():.4f}')\n",
        "  else:\n",
        "    with torch.no_grad():\n",
        "      n_correct = 0.0\n",
        "      n_samples = 0.0\n",
        "\n",
        "      for images, labels in test_loader:\n",
        "        images = images.to(device)\n",
        "        labels = labels.to(device)\n",
        "        output = model(images)\n",
        "        _, preds = torch.max(output, 1)\n",
        "        #print(labels.shape[0])\n",
        "        # batch_size\n",
        "        n_samples += labels.shape[0]\n",
        "\n",
        "        # correct preds within a batch_size of samples\n",
        "        n_correct += (preds == labels).sum().item() \n",
        "\n",
        "        # overall accuracy\n",
        "        acc = 100.0 * n_correct/n_samples\n",
        "        print(f'epoch {e+1}/{num_epochs}, accuracy = {acc}')\n",
        "    "
      ],
      "execution_count": null,
      "outputs": []
    }
  ]
}