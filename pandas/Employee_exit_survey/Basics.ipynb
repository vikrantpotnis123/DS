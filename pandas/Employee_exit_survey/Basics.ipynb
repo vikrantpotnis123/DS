{
 "cells": [
  {
   "cell_type": "markdown",
   "metadata": {
    "collapsed": true
   },
   "source": [
    "Exit surveys from employees of the Department of Education, Training and Employment (DETE) and the Technical and Further Education (TAFE) institute in Queensland, Australia."
   ]
  },
  {
   "cell_type": "markdown",
   "metadata": {},
   "source": [
    "Are employees who only worked for the institutes for a short period of time resigning due to some kind of dissatisfaction? What about employees who have been there longer?\n",
    "\n",
    "Are younger employees resigning due to some kind of dissatisfaction? What about older employees?\n"
   ]
  },
  {
   "cell_type": "markdown",
   "metadata": {},
   "source": [
    "Below is a preview of a couple columns we'll work with from the dete_survey.csv:\n",
    "\n",
    "    ID: An id used to identify the participant of the survey\n",
    "    SeparationType: The reason why the person's employment ended\n",
    "    Cease Date: The year or month the person's employment ended\n",
    "    DETE Start Date: The year the person began employment with the DETE\n",
    "\n",
    "Below is a preview of a couple columns we'll work with from the tafe_survey.csv:\n",
    "\n",
    "    Record ID: An id used to identify the participant of the survey\n",
    "    Reason for ceasing employment: The reason why the person's employment ended\n",
    "    LengthofServiceOverall. Overall Length of Service at Institute (in years): \n",
    "    The length of the person's employment (in years)\n"
   ]
  },
  {
   "cell_type": "code",
   "execution_count": null,
   "metadata": {
    "collapsed": true
   },
   "outputs": [],
   "source": [
    "import pandas as pd\n",
    "import numpy as np"
   ]
  },
  {
   "cell_type": "code",
   "execution_count": null,
   "metadata": {
    "collapsed": false
   },
   "outputs": [],
   "source": [
    "dete_survey = pd.read_csv(\"dete_survey.csv\", na_values='Not Stated')\n",
    "tafe_survey = pd.read_csv(\"tafe_survey.csv\", na_values='Not Stated')"
   ]
  },
  {
   "cell_type": "code",
   "execution_count": null,
   "metadata": {
    "collapsed": false
   },
   "outputs": [],
   "source": [
    "dete_survey.columns"
   ]
  },
  {
   "cell_type": "code",
   "execution_count": null,
   "metadata": {
    "collapsed": false
   },
   "outputs": [],
   "source": [
    "tafe_survey.columns"
   ]
  },
  {
   "cell_type": "code",
   "execution_count": null,
   "metadata": {
    "collapsed": false
   },
   "outputs": [],
   "source": [
    "dete_survey.shape"
   ]
  },
  {
   "cell_type": "code",
   "execution_count": null,
   "metadata": {
    "collapsed": false
   },
   "outputs": [],
   "source": [
    "tafe_survey.shape"
   ]
  },
  {
   "cell_type": "markdown",
   "metadata": {},
   "source": [
    "## Missing or null values"
   ]
  },
  {
   "cell_type": "code",
   "execution_count": null,
   "metadata": {
    "collapsed": false
   },
   "outputs": [],
   "source": [
    "dete_survey.isnull().sum()"
   ]
  },
  {
   "cell_type": "code",
   "execution_count": null,
   "metadata": {
    "collapsed": false
   },
   "outputs": [],
   "source": [
    "tafe_survey.isnull().sum()"
   ]
  },
  {
   "cell_type": "code",
   "execution_count": null,
   "metadata": {
    "collapsed": false
   },
   "outputs": [],
   "source": [
    "numeric_features = dete_survey.select_dtypes(include=['int64', 'float64']).columns\n",
    "categorical_features = dete_survey.select_dtypes(include=['object']).columns\n",
    "print(numeric_features)\n",
    "print(len(categorical_features))\n"
   ]
  },
  {
   "cell_type": "code",
   "execution_count": null,
   "metadata": {
    "collapsed": false
   },
   "outputs": [],
   "source": [
    "print(dete_survey.describe())"
   ]
  },
  {
   "cell_type": "code",
   "execution_count": null,
   "metadata": {
    "collapsed": false
   },
   "outputs": [],
   "source": [
    "dete_survey.duplicated().sum()"
   ]
  },
  {
   "cell_type": "code",
   "execution_count": null,
   "metadata": {
    "collapsed": false
   },
   "outputs": [],
   "source": [
    "tafe_survey.duplicated().sum()"
   ]
  },
  {
   "cell_type": "code",
   "execution_count": null,
   "metadata": {
    "collapsed": false
   },
   "outputs": [],
   "source": [
    "dete_survey.isna().sum()"
   ]
  },
  {
   "cell_type": "code",
   "execution_count": null,
   "metadata": {
    "collapsed": false
   },
   "outputs": [],
   "source": [
    "tafe_survey.isna().sum()"
   ]
  },
  {
   "cell_type": "code",
   "execution_count": null,
   "metadata": {
    "collapsed": false
   },
   "outputs": [],
   "source": [
    "dete_survey['SeparationType'].value_counts()"
   ]
  },
  {
   "cell_type": "code",
   "execution_count": null,
   "metadata": {
    "collapsed": false
   },
   "outputs": [],
   "source": [
    "tafe_survey['Reason for ceasing employment'].value_counts()"
   ]
  },
  {
   "cell_type": "code",
   "execution_count": null,
   "metadata": {
    "collapsed": false
   },
   "outputs": [],
   "source": [
    "tafe_survey['Main Factor. Which of these was the main factor for leaving?'].value_counts()"
   ]
  },
  {
   "cell_type": "code",
   "execution_count": null,
   "metadata": {
    "collapsed": true
   },
   "outputs": [],
   "source": [
    "%matplotlib  inline"
   ]
  },
  {
   "cell_type": "code",
   "execution_count": null,
   "metadata": {
    "collapsed": false
   },
   "outputs": [],
   "source": [
    "import matplotlib.pyplot as plt"
   ]
  },
  {
   "cell_type": "code",
   "execution_count": null,
   "metadata": {
    "collapsed": false
   },
   "outputs": [],
   "source": [
    "# dete_survey.hist(bins=5, figsize=(20, 15))"
   ]
  },
  {
   "cell_type": "code",
   "execution_count": null,
   "metadata": {
    "collapsed": false
   },
   "outputs": [],
   "source": [
    "# tafe_survey.hist(bins=25, figsize=(20, 15))"
   ]
  },
  {
   "cell_type": "code",
   "execution_count": null,
   "metadata": {
    "collapsed": true
   },
   "outputs": [],
   "source": [
    "spec_chars = [\"!\",'\"',\"#\",\"%\",\"&\",\"'\",\"(\",\")\",\n",
    "              \"*\",\"+\",\",\",\"-\",\".\",\"/\",\":\",\";\",\"<\",\n",
    "              \"=\",\">\",\"?\",\"@\",\"[\",\"\\\\\",\"]\",\"^\",\"_\",\n",
    "              \"`\",\"{\",\"|\",\"}\",\"~\",\"–\"]"
   ]
  },
  {
   "cell_type": "code",
   "execution_count": null,
   "metadata": {
    "collapsed": false
   },
   "outputs": [],
   "source": [
    "'''\n",
    "for char in spec_chars:\n",
    "    df['title'] = df['title'].str.replace(char, ' ')\n",
    "'''"
   ]
  },
  {
   "cell_type": "code",
   "execution_count": null,
   "metadata": {
    "collapsed": false
   },
   "outputs": [],
   "source": [
    "dete_survey.columns[28:49]"
   ]
  },
  {
   "cell_type": "code",
   "execution_count": null,
   "metadata": {
    "collapsed": true
   },
   "outputs": [],
   "source": [
    "dete_survey_updated = dete_survey.drop(dete_survey.columns[28:49], axis=1)"
   ]
  },
  {
   "cell_type": "code",
   "execution_count": null,
   "metadata": {
    "collapsed": false
   },
   "outputs": [],
   "source": [
    "tafe_survey.columns[17:66]"
   ]
  },
  {
   "cell_type": "code",
   "execution_count": null,
   "metadata": {
    "collapsed": false
   },
   "outputs": [],
   "source": [
    "tafe_survey_updated = tafe_survey.drop(tafe_survey.columns[17:66], axis=1)"
   ]
  },
  {
   "cell_type": "code",
   "execution_count": null,
   "metadata": {
    "collapsed": false
   },
   "outputs": [],
   "source": [
    "dete_survey_updated.columns = dete_survey_updated.columns.str.replace('.', ' ').str.replace('\\s+', '_').str.strip().str.lower()"
   ]
  },
  {
   "cell_type": "code",
   "execution_count": null,
   "metadata": {
    "collapsed": false
   },
   "outputs": [],
   "source": [
    "dete_survey_updated.columns"
   ]
  },
  {
   "cell_type": "code",
   "execution_count": null,
   "metadata": {
    "collapsed": false
   },
   "outputs": [],
   "source": [
    "tafe_survey_updated.columns"
   ]
  },
  {
   "cell_type": "code",
   "execution_count": null,
   "metadata": {
    "collapsed": true
   },
   "outputs": [],
   "source": [
    "# tafe_survey_updated.columns = tafe_survey_updated.columns.str.replace('.', '').str.replace('-', '').str.replace('\\s+', '_').str.strip().str.strip('_').str.upper()"
   ]
  },
  {
   "cell_type": "code",
   "execution_count": null,
   "metadata": {
    "collapsed": true
   },
   "outputs": [],
   "source": [
    "rename_map = { \n",
    "    'Record ID': 'id',\n",
    "    'CESSATION YEAR': 'cease_date',\n",
    "    'Reason for ceasing employment': 'separationtype',\n",
    "    'Gender. What is your Gender?': 'gender',\n",
    "    'CurrentAge. Current Age': 'age',\n",
    "    'Employment Type. Employment Type': 'employment_status',\n",
    "    'Classification. Classification': 'position',\n",
    "    'LengthofServiceOverall. Overall Length of Service at Institute (in years)': 'institute_service',\n",
    "    'LengthofServiceCurrent. Length of Service at current workplace (in years)': 'role_service'\n",
    "\n",
    "}"
   ]
  },
  {
   "cell_type": "code",
   "execution_count": null,
   "metadata": {
    "collapsed": false
   },
   "outputs": [],
   "source": [
    "tafe_survey_updated.rename(columns=rename_map, inplace=True)"
   ]
  },
  {
   "cell_type": "code",
   "execution_count": null,
   "metadata": {
    "collapsed": false
   },
   "outputs": [],
   "source": [
    "tafe_survey_updated.columns"
   ]
  },
  {
   "cell_type": "code",
   "execution_count": null,
   "metadata": {
    "collapsed": false
   },
   "outputs": [],
   "source": [
    "tafe_survey_updated.head()"
   ]
  },
  {
   "cell_type": "code",
   "execution_count": null,
   "metadata": {
    "collapsed": false
   },
   "outputs": [],
   "source": [
    "dete_survey_updated.columns"
   ]
  },
  {
   "cell_type": "code",
   "execution_count": null,
   "metadata": {
    "collapsed": false
   },
   "outputs": [],
   "source": [
    "dete_survey_updated.head()"
   ]
  },
  {
   "cell_type": "code",
   "execution_count": null,
   "metadata": {
    "collapsed": false
   },
   "outputs": [],
   "source": [
    "dete_survey_updated['separationtype'].value_counts()"
   ]
  },
  {
   "cell_type": "code",
   "execution_count": null,
   "metadata": {
    "collapsed": false
   },
   "outputs": [],
   "source": [
    "tafe_survey_updated['separationtype'].value_counts()"
   ]
  },
  {
   "cell_type": "code",
   "execution_count": null,
   "metadata": {
    "collapsed": false
   },
   "outputs": [],
   "source": [
    "# cond1 = (dete_survey_updated['separationtype'] == 'Resignation-Other reasons') | (dete_survey_updated['separationtype'] == 'Resignation-Other employer') | (dete_survey_updated['separationtype'] == 'Resignation-Move overseas/interstate')\n",
    "cond2 = dete_survey_updated['separationtype'].isin(['Resignation-Other reasons', 'Resignation-Other employer', 'Resignation-Move overseas/interstate'])\n",
    "dete_resignations = dete_survey_updated[cond2].copy()"
   ]
  },
  {
   "cell_type": "code",
   "execution_count": null,
   "metadata": {
    "collapsed": false
   },
   "outputs": [],
   "source": [
    "print(dete_resignations)"
   ]
  },
  {
   "cell_type": "code",
   "execution_count": null,
   "metadata": {
    "collapsed": false
   },
   "outputs": [],
   "source": [
    "cond3 = (tafe_survey_updated['separationtype'] == 'Resignation')\n",
    "tafe_resignations = tafe_survey_updated[cond3].copy()"
   ]
  },
  {
   "cell_type": "code",
   "execution_count": null,
   "metadata": {
    "collapsed": false
   },
   "outputs": [],
   "source": [
    "print(tafe_resignations.head())"
   ]
  },
  {
   "cell_type": "markdown",
   "metadata": {},
   "source": [
    "We are interested only in analyzing the exit survey data of employees who resigned.\n",
    "\n",
    "So we filter out other reasons for separation other than resignation and store subset of the data. "
   ]
  },
  {
   "cell_type": "code",
   "execution_count": null,
   "metadata": {
    "collapsed": false
   },
   "outputs": [],
   "source": [
    "dete_resignations['cease_date'] = dete_resignations['cease_date'].str.replace('[0-9][0-9]\\/', '').astype(float)"
   ]
  },
  {
   "cell_type": "code",
   "execution_count": null,
   "metadata": {
    "collapsed": false
   },
   "outputs": [],
   "source": [
    "print(dete_resignations)"
   ]
  },
  {
   "cell_type": "code",
   "execution_count": null,
   "metadata": {
    "collapsed": false
   },
   "outputs": [],
   "source": [
    "print(dete_resignations['cease_date'].value_counts().sort_index(ascending=True))"
   ]
  },
  {
   "cell_type": "code",
   "execution_count": null,
   "metadata": {
    "collapsed": false
   },
   "outputs": [],
   "source": [
    "print(tafe_resignations['cease_date'].value_counts().sort_index(ascending=True))"
   ]
  },
  {
   "cell_type": "code",
   "execution_count": null,
   "metadata": {
    "collapsed": false
   },
   "outputs": [],
   "source": [
    "dete_resignations.boxplot(column=['cease_date'])\n"
   ]
  },
  {
   "cell_type": "code",
   "execution_count": null,
   "metadata": {
    "collapsed": false
   },
   "outputs": [],
   "source": [
    "tafe_resignations.boxplot(column=['cease_date'])"
   ]
  },
  {
   "cell_type": "code",
   "execution_count": null,
   "metadata": {
    "collapsed": true
   },
   "outputs": [],
   "source": [
    "dete_resignations['institute_service'] = dete_resignations['cease_date'] - dete_resignations['dete_start_date']"
   ]
  },
  {
   "cell_type": "code",
   "execution_count": null,
   "metadata": {
    "collapsed": false
   },
   "outputs": [],
   "source": [
    "print(dete_resignations['institute_service'] )"
   ]
  },
  {
   "cell_type": "code",
   "execution_count": null,
   "metadata": {
    "collapsed": false
   },
   "outputs": [],
   "source": [
    "print(tafe_resignations['institute_service'] )"
   ]
  },
  {
   "cell_type": "markdown",
   "metadata": {},
   "source": [
    "dete_resignations does not have a column indicating no of years in service like tafe_resignations.\n",
    "\n",
    "So we add another column caled institute_service."
   ]
  },
  {
   "cell_type": "code",
   "execution_count": null,
   "metadata": {
    "collapsed": false
   },
   "outputs": [],
   "source": [
    "tafe_resignations['Contributing Factors. Job Dissatisfaction'].value_counts()"
   ]
  },
  {
   "cell_type": "code",
   "execution_count": null,
   "metadata": {
    "collapsed": false
   },
   "outputs": [],
   "source": [
    "tafe_resignations['Contributing Factors. Dissatisfaction'].value_counts()"
   ]
  },
  {
   "cell_type": "code",
   "execution_count": null,
   "metadata": {
    "collapsed": false
   },
   "outputs": [],
   "source": [
    "tafe_resignations"
   ]
  },
  {
   "cell_type": "code",
   "execution_count": 326,
   "metadata": {
    "collapsed": false
   },
   "outputs": [
    {
     "data": {
      "text/plain": [
       "False    241\n",
       "True      91\n",
       "Name: dissatisfied, dtype: int64"
      ]
     },
     "execution_count": 326,
     "metadata": {},
     "output_type": "execute_result"
    }
   ],
   "source": [
    "def update_vals(val):\n",
    "    if pd.isnull(val):\n",
    "        return np.nan\n",
    "    elif val == '-':\n",
    "        return False\n",
    "    return True\n",
    "\n",
    "cols = ['Contributing Factors. Dissatisfaction', 'Contributing Factors. Job Dissatisfaction']\n",
    "tafe_resignations['dissatisfied'] = tafe_resignations[cols].applymap(update_vals).any(1, skipna=False)\n",
    "tafe_resignations['dissatisfied'].value_counts()"
   ]
  },
  {
   "cell_type": "code",
   "execution_count": 330,
   "metadata": {
    "collapsed": true
   },
   "outputs": [],
   "source": [
    "dete_resignations_up = dete_resignations.copy()"
   ]
  },
  {
   "cell_type": "code",
   "execution_count": 331,
   "metadata": {
    "collapsed": true
   },
   "outputs": [],
   "source": [
    "tafe_resignations_up = tafe_resignations.copy()"
   ]
  },
  {
   "cell_type": "code",
   "execution_count": 332,
   "metadata": {
    "collapsed": false
   },
   "outputs": [
    {
     "data": {
      "text/plain": [
       "False    241\n",
       "True      91\n",
       "Name: dissatisfied, dtype: int64"
      ]
     },
     "execution_count": 332,
     "metadata": {},
     "output_type": "execute_result"
    }
   ],
   "source": [
    "tafe_resignations_up['dissatisfied'].value_counts()"
   ]
  },
  {
   "cell_type": "code",
   "execution_count": 333,
   "metadata": {
    "collapsed": true
   },
   "outputs": [],
   "source": [
    "dete_resignations_up['institute'] = 'DETE'"
   ]
  },
  {
   "cell_type": "code",
   "execution_count": 334,
   "metadata": {
    "collapsed": false
   },
   "outputs": [],
   "source": [
    "tafe_resignations_up['institute'] = 'TAFE'"
   ]
  },
  {
   "cell_type": "code",
   "execution_count": 335,
   "metadata": {
    "collapsed": false
   },
   "outputs": [
    {
     "data": {
      "text/plain": [
       "False    162\n",
       "True     149\n",
       "Name: dissatisfied, dtype: int64"
      ]
     },
     "execution_count": 335,
     "metadata": {},
     "output_type": "execute_result"
    }
   ],
   "source": [
    "tafe_resignations_up['dissatisfied'].value_counts()\n",
    "dete_resignations_up['dissatisfied'].value_counts()"
   ]
  },
  {
   "cell_type": "code",
   "execution_count": 336,
   "metadata": {
    "collapsed": false
   },
   "outputs": [
    {
     "data": {
      "text/plain": [
       "torres_strait                                            0\n",
       "south_sea                                                3\n",
       "aboriginal                                               7\n",
       "disability                                               8\n",
       "nesb                                                     9\n",
       "business_unit                                           32\n",
       "classification                                         161\n",
       "region                                                 265\n",
       "role_start_date                                        271\n",
       "dete_start_date                                        283\n",
       "role_service                                           290\n",
       "career_move_to_public_sector                           311\n",
       "employment_conditions                                  311\n",
       "work_location                                          311\n",
       "lack_of_job_security                                   311\n",
       "job_dissatisfaction                                    311\n",
       "dissatisfaction_with_the_department                    311\n",
       "workload                                               311\n",
       "lack_of_recognition                                    311\n",
       "interpersonal_conflicts                                311\n",
       "maternity/family                                       311\n",
       "none_of_the_above                                      311\n",
       "physical_work_environment                              311\n",
       "relocation                                             311\n",
       "study/travel                                           311\n",
       "traumatic_incident                                     311\n",
       "work_life_balance                                      311\n",
       "career_move_to_private_sector                          311\n",
       "ill_health                                             311\n",
       "Contributing Factors. Career Move - Private Sector     332\n",
       "Contributing Factors. Other                            332\n",
       "Contributing Factors. Career Move - Public Sector      332\n",
       "Contributing Factors. Career Move - Self-employment    332\n",
       "Contributing Factors. Travel                           332\n",
       "Contributing Factors. Study                            332\n",
       "Contributing Factors. Dissatisfaction                  332\n",
       "Contributing Factors. Ill Health                       332\n",
       "Contributing Factors. NONE                             332\n",
       "Contributing Factors. Maternity/Family                 332\n",
       "Contributing Factors. Job Dissatisfaction              332\n",
       "Contributing Factors. Interpersonal Conflict           332\n",
       "WorkArea                                               340\n",
       "Institute                                              340\n",
       "institute_service                                      563\n",
       "gender                                                 592\n",
       "age                                                    596\n",
       "employment_status                                      597\n",
       "position                                               598\n",
       "cease_date                                             635\n",
       "dissatisfied                                           643\n",
       "id                                                     651\n",
       "separationtype                                         651\n",
       "institute                                              651\n",
       "dtype: int64"
      ]
     },
     "execution_count": 336,
     "metadata": {},
     "output_type": "execute_result"
    }
   ],
   "source": [
    "combined = pd.concat([dete_resignations_up, tafe_resignations_up], ignore_index=True)\n",
    "\n",
    "# Verify the number of non null values in each column\n",
    "combined.notnull().sum().sort_values()"
   ]
  },
  {
   "cell_type": "code",
   "execution_count": 337,
   "metadata": {
    "collapsed": true
   },
   "outputs": [],
   "source": [
    "combined_updated = combined.dropna(thresh = 500, axis =1).copy()"
   ]
  },
  {
   "cell_type": "markdown",
   "metadata": {},
   "source": [
    "To recap, we've accomplished the following:\n",
    "\n",
    "    Renamed our columns\n",
    "    \n",
    "    Dropped any data not needed for our analysis\n",
    "    \n",
    "    Verified the quality of our data\n",
    "    \n",
    "    Created a new institute_service column\n",
    "    \n",
    "    Cleaned the Contributing Factors columns\n",
    "    \n",
    "    Created a new column indicating if an employee resigned because they were dissatisfied in some way\n",
    "    \n",
    "    Aggregated the data according to institute_service and dropped cols with less than 500 non-null combo values. \n"
   ]
  },
  {
   "cell_type": "code",
   "execution_count": 338,
   "metadata": {
    "collapsed": false
   },
   "outputs": [
    {
     "data": {
      "text/plain": [
       "NaN                   88\n",
       "Less than 1 year      73\n",
       "1-2                   64\n",
       "3-4                   63\n",
       "5-6                   33\n",
       "11-20                 26\n",
       "5.0                   23\n",
       "1.0                   22\n",
       "7-10                  21\n",
       "0.0                   20\n",
       "3.0                   20\n",
       "6.0                   17\n",
       "4.0                   16\n",
       "2.0                   14\n",
       "9.0                   14\n",
       "7.0                   13\n",
       "More than 20 years    10\n",
       "13.0                   8\n",
       "8.0                    8\n",
       "15.0                   7\n",
       "20.0                   7\n",
       "14.0                   6\n",
       "12.0                   6\n",
       "17.0                   6\n",
       "22.0                   6\n",
       "10.0                   6\n",
       "16.0                   5\n",
       "18.0                   5\n",
       "11.0                   4\n",
       "23.0                   4\n",
       "24.0                   4\n",
       "19.0                   3\n",
       "32.0                   3\n",
       "39.0                   3\n",
       "21.0                   3\n",
       "28.0                   2\n",
       "30.0                   2\n",
       "26.0                   2\n",
       "36.0                   2\n",
       "25.0                   2\n",
       "29.0                   1\n",
       "31.0                   1\n",
       "27.0                   1\n",
       "34.0                   1\n",
       "35.0                   1\n",
       "38.0                   1\n",
       "41.0                   1\n",
       "42.0                   1\n",
       "49.0                   1\n",
       "33.0                   1\n",
       "Name: institute_service, dtype: int64"
      ]
     },
     "execution_count": 338,
     "metadata": {},
     "output_type": "execute_result"
    }
   ],
   "source": [
    "combined_updated['institute_service'].value_counts(dropna=False)"
   ]
  },
  {
   "cell_type": "code",
   "execution_count": 339,
   "metadata": {
    "collapsed": false
   },
   "outputs": [
    {
     "name": "stderr",
     "output_type": "stream",
     "text": [
      "/dataquest/system/env/python3/lib/python3.4/site-packages/ipykernel/__main__.py:2: FutureWarning: currently extract(expand=None) means expand=False (return Index/Series/DataFrame) but in a future version of pandas this will be changed to expand=True (return DataFrame)\n",
      "  from ipykernel import kernelapp as app\n"
     ]
    },
    {
     "data": {
      "text/plain": [
       "1.0     159\n",
       "3.0      83\n",
       "5.0      56\n",
       "7.0      34\n",
       "11.0     30\n",
       "0.0      20\n",
       "20.0     17\n",
       "6.0      17\n",
       "4.0      16\n",
       "9.0      14\n",
       "2.0      14\n",
       "13.0      8\n",
       "8.0       8\n",
       "15.0      7\n",
       "17.0      6\n",
       "10.0      6\n",
       "12.0      6\n",
       "14.0      6\n",
       "22.0      6\n",
       "16.0      5\n",
       "18.0      5\n",
       "24.0      4\n",
       "23.0      4\n",
       "39.0      3\n",
       "19.0      3\n",
       "21.0      3\n",
       "32.0      3\n",
       "28.0      2\n",
       "36.0      2\n",
       "25.0      2\n",
       "30.0      2\n",
       "26.0      2\n",
       "29.0      1\n",
       "38.0      1\n",
       "42.0      1\n",
       "27.0      1\n",
       "41.0      1\n",
       "35.0      1\n",
       "49.0      1\n",
       "34.0      1\n",
       "33.0      1\n",
       "31.0      1\n",
       "Name: institute_service_up, dtype: int64"
      ]
     },
     "execution_count": 339,
     "metadata": {},
     "output_type": "execute_result"
    }
   ],
   "source": [
    "# Extract the years of service and convert the type to float\n",
    "combined_updated['institute_service_up'] = combined_updated['institute_service'].astype('str').str.extract(r'(\\d+)')\n",
    "combined_updated['institute_service_up'] = combined_updated['institute_service_up'].astype('float')\n",
    "\n",
    "# Check the years extracted are correct\n",
    "combined_updated['institute_service_up'].value_counts()"
   ]
  },
  {
   "cell_type": "code",
   "execution_count": 340,
   "metadata": {
    "collapsed": false
   },
   "outputs": [
    {
     "data": {
      "text/plain": [
       "False    403\n",
       "True     240\n",
       "Name: dissatisfied, dtype: int64"
      ]
     },
     "execution_count": 340,
     "metadata": {},
     "output_type": "execute_result"
    }
   ],
   "source": [
    "combined_updated['dissatisfied'].value_counts()"
   ]
  },
  {
   "cell_type": "code",
   "execution_count": 341,
   "metadata": {
    "collapsed": false
   },
   "outputs": [
    {
     "data": {
      "text/plain": [
       "New            193\n",
       "Experienced    172\n",
       "Veteran        136\n",
       "Established     62\n",
       "Name: service_cat, dtype: int64"
      ]
     },
     "execution_count": 341,
     "metadata": {},
     "output_type": "execute_result"
    }
   ],
   "source": [
    "# Convert years of service to categories\n",
    "def transform_service(val):\n",
    "    if val >= 11:\n",
    "        return \"Veteran\"\n",
    "    elif 7 <= val < 11:\n",
    "        return \"Established\"\n",
    "    elif 3 <= val < 7:\n",
    "        return \"Experienced\"\n",
    "    elif pd.isnull(val):\n",
    "        return np.nan\n",
    "    else:\n",
    "        return \"New\"\n",
    "combined_updated['service_cat'] = combined_updated['institute_service_up'].apply(transform_service)\n",
    "\n",
    "# Quick check of the update\n",
    "combined_updated['service_cat'].value_counts()"
   ]
  },
  {
   "cell_type": "code",
   "execution_count": 342,
   "metadata": {
    "collapsed": false
   },
   "outputs": [
    {
     "data": {
      "text/plain": [
       "False    403\n",
       "True     240\n",
       "NaN        8\n",
       "Name: dissatisfied, dtype: int64"
      ]
     },
     "execution_count": 342,
     "metadata": {},
     "output_type": "execute_result"
    }
   ],
   "source": [
    "combined_updated['dissatisfied'].value_counts(dropna=False)"
   ]
  },
  {
   "cell_type": "code",
   "execution_count": 343,
   "metadata": {
    "collapsed": false
   },
   "outputs": [],
   "source": [
    "combined_updated['dissatisfied'] = combined_updated['dissatisfied'].fillna(False)"
   ]
  },
  {
   "cell_type": "code",
   "execution_count": 344,
   "metadata": {
    "collapsed": false
   },
   "outputs": [
    {
     "data": {
      "text/plain": [
       "False    411\n",
       "True     240\n",
       "Name: dissatisfied, dtype: int64"
      ]
     },
     "execution_count": 344,
     "metadata": {},
     "output_type": "execute_result"
    }
   ],
   "source": [
    "combined_updated['dissatisfied'].value_counts(dropna=False)"
   ]
  },
  {
   "cell_type": "code",
   "execution_count": 345,
   "metadata": {
    "collapsed": false
   },
   "outputs": [
    {
     "data": {
      "text/plain": [
       "False    411\n",
       "True     240\n",
       "Name: dissatisfied, dtype: int64"
      ]
     },
     "execution_count": 345,
     "metadata": {},
     "output_type": "execute_result"
    }
   ],
   "source": [
    "combined_updated['dissatisfied'].value_counts(dropna=False)"
   ]
  },
  {
   "cell_type": "code",
   "execution_count": 346,
   "metadata": {
    "collapsed": false
   },
   "outputs": [
    {
     "name": "stdout",
     "output_type": "stream",
     "text": [
      "<class 'pandas.core.frame.DataFrame'>\n",
      "RangeIndex: 651 entries, 0 to 650\n",
      "Data columns (total 12 columns):\n",
      "age                     596 non-null object\n",
      "cease_date              635 non-null float64\n",
      "dissatisfied            651 non-null bool\n",
      "employment_status       597 non-null object\n",
      "gender                  592 non-null object\n",
      "id                      651 non-null float64\n",
      "institute               651 non-null object\n",
      "institute_service       563 non-null object\n",
      "position                598 non-null object\n",
      "separationtype          651 non-null object\n",
      "institute_service_up    563 non-null float64\n",
      "service_cat             563 non-null object\n",
      "dtypes: bool(1), float64(3), object(8)\n",
      "memory usage: 56.7+ KB\n",
      "None\n"
     ]
    }
   ],
   "source": [
    "print(combined_updated.info())"
   ]
  },
  {
   "cell_type": "code",
   "execution_count": 347,
   "metadata": {
    "collapsed": false
   },
   "outputs": [
    {
     "name": "stdout",
     "output_type": "stream",
     "text": [
      "             dissatisfied\n",
      "service_cat              \n",
      "Established      0.516129\n",
      "Experienced      0.343023\n",
      "New              0.295337\n",
      "Veteran          0.485294\n"
     ]
    }
   ],
   "source": [
    "combined_updated_agg = combined_updated.pivot_table(index='service_cat', values='dissatisfied')\n",
    "print(combined_updated_agg.head())"
   ]
  },
  {
   "cell_type": "code",
   "execution_count": 348,
   "metadata": {
    "collapsed": false
   },
   "outputs": [
    {
     "data": {
      "text/plain": [
       "<matplotlib.axes._subplots.AxesSubplot at 0x7f9a18f9c9b0>"
      ]
     },
     "execution_count": 348,
     "metadata": {},
     "output_type": "execute_result"
    },
    {
     "data": {
      "image/png": "[encoded data removed]",
      "text/plain": [
       "<matplotlib.figure.Figure at 0x7f9a192eb400>"
      ]
     },
     "metadata": {},
     "output_type": "display_data"
    }
   ],
   "source": [
    "%matplotlib inline\n",
    "combined_updated_agg.plot(kind='bar', rot=30)"
   ]
  },
  {
   "cell_type": "markdown",
   "metadata": {},
   "source": [
    "We can see that 'Established' (> 7 years) and 'Veteran' (> 11 years) are most likely to leave due to sort dissatisfaction.\n",
    "'New' (less than 3 years old ) employees areleast likely to leave due to some sort of dissatisfaction"
   ]
  },
  {
   "cell_type": "code",
   "execution_count": null,
   "metadata": {
    "collapsed": true
   },
   "outputs": [],
   "source": []
  }
 ],
 "metadata": {
  "kernelspec": {
   "display_name": "Python 3",
   "language": "python",
   "name": "python3"
  },
  "language_info": {
   "codemirror_mode": {
    "name": "ipython",
    "version": 3
   },
   "file_extension": ".py",
   "mimetype": "text/x-python",
   "name": "python",
   "nbconvert_exporter": "python",
   "pygments_lexer": "ipython3",
   "version": "3.4.3"
  }
 },
 "nbformat": 4,
 "nbformat_minor": 2
}
