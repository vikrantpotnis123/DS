{
  "nbformat": 4,
  "nbformat_minor": 0,
  "metadata": {
    "colab": {
      "name": "deep_lizzy1.ipynb",
      "provenance": [],
      "collapsed_sections": []
    },
    "kernelspec": {
      "name": "python3",
      "display_name": "Python 3"
    },
    "widgets": {
      "application/vnd.jupyter.widget-state+json": {
        "ce403d29a88d464fb0122bc0d43bcd9a": {
          "model_module": "@jupyter-widgets/controls",
          "model_name": "HBoxModel",
          "state": {
            "_view_name": "HBoxView",
            "_dom_classes": [],
            "_model_name": "HBoxModel",
            "_view_module": "@jupyter-widgets/controls",
            "_model_module_version": "1.5.0",
            "_view_count": null,
            "_view_module_version": "1.5.0",
            "box_style": "",
            "layout": "IPY_MODEL_7a4268f4e0674db5bc4b28ad905a57b5",
            "_model_module": "@jupyter-widgets/controls",
            "children": [
              "IPY_MODEL_e84e32ac50a046faa037c29510f48e20",
              "IPY_MODEL_e877e32876e8409780c26e14bc931201"
            ]
          }
        },
        "7a4268f4e0674db5bc4b28ad905a57b5": {
          "model_module": "@jupyter-widgets/base",
          "model_name": "LayoutModel",
          "state": {
            "_view_name": "LayoutView",
            "grid_template_rows": null,
            "right": null,
            "justify_content": null,
            "_view_module": "@jupyter-widgets/base",
            "overflow": null,
            "_model_module_version": "1.2.0",
            "_view_count": null,
            "flex_flow": null,
            "width": null,
            "min_width": null,
            "border": null,
            "align_items": null,
            "bottom": null,
            "_model_module": "@jupyter-widgets/base",
            "top": null,
            "grid_column": null,
            "overflow_y": null,
            "overflow_x": null,
            "grid_auto_flow": null,
            "grid_area": null,
            "grid_template_columns": null,
            "flex": null,
            "_model_name": "LayoutModel",
            "justify_items": null,
            "grid_row": null,
            "max_height": null,
            "align_content": null,
            "visibility": null,
            "align_self": null,
            "height": null,
            "min_height": null,
            "padding": null,
            "grid_auto_rows": null,
            "grid_gap": null,
            "max_width": null,
            "order": null,
            "_view_module_version": "1.2.0",
            "grid_template_areas": null,
            "object_position": null,
            "object_fit": null,
            "grid_auto_columns": null,
            "margin": null,
            "display": null,
            "left": null
          }
        },
        "e84e32ac50a046faa037c29510f48e20": {
          "model_module": "@jupyter-widgets/controls",
          "model_name": "FloatProgressModel",
          "state": {
            "_view_name": "ProgressView",
            "style": "IPY_MODEL_9ddd2428f970412db16d5e2267a4dc91",
            "_dom_classes": [],
            "description": "",
            "_model_name": "FloatProgressModel",
            "bar_style": "success",
            "max": 1,
            "_view_module": "@jupyter-widgets/controls",
            "_model_module_version": "1.5.0",
            "value": 1,
            "_view_count": null,
            "_view_module_version": "1.5.0",
            "orientation": "horizontal",
            "min": 0,
            "description_tooltip": null,
            "_model_module": "@jupyter-widgets/controls",
            "layout": "IPY_MODEL_05488fd7826b4b058ad3b41802b0e348"
          }
        },
        "e877e32876e8409780c26e14bc931201": {
          "model_module": "@jupyter-widgets/controls",
          "model_name": "HTMLModel",
          "state": {
            "_view_name": "HTMLView",
            "style": "IPY_MODEL_3ccf4cba00b64759a2f6dc0fa1ce19fb",
            "_dom_classes": [],
            "description": "",
            "_model_name": "HTMLModel",
            "placeholder": "​",
            "_view_module": "@jupyter-widgets/controls",
            "_model_module_version": "1.5.0",
            "value": " 26427392/? [00:06&lt;00:00, 4137548.08it/s]",
            "_view_count": null,
            "_view_module_version": "1.5.0",
            "description_tooltip": null,
            "_model_module": "@jupyter-widgets/controls",
            "layout": "IPY_MODEL_589d8449b47548d8a779b676a69bccd9"
          }
        },
        "9ddd2428f970412db16d5e2267a4dc91": {
          "model_module": "@jupyter-widgets/controls",
          "model_name": "ProgressStyleModel",
          "state": {
            "_view_name": "StyleView",
            "_model_name": "ProgressStyleModel",
            "description_width": "initial",
            "_view_module": "@jupyter-widgets/base",
            "_model_module_version": "1.5.0",
            "_view_count": null,
            "_view_module_version": "1.2.0",
            "bar_color": null,
            "_model_module": "@jupyter-widgets/controls"
          }
        },
        "05488fd7826b4b058ad3b41802b0e348": {
          "model_module": "@jupyter-widgets/base",
          "model_name": "LayoutModel",
          "state": {
            "_view_name": "LayoutView",
            "grid_template_rows": null,
            "right": null,
            "justify_content": null,
            "_view_module": "@jupyter-widgets/base",
            "overflow": null,
            "_model_module_version": "1.2.0",
            "_view_count": null,
            "flex_flow": null,
            "width": null,
            "min_width": null,
            "border": null,
            "align_items": null,
            "bottom": null,
            "_model_module": "@jupyter-widgets/base",
            "top": null,
            "grid_column": null,
            "overflow_y": null,
            "overflow_x": null,
            "grid_auto_flow": null,
            "grid_area": null,
            "grid_template_columns": null,
            "flex": null,
            "_model_name": "LayoutModel",
            "justify_items": null,
            "grid_row": null,
            "max_height": null,
            "align_content": null,
            "visibility": null,
            "align_self": null,
            "height": null,
            "min_height": null,
            "padding": null,
            "grid_auto_rows": null,
            "grid_gap": null,
            "max_width": null,
            "order": null,
            "_view_module_version": "1.2.0",
            "grid_template_areas": null,
            "object_position": null,
            "object_fit": null,
            "grid_auto_columns": null,
            "margin": null,
            "display": null,
            "left": null
          }
        },
        "3ccf4cba00b64759a2f6dc0fa1ce19fb": {
          "model_module": "@jupyter-widgets/controls",
          "model_name": "DescriptionStyleModel",
          "state": {
            "_view_name": "StyleView",
            "_model_name": "DescriptionStyleModel",
            "description_width": "",
            "_view_module": "@jupyter-widgets/base",
            "_model_module_version": "1.5.0",
            "_view_count": null,
            "_view_module_version": "1.2.0",
            "_model_module": "@jupyter-widgets/controls"
          }
        },
        "589d8449b47548d8a779b676a69bccd9": {
          "model_module": "@jupyter-widgets/base",
          "model_name": "LayoutModel",
          "state": {
            "_view_name": "LayoutView",
            "grid_template_rows": null,
            "right": null,
            "justify_content": null,
            "_view_module": "@jupyter-widgets/base",
            "overflow": null,
            "_model_module_version": "1.2.0",
            "_view_count": null,
            "flex_flow": null,
            "width": null,
            "min_width": null,
            "border": null,
            "align_items": null,
            "bottom": null,
            "_model_module": "@jupyter-widgets/base",
            "top": null,
            "grid_column": null,
            "overflow_y": null,
            "overflow_x": null,
            "grid_auto_flow": null,
            "grid_area": null,
            "grid_template_columns": null,
            "flex": null,
            "_model_name": "LayoutModel",
            "justify_items": null,
            "grid_row": null,
            "max_height": null,
            "align_content": null,
            "visibility": null,
            "align_self": null,
            "height": null,
            "min_height": null,
            "padding": null,
            "grid_auto_rows": null,
            "grid_gap": null,
            "max_width": null,
            "order": null,
            "_view_module_version": "1.2.0",
            "grid_template_areas": null,
            "object_position": null,
            "object_fit": null,
            "grid_auto_columns": null,
            "margin": null,
            "display": null,
            "left": null
          }
        },
        "bee4b9f066eb4be083871e679a5d185a": {
          "model_module": "@jupyter-widgets/controls",
          "model_name": "HBoxModel",
          "state": {
            "_view_name": "HBoxView",
            "_dom_classes": [],
            "_model_name": "HBoxModel",
            "_view_module": "@jupyter-widgets/controls",
            "_model_module_version": "1.5.0",
            "_view_count": null,
            "_view_module_version": "1.5.0",
            "box_style": "",
            "layout": "IPY_MODEL_5c04fe2c74da48cdb4606e7a93c9d149",
            "_model_module": "@jupyter-widgets/controls",
            "children": [
              "IPY_MODEL_024b95b1e39148d59a1ee9c295e0e360",
              "IPY_MODEL_63cb05314f6c4210b0eb0ef5ff612cce"
            ]
          }
        },
        "5c04fe2c74da48cdb4606e7a93c9d149": {
          "model_module": "@jupyter-widgets/base",
          "model_name": "LayoutModel",
          "state": {
            "_view_name": "LayoutView",
            "grid_template_rows": null,
            "right": null,
            "justify_content": null,
            "_view_module": "@jupyter-widgets/base",
            "overflow": null,
            "_model_module_version": "1.2.0",
            "_view_count": null,
            "flex_flow": null,
            "width": null,
            "min_width": null,
            "border": null,
            "align_items": null,
            "bottom": null,
            "_model_module": "@jupyter-widgets/base",
            "top": null,
            "grid_column": null,
            "overflow_y": null,
            "overflow_x": null,
            "grid_auto_flow": null,
            "grid_area": null,
            "grid_template_columns": null,
            "flex": null,
            "_model_name": "LayoutModel",
            "justify_items": null,
            "grid_row": null,
            "max_height": null,
            "align_content": null,
            "visibility": null,
            "align_self": null,
            "height": null,
            "min_height": null,
            "padding": null,
            "grid_auto_rows": null,
            "grid_gap": null,
            "max_width": null,
            "order": null,
            "_view_module_version": "1.2.0",
            "grid_template_areas": null,
            "object_position": null,
            "object_fit": null,
            "grid_auto_columns": null,
            "margin": null,
            "display": null,
            "left": null
          }
        },
        "024b95b1e39148d59a1ee9c295e0e360": {
          "model_module": "@jupyter-widgets/controls",
          "model_name": "FloatProgressModel",
          "state": {
            "_view_name": "ProgressView",
            "style": "IPY_MODEL_97809aaaa56f4df099a273d63093fcee",
            "_dom_classes": [],
            "description": "",
            "_model_name": "FloatProgressModel",
            "bar_style": "success",
            "max": 1,
            "_view_module": "@jupyter-widgets/controls",
            "_model_module_version": "1.5.0",
            "value": 1,
            "_view_count": null,
            "_view_module_version": "1.5.0",
            "orientation": "horizontal",
            "min": 0,
            "description_tooltip": null,
            "_model_module": "@jupyter-widgets/controls",
            "layout": "IPY_MODEL_5170482a5f0740ea934701aaede70972"
          }
        },
        "63cb05314f6c4210b0eb0ef5ff612cce": {
          "model_module": "@jupyter-widgets/controls",
          "model_name": "HTMLModel",
          "state": {
            "_view_name": "HTMLView",
            "style": "IPY_MODEL_7432cc79c9e84ce69f49f502f48e3c06",
            "_dom_classes": [],
            "description": "",
            "_model_name": "HTMLModel",
            "placeholder": "​",
            "_view_module": "@jupyter-widgets/controls",
            "_model_module_version": "1.5.0",
            "value": " 32768/? [00:00&lt;00:00, 69242.99it/s]",
            "_view_count": null,
            "_view_module_version": "1.5.0",
            "description_tooltip": null,
            "_model_module": "@jupyter-widgets/controls",
            "layout": "IPY_MODEL_5077aa8f33c5434ba6d2fb2c1ce59c25"
          }
        },
        "97809aaaa56f4df099a273d63093fcee": {
          "model_module": "@jupyter-widgets/controls",
          "model_name": "ProgressStyleModel",
          "state": {
            "_view_name": "StyleView",
            "_model_name": "ProgressStyleModel",
            "description_width": "initial",
            "_view_module": "@jupyter-widgets/base",
            "_model_module_version": "1.5.0",
            "_view_count": null,
            "_view_module_version": "1.2.0",
            "bar_color": null,
            "_model_module": "@jupyter-widgets/controls"
          }
        },
        "5170482a5f0740ea934701aaede70972": {
          "model_module": "@jupyter-widgets/base",
          "model_name": "LayoutModel",
          "state": {
            "_view_name": "LayoutView",
            "grid_template_rows": null,
            "right": null,
            "justify_content": null,
            "_view_module": "@jupyter-widgets/base",
            "overflow": null,
            "_model_module_version": "1.2.0",
            "_view_count": null,
            "flex_flow": null,
            "width": null,
            "min_width": null,
            "border": null,
            "align_items": null,
            "bottom": null,
            "_model_module": "@jupyter-widgets/base",
            "top": null,
            "grid_column": null,
            "overflow_y": null,
            "overflow_x": null,
            "grid_auto_flow": null,
            "grid_area": null,
            "grid_template_columns": null,
            "flex": null,
            "_model_name": "LayoutModel",
            "justify_items": null,
            "grid_row": null,
            "max_height": null,
            "align_content": null,
            "visibility": null,
            "align_self": null,
            "height": null,
            "min_height": null,
            "padding": null,
            "grid_auto_rows": null,
            "grid_gap": null,
            "max_width": null,
            "order": null,
            "_view_module_version": "1.2.0",
            "grid_template_areas": null,
            "object_position": null,
            "object_fit": null,
            "grid_auto_columns": null,
            "margin": null,
            "display": null,
            "left": null
          }
        },
        "7432cc79c9e84ce69f49f502f48e3c06": {
          "model_module": "@jupyter-widgets/controls",
          "model_name": "DescriptionStyleModel",
          "state": {
            "_view_name": "StyleView",
            "_model_name": "DescriptionStyleModel",
            "description_width": "",
            "_view_module": "@jupyter-widgets/base",
            "_model_module_version": "1.5.0",
            "_view_count": null,
            "_view_module_version": "1.2.0",
            "_model_module": "@jupyter-widgets/controls"
          }
        },
        "5077aa8f33c5434ba6d2fb2c1ce59c25": {
          "model_module": "@jupyter-widgets/base",
          "model_name": "LayoutModel",
          "state": {
            "_view_name": "LayoutView",
            "grid_template_rows": null,
            "right": null,
            "justify_content": null,
            "_view_module": "@jupyter-widgets/base",
            "overflow": null,
            "_model_module_version": "1.2.0",
            "_view_count": null,
            "flex_flow": null,
            "width": null,
            "min_width": null,
            "border": null,
            "align_items": null,
            "bottom": null,
            "_model_module": "@jupyter-widgets/base",
            "top": null,
            "grid_column": null,
            "overflow_y": null,
            "overflow_x": null,
            "grid_auto_flow": null,
            "grid_area": null,
            "grid_template_columns": null,
            "flex": null,
            "_model_name": "LayoutModel",
            "justify_items": null,
            "grid_row": null,
            "max_height": null,
            "align_content": null,
            "visibility": null,
            "align_self": null,
            "height": null,
            "min_height": null,
            "padding": null,
            "grid_auto_rows": null,
            "grid_gap": null,
            "max_width": null,
            "order": null,
            "_view_module_version": "1.2.0",
            "grid_template_areas": null,
            "object_position": null,
            "object_fit": null,
            "grid_auto_columns": null,
            "margin": null,
            "display": null,
            "left": null
          }
        },
        "8299ab936c01489a9c25550a6103226a": {
          "model_module": "@jupyter-widgets/controls",
          "model_name": "HBoxModel",
          "state": {
            "_view_name": "HBoxView",
            "_dom_classes": [],
            "_model_name": "HBoxModel",
            "_view_module": "@jupyter-widgets/controls",
            "_model_module_version": "1.5.0",
            "_view_count": null,
            "_view_module_version": "1.5.0",
            "box_style": "",
            "layout": "IPY_MODEL_767744d7ebdc481e97bf268612ea6c90",
            "_model_module": "@jupyter-widgets/controls",
            "children": [
              "IPY_MODEL_67574675d11c4fa7a44166f731fbdf7e",
              "IPY_MODEL_429e86cce6e54de4a6ab71493cd5a849"
            ]
          }
        },
        "767744d7ebdc481e97bf268612ea6c90": {
          "model_module": "@jupyter-widgets/base",
          "model_name": "LayoutModel",
          "state": {
            "_view_name": "LayoutView",
            "grid_template_rows": null,
            "right": null,
            "justify_content": null,
            "_view_module": "@jupyter-widgets/base",
            "overflow": null,
            "_model_module_version": "1.2.0",
            "_view_count": null,
            "flex_flow": null,
            "width": null,
            "min_width": null,
            "border": null,
            "align_items": null,
            "bottom": null,
            "_model_module": "@jupyter-widgets/base",
            "top": null,
            "grid_column": null,
            "overflow_y": null,
            "overflow_x": null,
            "grid_auto_flow": null,
            "grid_area": null,
            "grid_template_columns": null,
            "flex": null,
            "_model_name": "LayoutModel",
            "justify_items": null,
            "grid_row": null,
            "max_height": null,
            "align_content": null,
            "visibility": null,
            "align_self": null,
            "height": null,
            "min_height": null,
            "padding": null,
            "grid_auto_rows": null,
            "grid_gap": null,
            "max_width": null,
            "order": null,
            "_view_module_version": "1.2.0",
            "grid_template_areas": null,
            "object_position": null,
            "object_fit": null,
            "grid_auto_columns": null,
            "margin": null,
            "display": null,
            "left": null
          }
        },
        "67574675d11c4fa7a44166f731fbdf7e": {
          "model_module": "@jupyter-widgets/controls",
          "model_name": "FloatProgressModel",
          "state": {
            "_view_name": "ProgressView",
            "style": "IPY_MODEL_4b32c321f8654dd697ee5cd8bc123ad8",
            "_dom_classes": [],
            "description": "",
            "_model_name": "FloatProgressModel",
            "bar_style": "success",
            "max": 1,
            "_view_module": "@jupyter-widgets/controls",
            "_model_module_version": "1.5.0",
            "value": 1,
            "_view_count": null,
            "_view_module_version": "1.5.0",
            "orientation": "horizontal",
            "min": 0,
            "description_tooltip": null,
            "_model_module": "@jupyter-widgets/controls",
            "layout": "IPY_MODEL_eddd7d435449460b86ff0e2bb65e7f5c"
          }
        },
        "429e86cce6e54de4a6ab71493cd5a849": {
          "model_module": "@jupyter-widgets/controls",
          "model_name": "HTMLModel",
          "state": {
            "_view_name": "HTMLView",
            "style": "IPY_MODEL_85d5cc6831654ffe9e5d78cf09a49bc0",
            "_dom_classes": [],
            "description": "",
            "_model_name": "HTMLModel",
            "placeholder": "​",
            "_view_module": "@jupyter-widgets/controls",
            "_model_module_version": "1.5.0",
            "value": " 4423680/? [00:02&lt;00:00, 1713458.79it/s]",
            "_view_count": null,
            "_view_module_version": "1.5.0",
            "description_tooltip": null,
            "_model_module": "@jupyter-widgets/controls",
            "layout": "IPY_MODEL_e8920e05ce444bd8ae79850b3da39621"
          }
        },
        "4b32c321f8654dd697ee5cd8bc123ad8": {
          "model_module": "@jupyter-widgets/controls",
          "model_name": "ProgressStyleModel",
          "state": {
            "_view_name": "StyleView",
            "_model_name": "ProgressStyleModel",
            "description_width": "initial",
            "_view_module": "@jupyter-widgets/base",
            "_model_module_version": "1.5.0",
            "_view_count": null,
            "_view_module_version": "1.2.0",
            "bar_color": null,
            "_model_module": "@jupyter-widgets/controls"
          }
        },
        "eddd7d435449460b86ff0e2bb65e7f5c": {
          "model_module": "@jupyter-widgets/base",
          "model_name": "LayoutModel",
          "state": {
            "_view_name": "LayoutView",
            "grid_template_rows": null,
            "right": null,
            "justify_content": null,
            "_view_module": "@jupyter-widgets/base",
            "overflow": null,
            "_model_module_version": "1.2.0",
            "_view_count": null,
            "flex_flow": null,
            "width": null,
            "min_width": null,
            "border": null,
            "align_items": null,
            "bottom": null,
            "_model_module": "@jupyter-widgets/base",
            "top": null,
            "grid_column": null,
            "overflow_y": null,
            "overflow_x": null,
            "grid_auto_flow": null,
            "grid_area": null,
            "grid_template_columns": null,
            "flex": null,
            "_model_name": "LayoutModel",
            "justify_items": null,
            "grid_row": null,
            "max_height": null,
            "align_content": null,
            "visibility": null,
            "align_self": null,
            "height": null,
            "min_height": null,
            "padding": null,
            "grid_auto_rows": null,
            "grid_gap": null,
            "max_width": null,
            "order": null,
            "_view_module_version": "1.2.0",
            "grid_template_areas": null,
            "object_position": null,
            "object_fit": null,
            "grid_auto_columns": null,
            "margin": null,
            "display": null,
            "left": null
          }
        },
        "85d5cc6831654ffe9e5d78cf09a49bc0": {
          "model_module": "@jupyter-widgets/controls",
          "model_name": "DescriptionStyleModel",
          "state": {
            "_view_name": "StyleView",
            "_model_name": "DescriptionStyleModel",
            "description_width": "",
            "_view_module": "@jupyter-widgets/base",
            "_model_module_version": "1.5.0",
            "_view_count": null,
            "_view_module_version": "1.2.0",
            "_model_module": "@jupyter-widgets/controls"
          }
        },
        "e8920e05ce444bd8ae79850b3da39621": {
          "model_module": "@jupyter-widgets/base",
          "model_name": "LayoutModel",
          "state": {
            "_view_name": "LayoutView",
            "grid_template_rows": null,
            "right": null,
            "justify_content": null,
            "_view_module": "@jupyter-widgets/base",
            "overflow": null,
            "_model_module_version": "1.2.0",
            "_view_count": null,
            "flex_flow": null,
            "width": null,
            "min_width": null,
            "border": null,
            "align_items": null,
            "bottom": null,
            "_model_module": "@jupyter-widgets/base",
            "top": null,
            "grid_column": null,
            "overflow_y": null,
            "overflow_x": null,
            "grid_auto_flow": null,
            "grid_area": null,
            "grid_template_columns": null,
            "flex": null,
            "_model_name": "LayoutModel",
            "justify_items": null,
            "grid_row": null,
            "max_height": null,
            "align_content": null,
            "visibility": null,
            "align_self": null,
            "height": null,
            "min_height": null,
            "padding": null,
            "grid_auto_rows": null,
            "grid_gap": null,
            "max_width": null,
            "order": null,
            "_view_module_version": "1.2.0",
            "grid_template_areas": null,
            "object_position": null,
            "object_fit": null,
            "grid_auto_columns": null,
            "margin": null,
            "display": null,
            "left": null
          }
        },
        "81935ca5589743c2b8ef08f715b855a7": {
          "model_module": "@jupyter-widgets/controls",
          "model_name": "HBoxModel",
          "state": {
            "_view_name": "HBoxView",
            "_dom_classes": [],
            "_model_name": "HBoxModel",
            "_view_module": "@jupyter-widgets/controls",
            "_model_module_version": "1.5.0",
            "_view_count": null,
            "_view_module_version": "1.5.0",
            "box_style": "",
            "layout": "IPY_MODEL_c049fc1a36d3458d92a3014e2830a88f",
            "_model_module": "@jupyter-widgets/controls",
            "children": [
              "IPY_MODEL_bb15a1fef8824451a0d5b6027de28dad",
              "IPY_MODEL_17dc8ebb42094794891badf8860808a6"
            ]
          }
        },
        "c049fc1a36d3458d92a3014e2830a88f": {
          "model_module": "@jupyter-widgets/base",
          "model_name": "LayoutModel",
          "state": {
            "_view_name": "LayoutView",
            "grid_template_rows": null,
            "right": null,
            "justify_content": null,
            "_view_module": "@jupyter-widgets/base",
            "overflow": null,
            "_model_module_version": "1.2.0",
            "_view_count": null,
            "flex_flow": null,
            "width": null,
            "min_width": null,
            "border": null,
            "align_items": null,
            "bottom": null,
            "_model_module": "@jupyter-widgets/base",
            "top": null,
            "grid_column": null,
            "overflow_y": null,
            "overflow_x": null,
            "grid_auto_flow": null,
            "grid_area": null,
            "grid_template_columns": null,
            "flex": null,
            "_model_name": "LayoutModel",
            "justify_items": null,
            "grid_row": null,
            "max_height": null,
            "align_content": null,
            "visibility": null,
            "align_self": null,
            "height": null,
            "min_height": null,
            "padding": null,
            "grid_auto_rows": null,
            "grid_gap": null,
            "max_width": null,
            "order": null,
            "_view_module_version": "1.2.0",
            "grid_template_areas": null,
            "object_position": null,
            "object_fit": null,
            "grid_auto_columns": null,
            "margin": null,
            "display": null,
            "left": null
          }
        },
        "bb15a1fef8824451a0d5b6027de28dad": {
          "model_module": "@jupyter-widgets/controls",
          "model_name": "FloatProgressModel",
          "state": {
            "_view_name": "ProgressView",
            "style": "IPY_MODEL_560448291d26490c96cd7e60b370233e",
            "_dom_classes": [],
            "description": "",
            "_model_name": "FloatProgressModel",
            "bar_style": "success",
            "max": 1,
            "_view_module": "@jupyter-widgets/controls",
            "_model_module_version": "1.5.0",
            "value": 1,
            "_view_count": null,
            "_view_module_version": "1.5.0",
            "orientation": "horizontal",
            "min": 0,
            "description_tooltip": null,
            "_model_module": "@jupyter-widgets/controls",
            "layout": "IPY_MODEL_85cd1cf6a1674577952d5576ac67d6ff"
          }
        },
        "17dc8ebb42094794891badf8860808a6": {
          "model_module": "@jupyter-widgets/controls",
          "model_name": "HTMLModel",
          "state": {
            "_view_name": "HTMLView",
            "style": "IPY_MODEL_edb2ec00c6d74e54b8b3a5b3d13a091a",
            "_dom_classes": [],
            "description": "",
            "_model_name": "HTMLModel",
            "placeholder": "​",
            "_view_module": "@jupyter-widgets/controls",
            "_model_module_version": "1.5.0",
            "value": " 8192/? [00:00&lt;00:00, 10522.75it/s]",
            "_view_count": null,
            "_view_module_version": "1.5.0",
            "description_tooltip": null,
            "_model_module": "@jupyter-widgets/controls",
            "layout": "IPY_MODEL_dd466902353b4b2cb1bf82dbdd703e31"
          }
        },
        "560448291d26490c96cd7e60b370233e": {
          "model_module": "@jupyter-widgets/controls",
          "model_name": "ProgressStyleModel",
          "state": {
            "_view_name": "StyleView",
            "_model_name": "ProgressStyleModel",
            "description_width": "initial",
            "_view_module": "@jupyter-widgets/base",
            "_model_module_version": "1.5.0",
            "_view_count": null,
            "_view_module_version": "1.2.0",
            "bar_color": null,
            "_model_module": "@jupyter-widgets/controls"
          }
        },
        "85cd1cf6a1674577952d5576ac67d6ff": {
          "model_module": "@jupyter-widgets/base",
          "model_name": "LayoutModel",
          "state": {
            "_view_name": "LayoutView",
            "grid_template_rows": null,
            "right": null,
            "justify_content": null,
            "_view_module": "@jupyter-widgets/base",
            "overflow": null,
            "_model_module_version": "1.2.0",
            "_view_count": null,
            "flex_flow": null,
            "width": null,
            "min_width": null,
            "border": null,
            "align_items": null,
            "bottom": null,
            "_model_module": "@jupyter-widgets/base",
            "top": null,
            "grid_column": null,
            "overflow_y": null,
            "overflow_x": null,
            "grid_auto_flow": null,
            "grid_area": null,
            "grid_template_columns": null,
            "flex": null,
            "_model_name": "LayoutModel",
            "justify_items": null,
            "grid_row": null,
            "max_height": null,
            "align_content": null,
            "visibility": null,
            "align_self": null,
            "height": null,
            "min_height": null,
            "padding": null,
            "grid_auto_rows": null,
            "grid_gap": null,
            "max_width": null,
            "order": null,
            "_view_module_version": "1.2.0",
            "grid_template_areas": null,
            "object_position": null,
            "object_fit": null,
            "grid_auto_columns": null,
            "margin": null,
            "display": null,
            "left": null
          }
        },
        "edb2ec00c6d74e54b8b3a5b3d13a091a": {
          "model_module": "@jupyter-widgets/controls",
          "model_name": "DescriptionStyleModel",
          "state": {
            "_view_name": "StyleView",
            "_model_name": "DescriptionStyleModel",
            "description_width": "",
            "_view_module": "@jupyter-widgets/base",
            "_model_module_version": "1.5.0",
            "_view_count": null,
            "_view_module_version": "1.2.0",
            "_model_module": "@jupyter-widgets/controls"
          }
        },
        "dd466902353b4b2cb1bf82dbdd703e31": {
          "model_module": "@jupyter-widgets/base",
          "model_name": "LayoutModel",
          "state": {
            "_view_name": "LayoutView",
            "grid_template_rows": null,
            "right": null,
            "justify_content": null,
            "_view_module": "@jupyter-widgets/base",
            "overflow": null,
            "_model_module_version": "1.2.0",
            "_view_count": null,
            "flex_flow": null,
            "width": null,
            "min_width": null,
            "border": null,
            "align_items": null,
            "bottom": null,
            "_model_module": "@jupyter-widgets/base",
            "top": null,
            "grid_column": null,
            "overflow_y": null,
            "overflow_x": null,
            "grid_auto_flow": null,
            "grid_area": null,
            "grid_template_columns": null,
            "flex": null,
            "_model_name": "LayoutModel",
            "justify_items": null,
            "grid_row": null,
            "max_height": null,
            "align_content": null,
            "visibility": null,
            "align_self": null,
            "height": null,
            "min_height": null,
            "padding": null,
            "grid_auto_rows": null,
            "grid_gap": null,
            "max_width": null,
            "order": null,
            "_view_module_version": "1.2.0",
            "grid_template_areas": null,
            "object_position": null,
            "object_fit": null,
            "grid_auto_columns": null,
            "margin": null,
            "display": null,
            "left": null
          }
        }
      }
    }
  },
  "cells": [
    {
      "cell_type": "code",
      "metadata": {
        "id": "XFCaXIrHgekm",
        "colab_type": "code",
        "colab": {}
      },
      "source": [
        "import torch\n",
        "import torch.nn as nn\n",
        "import torch.nn.functional as F\n",
        "import torchvision \n",
        "import torchvision.transforms as transforms\n",
        "torch.set_printoptions(linewidth=120)"
      ],
      "execution_count": null,
      "outputs": []
    },
    {
      "cell_type": "code",
      "metadata": {
        "id": "V517BGJMhcy5",
        "colab_type": "code",
        "colab": {
          "base_uri": "https://localhost:8080/",
          "height": 378,
          "referenced_widgets": [
            "ce403d29a88d464fb0122bc0d43bcd9a",
            "7a4268f4e0674db5bc4b28ad905a57b5",
            "e84e32ac50a046faa037c29510f48e20",
            "e877e32876e8409780c26e14bc931201",
            "9ddd2428f970412db16d5e2267a4dc91",
            "05488fd7826b4b058ad3b41802b0e348",
            "3ccf4cba00b64759a2f6dc0fa1ce19fb",
            "589d8449b47548d8a779b676a69bccd9",
            "bee4b9f066eb4be083871e679a5d185a",
            "5c04fe2c74da48cdb4606e7a93c9d149",
            "024b95b1e39148d59a1ee9c295e0e360",
            "63cb05314f6c4210b0eb0ef5ff612cce",
            "97809aaaa56f4df099a273d63093fcee",
            "5170482a5f0740ea934701aaede70972",
            "7432cc79c9e84ce69f49f502f48e3c06",
            "5077aa8f33c5434ba6d2fb2c1ce59c25",
            "8299ab936c01489a9c25550a6103226a",
            "767744d7ebdc481e97bf268612ea6c90",
            "67574675d11c4fa7a44166f731fbdf7e",
            "429e86cce6e54de4a6ab71493cd5a849",
            "4b32c321f8654dd697ee5cd8bc123ad8",
            "eddd7d435449460b86ff0e2bb65e7f5c",
            "85d5cc6831654ffe9e5d78cf09a49bc0",
            "e8920e05ce444bd8ae79850b3da39621",
            "81935ca5589743c2b8ef08f715b855a7",
            "c049fc1a36d3458d92a3014e2830a88f",
            "bb15a1fef8824451a0d5b6027de28dad",
            "17dc8ebb42094794891badf8860808a6",
            "560448291d26490c96cd7e60b370233e",
            "85cd1cf6a1674577952d5576ac67d6ff",
            "edb2ec00c6d74e54b8b3a5b3d13a091a",
            "dd466902353b4b2cb1bf82dbdd703e31"
          ]
        },
        "outputId": "cc17be1e-c40d-444b-b0ee-63e23aa6f901"
      },
      "source": [
        "# init params\n",
        "train_set = torchvision.datasets.FashionMNIST(\n",
        "    root = './data/FashionMNIST',\n",
        "    train = True,\n",
        "    download=True,\n",
        "    transform = transforms.Compose([\n",
        "      transforms.ToTensor()                 \n",
        "    ]   \n",
        "    )\n",
        ")\n",
        "train_loader = torch.utils.data.DataLoader(\n",
        "    train_set, batch_size = 64, shuffle=True\n",
        ")\n",
        "\n",
        "\n",
        "test_set = torchvision.datasets.FashionMNIST(\n",
        "    root = './data/FashionMNIST',\n",
        "    train = False,\n",
        "    download = False,\n",
        "    transform = transforms.Compose([\n",
        "      transforms.ToTensor()                 \n",
        "    ]   \n",
        "    )\n",
        ")\n",
        "test_loader = torch.utils.data.DataLoader(\n",
        "    test_set, batch_size = 64, shuffle=True\n",
        ")\n",
        "\n",
        "#device config\n",
        "device = torch.device('cuda' if torch.cuda.is_available() else 'cpu')\n",
        "\n",
        "#hyper paramters\n",
        "num_classes = 10\n",
        "num_epochs  = 15\n",
        "batch_size = 4\n",
        "learning_rate = 0.001"
      ],
      "execution_count": null,
      "outputs": [
        {
          "output_type": "stream",
          "text": [
            "Downloading http://fashion-mnist.s3-website.eu-central-1.amazonaws.com/train-images-idx3-ubyte.gz to ./data/FashionMNIST/FashionMNIST/raw/train-images-idx3-ubyte.gz\n"
          ],
          "name": "stdout"
        },
        {
          "output_type": "display_data",
          "data": {
            "application/vnd.jupyter.widget-view+json": {
              "model_id": "ce403d29a88d464fb0122bc0d43bcd9a",
              "version_minor": 0,
              "version_major": 2
            },
            "text/plain": [
              "HBox(children=(FloatProgress(value=1.0, bar_style='info', max=1.0), HTML(value='')))"
            ]
          },
          "metadata": {
            "tags": []
          }
        },
        {
          "output_type": "stream",
          "text": [
            "Extracting ./data/FashionMNIST/FashionMNIST/raw/train-images-idx3-ubyte.gz to ./data/FashionMNIST/FashionMNIST/raw\n",
            "Downloading http://fashion-mnist.s3-website.eu-central-1.amazonaws.com/train-labels-idx1-ubyte.gz to ./data/FashionMNIST/FashionMNIST/raw/train-labels-idx1-ubyte.gz\n"
          ],
          "name": "stdout"
        },
        {
          "output_type": "display_data",
          "data": {
            "application/vnd.jupyter.widget-view+json": {
              "model_id": "bee4b9f066eb4be083871e679a5d185a",
              "version_minor": 0,
              "version_major": 2
            },
            "text/plain": [
              "HBox(children=(FloatProgress(value=1.0, bar_style='info', max=1.0), HTML(value='')))"
            ]
          },
          "metadata": {
            "tags": []
          }
        },
        {
          "output_type": "stream",
          "text": [
            "Extracting ./data/FashionMNIST/FashionMNIST/raw/train-labels-idx1-ubyte.gz to ./data/FashionMNIST/FashionMNIST/raw\n",
            "Downloading http://fashion-mnist.s3-website.eu-central-1.amazonaws.com/t10k-images-idx3-ubyte.gz to ./data/FashionMNIST/FashionMNIST/raw/t10k-images-idx3-ubyte.gz\n",
            "\n"
          ],
          "name": "stdout"
        },
        {
          "output_type": "display_data",
          "data": {
            "application/vnd.jupyter.widget-view+json": {
              "model_id": "8299ab936c01489a9c25550a6103226a",
              "version_minor": 0,
              "version_major": 2
            },
            "text/plain": [
              "HBox(children=(FloatProgress(value=1.0, bar_style='info', max=1.0), HTML(value='')))"
            ]
          },
          "metadata": {
            "tags": []
          }
        },
        {
          "output_type": "stream",
          "text": [
            "Extracting ./data/FashionMNIST/FashionMNIST/raw/t10k-images-idx3-ubyte.gz to ./data/FashionMNIST/FashionMNIST/raw\n",
            "Downloading http://fashion-mnist.s3-website.eu-central-1.amazonaws.com/t10k-labels-idx1-ubyte.gz to ./data/FashionMNIST/FashionMNIST/raw/t10k-labels-idx1-ubyte.gz\n"
          ],
          "name": "stdout"
        },
        {
          "output_type": "display_data",
          "data": {
            "application/vnd.jupyter.widget-view+json": {
              "model_id": "81935ca5589743c2b8ef08f715b855a7",
              "version_minor": 0,
              "version_major": 2
            },
            "text/plain": [
              "HBox(children=(FloatProgress(value=1.0, bar_style='info', max=1.0), HTML(value='')))"
            ]
          },
          "metadata": {
            "tags": []
          }
        },
        {
          "output_type": "stream",
          "text": [
            "Extracting ./data/FashionMNIST/FashionMNIST/raw/t10k-labels-idx1-ubyte.gz to ./data/FashionMNIST/FashionMNIST/raw\n",
            "Processing...\n",
            "Done!\n"
          ],
          "name": "stdout"
        },
        {
          "output_type": "stream",
          "text": [
            "/pytorch/torch/csrc/utils/tensor_numpy.cpp:141: UserWarning: The given NumPy array is not writeable, and PyTorch does not support non-writeable tensors. This means you can write to the underlying (supposedly non-writeable) NumPy array using the tensor. You may want to copy the array to protect its data or make it writeable before converting it to a tensor. This type of warning will be suppressed for the rest of this program.\n"
          ],
          "name": "stderr"
        }
      ]
    },
    {
      "cell_type": "code",
      "metadata": {
        "id": "WHNLnUEZjFh0",
        "colab_type": "code",
        "colab": {}
      },
      "source": [
        "import numpy as np\n",
        "import matplotlib.pyplot as plt\n",
        "torch.set_printoptions(linewidth=120)"
      ],
      "execution_count": null,
      "outputs": []
    },
    {
      "cell_type": "code",
      "metadata": {
        "id": "3HSp9pORh0Xf",
        "colab_type": "code",
        "colab": {
          "base_uri": "https://localhost:8080/",
          "height": 35
        },
        "outputId": "7927885f-ed3e-411e-9faf-54014084c20e"
      },
      "source": [
        "len(train_set)"
      ],
      "execution_count": null,
      "outputs": [
        {
          "output_type": "execute_result",
          "data": {
            "text/plain": [
              "60000"
            ]
          },
          "metadata": {
            "tags": []
          },
          "execution_count": 4
        }
      ]
    },
    {
      "cell_type": "code",
      "metadata": {
        "id": "eWVKlJpXjrWb",
        "colab_type": "code",
        "colab": {
          "base_uri": "https://localhost:8080/",
          "height": 35
        },
        "outputId": "6053fedf-23a4-4f99-8a27-ac531079ab88"
      },
      "source": [
        "train_set.targets"
      ],
      "execution_count": null,
      "outputs": [
        {
          "output_type": "execute_result",
          "data": {
            "text/plain": [
              "tensor([9, 0, 0,  ..., 3, 0, 5])"
            ]
          },
          "metadata": {
            "tags": []
          },
          "execution_count": 5
        }
      ]
    },
    {
      "cell_type": "code",
      "metadata": {
        "id": "5KM3vWhUjz--",
        "colab_type": "code",
        "colab": {
          "base_uri": "https://localhost:8080/",
          "height": 35
        },
        "outputId": "8c04faa3-fbb4-4fcf-ccd6-dde248f19956"
      },
      "source": [
        "train_set.targets.bincount()\n"
      ],
      "execution_count": null,
      "outputs": [
        {
          "output_type": "execute_result",
          "data": {
            "text/plain": [
              "tensor([6000, 6000, 6000, 6000, 6000, 6000, 6000, 6000, 6000, 6000])"
            ]
          },
          "metadata": {
            "tags": []
          },
          "execution_count": 6
        }
      ]
    },
    {
      "cell_type": "code",
      "metadata": {
        "id": "kAVOfSK0kEs8",
        "colab_type": "code",
        "colab": {
          "base_uri": "https://localhost:8080/",
          "height": 53
        },
        "outputId": "6fe408d0-1254-4b98-c914-010a83cfd98a"
      },
      "source": [
        "sample = next(iter(train_set))\n",
        "print(len(sample))\n",
        "type(sample)"
      ],
      "execution_count": null,
      "outputs": [
        {
          "output_type": "stream",
          "text": [
            "2\n"
          ],
          "name": "stdout"
        },
        {
          "output_type": "execute_result",
          "data": {
            "text/plain": [
              "tuple"
            ]
          },
          "metadata": {
            "tags": []
          },
          "execution_count": 7
        }
      ]
    },
    {
      "cell_type": "code",
      "metadata": {
        "id": "yvtMGHZQkm0a",
        "colab_type": "code",
        "colab": {
          "base_uri": "https://localhost:8080/",
          "height": 53
        },
        "outputId": "f08fb993-3945-417e-df62-cbf2a693b8e9"
      },
      "source": [
        "image, label = sample\n",
        "print(image.shape)\n",
        "print(label)\n",
        "#label.shape"
      ],
      "execution_count": null,
      "outputs": [
        {
          "output_type": "stream",
          "text": [
            "torch.Size([1, 28, 28])\n",
            "9\n"
          ],
          "name": "stdout"
        }
      ]
    },
    {
      "cell_type": "code",
      "metadata": {
        "id": "Us7zkOESl4Bn",
        "colab_type": "code",
        "colab": {}
      },
      "source": [
        ""
      ],
      "execution_count": null,
      "outputs": []
    },
    {
      "cell_type": "code",
      "metadata": {
        "id": "KyjNfR9Ok7Rw",
        "colab_type": "code",
        "colab": {
          "base_uri": "https://localhost:8080/",
          "height": 336
        },
        "outputId": "eb2d3268-5290-43fc-b417-23ad133fe16e"
      },
      "source": [
        "plt.imshow(image.squeeze(), cmap='gray')\n",
        "print('label: ', label)"
      ],
      "execution_count": null,
      "outputs": [
        {
          "output_type": "stream",
          "text": [
            "\n",
            "label:  9\n"
          ],
          "name": "stdout"
        },
        {
          "output_type": "display_data",
          "data": {
            "image/png": "[encoded data removed]",
            "text/plain": [
              "<Figure size 432x288 with 1 Axes>"
            ]
          },
          "metadata": {
            "tags": [],
            "needs_background": "light"
          }
        },
        {
          "output_type": "stream",
          "text": [
            "\n",
            "\n"
          ],
          "name": "stdout"
        }
      ]
    },
    {
      "cell_type": "code",
      "metadata": {
        "id": "56rqDFw8lsWL",
        "colab_type": "code",
        "colab": {
          "base_uri": "https://localhost:8080/",
          "height": 35
        },
        "outputId": "7286dd17-e1aa-4629-c82a-45d591e89906"
      },
      "source": [
        "batch = next(iter(train_loader))\n",
        "len(batch)"
      ],
      "execution_count": null,
      "outputs": [
        {
          "output_type": "execute_result",
          "data": {
            "text/plain": [
              "2"
            ]
          },
          "metadata": {
            "tags": []
          },
          "execution_count": 10
        }
      ]
    },
    {
      "cell_type": "code",
      "metadata": {
        "id": "_WB9KVHmmJIy",
        "colab_type": "code",
        "colab": {
          "base_uri": "https://localhost:8080/",
          "height": 35
        },
        "outputId": "5e2e1166-ed2c-46d3-8f05-af83d9d5b602"
      },
      "source": [
        "type(batch)"
      ],
      "execution_count": null,
      "outputs": [
        {
          "output_type": "execute_result",
          "data": {
            "text/plain": [
              "list"
            ]
          },
          "metadata": {
            "tags": []
          },
          "execution_count": 11
        }
      ]
    },
    {
      "cell_type": "code",
      "metadata": {
        "id": "Mdl9v6ZUmMm0",
        "colab_type": "code",
        "colab": {}
      },
      "source": [
        "images, labels = batch"
      ],
      "execution_count": null,
      "outputs": []
    },
    {
      "cell_type": "code",
      "metadata": {
        "id": "6p6HnJm-mm-E",
        "colab_type": "code",
        "colab": {
          "base_uri": "https://localhost:8080/",
          "height": 35
        },
        "outputId": "080cb1ad-7d0f-4a4d-80c5-cea38f35490e"
      },
      "source": [
        "labels.shape"
      ],
      "execution_count": null,
      "outputs": [
        {
          "output_type": "execute_result",
          "data": {
            "text/plain": [
              "torch.Size([64])"
            ]
          },
          "metadata": {
            "tags": []
          },
          "execution_count": 13
        }
      ]
    },
    {
      "cell_type": "code",
      "metadata": {
        "id": "R4m2TPGImRsN",
        "colab_type": "code",
        "colab": {
          "base_uri": "https://localhost:8080/",
          "height": 35
        },
        "outputId": "99ab827a-3ef4-4fc8-da7d-a596b00a00d8"
      },
      "source": [
        "images.shape"
      ],
      "execution_count": null,
      "outputs": [
        {
          "output_type": "execute_result",
          "data": {
            "text/plain": [
              "torch.Size([64, 1, 28, 28])"
            ]
          },
          "metadata": {
            "tags": []
          },
          "execution_count": 14
        }
      ]
    },
    {
      "cell_type": "code",
      "metadata": {
        "id": "djd3GDtkmkR8",
        "colab_type": "code",
        "colab": {
          "base_uri": "https://localhost:8080/",
          "height": 694
        },
        "outputId": "fe74cdae-b477-4e93-adef-e5ab4fcac29e"
      },
      "source": [
        "grid = torchvision.utils.make_grid(images, nrow=10)\n",
        "plt.figure(figsize=(15,15))\n",
        "plt.imshow(np.transpose(grid, (1, 2 ,  0)))\n",
        "print('labels: ', labels)"
      ],
      "execution_count": null,
      "outputs": [
        {
          "output_type": "stream",
          "text": [
            "labels:  tensor([4, 8, 6, 9, 5, 5, 7, 0, 4, 2, 4, 4, 4, 2, 1, 2, 1, 6, 5, 4, 5, 6, 2, 3, 5, 0, 5, 9, 8, 1, 5, 9, 5, 5, 6, 5, 1,\n",
            "        3, 3, 3, 1, 9, 1, 9, 6, 9, 2, 0, 6, 0, 5, 5, 9, 1, 5, 9, 7, 0, 0, 7, 2, 7, 2, 9])\n"
          ],
          "name": "stdout"
        },
        {
          "output_type": "display_data",
          "data": {
            "image/png": "[encoded data removed]",
            "text/plain": [
              "<Figure size 1080x1080 with 1 Axes>"
            ]
          },
          "metadata": {
            "tags": [],
            "needs_background": "light"
          }
        }
      ]
    },
    {
      "cell_type": "code",
      "metadata": {
        "id": "6Af_a6eBJl0Z",
        "colab_type": "code",
        "colab": {}
      },
      "source": [
        "class ConvNet(nn.Module):\n",
        "  \n",
        "    def __init__(self):\n",
        "      super().__init__()\n",
        "      self.conv1 = nn.Conv2d(1, 20, 5, 1)\n",
        "      self.conv2 = nn.Conv2d(20, 50, 5, 1)\n",
        "      self.fc1 = nn.Linear(4*4*50, 500)\n",
        "      self.dropout1 = nn.Dropout(0.5)\n",
        "      self.fc2 = nn.Linear(500, 10)\n",
        "\n",
        "    def forward(self, x):\n",
        "      x = F.relu(self.conv1(x))\n",
        "      x = F.max_pool2d(x, 2, 2)\n",
        "      x = F.relu(self.conv2(x))\n",
        "      x = F.max_pool2d(x, 2, 2)\n",
        "      x = x.view(-1, 4*4*50)\n",
        "      x = F.relu(self.fc1(x))\n",
        "      x = self.dropout1(x)\n",
        "      x = self.fc2(x)\n",
        "      return x\n",
        "    "
      ],
      "execution_count": null,
      "outputs": []
    },
    {
      "cell_type": "code",
      "metadata": {
        "id": "eb1Mw_Q9Kml1",
        "colab_type": "code",
        "colab": {
          "base_uri": "https://localhost:8080/",
          "height": 141
        },
        "outputId": "330a2b11-22c7-40c5-a39e-8a44e83df20e"
      },
      "source": [
        "model = ConvNet().to(device)\n",
        "model"
      ],
      "execution_count": null,
      "outputs": [
        {
          "output_type": "execute_result",
          "data": {
            "text/plain": [
              "ConvNet(\n",
              "  (conv1): Conv2d(1, 20, kernel_size=(5, 5), stride=(1, 1))\n",
              "  (conv2): Conv2d(20, 50, kernel_size=(5, 5), stride=(1, 1))\n",
              "  (fc1): Linear(in_features=800, out_features=500, bias=True)\n",
              "  (dropout1): Dropout(p=0.5, inplace=False)\n",
              "  (fc2): Linear(in_features=500, out_features=10, bias=True)\n",
              ")"
            ]
          },
          "metadata": {
            "tags": []
          },
          "execution_count": 17
        }
      ]
    },
    {
      "cell_type": "code",
      "metadata": {
        "id": "SLasYsn_J2Av",
        "colab_type": "code",
        "colab": {}
      },
      "source": [
        "criterion = nn.CrossEntropyLoss()\n",
        "optimizer = torch.optim.Adam(model.parameters(), lr = 0.001)"
      ],
      "execution_count": null,
      "outputs": []
    },
    {
      "cell_type": "code",
      "metadata": {
        "id": "DJKneEMpKrq4",
        "colab_type": "code",
        "colab": {
          "base_uri": "https://localhost:8080/",
          "height": 1000
        },
        "outputId": "941742ec-6a3d-4762-dbd9-58245cfb37c6"
      },
      "source": [
        "n_total_steps = len(train_loader) # 600\n",
        "for e in range(num_epochs):\n",
        "  n_loss = 0.0\n",
        "  n_correct = 0.0\n",
        "\n",
        "  for i, (images, labels) in enumerate(train_loader): \n",
        "    images = images.to(device)\n",
        "    labels = labels.to(device)\n",
        "    output= model(images)\n",
        "    loss = criterion(output, labels)\n",
        "    \n",
        "    optimizer.zero_grad()\n",
        "    loss.backward()\n",
        "    optimizer.step()\n",
        "    \n",
        "    # print every 100th iteration\n",
        "    if ((i+1)%100 == 0):\n",
        "      print(f'epoch {e+1}/{num_epochs}, step {i*1}/{n_total_steps}, loss = {loss.item():.4f}')\n",
        "  else:\n",
        "    with torch.no_grad():\n",
        "      n_correct = 0.0\n",
        "      n_samples = 0.0\n",
        "\n",
        "      for images, labels in test_loader:\n",
        "        images = images.to(device)\n",
        "        labels = labels.to(device)\n",
        "        output = model(images)\n",
        "        _, preds = torch.max(output, 1)\n",
        "        #print(labels.shape[0])\n",
        "        # batch_size\n",
        "        n_samples += labels.shape[0]\n",
        "\n",
        "        # correct preds within a batch_size of samples\n",
        "        n_correct += (preds == labels).sum().item() \n",
        "\n",
        "        # overall accuracy\n",
        "        acc = 100.0 * n_correct/n_samples\n",
        "        print(f'epoch {e+1}/{num_epochs}, accuracy = {acc}')\n",
        "    "
      ],
      "execution_count": null,
      "outputs": [
        {
          "output_type": "stream",
          "text": [
            "epoch 1/15, step 99/938, loss = 0.7286\n",
            "epoch 1/15, step 199/938, loss = 0.5911\n",
            "epoch 1/15, step 299/938, loss = 0.3406\n",
            "epoch 1/15, step 399/938, loss = 0.5445\n",
            "epoch 1/15, step 499/938, loss = 0.4324\n",
            "epoch 1/15, step 599/938, loss = 0.3781\n",
            "epoch 1/15, step 699/938, loss = 0.5209\n",
            "epoch 1/15, step 799/938, loss = 0.2989\n",
            "epoch 1/15, step 899/938, loss = 0.3228\n",
            "epoch 1/15, accuracy = 92.1875\n",
            "epoch 1/15, accuracy = 86.71875\n",
            "epoch 1/15, accuracy = 85.9375\n",
            "epoch 1/15, accuracy = 84.375\n",
            "epoch 1/15, accuracy = 83.75\n",
            "epoch 1/15, accuracy = 83.85416666666667\n",
            "epoch 1/15, accuracy = 83.48214285714286\n",
            "epoch 1/15, accuracy = 84.375\n",
            "epoch 1/15, accuracy = 84.72222222222223\n",
            "epoch 1/15, accuracy = 85.0\n",
            "epoch 1/15, accuracy = 85.36931818181819\n",
            "epoch 1/15, accuracy = 85.546875\n",
            "epoch 1/15, accuracy = 85.09615384615384\n",
            "epoch 1/15, accuracy = 84.93303571428571\n",
            "epoch 1/15, accuracy = 84.89583333333333\n",
            "epoch 1/15, accuracy = 84.66796875\n",
            "epoch 1/15, accuracy = 84.8345588235294\n",
            "epoch 1/15, accuracy = 84.80902777777777\n",
            "epoch 1/15, accuracy = 84.95065789473684\n",
            "epoch 1/15, accuracy = 84.6875\n",
            "epoch 1/15, accuracy = 84.74702380952381\n",
            "epoch 1/15, accuracy = 85.01420454545455\n",
            "epoch 1/15, accuracy = 84.64673913043478\n",
            "epoch 1/15, accuracy = 84.63541666666667\n",
            "epoch 1/15, accuracy = 84.875\n",
            "epoch 1/15, accuracy = 84.85576923076923\n",
            "epoch 1/15, accuracy = 84.95370370370371\n",
            "epoch 1/15, accuracy = 84.93303571428571\n",
            "epoch 1/15, accuracy = 85.02155172413794\n",
            "epoch 1/15, accuracy = 85.20833333333333\n",
            "epoch 1/15, accuracy = 84.97983870967742\n",
            "epoch 1/15, accuracy = 85.107421875\n",
            "epoch 1/15, accuracy = 84.9905303030303\n",
            "epoch 1/15, accuracy = 84.92647058823529\n",
            "epoch 1/15, accuracy = 84.91071428571429\n",
            "epoch 1/15, accuracy = 84.85243055555556\n",
            "epoch 1/15, accuracy = 84.75506756756756\n",
            "epoch 1/15, accuracy = 84.95065789473684\n",
            "epoch 1/15, accuracy = 85.05608974358974\n",
            "epoch 1/15, accuracy = 84.921875\n",
            "epoch 1/15, accuracy = 84.94664634146342\n",
            "epoch 1/15, accuracy = 85.04464285714286\n",
            "epoch 1/15, accuracy = 84.92005813953489\n",
            "epoch 1/15, accuracy = 84.94318181818181\n",
            "epoch 1/15, accuracy = 85.06944444444444\n",
            "epoch 1/15, accuracy = 85.0883152173913\n",
            "epoch 1/15, accuracy = 85.13962765957447\n",
            "epoch 1/15, accuracy = 85.09114583333333\n",
            "epoch 1/15, accuracy = 85.10841836734694\n",
            "epoch 1/15, accuracy = 85.0625\n",
            "epoch 1/15, accuracy = 85.11029411764706\n",
            "epoch 1/15, accuracy = 85.09615384615384\n",
            "epoch 1/15, accuracy = 85.02358490566037\n",
            "epoch 1/15, accuracy = 85.15625\n",
            "epoch 1/15, accuracy = 85.25568181818181\n",
            "epoch 1/15, accuracy = 85.23995535714286\n",
            "epoch 1/15, accuracy = 85.06030701754386\n",
            "epoch 1/15, accuracy = 84.91379310344827\n",
            "epoch 1/15, accuracy = 85.01059322033899\n",
            "epoch 1/15, accuracy = 84.94791666666667\n",
            "epoch 1/15, accuracy = 84.91290983606558\n",
            "epoch 1/15, accuracy = 84.87903225806451\n",
            "epoch 1/15, accuracy = 84.84623015873017\n",
            "epoch 1/15, accuracy = 84.86328125\n",
            "epoch 1/15, accuracy = 85.0\n",
            "epoch 1/15, accuracy = 84.8721590909091\n",
            "epoch 1/15, accuracy = 84.79477611940298\n",
            "epoch 1/15, accuracy = 84.78860294117646\n",
            "epoch 1/15, accuracy = 84.78260869565217\n",
            "epoch 1/15, accuracy = 84.73214285714286\n",
            "epoch 1/15, accuracy = 84.61707746478874\n",
            "epoch 1/15, accuracy = 84.59201388888889\n",
            "epoch 1/15, accuracy = 84.61044520547945\n",
            "epoch 1/15, accuracy = 84.64949324324324\n",
            "epoch 1/15, accuracy = 84.64583333333333\n",
            "epoch 1/15, accuracy = 84.74506578947368\n",
            "epoch 1/15, accuracy = 84.82142857142857\n",
            "epoch 1/15, accuracy = 84.93589743589743\n",
            "epoch 1/15, accuracy = 84.9881329113924\n",
            "epoch 1/15, accuracy = 85.05859375\n",
            "epoch 1/15, accuracy = 85.10802469135803\n",
            "epoch 1/15, accuracy = 85.11814024390245\n",
            "epoch 1/15, accuracy = 85.18448795180723\n",
            "epoch 1/15, accuracy = 85.17485119047619\n",
            "epoch 1/15, accuracy = 85.1470588235294\n",
            "epoch 1/15, accuracy = 85.15625\n",
            "epoch 1/15, accuracy = 85.12931034482759\n",
            "epoch 1/15, accuracy = 85.0497159090909\n",
            "epoch 1/15, accuracy = 85.02457865168539\n",
            "epoch 1/15, accuracy = 84.98263888888889\n",
            "epoch 1/15, accuracy = 85.0103021978022\n",
            "epoch 1/15, accuracy = 84.9524456521739\n",
            "epoch 1/15, accuracy = 84.94623655913979\n",
            "epoch 1/15, accuracy = 84.90691489361703\n",
            "epoch 1/15, accuracy = 84.91776315789474\n",
            "epoch 1/15, accuracy = 84.84700520833333\n",
            "epoch 1/15, accuracy = 84.90657216494846\n",
            "epoch 1/15, accuracy = 84.94897959183673\n",
            "epoch 1/15, accuracy = 84.84848484848484\n",
            "epoch 1/15, accuracy = 84.796875\n",
            "epoch 1/15, accuracy = 84.82363861386139\n",
            "epoch 1/15, accuracy = 84.80392156862744\n",
            "epoch 1/15, accuracy = 84.7997572815534\n",
            "epoch 1/15, accuracy = 84.81069711538461\n",
            "epoch 1/15, accuracy = 84.82142857142857\n",
            "epoch 1/15, accuracy = 84.86143867924528\n",
            "epoch 1/15, accuracy = 84.8714953271028\n",
            "epoch 1/15, accuracy = 84.91030092592592\n",
            "epoch 1/15, accuracy = 84.80504587155963\n",
            "epoch 1/15, accuracy = 84.74431818181819\n",
            "epoch 1/15, accuracy = 84.83952702702703\n",
            "epoch 1/15, accuracy = 84.87723214285714\n",
            "epoch 1/15, accuracy = 84.87278761061947\n",
            "epoch 1/15, accuracy = 84.95065789473684\n",
            "epoch 1/15, accuracy = 84.91847826086956\n",
            "epoch 1/15, accuracy = 84.90032327586206\n",
            "epoch 1/15, accuracy = 84.85576923076923\n",
            "epoch 1/15, accuracy = 84.90466101694915\n",
            "epoch 1/15, accuracy = 84.95273109243698\n",
            "epoch 1/15, accuracy = 84.9609375\n",
            "epoch 1/15, accuracy = 84.90444214876032\n",
            "epoch 1/15, accuracy = 84.93852459016394\n",
            "epoch 1/15, accuracy = 84.92123983739837\n",
            "epoch 1/15, accuracy = 84.96723790322581\n",
            "epoch 1/15, accuracy = 84.95\n",
            "epoch 1/15, accuracy = 84.92063492063492\n",
            "epoch 1/15, accuracy = 84.91633858267717\n",
            "epoch 1/15, accuracy = 84.912109375\n",
            "epoch 1/15, accuracy = 84.92005813953489\n",
            "epoch 1/15, accuracy = 84.91586538461539\n",
            "epoch 1/15, accuracy = 84.93559160305344\n",
            "epoch 1/15, accuracy = 84.90767045454545\n",
            "epoch 1/15, accuracy = 84.89191729323308\n",
            "epoch 1/15, accuracy = 84.86473880597015\n",
            "epoch 1/15, accuracy = 84.91898148148148\n",
            "epoch 1/15, accuracy = 84.94944852941177\n",
            "epoch 1/15, accuracy = 84.9794708029197\n",
            "epoch 1/15, accuracy = 84.92980072463769\n",
            "epoch 1/15, accuracy = 84.92580935251799\n",
            "epoch 1/15, accuracy = 84.91071428571429\n",
            "epoch 1/15, accuracy = 84.90691489361703\n",
            "epoch 1/15, accuracy = 84.9581866197183\n",
            "epoch 1/15, accuracy = 84.92132867132867\n",
            "epoch 1/15, accuracy = 84.89583333333333\n",
            "epoch 1/15, accuracy = 84.92456896551724\n",
            "epoch 1/15, accuracy = 84.95291095890411\n",
            "epoch 1/15, accuracy = 84.92772108843538\n",
            "epoch 1/15, accuracy = 84.87119932432432\n",
            "epoch 1/15, accuracy = 84.87835570469798\n",
            "epoch 1/15, accuracy = 84.85416666666667\n",
            "epoch 1/15, accuracy = 84.83029801324503\n",
            "epoch 1/15, accuracy = 84.8170230263158\n",
            "epoch 1/15, accuracy = 84.80392156862744\n",
            "epoch 1/15, accuracy = 84.8721590909091\n",
            "epoch 1/15, accuracy = 84.90927419354838\n",
            "epoch 1/15, accuracy = 84.91586538461539\n",
            "epoch 1/15, accuracy = 84.94\n",
            "epoch 2/15, step 99/938, loss = 0.4226\n",
            "epoch 2/15, step 199/938, loss = 0.3834\n",
            "epoch 2/15, step 299/938, loss = 0.3861\n",
            "epoch 2/15, step 399/938, loss = 0.4172\n",
            "epoch 2/15, step 499/938, loss = 0.2686\n",
            "epoch 2/15, step 599/938, loss = 0.3042\n",
            "epoch 2/15, step 699/938, loss = 0.1791\n",
            "epoch 2/15, step 799/938, loss = 0.2264\n",
            "epoch 2/15, step 899/938, loss = 0.2875\n",
            "epoch 2/15, accuracy = 92.1875\n",
            "epoch 2/15, accuracy = 92.1875\n",
            "epoch 2/15, accuracy = 92.70833333333333\n",
            "epoch 2/15, accuracy = 91.40625\n",
            "epoch 2/15, accuracy = 90.3125\n",
            "epoch 2/15, accuracy = 91.40625\n",
            "epoch 2/15, accuracy = 91.07142857142857\n",
            "epoch 2/15, accuracy = 90.8203125\n",
            "epoch 2/15, accuracy = 90.625\n",
            "epoch 2/15, accuracy = 90.15625\n",
            "epoch 2/15, accuracy = 89.63068181818181\n",
            "epoch 2/15, accuracy = 89.0625\n",
            "epoch 2/15, accuracy = 88.82211538461539\n",
            "epoch 2/15, accuracy = 88.50446428571429\n",
            "epoch 2/15, accuracy = 88.125\n",
            "epoch 2/15, accuracy = 87.59765625\n",
            "epoch 2/15, accuracy = 87.13235294117646\n",
            "epoch 2/15, accuracy = 87.41319444444444\n",
            "epoch 2/15, accuracy = 87.5\n",
            "epoch 2/15, accuracy = 87.34375\n",
            "epoch 2/15, accuracy = 87.05357142857143\n",
            "epoch 2/15, accuracy = 87.2159090909091\n",
            "epoch 2/15, accuracy = 87.16032608695652\n",
            "epoch 2/15, accuracy = 86.97916666666667\n",
            "epoch 2/15, accuracy = 86.9375\n",
            "epoch 2/15, accuracy = 86.95913461538461\n",
            "epoch 2/15, accuracy = 86.97916666666667\n",
            "epoch 2/15, accuracy = 86.83035714285714\n",
            "epoch 2/15, accuracy = 86.74568965517241\n",
            "epoch 2/15, accuracy = 87.08333333333333\n",
            "epoch 2/15, accuracy = 86.94556451612904\n",
            "epoch 2/15, accuracy = 86.9140625\n",
            "epoch 2/15, accuracy = 86.60037878787878\n",
            "epoch 2/15, accuracy = 86.44301470588235\n",
            "epoch 2/15, accuracy = 86.65178571428571\n",
            "epoch 2/15, accuracy = 86.71875\n",
            "epoch 2/15, accuracy = 86.82432432432432\n",
            "epoch 2/15, accuracy = 86.75986842105263\n",
            "epoch 2/15, accuracy = 87.01923076923077\n",
            "epoch 2/15, accuracy = 87.03125\n",
            "epoch 2/15, accuracy = 87.15701219512195\n",
            "epoch 2/15, accuracy = 87.16517857142857\n",
            "epoch 2/15, accuracy = 87.02761627906976\n",
            "epoch 2/15, accuracy = 87.18039772727273\n",
            "epoch 2/15, accuracy = 87.1875\n",
            "epoch 2/15, accuracy = 87.02445652173913\n",
            "epoch 2/15, accuracy = 87.13430851063829\n",
            "epoch 2/15, accuracy = 87.04427083333333\n",
            "epoch 2/15, accuracy = 86.92602040816327\n",
            "epoch 2/15, accuracy = 86.90625\n",
            "epoch 2/15, accuracy = 87.00980392156863\n",
            "epoch 2/15, accuracy = 87.01923076923077\n",
            "epoch 2/15, accuracy = 86.93985849056604\n",
            "epoch 2/15, accuracy = 86.89236111111111\n",
            "epoch 2/15, accuracy = 86.9034090909091\n",
            "epoch 2/15, accuracy = 86.85825892857143\n",
            "epoch 2/15, accuracy = 86.86951754385964\n",
            "epoch 2/15, accuracy = 86.79956896551724\n",
            "epoch 2/15, accuracy = 86.75847457627118\n",
            "epoch 2/15, accuracy = 86.875\n",
            "epoch 2/15, accuracy = 86.96209016393442\n",
            "epoch 2/15, accuracy = 86.94556451612904\n",
            "epoch 2/15, accuracy = 86.9047619047619\n",
            "epoch 2/15, accuracy = 86.7919921875\n",
            "epoch 2/15, accuracy = 86.80288461538461\n",
            "epoch 2/15, accuracy = 86.78977272727273\n",
            "epoch 2/15, accuracy = 86.84701492537313\n",
            "epoch 2/15, accuracy = 86.90257352941177\n",
            "epoch 2/15, accuracy = 86.88858695652173\n",
            "epoch 2/15, accuracy = 86.91964285714286\n",
            "epoch 2/15, accuracy = 86.81778169014085\n",
            "epoch 2/15, accuracy = 86.9140625\n",
            "epoch 2/15, accuracy = 86.85787671232876\n",
            "epoch 2/15, accuracy = 86.88766891891892\n",
            "epoch 2/15, accuracy = 86.95833333333333\n",
            "epoch 2/15, accuracy = 87.00657894736842\n",
            "epoch 2/15, accuracy = 87.01298701298701\n",
            "epoch 2/15, accuracy = 87.13942307692308\n",
            "epoch 2/15, accuracy = 87.1242088607595\n",
            "epoch 2/15, accuracy = 87.16796875\n",
            "epoch 2/15, accuracy = 87.15277777777777\n",
            "epoch 2/15, accuracy = 87.1951219512195\n",
            "epoch 2/15, accuracy = 87.17996987951807\n",
            "epoch 2/15, accuracy = 87.20238095238095\n",
            "epoch 2/15, accuracy = 87.22426470588235\n",
            "epoch 2/15, accuracy = 87.10029069767442\n",
            "epoch 2/15, accuracy = 87.15876436781609\n",
            "epoch 2/15, accuracy = 87.23366477272727\n",
            "epoch 2/15, accuracy = 87.25421348314607\n",
            "epoch 2/15, accuracy = 87.27430555555556\n",
            "epoch 2/15, accuracy = 87.29395604395604\n",
            "epoch 2/15, accuracy = 87.3131793478261\n",
            "epoch 2/15, accuracy = 87.26478494623656\n",
            "epoch 2/15, accuracy = 87.28390957446808\n",
            "epoch 2/15, accuracy = 87.23684210526316\n",
            "epoch 2/15, accuracy = 87.23958333333333\n",
            "epoch 2/15, accuracy = 87.27448453608247\n",
            "epoch 2/15, accuracy = 87.30867346938776\n",
            "epoch 2/15, accuracy = 87.32638888888889\n",
            "epoch 2/15, accuracy = 87.390625\n",
            "epoch 2/15, accuracy = 87.40717821782178\n",
            "epoch 2/15, accuracy = 87.48468137254902\n",
            "epoch 2/15, accuracy = 87.48483009708738\n",
            "epoch 2/15, accuracy = 87.54507211538461\n",
            "epoch 2/15, accuracy = 87.51488095238095\n",
            "epoch 2/15, accuracy = 87.5\n",
            "epoch 2/15, accuracy = 87.5\n",
            "epoch 2/15, accuracy = 87.52893518518519\n",
            "epoch 2/15, accuracy = 87.5716743119266\n",
            "epoch 2/15, accuracy = 87.58522727272727\n",
            "epoch 2/15, accuracy = 87.59853603603604\n",
            "epoch 2/15, accuracy = 87.51395089285714\n",
            "epoch 2/15, accuracy = 87.54148230088495\n",
            "epoch 2/15, accuracy = 87.54111842105263\n",
            "epoch 2/15, accuracy = 87.5\n",
            "epoch 2/15, accuracy = 87.5\n",
            "epoch 2/15, accuracy = 87.5267094017094\n",
            "epoch 2/15, accuracy = 87.51324152542372\n",
            "epoch 2/15, accuracy = 87.51313025210084\n",
            "epoch 2/15, accuracy = 87.48697916666667\n",
            "epoch 2/15, accuracy = 87.52582644628099\n",
            "epoch 2/15, accuracy = 87.60245901639344\n",
            "epoch 2/15, accuracy = 87.61432926829268\n",
            "epoch 2/15, accuracy = 87.65120967741936\n",
            "epoch 2/15, accuracy = 87.625\n",
            "epoch 2/15, accuracy = 87.58680555555556\n",
            "epoch 2/15, accuracy = 87.5615157480315\n",
            "epoch 2/15, accuracy = 87.56103515625\n",
            "epoch 2/15, accuracy = 87.58478682170542\n",
            "epoch 2/15, accuracy = 87.59615384615384\n",
            "epoch 2/15, accuracy = 87.66698473282443\n",
            "epoch 2/15, accuracy = 87.7249053030303\n",
            "epoch 2/15, accuracy = 87.73496240601504\n",
            "epoch 2/15, accuracy = 87.79151119402985\n",
            "epoch 2/15, accuracy = 87.8125\n",
            "epoch 2/15, accuracy = 87.83318014705883\n",
            "epoch 2/15, accuracy = 87.83074817518248\n",
            "epoch 2/15, accuracy = 87.79438405797102\n",
            "epoch 2/15, accuracy = 87.76978417266187\n",
            "epoch 2/15, accuracy = 87.734375\n",
            "epoch 2/15, accuracy = 87.677304964539\n",
            "epoch 2/15, accuracy = 87.66505281690141\n",
            "epoch 2/15, accuracy = 87.6638986013986\n",
            "epoch 2/15, accuracy = 87.6953125\n",
            "epoch 2/15, accuracy = 87.69396551724138\n",
            "epoch 2/15, accuracy = 87.71404109589041\n",
            "epoch 2/15, accuracy = 87.72321428571429\n",
            "epoch 2/15, accuracy = 87.73226351351352\n",
            "epoch 2/15, accuracy = 87.70973154362416\n",
            "epoch 2/15, accuracy = 87.6875\n",
            "epoch 2/15, accuracy = 87.67591059602648\n",
            "epoch 2/15, accuracy = 87.6953125\n",
            "epoch 2/15, accuracy = 87.68382352941177\n",
            "epoch 2/15, accuracy = 87.69277597402598\n",
            "epoch 2/15, accuracy = 87.68145161290323\n",
            "epoch 2/15, accuracy = 87.70032051282051\n",
            "epoch 2/15, accuracy = 87.7\n",
            "epoch 3/15, step 99/938, loss = 0.2601\n",
            "epoch 3/15, step 199/938, loss = 0.2323\n",
            "epoch 3/15, step 299/938, loss = 0.1975\n",
            "epoch 3/15, step 399/938, loss = 0.2136\n",
            "epoch 3/15, step 499/938, loss = 0.2928\n",
            "epoch 3/15, step 599/938, loss = 0.2089\n",
            "epoch 3/15, step 699/938, loss = 0.3840\n",
            "epoch 3/15, step 799/938, loss = 0.2729\n",
            "epoch 3/15, step 899/938, loss = 0.3626\n",
            "epoch 3/15, accuracy = 92.1875\n",
            "epoch 3/15, accuracy = 92.96875\n",
            "epoch 3/15, accuracy = 89.58333333333333\n",
            "epoch 3/15, accuracy = 88.28125\n",
            "epoch 3/15, accuracy = 88.125\n",
            "epoch 3/15, accuracy = 88.28125\n",
            "epoch 3/15, accuracy = 89.0625\n",
            "epoch 3/15, accuracy = 89.0625\n",
            "epoch 3/15, accuracy = 88.36805555555556\n",
            "epoch 3/15, accuracy = 88.90625\n",
            "epoch 3/15, accuracy = 88.63636363636364\n",
            "epoch 3/15, accuracy = 88.28125\n",
            "epoch 3/15, accuracy = 87.98076923076923\n",
            "epoch 3/15, accuracy = 88.05803571428571\n",
            "epoch 3/15, accuracy = 88.22916666666667\n",
            "epoch 3/15, accuracy = 88.671875\n",
            "epoch 3/15, accuracy = 88.87867647058823\n",
            "epoch 3/15, accuracy = 88.62847222222223\n",
            "epoch 3/15, accuracy = 88.73355263157895\n",
            "epoch 3/15, accuracy = 88.4375\n",
            "epoch 3/15, accuracy = 88.69047619047619\n",
            "epoch 3/15, accuracy = 88.42329545454545\n",
            "epoch 3/15, accuracy = 88.45108695652173\n",
            "epoch 3/15, accuracy = 88.4765625\n",
            "epoch 3/15, accuracy = 88.625\n",
            "epoch 3/15, accuracy = 88.58173076923077\n",
            "epoch 3/15, accuracy = 88.48379629629629\n",
            "epoch 3/15, accuracy = 88.44866071428571\n",
            "epoch 3/15, accuracy = 88.30818965517241\n",
            "epoch 3/15, accuracy = 88.33333333333333\n",
            "epoch 3/15, accuracy = 88.35685483870968\n",
            "epoch 3/15, accuracy = 88.330078125\n",
            "epoch 3/15, accuracy = 88.1155303030303\n",
            "epoch 3/15, accuracy = 88.18933823529412\n",
            "epoch 3/15, accuracy = 88.21428571428571\n",
            "epoch 3/15, accuracy = 88.23784722222223\n",
            "epoch 3/15, accuracy = 88.30236486486487\n",
            "epoch 3/15, accuracy = 88.36348684210526\n",
            "epoch 3/15, accuracy = 88.22115384615384\n",
            "epoch 3/15, accuracy = 88.2421875\n",
            "epoch 3/15, accuracy = 88.14786585365853\n",
            "epoch 3/15, accuracy = 88.13244047619048\n",
            "epoch 3/15, accuracy = 88.19040697674419\n",
            "epoch 3/15, accuracy = 87.9971590909091\n",
            "epoch 3/15, accuracy = 88.02083333333333\n",
            "epoch 3/15, accuracy = 88.00951086956522\n",
            "epoch 3/15, accuracy = 87.86569148936171\n",
            "epoch 3/15, accuracy = 87.92317708333333\n",
            "epoch 3/15, accuracy = 87.85076530612245\n",
            "epoch 3/15, accuracy = 87.90625\n",
            "epoch 3/15, accuracy = 87.99019607843137\n",
            "epoch 3/15, accuracy = 88.0108173076923\n",
            "epoch 3/15, accuracy = 88.06014150943396\n",
            "epoch 3/15, accuracy = 88.13657407407408\n",
            "epoch 3/15, accuracy = 88.0965909090909\n",
            "epoch 3/15, accuracy = 87.94642857142857\n",
            "epoch 3/15, accuracy = 87.8015350877193\n",
            "epoch 3/15, accuracy = 87.79633620689656\n",
            "epoch 3/15, accuracy = 87.79131355932203\n",
            "epoch 3/15, accuracy = 87.86458333333333\n",
            "epoch 3/15, accuracy = 87.80737704918033\n",
            "epoch 3/15, accuracy = 87.75201612903226\n",
            "epoch 3/15, accuracy = 87.79761904761905\n",
            "epoch 3/15, accuracy = 87.8173828125\n",
            "epoch 3/15, accuracy = 87.88461538461539\n",
            "epoch 3/15, accuracy = 87.94981060606061\n",
            "epoch 3/15, accuracy = 87.91977611940298\n",
            "epoch 3/15, accuracy = 87.890625\n",
            "epoch 3/15, accuracy = 87.9302536231884\n",
            "epoch 3/15, accuracy = 87.87946428571429\n",
            "epoch 3/15, accuracy = 87.83010563380282\n",
            "epoch 3/15, accuracy = 87.93402777777777\n",
            "epoch 3/15, accuracy = 87.94948630136986\n",
            "epoch 3/15, accuracy = 87.92229729729729\n",
            "epoch 3/15, accuracy = 87.875\n",
            "epoch 3/15, accuracy = 87.890625\n",
            "epoch 3/15, accuracy = 87.96672077922078\n",
            "epoch 3/15, accuracy = 87.94070512820512\n",
            "epoch 3/15, accuracy = 87.9746835443038\n",
            "epoch 3/15, accuracy = 88.02734375\n",
            "epoch 3/15, accuracy = 87.98225308641975\n",
            "epoch 3/15, accuracy = 88.01448170731707\n",
            "epoch 3/15, accuracy = 87.93298192771084\n",
            "epoch 3/15, accuracy = 87.96502976190476\n",
            "epoch 3/15, accuracy = 87.94117647058823\n",
            "epoch 3/15, accuracy = 88.00872093023256\n",
            "epoch 3/15, accuracy = 88.00287356321839\n",
            "epoch 3/15, accuracy = 88.06818181818181\n",
            "epoch 3/15, accuracy = 88.11446629213484\n",
            "epoch 3/15, accuracy = 88.07291666666667\n",
            "epoch 3/15, accuracy = 87.9635989010989\n",
            "epoch 3/15, accuracy = 87.99252717391305\n",
            "epoch 3/15, accuracy = 87.9872311827957\n",
            "epoch 3/15, accuracy = 87.99867021276596\n",
            "epoch 3/15, accuracy = 88.00986842105263\n",
            "epoch 3/15, accuracy = 88.00455729166667\n",
            "epoch 3/15, accuracy = 87.95103092783505\n",
            "epoch 3/15, accuracy = 87.9623724489796\n",
            "epoch 3/15, accuracy = 87.9419191919192\n",
            "epoch 3/15, accuracy = 87.890625\n",
            "epoch 3/15, accuracy = 87.91769801980197\n",
            "epoch 3/15, accuracy = 87.97487745098039\n",
            "epoch 3/15, accuracy = 87.89441747572816\n",
            "epoch 3/15, accuracy = 87.98076923076923\n",
            "epoch 3/15, accuracy = 87.97619047619048\n",
            "epoch 3/15, accuracy = 87.92747641509433\n",
            "epoch 3/15, accuracy = 87.87967289719626\n",
            "epoch 3/15, accuracy = 87.91956018518519\n",
            "epoch 3/15, accuracy = 87.93004587155963\n",
            "epoch 3/15, accuracy = 87.96875\n",
            "epoch 3/15, accuracy = 87.99268018018019\n",
            "epoch 3/15, accuracy = 88.01618303571429\n",
            "epoch 3/15, accuracy = 87.98396017699115\n",
            "epoch 3/15, accuracy = 87.9797149122807\n",
            "epoch 3/15, accuracy = 87.98913043478261\n",
            "epoch 3/15, accuracy = 87.99838362068965\n",
            "epoch 3/15, accuracy = 88.03418803418803\n",
            "epoch 3/15, accuracy = 88.05614406779661\n",
            "epoch 3/15, accuracy = 88.07773109243698\n",
            "epoch 3/15, accuracy = 88.09895833333333\n",
            "epoch 3/15, accuracy = 88.08109504132231\n",
            "epoch 3/15, accuracy = 88.11475409836065\n",
            "epoch 3/15, accuracy = 88.17327235772358\n",
            "epoch 3/15, accuracy = 88.14264112903226\n",
            "epoch 3/15, accuracy = 88.0625\n",
            "epoch 3/15, accuracy = 88.0828373015873\n",
            "epoch 3/15, accuracy = 88.10285433070867\n",
            "epoch 3/15, accuracy = 88.134765625\n",
            "epoch 3/15, accuracy = 88.06928294573643\n",
            "epoch 3/15, accuracy = 88.07692307692308\n",
            "epoch 3/15, accuracy = 88.10830152671755\n",
            "epoch 3/15, accuracy = 88.1155303030303\n",
            "epoch 3/15, accuracy = 88.14614661654136\n",
            "epoch 3/15, accuracy = 88.18796641791045\n",
            "epoch 3/15, accuracy = 88.17129629629629\n",
            "epoch 3/15, accuracy = 88.20082720588235\n",
            "epoch 3/15, accuracy = 88.22992700729927\n",
            "epoch 3/15, accuracy = 88.24728260869566\n",
            "epoch 3/15, accuracy = 88.25314748201438\n",
            "epoch 3/15, accuracy = 88.28125\n",
            "epoch 3/15, accuracy = 88.27570921985816\n",
            "epoch 3/15, accuracy = 88.25924295774648\n",
            "epoch 3/15, accuracy = 88.2867132867133\n",
            "epoch 3/15, accuracy = 88.31380208333333\n",
            "epoch 3/15, accuracy = 88.34051724137932\n",
            "epoch 3/15, accuracy = 88.35616438356165\n",
            "epoch 3/15, accuracy = 88.3609693877551\n",
            "epoch 3/15, accuracy = 88.36570945945945\n",
            "epoch 3/15, accuracy = 88.2864932885906\n",
            "epoch 3/15, accuracy = 88.32291666666667\n",
            "epoch 3/15, accuracy = 88.35885761589404\n",
            "epoch 3/15, accuracy = 88.37376644736842\n",
            "epoch 3/15, accuracy = 88.31699346405229\n",
            "epoch 3/15, accuracy = 88.30154220779221\n",
            "epoch 3/15, accuracy = 88.3366935483871\n",
            "epoch 3/15, accuracy = 88.3613782051282\n",
            "epoch 3/15, accuracy = 88.37\n",
            "epoch 4/15, step 99/938, loss = 0.1797\n",
            "epoch 4/15, step 199/938, loss = 0.1989\n",
            "epoch 4/15, step 299/938, loss = 0.2569\n",
            "epoch 4/15, step 399/938, loss = 0.3509\n",
            "epoch 4/15, step 499/938, loss = 0.2587\n",
            "epoch 4/15, step 599/938, loss = 0.3206\n",
            "epoch 4/15, step 699/938, loss = 0.1961\n",
            "epoch 4/15, step 799/938, loss = 0.2405\n"
          ],
          "name": "stdout"
        }
      ]
    }
  ]
}
