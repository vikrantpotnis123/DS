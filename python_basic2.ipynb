{
  "nbformat": 4,
  "nbformat_minor": 0,
  "metadata": {
    "colab": {
      "name": "python_basic2.ipynb",
      "provenance": [],
      "authorship_tag": "ABX9TyObBFmIgLXf+xN0CSK+cl6a",
      "include_colab_link": true
    },
    "kernelspec": {
      "name": "python3",
      "display_name": "Python 3"
    },
    "language_info": {
      "name": "python"
    }
  },
  "cells": [
    {
      "cell_type": "markdown",
      "metadata": {
        "id": "view-in-github",
        "colab_type": "text"
      },
      "source": [
        "<a href=\"https://colab.research.google.com/github/vikrantpotnis123/DS/blob/master/python_basic2.ipynb\" target=\"_parent\"><img src=\"https://colab.research.google.com/assets/colab-badge.svg\" alt=\"Open In Colab\"/></a>"
      ]
    },
    {
      "cell_type": "code",
      "metadata": {
        "colab": {
          "base_uri": "https://localhost:8080/"
        },
        "id": "lX70OBUyveJH",
        "outputId": "0bc10436-9317-4f51-d7ab-9d47b9adefaf"
      },
      "source": [
        "import collections\n",
        "import numpy as np\n",
        "x = dict(one=1,two=2)\n",
        "print(x)"
      ],
      "execution_count": null,
      "outputs": [
        {
          "output_type": "stream",
          "text": [
            "{'one': 1, 'two': 2}\n"
          ],
          "name": "stdout"
        }
      ]
    },
    {
      "cell_type": "code",
      "metadata": {
        "colab": {
          "base_uri": "https://localhost:8080/"
        },
        "id": "JuY9Pqw3Ma9W",
        "outputId": "6a688936-704e-49f9-f1b1-d0d07665ebcf"
      },
      "source": [
        "x.pop('one', 'None')\n",
        "x"
      ],
      "execution_count": null,
      "outputs": [
        {
          "output_type": "execute_result",
          "data": {
            "text/plain": [
              "{'two': 2}"
            ]
          },
          "metadata": {
            "tags": []
          },
          "execution_count": 2
        }
      ]
    },
    {
      "cell_type": "code",
      "metadata": {
        "colab": {
          "base_uri": "https://localhost:8080/"
        },
        "id": "BRiB7M1XNwEo",
        "outputId": "13a0d141-f323-488a-f091-03fe57560eb0"
      },
      "source": [
        "import copy\n",
        "y = [ 1, 2, [3, 4], 5]\n",
        "y1 = y.copy()\n",
        "y[1] = 22\n",
        "\n",
        "print(y, y1)\n",
        "y2 = copy.deepcopy(y1)\n",
        "y[2][1] = 44\n",
        "print(y, y1, y2, sep='\\t', end='\\n')"
      ],
      "execution_count": null,
      "outputs": [
        {
          "output_type": "stream",
          "text": [
            "[1, 22, [3, 4], 5] [1, 2, [3, 4], 5]\n",
            "[1, 22, [3, 44], 5]\t[1, 2, [3, 44], 5]\t[1, 2, [3, 4], 5]\n"
          ],
          "name": "stdout"
        }
      ]
    },
    {
      "cell_type": "code",
      "metadata": {
        "colab": {
          "base_uri": "https://localhost:8080/"
        },
        "id": "oieHMPc2q_oc",
        "outputId": "1d21bcb6-5d86-4bc8-c597-6c680bd390d7"
      },
      "source": [
        "import numpy as np\n",
        "x= np.arange(10).reshape(2,5)\n",
        "print(x)\n",
        "y = copy.deepcopy(x)\n",
        "z = x\n",
        "x[1][2] = 77\n",
        "print(x)\n",
        "print(y)\n",
        "print(z)"
      ],
      "execution_count": null,
      "outputs": [
        {
          "output_type": "stream",
          "text": [
            "[[0 1 2 3 4]\n",
            " [5 6 7 8 9]]\n",
            "[[ 0  1  2  3  4]\n",
            " [ 5  6 77  8  9]]\n",
            "[[0 1 2 3 4]\n",
            " [5 6 7 8 9]]\n",
            "[[ 0  1  2  3  4]\n",
            " [ 5  6 77  8  9]]\n"
          ],
          "name": "stdout"
        }
      ]
    },
    {
      "cell_type": "code",
      "metadata": {
        "id": "FF2k28oBsWxt",
        "colab": {
          "base_uri": "https://localhost:8080/"
        },
        "outputId": "56c6e47b-0329-4192-8cba-244d57096a3b"
      },
      "source": [
        "l = np.array([1, 2, 3, 2, 3])\n",
        "a, c = np.unique(l,  return_counts=True)\n",
        "d = {x : y for x, y in zip(a,c)}\n",
        "d"
      ],
      "execution_count": null,
      "outputs": [
        {
          "output_type": "execute_result",
          "data": {
            "text/plain": [
              "{1: 1, 2: 2, 3: 2}"
            ]
          },
          "metadata": {
            "tags": []
          },
          "execution_count": 31
        }
      ]
    },
    {
      "cell_type": "code",
      "metadata": {
        "colab": {
          "base_uri": "https://localhost:8080/"
        },
        "id": "LEYDaT3gbXuw",
        "outputId": "3f824fb3-b57e-4c2c-c77a-1611897563a8"
      },
      "source": [
        "# random list\n",
        "random = ['a', ('a', 'b'), ('a', 'b'), [3, 4]]\n",
        "\n",
        "# count element ('a', 'b')\n",
        "count = random.count(('a', 'b'))\n",
        "\n",
        "# print count\n",
        "print(\"The count of ('a', 'b') is:\", count)"
      ],
      "execution_count": null,
      "outputs": [
        {
          "output_type": "stream",
          "text": [
            "The count of ('a', 'b') is: 2\n"
          ],
          "name": "stdout"
        }
      ]
    },
    {
      "cell_type": "code",
      "metadata": {
        "colab": {
          "base_uri": "https://localhost:8080/"
        },
        "id": "giYunHrDbX5G",
        "outputId": "e16ab85a-d31a-4bf4-8307-e88dd4c4a47b"
      },
      "source": [
        "from collections import Counter\n",
        "l = np.array([ 1,2, 2, 1, 3, 3, 2, 3, 1])\n",
        "c = Counter(l)\n",
        "c"
      ],
      "execution_count": null,
      "outputs": [
        {
          "output_type": "execute_result",
          "data": {
            "text/plain": [
              "Counter({1: 3, 2: 3, 3: 3})"
            ]
          },
          "metadata": {
            "tags": []
          },
          "execution_count": 7
        }
      ]
    },
    {
      "cell_type": "code",
      "metadata": {
        "colab": {
          "base_uri": "https://localhost:8080/"
        },
        "id": "G5bAq3-TfaqG",
        "outputId": "cb527729-ecfa-41ba-f101-a1e7ae1fca6b"
      },
      "source": [
        "c.most_common(2)"
      ],
      "execution_count": null,
      "outputs": [
        {
          "output_type": "execute_result",
          "data": {
            "text/plain": [
              "[(1, 3), (2, 3)]"
            ]
          },
          "metadata": {
            "tags": []
          },
          "execution_count": 8
        }
      ]
    },
    {
      "cell_type": "code",
      "metadata": {
        "colab": {
          "base_uri": "https://localhost:8080/",
          "height": 36
        },
        "id": "XuD7--hajTmR",
        "outputId": "9035518f-f66f-41fd-bb97-f016bdbd3b47"
      },
      "source": [
        "str.lower('DDDDD').capitalize()"
      ],
      "execution_count": null,
      "outputs": [
        {
          "output_type": "execute_result",
          "data": {
            "application/vnd.google.colaboratory.intrinsic+json": {
              "type": "string"
            },
            "text/plain": [
              "'Ddddd'"
            ]
          },
          "metadata": {
            "tags": []
          },
          "execution_count": 9
        }
      ]
    },
    {
      "cell_type": "code",
      "metadata": {
        "colab": {
          "base_uri": "https://localhost:8080/"
        },
        "id": "vWoCB7OyjseZ",
        "outputId": "601c4249-3b90-48d9-d4b1-0dd94e5fe894"
      },
      "source": [
        "list(map(str.upper, [ 'hi', 'there']))"
      ],
      "execution_count": null,
      "outputs": [
        {
          "output_type": "execute_result",
          "data": {
            "text/plain": [
              "['HI', 'THERE']"
            ]
          },
          "metadata": {
            "tags": []
          },
          "execution_count": 10
        }
      ]
    },
    {
      "cell_type": "code",
      "metadata": {
        "id": "jVVh3YP3kIHG"
      },
      "source": [
        "def coo(*args, **kwargs):\n",
        "  print(type(args), type(kwargs))\n",
        "  print(f\"cooing {args} {kwargs}\")\n",
        "  \n",
        "  def moo(*args, **kwargs):\n",
        "    print(f\"mooing  {args} {kwargs}\")\n",
        "    return str.upper(str(args)), str.upper(str(kwargs))\n",
        "  moo(args, kwargs)\n",
        "  return moo"
      ],
      "execution_count": null,
      "outputs": []
    },
    {
      "cell_type": "code",
      "metadata": {
        "colab": {
          "base_uri": "https://localhost:8080/"
        },
        "id": "PLzjEdzJkeux",
        "outputId": "d49ed006-3378-450a-d977-304a653e8680"
      },
      "source": [
        "x  = coo('hi', 'ho', name='10bombai', age=45)\n",
        "x('hi', 'ho', name='10bombai', age=45)"
      ],
      "execution_count": null,
      "outputs": [
        {
          "output_type": "stream",
          "text": [
            "<class 'tuple'> <class 'dict'>\n",
            "cooing ('hi', 'ho') {'name': '10bombai', 'age': 45}\n",
            "mooing  (('hi', 'ho'), {'name': '10bombai', 'age': 45}) {}\n",
            "mooing  ('hi', 'ho') {'name': '10bombai', 'age': 45}\n"
          ],
          "name": "stdout"
        },
        {
          "output_type": "execute_result",
          "data": {
            "text/plain": [
              "(\"('HI', 'HO')\", \"{'NAME': '10BOMBAI', 'AGE': 45}\")"
            ]
          },
          "metadata": {
            "tags": []
          },
          "execution_count": 12
        }
      ]
    },
    {
      "cell_type": "code",
      "metadata": {
        "id": "eRWQVk0_nVUN"
      },
      "source": [
        "def coo2(*args, **kwargs):\n",
        "  print(f\"cooing2  {args} {kwargs}\")\n",
        "  def moo2(*args, **kwargs):\n",
        "    print(f\"mooing2  {args} {kwargs}\")\n",
        "    return str.upper(str(args)), str.upper(str(kwargs))\n",
        "  return moo2"
      ],
      "execution_count": null,
      "outputs": []
    },
    {
      "cell_type": "code",
      "metadata": {
        "colab": {
          "base_uri": "https://localhost:8080/"
        },
        "id": "-uZO-4hXnZtz",
        "outputId": "dae872e2-b1b1-428f-b9c6-9371df8e3b38"
      },
      "source": [
        "z = coo2('hello', name='gunga din')\n",
        "z('popatal', name='popat')"
      ],
      "execution_count": null,
      "outputs": [
        {
          "output_type": "stream",
          "text": [
            "cooing2  ('hello',) {'name': 'gunga din'}\n",
            "mooing2  ('popatal',) {'name': 'popat'}\n"
          ],
          "name": "stdout"
        },
        {
          "output_type": "execute_result",
          "data": {
            "text/plain": [
              "(\"('POPATAL',)\", \"{'NAME': 'POPAT'}\")"
            ]
          },
          "metadata": {
            "tags": []
          },
          "execution_count": 14
        }
      ]
    },
    {
      "cell_type": "code",
      "metadata": {
        "id": "fRbJJ1RiHL5y"
      },
      "source": [
        "class MyEmployee:\n",
        "  def __init__(self, name, age):\n",
        "    self._name = name\n",
        "    self._age = age\n",
        "  \n",
        "  @property\n",
        "  def name(self):\n",
        "    print(\"getter called!\")\n",
        "    return self._name\n",
        "\n",
        "  @name.setter\n",
        "  def name(self, newname):\n",
        "    print(\"setter called!\")\n",
        "    self._name = newname\n",
        "\n",
        "  @name.deleter\n",
        "  def name(self):\n",
        "    print(\"deleter called!\")\n",
        "    del self._name"
      ],
      "execution_count": null,
      "outputs": []
    },
    {
      "cell_type": "code",
      "metadata": {
        "colab": {
          "base_uri": "https://localhost:8080/"
        },
        "id": "zja4bSakub34",
        "outputId": "67693511-e451-40ff-a2c4-a682a61e20c1"
      },
      "source": [
        "e = MyEmployee(\"Tina\", 33)\n",
        "e.name = \"Tina M\"\n",
        "print(e.name)\n",
        "del e.name"
      ],
      "execution_count": null,
      "outputs": [
        {
          "output_type": "stream",
          "text": [
            "setter called!\n",
            "getter called!\n",
            "Tina M\n",
            "deleter called!\n"
          ],
          "name": "stdout"
        }
      ]
    },
    {
      "cell_type": "code",
      "metadata": {
        "colab": {
          "base_uri": "https://localhost:8080/"
        },
        "id": "krrBscNVv5oS",
        "outputId": "620809d3-8c51-4871-920d-7c8e0ce2b106"
      },
      "source": [
        "from collections import defaultdict\n",
        "import numpy as np\n",
        "print(issubclass(defaultdict, dict))\n",
        "students = [ \"popat\", \"locha\", \"mynah\", \"tina\"]\n",
        "sem1_scores =  np.array([65, 50, 75, 85], dtype=np.int32)\n",
        "sem2_scores =  np.array([55, 80, 75, 65], dtype=np.int32)\n",
        "d = defaultdict(list)\n",
        "for x, y1, y2 in zip(students, sem1_scores, sem2_scores):\n",
        "  d[x].append(y1)\n",
        "  d[x].append(y2)\n",
        "print(d.items())\n"
      ],
      "execution_count": null,
      "outputs": [
        {
          "output_type": "stream",
          "text": [
            "True\n",
            "dict_items([('popat', [65, 55]), ('locha', [50, 80]), ('mynah', [75, 75]), ('tina', [85, 65])])\n"
          ],
          "name": "stdout"
        }
      ]
    },
    {
      "cell_type": "code",
      "metadata": {
        "id": "1ornqJer1qsL"
      },
      "source": [
        "from abc import ABC, abstractmethod\n",
        "\n",
        "class MLModel(ABC):\n",
        "  def __init__(self, pipeline_config):\n",
        "    self.pipeline_config = pipeline_config\n",
        "\n",
        "  @abstractmethod\n",
        "  def predict(self, test_data):\n",
        "    pass\n",
        "\n",
        "  @abstractmethod\n",
        "  def train(self, train_data):\n",
        "    pass\n",
        "\n",
        "class SSDModel(MLModel):\n",
        "  \n",
        "  def __init__(self, pipeline_config):\n",
        "    super().__init__(pipeline_config)\n",
        "\n",
        "  def predict(self, test_data):\n",
        "    print (f\"SSD model predict {test_data}\")\n",
        "\n",
        "  def train(self, train_data):\n",
        "    print (f\"SSD model train {train_data}\")"
      ],
      "execution_count": null,
      "outputs": []
    },
    {
      "cell_type": "code",
      "metadata": {
        "id": "lC4CvqSsEcmt",
        "colab": {
          "base_uri": "https://localhost:8080/"
        },
        "outputId": "6f3ebc20-5f0d-4115-c9ba-83e06fc37d53"
      },
      "source": [
        "train_data = \"blah blah\"\n",
        "test_data = \"bloo bloo\"\n",
        "pipeline_config = \"mypipeline.cfg\"\n",
        "m = SSDModel(pipeline_config)\n",
        "m.train(train_data)\n",
        "m.predict(test_data)"
      ],
      "execution_count": null,
      "outputs": [
        {
          "output_type": "stream",
          "text": [
            "SSD model train blah blah\n",
            "SSD model predict bloo bloo\n"
          ],
          "name": "stdout"
        }
      ]
    },
    {
      "cell_type": "code",
      "metadata": {
        "colab": {
          "base_uri": "https://localhost:8080/"
        },
        "id": "uW-l1-VnsOCJ",
        "outputId": "de8439eb-b2fb-48fb-c77e-41062c28a994"
      },
      "source": [
        "import logging\n",
        "import time\n",
        "import numpy as np\n",
        "class MyLogger:\n",
        "  import logging\n",
        "  def __init__(self, func):\n",
        "    self.func = func\n",
        "    print(f\"constructing {type(self).__name__} with {self.func.__name__}\")\n",
        "\n",
        "  def __call__(self, *args, **kwargs):\n",
        "    start_time = time.time()\n",
        "    r = self.func(self, args, kwargs)\n",
        "    print(f\"MyTP(): {self.func.__name__} {args} {kwargs}\")\n",
        "    print(f\"  took {time.time()-start_time} seconds to execute!\")\n",
        "    return r\n",
        "\n",
        "class MyTP:\n",
        "  def __init__(self, *args, **kwargs):\n",
        "    print(f\"constructing {type(self).__name__}\")\n",
        "    self.args = args\n",
        "    self.kwargs = kwargs\n",
        "\n",
        "  @MyLogger\n",
        "  def __call__(self, *args, **kwargs):\n",
        "    print(f\"Executing MyTP : __call__ {args}, {kwargs}\")"
      ],
      "execution_count": 15,
      "outputs": [
        {
          "output_type": "stream",
          "text": [
            "constructing MyLogger with __call__\n"
          ],
          "name": "stdout"
        }
      ]
    },
    {
      "cell_type": "code",
      "metadata": {
        "colab": {
          "base_uri": "https://localhost:8080/"
        },
        "id": "qvTJuRZSvO0k",
        "outputId": "14b07042-a5a5-480f-ea2c-8eb22b864092"
      },
      "source": [
        "t = MyTP(\"hi\", time='pass', mynah=3, satveh='chichichi')\n",
        "t(\"hi\", time='pass', mynah=3, satveh='chichichi')"
      ],
      "execution_count": 16,
      "outputs": [
        {
          "output_type": "stream",
          "text": [
            "constructing MyTP\n",
            "Executing MyTP : __call__ (('hi',), {'time': 'pass', 'mynah': 3, 'satveh': 'chichichi'}), {}\n",
            "MyTP(): __call__ ('hi',) {'time': 'pass', 'mynah': 3, 'satveh': 'chichichi'}\n",
            "  took 0.0009016990661621094 seconds to execute!\n"
          ],
          "name": "stdout"
        }
      ]
    },
    {
      "cell_type": "code",
      "metadata": {
        "id": "i64miuqBgMD6"
      },
      "source": [
        "import functools as f"
      ],
      "execution_count": 2,
      "outputs": []
    },
    {
      "cell_type": "code",
      "metadata": {
        "colab": {
          "base_uri": "https://localhost:8080/"
        },
        "id": "fJhCWxJQhobT",
        "outputId": "723791f6-e8cd-4754-d56f-7e47d97b53b9"
      },
      "source": [
        "%time f.reduce(lambda x, y : max(x, y), [1, 2, 3, 4, 5])"
      ],
      "execution_count": 5,
      "outputs": [
        {
          "output_type": "stream",
          "text": [
            "CPU times: user 7 µs, sys: 2 µs, total: 9 µs\n",
            "Wall time: 11.2 µs\n"
          ],
          "name": "stdout"
        },
        {
          "output_type": "execute_result",
          "data": {
            "text/plain": [
              "5"
            ]
          },
          "metadata": {
            "tags": []
          },
          "execution_count": 5
        }
      ]
    },
    {
      "cell_type": "markdown",
      "metadata": {
        "id": "HaV9FHve34If"
      },
      "source": [
        "## Profiling decorator"
      ]
    },
    {
      "cell_type": "code",
      "metadata": {
        "id": "xdT12ccRPcxy"
      },
      "source": [
        "import cProfile, pstats, io\n",
        "import numpy as np\n",
        "class MyProfiler:\n",
        "  def __init__(self,func):\n",
        "    self.func = func\n",
        "    self.pr = cProfile.Profile();\n",
        "    self.s = io.StringIO()\n",
        "  \n",
        "  def __call__(self, *args, **kwargs):\n",
        "    self.pr.enable()\n",
        "    ret = self.func(*args, **kwargs)\n",
        "    self.pr.disable()\n",
        "    self.ps = pstats.Stats(self.pr, stream=self.s).sort_stats('cumulative')\n",
        "    self.ps.print_stats()\n",
        "    print(self.s.getvalue())\n",
        "    return ret\n"
      ],
      "execution_count": 20,
      "outputs": []
    },
    {
      "cell_type": "markdown",
      "metadata": {
        "id": "x7p5vTsHeHkF"
      },
      "source": [
        ""
      ]
    },
    {
      "cell_type": "code",
      "metadata": {
        "colab": {
          "base_uri": "https://localhost:8080/"
        },
        "id": "ey9xe21bdd3s",
        "outputId": "79e4fb3d-13f0-4f52-9ebd-e6f8cf54670b"
      },
      "source": [
        "@MyProfiler\n",
        "def profiling_test1(n): \n",
        "  iterable = (i**2 for i in range(n))\n",
        "  x =  np.fromiter(iterable, dtype=np.int32)\n",
        "\n",
        "@MyProfiler\n",
        "def profiling_test2(n): \n",
        "  y =  [x**2 for x in range(n)]\n",
        "\n",
        "profiling_test1(100000)\n",
        "profiling_test2(100000)\n",
        "\n",
        "\n"
      ],
      "execution_count": 30,
      "outputs": [
        {
          "output_type": "stream",
          "text": [
            "         100004 function calls in 0.058 seconds\n",
            "\n",
            "   Ordered by: cumulative time\n",
            "\n",
            "   ncalls  tottime  percall  cumtime  percall filename:lineno(function)\n",
            "        1    0.000    0.000    0.058    0.058 <ipython-input-30-579c49127409>:1(profiling_test1)\n",
            "        1    0.015    0.015    0.058    0.058 {built-in method numpy.fromiter}\n",
            "   100001    0.043    0.000    0.043    0.000 <ipython-input-30-579c49127409>:3(<genexpr>)\n",
            "        1    0.000    0.000    0.000    0.000 {method 'disable' of '_lsprof.Profiler' objects}\n",
            "\n",
            "\n",
            "\n",
            "         3 function calls in 0.032 seconds\n",
            "\n",
            "   Ordered by: cumulative time\n",
            "\n",
            "   ncalls  tottime  percall  cumtime  percall filename:lineno(function)\n",
            "        1    0.000    0.000    0.032    0.032 <ipython-input-30-579c49127409>:5(profiling_test2)\n",
            "        1    0.032    0.032    0.032    0.032 <ipython-input-30-579c49127409>:7(<listcomp>)\n",
            "        1    0.000    0.000    0.000    0.000 {method 'disable' of '_lsprof.Profiler' objects}\n",
            "\n",
            "\n",
            "\n"
          ],
          "name": "stdout"
        }
      ]
    },
    {
      "cell_type": "code",
      "metadata": {
        "id": "6mFoZngjBro1"
      },
      "source": [
        ""
      ],
      "execution_count": null,
      "outputs": []
    },
    {
      "cell_type": "code",
      "metadata": {
        "colab": {
          "base_uri": "https://localhost:8080/"
        },
        "id": "JCmX56WBkTpz",
        "outputId": "6ad300e5-e6a2-4e7e-a049-9dd4cd2c9dc4"
      },
      "source": [
        "iterable = [x*x for x in range(5)]\n",
        "print(type(iterable))"
      ],
      "execution_count": 29,
      "outputs": [
        {
          "output_type": "stream",
          "text": [
            "<class 'list'>\n"
          ],
          "name": "stdout"
        }
      ]
    }
  ]
}