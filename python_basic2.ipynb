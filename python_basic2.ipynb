{
  "nbformat": 4,
  "nbformat_minor": 0,
  "metadata": {
    "colab": {
      "name": "python_basic2.ipynb",
      "provenance": [],
      "authorship_tag": "ABX9TyMoifYjLTDXQK51m0huLouJ",
      "include_colab_link": true
    },
    "kernelspec": {
      "name": "python3",
      "display_name": "Python 3"
    },
    "language_info": {
      "name": "python"
    }
  },
  "cells": [
    {
      "cell_type": "markdown",
      "metadata": {
        "id": "view-in-github",
        "colab_type": "text"
      },
      "source": [
        "<a href=\"https://colab.research.google.com/github/vikrantpotnis123/DS/blob/master/python_basic2.ipynb\" target=\"_parent\"><img src=\"https://colab.research.google.com/assets/colab-badge.svg\" alt=\"Open In Colab\"/></a>"
      ]
    },
    {
      "cell_type": "code",
      "metadata": {
        "colab": {
          "base_uri": "https://localhost:8080/"
        },
        "id": "lX70OBUyveJH",
        "outputId": "0bc10436-9317-4f51-d7ab-9d47b9adefaf"
      },
      "source": [
        "import collections\n",
        "import numpy as np\n",
        "x = dict(one=1,two=2)\n",
        "print(x)"
      ],
      "execution_count": 1,
      "outputs": [
        {
          "output_type": "stream",
          "text": [
            "{'one': 1, 'two': 2}\n"
          ],
          "name": "stdout"
        }
      ]
    },
    {
      "cell_type": "code",
      "metadata": {
        "colab": {
          "base_uri": "https://localhost:8080/"
        },
        "id": "JuY9Pqw3Ma9W",
        "outputId": "6a688936-704e-49f9-f1b1-d0d07665ebcf"
      },
      "source": [
        "x.pop('one', 'None')\n",
        "x"
      ],
      "execution_count": 2,
      "outputs": [
        {
          "output_type": "execute_result",
          "data": {
            "text/plain": [
              "{'two': 2}"
            ]
          },
          "metadata": {
            "tags": []
          },
          "execution_count": 2
        }
      ]
    },
    {
      "cell_type": "code",
      "metadata": {
        "colab": {
          "base_uri": "https://localhost:8080/"
        },
        "id": "BRiB7M1XNwEo",
        "outputId": "13a0d141-f323-488a-f091-03fe57560eb0"
      },
      "source": [
        "import copy\n",
        "y = [ 1, 2, [3, 4], 5]\n",
        "y1 = y.copy()\n",
        "y[1] = 22\n",
        "\n",
        "print(y, y1)\n",
        "y2 = copy.deepcopy(y1)\n",
        "y[2][1] = 44\n",
        "print(y, y1, y2, sep='\\t', end='\\n')"
      ],
      "execution_count": 3,
      "outputs": [
        {
          "output_type": "stream",
          "text": [
            "[1, 22, [3, 4], 5] [1, 2, [3, 4], 5]\n",
            "[1, 22, [3, 44], 5]\t[1, 2, [3, 44], 5]\t[1, 2, [3, 4], 5]\n"
          ],
          "name": "stdout"
        }
      ]
    },
    {
      "cell_type": "code",
      "metadata": {
        "colab": {
          "base_uri": "https://localhost:8080/"
        },
        "id": "oieHMPc2q_oc",
        "outputId": "1d21bcb6-5d86-4bc8-c597-6c680bd390d7"
      },
      "source": [
        "import numpy as np\n",
        "x= np.arange(10).reshape(2,5)\n",
        "print(x)\n",
        "y = copy.deepcopy(x)\n",
        "z = x\n",
        "x[1][2] = 77\n",
        "print(x)\n",
        "print(y)\n",
        "print(z)"
      ],
      "execution_count": 4,
      "outputs": [
        {
          "output_type": "stream",
          "text": [
            "[[0 1 2 3 4]\n",
            " [5 6 7 8 9]]\n",
            "[[ 0  1  2  3  4]\n",
            " [ 5  6 77  8  9]]\n",
            "[[0 1 2 3 4]\n",
            " [5 6 7 8 9]]\n",
            "[[ 0  1  2  3  4]\n",
            " [ 5  6 77  8  9]]\n"
          ],
          "name": "stdout"
        }
      ]
    },
    {
      "cell_type": "code",
      "metadata": {
        "id": "FF2k28oBsWxt",
        "colab": {
          "base_uri": "https://localhost:8080/"
        },
        "outputId": "56c6e47b-0329-4192-8cba-244d57096a3b"
      },
      "source": [
        "l = np.array([1, 2, 3, 2, 3])\n",
        "a, c = np.unique(l,  return_counts=True)\n",
        "d = {x : y for x, y in zip(a,c)}\n",
        "d"
      ],
      "execution_count": 31,
      "outputs": [
        {
          "output_type": "execute_result",
          "data": {
            "text/plain": [
              "{1: 1, 2: 2, 3: 2}"
            ]
          },
          "metadata": {
            "tags": []
          },
          "execution_count": 31
        }
      ]
    },
    {
      "cell_type": "code",
      "metadata": {
        "colab": {
          "base_uri": "https://localhost:8080/"
        },
        "id": "LEYDaT3gbXuw",
        "outputId": "3f824fb3-b57e-4c2c-c77a-1611897563a8"
      },
      "source": [
        "# random list\n",
        "random = ['a', ('a', 'b'), ('a', 'b'), [3, 4]]\n",
        "\n",
        "# count element ('a', 'b')\n",
        "count = random.count(('a', 'b'))\n",
        "\n",
        "# print count\n",
        "print(\"The count of ('a', 'b') is:\", count)"
      ],
      "execution_count": 6,
      "outputs": [
        {
          "output_type": "stream",
          "text": [
            "The count of ('a', 'b') is: 2\n"
          ],
          "name": "stdout"
        }
      ]
    },
    {
      "cell_type": "code",
      "metadata": {
        "colab": {
          "base_uri": "https://localhost:8080/"
        },
        "id": "giYunHrDbX5G",
        "outputId": "e16ab85a-d31a-4bf4-8307-e88dd4c4a47b"
      },
      "source": [
        "from collections import Counter\n",
        "l = np.array([ 1,2, 2, 1, 3, 3, 2, 3, 1])\n",
        "c = Counter(l)\n",
        "c"
      ],
      "execution_count": 7,
      "outputs": [
        {
          "output_type": "execute_result",
          "data": {
            "text/plain": [
              "Counter({1: 3, 2: 3, 3: 3})"
            ]
          },
          "metadata": {
            "tags": []
          },
          "execution_count": 7
        }
      ]
    },
    {
      "cell_type": "code",
      "metadata": {
        "colab": {
          "base_uri": "https://localhost:8080/"
        },
        "id": "G5bAq3-TfaqG",
        "outputId": "cb527729-ecfa-41ba-f101-a1e7ae1fca6b"
      },
      "source": [
        "c.most_common(2)"
      ],
      "execution_count": 8,
      "outputs": [
        {
          "output_type": "execute_result",
          "data": {
            "text/plain": [
              "[(1, 3), (2, 3)]"
            ]
          },
          "metadata": {
            "tags": []
          },
          "execution_count": 8
        }
      ]
    },
    {
      "cell_type": "code",
      "metadata": {
        "colab": {
          "base_uri": "https://localhost:8080/",
          "height": 36
        },
        "id": "XuD7--hajTmR",
        "outputId": "9035518f-f66f-41fd-bb97-f016bdbd3b47"
      },
      "source": [
        "str.lower('DDDDD').capitalize()"
      ],
      "execution_count": 9,
      "outputs": [
        {
          "output_type": "execute_result",
          "data": {
            "application/vnd.google.colaboratory.intrinsic+json": {
              "type": "string"
            },
            "text/plain": [
              "'Ddddd'"
            ]
          },
          "metadata": {
            "tags": []
          },
          "execution_count": 9
        }
      ]
    },
    {
      "cell_type": "code",
      "metadata": {
        "colab": {
          "base_uri": "https://localhost:8080/"
        },
        "id": "vWoCB7OyjseZ",
        "outputId": "601c4249-3b90-48d9-d4b1-0dd94e5fe894"
      },
      "source": [
        "list(map(str.upper, [ 'hi', 'there']))"
      ],
      "execution_count": 10,
      "outputs": [
        {
          "output_type": "execute_result",
          "data": {
            "text/plain": [
              "['HI', 'THERE']"
            ]
          },
          "metadata": {
            "tags": []
          },
          "execution_count": 10
        }
      ]
    },
    {
      "cell_type": "code",
      "metadata": {
        "id": "jVVh3YP3kIHG"
      },
      "source": [
        "def coo(*args, **kwargs):\n",
        "  print(type(args), type(kwargs))\n",
        "  print(f\"cooing {args} {kwargs}\")\n",
        "  \n",
        "  def moo(*args, **kwargs):\n",
        "    print(f\"mooing  {args} {kwargs}\")\n",
        "    return str.upper(str(args)), str.upper(str(kwargs))\n",
        "  moo(args, kwargs)\n",
        "  return moo"
      ],
      "execution_count": 11,
      "outputs": []
    },
    {
      "cell_type": "code",
      "metadata": {
        "colab": {
          "base_uri": "https://localhost:8080/"
        },
        "id": "PLzjEdzJkeux",
        "outputId": "d49ed006-3378-450a-d977-304a653e8680"
      },
      "source": [
        "x  = coo('hi', 'ho', name='10bombai', age=45)\n",
        "x('hi', 'ho', name='10bombai', age=45)"
      ],
      "execution_count": 12,
      "outputs": [
        {
          "output_type": "stream",
          "text": [
            "<class 'tuple'> <class 'dict'>\n",
            "cooing ('hi', 'ho') {'name': '10bombai', 'age': 45}\n",
            "mooing  (('hi', 'ho'), {'name': '10bombai', 'age': 45}) {}\n",
            "mooing  ('hi', 'ho') {'name': '10bombai', 'age': 45}\n"
          ],
          "name": "stdout"
        },
        {
          "output_type": "execute_result",
          "data": {
            "text/plain": [
              "(\"('HI', 'HO')\", \"{'NAME': '10BOMBAI', 'AGE': 45}\")"
            ]
          },
          "metadata": {
            "tags": []
          },
          "execution_count": 12
        }
      ]
    },
    {
      "cell_type": "code",
      "metadata": {
        "id": "eRWQVk0_nVUN"
      },
      "source": [
        "def coo2(*args, **kwargs):\n",
        "  print(f\"cooing2  {args} {kwargs}\")\n",
        "  def moo2(*args, **kwargs):\n",
        "    print(f\"mooing2  {args} {kwargs}\")\n",
        "    return str.upper(str(args)), str.upper(str(kwargs))\n",
        "  return moo2"
      ],
      "execution_count": 13,
      "outputs": []
    },
    {
      "cell_type": "code",
      "metadata": {
        "colab": {
          "base_uri": "https://localhost:8080/"
        },
        "id": "-uZO-4hXnZtz",
        "outputId": "dae872e2-b1b1-428f-b9c6-9371df8e3b38"
      },
      "source": [
        "z = coo2('hello', name='gunga din')\n",
        "z('popatal', name='popat')"
      ],
      "execution_count": 14,
      "outputs": [
        {
          "output_type": "stream",
          "text": [
            "cooing2  ('hello',) {'name': 'gunga din'}\n",
            "mooing2  ('popatal',) {'name': 'popat'}\n"
          ],
          "name": "stdout"
        },
        {
          "output_type": "execute_result",
          "data": {
            "text/plain": [
              "(\"('POPATAL',)\", \"{'NAME': 'POPAT'}\")"
            ]
          },
          "metadata": {
            "tags": []
          },
          "execution_count": 14
        }
      ]
    },
    {
      "cell_type": "code",
      "metadata": {
        "id": "fRbJJ1RiHL5y"
      },
      "source": [
        "class MyEmployee:\n",
        "  def __init__(self, name, age):\n",
        "    self._name = name\n",
        "    self._age = age\n",
        "  \n",
        "  @property\n",
        "  def name(self):\n",
        "    print(\"getter called!\")\n",
        "    return self._name\n",
        "\n",
        "  @name.setter\n",
        "  def name(self, newname):\n",
        "    print(\"setter called!\")\n",
        "    self._name = newname\n",
        "\n",
        "  @name.deleter\n",
        "  def name(self):\n",
        "    print(\"deleter called!\")\n",
        "    del self._name"
      ],
      "execution_count": 15,
      "outputs": []
    },
    {
      "cell_type": "code",
      "metadata": {
        "colab": {
          "base_uri": "https://localhost:8080/"
        },
        "id": "zja4bSakub34",
        "outputId": "67693511-e451-40ff-a2c4-a682a61e20c1"
      },
      "source": [
        "e = MyEmployee(\"Tina\", 33)\n",
        "e.name = \"Tina M\"\n",
        "print(e.name)\n",
        "del e.name"
      ],
      "execution_count": 16,
      "outputs": [
        {
          "output_type": "stream",
          "text": [
            "setter called!\n",
            "getter called!\n",
            "Tina M\n",
            "deleter called!\n"
          ],
          "name": "stdout"
        }
      ]
    },
    {
      "cell_type": "code",
      "metadata": {
        "colab": {
          "base_uri": "https://localhost:8080/"
        },
        "id": "krrBscNVv5oS",
        "outputId": "620809d3-8c51-4871-920d-7c8e0ce2b106"
      },
      "source": [
        "from collections import defaultdict\n",
        "import numpy as np\n",
        "print(issubclass(defaultdict, dict))\n",
        "students = [ \"popat\", \"locha\", \"mynah\", \"tina\"]\n",
        "sem1_scores =  np.array([65, 50, 75, 85], dtype=np.int32)\n",
        "sem2_scores =  np.array([55, 80, 75, 65], dtype=np.int32)\n",
        "d = defaultdict(list)\n",
        "for x, y1, y2 in zip(students, sem1_scores, sem2_scores):\n",
        "  d[x].append(y1)\n",
        "  d[x].append(y2)\n",
        "print(d.items())\n"
      ],
      "execution_count": 17,
      "outputs": [
        {
          "output_type": "stream",
          "text": [
            "True\n",
            "dict_items([('popat', [65, 55]), ('locha', [50, 80]), ('mynah', [75, 75]), ('tina', [85, 65])])\n"
          ],
          "name": "stdout"
        }
      ]
    },
    {
      "cell_type": "code",
      "metadata": {
        "id": "1ornqJer1qsL"
      },
      "source": [
        "from abc import ABC, abstractmethod\n",
        "\n",
        "class MLModel(ABC):\n",
        "  def __init__(self, pipeline_config):\n",
        "    self.pipeline_config = pipeline_config\n",
        "\n",
        "  @abstractmethod\n",
        "  def predict(self, test_data):\n",
        "    pass\n",
        "\n",
        "  @abstractmethod\n",
        "  def train(self, train_data):\n",
        "    pass\n",
        "\n",
        "class SSDModel(MLModel):\n",
        "  \n",
        "  def __init__(self, pipeline_config):\n",
        "    super().__init__(pipeline_config)\n",
        "\n",
        "  def predict(self, test_data):\n",
        "    print (f\"SSD model predict {test_data}\")\n",
        "\n",
        "  def train(self, train_data):\n",
        "    print (f\"SSD model train {train_data}\")"
      ],
      "execution_count": 18,
      "outputs": []
    },
    {
      "cell_type": "code",
      "metadata": {
        "id": "lC4CvqSsEcmt",
        "colab": {
          "base_uri": "https://localhost:8080/"
        },
        "outputId": "6f3ebc20-5f0d-4115-c9ba-83e06fc37d53"
      },
      "source": [
        "train_data = \"blah blah\"\n",
        "test_data = \"bloo bloo\"\n",
        "pipeline_config = \"mypipeline.cfg\"\n",
        "m = SSDModel(pipeline_config)\n",
        "m.train(train_data)\n",
        "m.predict(test_data)"
      ],
      "execution_count": 19,
      "outputs": [
        {
          "output_type": "stream",
          "text": [
            "SSD model train blah blah\n",
            "SSD model predict bloo bloo\n"
          ],
          "name": "stdout"
        }
      ]
    },
    {
      "cell_type": "code",
      "metadata": {
        "colab": {
          "base_uri": "https://localhost:8080/"
        },
        "id": "uW-l1-VnsOCJ",
        "outputId": "0dd814bc-f799-466a-cda3-7eaab5e2010f"
      },
      "source": [
        "import logging\n",
        "import time\n",
        "class MyLogger:\n",
        "  import logging\n",
        "  def __init__(self, func):\n",
        "    self.func = func\n",
        "    print(f\"constructing {type(self).__name__} with {self.func.__name__}\")\n",
        "\n",
        "  def __call__(self, *args, **kwargs):\n",
        "    start_time = time.time()\n",
        "    r = self.func(self, args, kwargs)\n",
        "    print(f\"MyTP(): {self.func.__name__} {args} {kwargs}\")\n",
        "    print(f\"  took {time.time()-start_time} seconds to execute!\")\n",
        "    return r\n",
        "\n",
        "class MyTP:\n",
        "  def __init__(self, *args, **kwargs):\n",
        "    print(f\"constructing {type(self).__name__}\")\n",
        "    self.args = args\n",
        "    self.kwargs = kwargs\n",
        "\n",
        "  @MyLogger\n",
        "  def __call__(self, *args, **kwargs):\n",
        "    print(f\"Executing MyTP : __call__ {args}, {kwargs}\")"
      ],
      "execution_count": 20,
      "outputs": [
        {
          "output_type": "stream",
          "text": [
            "constructing MyLogger with __call__\n"
          ],
          "name": "stdout"
        }
      ]
    },
    {
      "cell_type": "code",
      "metadata": {
        "colab": {
          "base_uri": "https://localhost:8080/"
        },
        "id": "qvTJuRZSvO0k",
        "outputId": "87e31d68-a9a9-4cb0-aaa7-b53b706764a4"
      },
      "source": [
        "t = MyTP(\"hi\", time='pass', mynah=3, satveh='chichichi')\n",
        "t(\"hi\", time='pass', mynah=3, satveh='chichichi')"
      ],
      "execution_count": 21,
      "outputs": [
        {
          "output_type": "stream",
          "text": [
            "constructing MyTP\n",
            "Executing MyTP : __call__ (('hi',), {'time': 'pass', 'mynah': 3, 'satveh': 'chichichi'}), {}\n",
            "MyTP(): __call__ ('hi',) {'time': 'pass', 'mynah': 3, 'satveh': 'chichichi'}\n",
            "  took 7.224082946777344e-05 seconds to execute!\n"
          ],
          "name": "stdout"
        }
      ]
    },
    {
      "cell_type": "code",
      "metadata": {
        "id": "i64miuqBgMD6"
      },
      "source": [
        "import functools as f"
      ],
      "execution_count": 22,
      "outputs": []
    },
    {
      "cell_type": "code",
      "metadata": {
        "colab": {
          "base_uri": "https://localhost:8080/"
        },
        "id": "fJhCWxJQhobT",
        "outputId": "24e33fc4-308f-44f6-bd6c-13ee029b2d27"
      },
      "source": [
        "f.reduce(lambda x, y : max(x, y), [1, 2, 3, 4, 5])"
      ],
      "execution_count": 23,
      "outputs": [
        {
          "output_type": "execute_result",
          "data": {
            "text/plain": [
              "5"
            ]
          },
          "metadata": {
            "tags": []
          },
          "execution_count": 23
        }
      ]
    },
    {
      "cell_type": "code",
      "metadata": {
        "id": "VKENOZjEhq1w"
      },
      "source": [
        ""
      ],
      "execution_count": 23,
      "outputs": []
    }
  ]
}