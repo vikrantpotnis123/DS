{
  "nbformat": 4,
  "nbformat_minor": 0,
  "metadata": {
    "colab": {
      "name": "python_basic2.ipynb",
      "provenance": [],
      "collapsed_sections": [],
      "authorship_tag": "ABX9TyOyfCpeUXJyPnfW28R0x9CN",
      "include_colab_link": true
    },
    "kernelspec": {
      "display_name": "Python 3",
      "name": "python3"
    },
    "language_info": {
      "name": "python"
    }
  },
  "cells": [
    {
      "cell_type": "markdown",
      "metadata": {
        "id": "view-in-github",
        "colab_type": "text"
      },
      "source": [
        "<a href=\"https://colab.research.google.com/github/vikrantpotnis123/DS/blob/master/python_basic2.ipynb\" target=\"_parent\"><img src=\"https://colab.research.google.com/assets/colab-badge.svg\" alt=\"Open In Colab\"/></a>"
      ]
    },
    {
      "cell_type": "code",
      "metadata": {
        "colab": {
          "base_uri": "https://localhost:8080/"
        },
        "id": "lX70OBUyveJH",
        "outputId": "0bc10436-9317-4f51-d7ab-9d47b9adefaf"
      },
      "source": [
        "import collections\n",
        "import numpy as np\n",
        "x = dict(one=1,two=2)\n",
        "print(x)"
      ],
      "execution_count": null,
      "outputs": [
        {
          "output_type": "stream",
          "text": [
            "{'one': 1, 'two': 2}\n"
          ],
          "name": "stdout"
        }
      ]
    },
    {
      "cell_type": "code",
      "metadata": {
        "colab": {
          "base_uri": "https://localhost:8080/"
        },
        "id": "JuY9Pqw3Ma9W",
        "outputId": "6a688936-704e-49f9-f1b1-d0d07665ebcf"
      },
      "source": [
        "x.pop('one', 'None')\n",
        "x"
      ],
      "execution_count": null,
      "outputs": [
        {
          "output_type": "execute_result",
          "data": {
            "text/plain": [
              "{'two': 2}"
            ]
          },
          "metadata": {
            "tags": []
          },
          "execution_count": 2
        }
      ]
    },
    {
      "cell_type": "code",
      "metadata": {
        "colab": {
          "base_uri": "https://localhost:8080/"
        },
        "id": "BRiB7M1XNwEo",
        "outputId": "13a0d141-f323-488a-f091-03fe57560eb0"
      },
      "source": [
        "import copy\n",
        "y = [ 1, 2, [3, 4], 5]\n",
        "y1 = y.copy()\n",
        "y[1] = 22\n",
        "\n",
        "print(y, y1)\n",
        "y2 = copy.deepcopy(y1)\n",
        "y[2][1] = 44\n",
        "print(y, y1, y2, sep='\\t', end='\\n')"
      ],
      "execution_count": null,
      "outputs": [
        {
          "output_type": "stream",
          "text": [
            "[1, 22, [3, 4], 5] [1, 2, [3, 4], 5]\n",
            "[1, 22, [3, 44], 5]\t[1, 2, [3, 44], 5]\t[1, 2, [3, 4], 5]\n"
          ],
          "name": "stdout"
        }
      ]
    },
    {
      "cell_type": "code",
      "metadata": {
        "colab": {
          "base_uri": "https://localhost:8080/"
        },
        "id": "oieHMPc2q_oc",
        "outputId": "1d21bcb6-5d86-4bc8-c597-6c680bd390d7"
      },
      "source": [
        "import numpy as np\n",
        "x= np.arange(10).reshape(2,5)\n",
        "print(x)\n",
        "y = copy.deepcopy(x)\n",
        "z = x\n",
        "x[1][2] = 77\n",
        "print(x)\n",
        "print(y)\n",
        "print(z)"
      ],
      "execution_count": null,
      "outputs": [
        {
          "output_type": "stream",
          "text": [
            "[[0 1 2 3 4]\n",
            " [5 6 7 8 9]]\n",
            "[[ 0  1  2  3  4]\n",
            " [ 5  6 77  8  9]]\n",
            "[[0 1 2 3 4]\n",
            " [5 6 7 8 9]]\n",
            "[[ 0  1  2  3  4]\n",
            " [ 5  6 77  8  9]]\n"
          ],
          "name": "stdout"
        }
      ]
    },
    {
      "cell_type": "code",
      "metadata": {
        "colab": {
          "base_uri": "https://localhost:8080/"
        },
        "id": "FF2k28oBsWxt",
        "outputId": "56c6e47b-0329-4192-8cba-244d57096a3b"
      },
      "source": [
        "l = np.array([1, 2, 3, 2, 3])\n",
        "a, c = np.unique(l,  return_counts=True)\n",
        "d = {x : y for x, y in zip(a,c)}\n",
        "d"
      ],
      "execution_count": null,
      "outputs": [
        {
          "output_type": "execute_result",
          "data": {
            "text/plain": [
              "{1: 1, 2: 2, 3: 2}"
            ]
          },
          "metadata": {
            "tags": []
          },
          "execution_count": 31
        }
      ]
    },
    {
      "cell_type": "code",
      "metadata": {
        "colab": {
          "base_uri": "https://localhost:8080/"
        },
        "id": "LEYDaT3gbXuw",
        "outputId": "3f824fb3-b57e-4c2c-c77a-1611897563a8"
      },
      "source": [
        "# random list\n",
        "random = ['a', ('a', 'b'), ('a', 'b'), [3, 4]]\n",
        "\n",
        "# count element ('a', 'b')\n",
        "count = random.count(('a', 'b'))\n",
        "\n",
        "# print count\n",
        "print(\"The count of ('a', 'b') is:\", count)"
      ],
      "execution_count": null,
      "outputs": [
        {
          "output_type": "stream",
          "text": [
            "The count of ('a', 'b') is: 2\n"
          ],
          "name": "stdout"
        }
      ]
    },
    {
      "cell_type": "code",
      "metadata": {
        "colab": {
          "base_uri": "https://localhost:8080/"
        },
        "id": "giYunHrDbX5G",
        "outputId": "e16ab85a-d31a-4bf4-8307-e88dd4c4a47b"
      },
      "source": [
        "from collections import Counter\n",
        "l = np.array([ 1,2, 2, 1, 3, 3, 2, 3, 1])\n",
        "c = Counter(l)\n",
        "c"
      ],
      "execution_count": null,
      "outputs": [
        {
          "output_type": "execute_result",
          "data": {
            "text/plain": [
              "Counter({1: 3, 2: 3, 3: 3})"
            ]
          },
          "metadata": {
            "tags": []
          },
          "execution_count": 7
        }
      ]
    },
    {
      "cell_type": "code",
      "metadata": {
        "colab": {
          "base_uri": "https://localhost:8080/"
        },
        "id": "G5bAq3-TfaqG",
        "outputId": "cb527729-ecfa-41ba-f101-a1e7ae1fca6b"
      },
      "source": [
        "c.most_common(2)"
      ],
      "execution_count": null,
      "outputs": [
        {
          "output_type": "execute_result",
          "data": {
            "text/plain": [
              "[(1, 3), (2, 3)]"
            ]
          },
          "metadata": {
            "tags": []
          },
          "execution_count": 8
        }
      ]
    },
    {
      "cell_type": "code",
      "metadata": {
        "colab": {
          "base_uri": "https://localhost:8080/",
          "height": 36
        },
        "id": "XuD7--hajTmR",
        "outputId": "9035518f-f66f-41fd-bb97-f016bdbd3b47"
      },
      "source": [
        "str.lower('DDDDD').capitalize()"
      ],
      "execution_count": null,
      "outputs": [
        {
          "output_type": "execute_result",
          "data": {
            "application/vnd.google.colaboratory.intrinsic+json": {
              "type": "string"
            },
            "text/plain": [
              "'Ddddd'"
            ]
          },
          "metadata": {
            "tags": []
          },
          "execution_count": 9
        }
      ]
    },
    {
      "cell_type": "code",
      "metadata": {
        "colab": {
          "base_uri": "https://localhost:8080/"
        },
        "id": "vWoCB7OyjseZ",
        "outputId": "601c4249-3b90-48d9-d4b1-0dd94e5fe894"
      },
      "source": [
        "list(map(str.upper, [ 'hi', 'there']))"
      ],
      "execution_count": null,
      "outputs": [
        {
          "output_type": "execute_result",
          "data": {
            "text/plain": [
              "['HI', 'THERE']"
            ]
          },
          "metadata": {
            "tags": []
          },
          "execution_count": 10
        }
      ]
    },
    {
      "cell_type": "code",
      "metadata": {
        "id": "jVVh3YP3kIHG"
      },
      "source": [
        "def coo(*args, **kwargs):\n",
        "  print(type(args), type(kwargs))\n",
        "  print(f\"cooing {args} {kwargs}\")\n",
        "  \n",
        "  def moo(*args, **kwargs):\n",
        "    print(f\"mooing  {args} {kwargs}\")\n",
        "    return str.upper(str(args)), str.upper(str(kwargs))\n",
        "  moo(args, kwargs)\n",
        "  return moo"
      ],
      "execution_count": null,
      "outputs": []
    },
    {
      "cell_type": "code",
      "metadata": {
        "colab": {
          "base_uri": "https://localhost:8080/"
        },
        "id": "PLzjEdzJkeux",
        "outputId": "d49ed006-3378-450a-d977-304a653e8680"
      },
      "source": [
        "x  = coo('hi', 'ho', name='10bombai', age=45)\n",
        "x('hi', 'ho', name='10bombai', age=45)"
      ],
      "execution_count": null,
      "outputs": [
        {
          "output_type": "stream",
          "text": [
            "<class 'tuple'> <class 'dict'>\n",
            "cooing ('hi', 'ho') {'name': '10bombai', 'age': 45}\n",
            "mooing  (('hi', 'ho'), {'name': '10bombai', 'age': 45}) {}\n",
            "mooing  ('hi', 'ho') {'name': '10bombai', 'age': 45}\n"
          ],
          "name": "stdout"
        },
        {
          "output_type": "execute_result",
          "data": {
            "text/plain": [
              "(\"('HI', 'HO')\", \"{'NAME': '10BOMBAI', 'AGE': 45}\")"
            ]
          },
          "metadata": {
            "tags": []
          },
          "execution_count": 12
        }
      ]
    },
    {
      "cell_type": "code",
      "metadata": {
        "id": "eRWQVk0_nVUN"
      },
      "source": [
        "def coo2(*args, **kwargs):\n",
        "  print(f\"cooing2  {args} {kwargs}\")\n",
        "  def moo2(*args, **kwargs):\n",
        "    print(f\"mooing2  {args} {kwargs}\")\n",
        "    return str.upper(str(args)), str.upper(str(kwargs))\n",
        "  return moo2"
      ],
      "execution_count": null,
      "outputs": []
    },
    {
      "cell_type": "code",
      "metadata": {
        "colab": {
          "base_uri": "https://localhost:8080/"
        },
        "id": "-uZO-4hXnZtz",
        "outputId": "dae872e2-b1b1-428f-b9c6-9371df8e3b38"
      },
      "source": [
        "z = coo2('hello', name='gunga din')\n",
        "z('popatal', name='popat')"
      ],
      "execution_count": null,
      "outputs": [
        {
          "output_type": "stream",
          "text": [
            "cooing2  ('hello',) {'name': 'gunga din'}\n",
            "mooing2  ('popatal',) {'name': 'popat'}\n"
          ],
          "name": "stdout"
        },
        {
          "output_type": "execute_result",
          "data": {
            "text/plain": [
              "(\"('POPATAL',)\", \"{'NAME': 'POPAT'}\")"
            ]
          },
          "metadata": {
            "tags": []
          },
          "execution_count": 14
        }
      ]
    },
    {
      "cell_type": "code",
      "metadata": {
        "id": "fRbJJ1RiHL5y"
      },
      "source": [
        "class MyEmployee:\n",
        "  def __init__(self, name, age):\n",
        "    self._name = name\n",
        "    self._age = age\n",
        "  \n",
        "  @property\n",
        "  def name(self):\n",
        "    print(\"getter called!\")\n",
        "    return self._name\n",
        "\n",
        "  @name.setter\n",
        "  def name(self, newname):\n",
        "    print(\"setter called!\")\n",
        "    self._name = newname\n",
        "\n",
        "  @name.deleter\n",
        "  def name(self):\n",
        "    print(\"deleter called!\")\n",
        "    del self._name"
      ],
      "execution_count": null,
      "outputs": []
    },
    {
      "cell_type": "code",
      "metadata": {
        "colab": {
          "base_uri": "https://localhost:8080/"
        },
        "id": "zja4bSakub34",
        "outputId": "67693511-e451-40ff-a2c4-a682a61e20c1"
      },
      "source": [
        "e = MyEmployee(\"Tina\", 33)\n",
        "e.name = \"Tina M\"\n",
        "print(e.name)\n",
        "del e.name"
      ],
      "execution_count": null,
      "outputs": [
        {
          "output_type": "stream",
          "text": [
            "setter called!\n",
            "getter called!\n",
            "Tina M\n",
            "deleter called!\n"
          ],
          "name": "stdout"
        }
      ]
    },
    {
      "cell_type": "code",
      "metadata": {
        "colab": {
          "base_uri": "https://localhost:8080/"
        },
        "id": "krrBscNVv5oS",
        "outputId": "620809d3-8c51-4871-920d-7c8e0ce2b106"
      },
      "source": [
        "from collections import defaultdict\n",
        "import numpy as np\n",
        "print(issubclass(defaultdict, dict))\n",
        "students = [ \"popat\", \"locha\", \"mynah\", \"tina\"]\n",
        "sem1_scores =  np.array([65, 50, 75, 85], dtype=np.int32)\n",
        "sem2_scores =  np.array([55, 80, 75, 65], dtype=np.int32)\n",
        "d = defaultdict(list)\n",
        "for x, y1, y2 in zip(students, sem1_scores, sem2_scores):\n",
        "  d[x].append(y1)\n",
        "  d[x].append(y2)\n",
        "print(d.items())\n"
      ],
      "execution_count": null,
      "outputs": [
        {
          "output_type": "stream",
          "text": [
            "True\n",
            "dict_items([('popat', [65, 55]), ('locha', [50, 80]), ('mynah', [75, 75]), ('tina', [85, 65])])\n"
          ],
          "name": "stdout"
        }
      ]
    },
    {
      "cell_type": "code",
      "metadata": {
        "id": "1ornqJer1qsL"
      },
      "source": [
        "from abc import ABC, abstractmethod\n",
        "\n",
        "class MLModel(ABC):\n",
        "  def __init__(self, pipeline_config):\n",
        "    self.pipeline_config = pipeline_config\n",
        "\n",
        "  @abstractmethod\n",
        "  def predict(self, test_data):\n",
        "    pass\n",
        "\n",
        "  @abstractmethod\n",
        "  def train(self, train_data):\n",
        "    pass\n",
        "\n",
        "class SSDModel(MLModel):\n",
        "  \n",
        "  def __init__(self, pipeline_config):\n",
        "    super().__init__(pipeline_config)\n",
        "\n",
        "  def predict(self, test_data):\n",
        "    print (f\"SSD model predict {test_data}\")\n",
        "\n",
        "  def train(self, train_data):\n",
        "    print (f\"SSD model train {train_data}\")"
      ],
      "execution_count": null,
      "outputs": []
    },
    {
      "cell_type": "code",
      "metadata": {
        "colab": {
          "base_uri": "https://localhost:8080/"
        },
        "id": "lC4CvqSsEcmt",
        "outputId": "6f3ebc20-5f0d-4115-c9ba-83e06fc37d53"
      },
      "source": [
        "train_data = \"blah blah\"\n",
        "test_data = \"bloo bloo\"\n",
        "pipeline_config = \"mypipeline.cfg\"\n",
        "m = SSDModel(pipeline_config)\n",
        "m.train(train_data)\n",
        "m.predict(test_data)"
      ],
      "execution_count": null,
      "outputs": [
        {
          "output_type": "stream",
          "text": [
            "SSD model train blah blah\n",
            "SSD model predict bloo bloo\n"
          ],
          "name": "stdout"
        }
      ]
    },
    {
      "cell_type": "code",
      "metadata": {
        "colab": {
          "base_uri": "https://localhost:8080/"
        },
        "id": "uW-l1-VnsOCJ",
        "outputId": "de8439eb-b2fb-48fb-c77e-41062c28a994"
      },
      "source": [
        "import logging\n",
        "import time\n",
        "import numpy as np\n",
        "class MyLogger:\n",
        "  import logging\n",
        "  def __init__(self, func):\n",
        "    self.func = func\n",
        "    print(f\"constructing {type(self).__name__} with {self.func.__name__}\")\n",
        "\n",
        "  def __call__(self, *args, **kwargs):\n",
        "    start_time = time.time()\n",
        "    r = self.func(self, args, kwargs)\n",
        "    print(f\"MyTP(): {self.func.__name__} {args} {kwargs}\")\n",
        "    print(f\"  took {time.time()-start_time} seconds to execute!\")\n",
        "    return r\n",
        "\n",
        "class MyTP:\n",
        "  def __init__(self, *args, **kwargs):\n",
        "    print(f\"constructing {type(self).__name__}\")\n",
        "    self.args = args\n",
        "    self.kwargs = kwargs\n",
        "\n",
        "  @MyLogger\n",
        "  def __call__(self, *args, **kwargs):\n",
        "    print(f\"Executing MyTP : __call__ {args}, {kwargs}\")"
      ],
      "execution_count": null,
      "outputs": [
        {
          "output_type": "stream",
          "text": [
            "constructing MyLogger with __call__\n"
          ],
          "name": "stdout"
        }
      ]
    },
    {
      "cell_type": "code",
      "metadata": {
        "colab": {
          "base_uri": "https://localhost:8080/"
        },
        "id": "qvTJuRZSvO0k",
        "outputId": "14b07042-a5a5-480f-ea2c-8eb22b864092"
      },
      "source": [
        "t = MyTP(\"hi\", time='pass', mynah=3, satveh='chichichi')\n",
        "t(\"hi\", time='pass', mynah=3, satveh='chichichi')"
      ],
      "execution_count": null,
      "outputs": [
        {
          "output_type": "stream",
          "text": [
            "constructing MyTP\n",
            "Executing MyTP : __call__ (('hi',), {'time': 'pass', 'mynah': 3, 'satveh': 'chichichi'}), {}\n",
            "MyTP(): __call__ ('hi',) {'time': 'pass', 'mynah': 3, 'satveh': 'chichichi'}\n",
            "  took 0.0009016990661621094 seconds to execute!\n"
          ],
          "name": "stdout"
        }
      ]
    },
    {
      "cell_type": "code",
      "metadata": {
        "id": "i64miuqBgMD6"
      },
      "source": [
        "import functools as f"
      ],
      "execution_count": null,
      "outputs": []
    },
    {
      "cell_type": "code",
      "metadata": {
        "colab": {
          "base_uri": "https://localhost:8080/"
        },
        "id": "fJhCWxJQhobT",
        "outputId": "723791f6-e8cd-4754-d56f-7e47d97b53b9"
      },
      "source": [
        "%time f.reduce(lambda x, y : max(x, y), [1, 2, 3, 4, 5])"
      ],
      "execution_count": null,
      "outputs": [
        {
          "output_type": "stream",
          "text": [
            "CPU times: user 7 µs, sys: 2 µs, total: 9 µs\n",
            "Wall time: 11.2 µs\n"
          ],
          "name": "stdout"
        },
        {
          "output_type": "execute_result",
          "data": {
            "text/plain": [
              "5"
            ]
          },
          "metadata": {
            "tags": []
          },
          "execution_count": 5
        }
      ]
    },
    {
      "cell_type": "markdown",
      "metadata": {
        "id": "HaV9FHve34If"
      },
      "source": [
        "## Profiling decorator"
      ]
    },
    {
      "cell_type": "code",
      "metadata": {
        "colab": {
          "background_save": true
        },
        "id": "xdT12ccRPcxy"
      },
      "source": [
        "import cProfile, pstats, io\n",
        "import numpy as np\n",
        "class MyProfiler:\n",
        "  def __init__(self,func):\n",
        "    self.func = func\n",
        "    self.pr = cProfile.Profile();\n",
        "    self.s = io.StringIO()\n",
        "  \n",
        "  def __call__(self, *args, **kwargs):\n",
        "    self.pr.enable()\n",
        "    ret = self.func(*args, **kwargs)\n",
        "    self.pr.disable()\n",
        "    self.ps = pstats.Stats(self.pr, stream=self.s).sort_stats('cumulative')\n",
        "    self.ps.print_stats()\n",
        "    print(self.s.getvalue())\n",
        "    return ret\n"
      ],
      "execution_count": null,
      "outputs": []
    },
    {
      "cell_type": "markdown",
      "metadata": {
        "id": "x7p5vTsHeHkF"
      },
      "source": [
        ""
      ]
    },
    {
      "cell_type": "code",
      "metadata": {
        "colab": {
          "background_save": true
        },
        "id": "ey9xe21bdd3s",
        "outputId": "b6266b9e-e0ec-4c38-c999-5ae7fb24008a"
      },
      "source": [
        "@MyProfiler\n",
        "def profiling_test1(n): \n",
        "  iterable = (i**2 for i in range(n))\n",
        "  x =  np.fromiter(iterable, dtype=np.int32)\n",
        "\n",
        "@MyProfiler\n",
        "def profiling_test2(n): \n",
        "  y =  [x**2 for x in range(n)]\n",
        "\n",
        "profiling_test1(100000)\n",
        "profiling_test2(100000)"
      ],
      "execution_count": null,
      "outputs": [
        {
          "output_type": "stream",
          "text": [
            "         100004 function calls in 0.045 seconds\n",
            "\n",
            "   Ordered by: cumulative time\n",
            "\n",
            "   ncalls  tottime  percall  cumtime  percall filename:lineno(function)\n",
            "        1    0.000    0.000    0.045    0.045 <ipython-input-13-24ad2a6f4e9c>:1(profiling_test1)\n",
            "        1    0.013    0.013    0.045    0.045 {built-in method numpy.fromiter}\n",
            "   100001    0.032    0.000    0.032    0.000 <ipython-input-13-24ad2a6f4e9c>:3(<genexpr>)\n",
            "        1    0.000    0.000    0.000    0.000 {method 'disable' of '_lsprof.Profiler' objects}\n",
            "\n",
            "\n",
            "\n",
            "         3 function calls in 0.029 seconds\n",
            "\n",
            "   Ordered by: cumulative time\n",
            "\n",
            "   ncalls  tottime  percall  cumtime  percall filename:lineno(function)\n",
            "        1    0.000    0.000    0.029    0.029 <ipython-input-13-24ad2a6f4e9c>:6(profiling_test2)\n",
            "        1    0.029    0.029    0.029    0.029 <ipython-input-13-24ad2a6f4e9c>:8(<listcomp>)\n",
            "        1    0.000    0.000    0.000    0.000 {method 'disable' of '_lsprof.Profiler' objects}\n",
            "\n",
            "\n",
            "\n"
          ],
          "name": "stdout"
        }
      ]
    },
    {
      "cell_type": "code",
      "metadata": {
        "colab": {
          "background_save": true
        },
        "id": "JCmX56WBkTpz",
        "outputId": "2da7cabc-4a25-4368-b83b-3886fa3052fa"
      },
      "source": [
        "iterable = [x*x for x in range(5)]\n",
        "print(type(iterable))"
      ],
      "execution_count": null,
      "outputs": [
        {
          "output_type": "stream",
          "text": [
            "<class 'list'>\n"
          ],
          "name": "stdout"
        }
      ]
    },
    {
      "cell_type": "code",
      "metadata": {
        "colab": {
          "background_save": true
        },
        "id": "fvCuwkozl0x5"
      },
      "source": [
        "class chunker:\n",
        "  def __init__(self, lst, n):\n",
        "    self.lst = lst\n",
        "    self.n = n\n",
        "\n",
        "  def __iter__(self):\n",
        "    \"\"\"Yield successive n-sized chunks from lst.\"\"\"\n",
        "    for i in range(0, len(self.lst), self.n):\n",
        "      print(i)\n",
        "      yield self.lst[i : i+self.n]"
      ],
      "execution_count": null,
      "outputs": []
    },
    {
      "cell_type": "markdown",
      "metadata": {
        "id": "hxh8M5bcmCWy"
      },
      "source": [
        ""
      ]
    },
    {
      "cell_type": "code",
      "metadata": {
        "colab": {
          "background_save": true
        },
        "id": "e9l_xs67mGpn",
        "outputId": "b585bd1c-ec0f-4bc3-a7ea-d3a17aef9124"
      },
      "source": [
        "from google.colab import drive\n",
        "\n",
        "drive.mount('/content/gdrive')\n"
      ],
      "execution_count": null,
      "outputs": [
        {
          "output_type": "stream",
          "text": [
            "Drive already mounted at /content/gdrive; to attempt to forcibly remount, call drive.mount(\"/content/gdrive\", force_remount=True).\n"
          ],
          "name": "stdout"
        }
      ]
    },
    {
      "cell_type": "code",
      "metadata": {
        "colab": {
          "background_save": true
        },
        "id": "i1D8S9NsmnQg",
        "outputId": "c0a549dd-7f1d-480a-e91a-8838d113e65b"
      },
      "source": [
        "%cat gdrive/MyDrive/wine.csv"
      ],
      "execution_count": null,
      "outputs": [
        {
          "output_type": "stream",
          "text": [
            "Wine,Alcohol,Malic.acid,Ash,Acl,Mg,Phenols,Flavanoids,Nonflavanoid.phenols,Proanth,Color.int,Hue,OD,Proline\n",
            "1,14.23,1.71,2.43,15.6,127,2.8,3.06,.28,2.29,5.64,1.04,3.92,1065\n",
            "1,13.2,1.78,2.14,11.2,100,2.65,2.76,.26,1.28,4.38,1.05,3.4,1050\n",
            "1,13.16,2.36,2.67,18.6,101,2.8,3.24,.3,2.81,5.68,1.03,3.17,1185\n",
            "1,14.37,1.95,2.5,16.8,113,3.85,3.49,.24,2.18,7.8,.86,3.45,1480\n",
            "1,13.24,2.59,2.87,21,118,2.8,2.69,.39,1.82,4.32,1.04,2.93,735\n",
            "1,14.2,1.76,2.45,15.2,112,3.27,3.39,.34,1.97,6.75,1.05,2.85,1450\n",
            "1,14.39,1.87,2.45,14.6,96,2.5,2.52,.3,1.98,5.25,1.02,3.58,1290\n",
            "1,14.06,2.15,2.61,17.6,121,2.6,2.51,.31,1.25,5.05,1.06,3.58,1295\n",
            "1,14.83,1.64,2.17,14,97,2.8,2.98,.29,1.98,5.2,1.08,2.85,1045\n",
            "1,13.86,1.35,2.27,16,98,2.98,3.15,.22,1.85,7.22,1.01,3.55,1045\n",
            "1,14.1,2.16,2.3,18,105,2.95,3.32,.22,2.38,5.75,1.25,3.17,1510\n",
            "1,14.12,1.48,2.32,16.8,95,2.2,2.43,.26,1.57,5,1.17,2.82,1280\n",
            "1,13.75,1.73,2.41,16,89,2.6,2.76,.29,1.81,5.6,1.15,2.9,1320\n",
            "1,14.75,1.73,2.39,11.4,91,3.1,3.69,.43,2.81,5.4,1.25,2.73,1150\n",
            "1,14.38,1.87,2.38,12,102,3.3,3.64,.29,2.96,7.5,1.2,3,1547\n",
            "1,13.63,1.81,2.7,17.2,112,2.85,2.91,.3,1.46,7.3,1.28,2.88,1310\n",
            "1,14.3,1.92,2.72,20,120,2.8,3.14,.33,1.97,6.2,1.07,2.65,1280\n",
            "1,13.83,1.57,2.62,20,115,2.95,3.4,.4,1.72,6.6,1.13,2.57,1130\n",
            "1,14.19,1.59,2.48,16.5,108,3.3,3.93,.32,1.86,8.7,1.23,2.82,1680\n",
            "1,13.64,3.1,2.56,15.2,116,2.7,3.03,.17,1.66,5.1,.96,3.36,845\n",
            "1,14.06,1.63,2.28,16,126,3,3.17,.24,2.1,5.65,1.09,3.71,780\n",
            "1,12.93,3.8,2.65,18.6,102,2.41,2.41,.25,1.98,4.5,1.03,3.52,770\n",
            "1,13.71,1.86,2.36,16.6,101,2.61,2.88,.27,1.69,3.8,1.11,4,1035\n",
            "1,12.85,1.6,2.52,17.8,95,2.48,2.37,.26,1.46,3.93,1.09,3.63,1015\n",
            "1,13.5,1.81,2.61,20,96,2.53,2.61,.28,1.66,3.52,1.12,3.82,845\n",
            "1,13.05,2.05,3.22,25,124,2.63,2.68,.47,1.92,3.58,1.13,3.2,830\n",
            "1,13.39,1.77,2.62,16.1,93,2.85,2.94,.34,1.45,4.8,.92,3.22,1195\n",
            "1,13.3,1.72,2.14,17,94,2.4,2.19,.27,1.35,3.95,1.02,2.77,1285\n",
            "1,13.87,1.9,2.8,19.4,107,2.95,2.97,.37,1.76,4.5,1.25,3.4,915\n",
            "1,14.02,1.68,2.21,16,96,2.65,2.33,.26,1.98,4.7,1.04,3.59,1035\n",
            "1,13.73,1.5,2.7,22.5,101,3,3.25,.29,2.38,5.7,1.19,2.71,1285\n",
            "1,13.58,1.66,2.36,19.1,106,2.86,3.19,.22,1.95,6.9,1.09,2.88,1515\n",
            "1,13.68,1.83,2.36,17.2,104,2.42,2.69,.42,1.97,3.84,1.23,2.87,990\n",
            "1,13.76,1.53,2.7,19.5,132,2.95,2.74,.5,1.35,5.4,1.25,3,1235\n",
            "1,13.51,1.8,2.65,19,110,2.35,2.53,.29,1.54,4.2,1.1,2.87,1095\n",
            "1,13.48,1.81,2.41,20.5,100,2.7,2.98,.26,1.86,5.1,1.04,3.47,920\n",
            "1,13.28,1.64,2.84,15.5,110,2.6,2.68,.34,1.36,4.6,1.09,2.78,880\n",
            "1,13.05,1.65,2.55,18,98,2.45,2.43,.29,1.44,4.25,1.12,2.51,1105\n",
            "1,13.07,1.5,2.1,15.5,98,2.4,2.64,.28,1.37,3.7,1.18,2.69,1020\n",
            "1,14.22,3.99,2.51,13.2,128,3,3.04,.2,2.08,5.1,.89,3.53,760\n",
            "1,13.56,1.71,2.31,16.2,117,3.15,3.29,.34,2.34,6.13,.95,3.38,795\n",
            "1,13.41,3.84,2.12,18.8,90,2.45,2.68,.27,1.48,4.28,.91,3,1035\n",
            "1,13.88,1.89,2.59,15,101,3.25,3.56,.17,1.7,5.43,.88,3.56,1095\n",
            "1,13.24,3.98,2.29,17.5,103,2.64,2.63,.32,1.66,4.36,.82,3,680\n",
            "1,13.05,1.77,2.1,17,107,3,3,.28,2.03,5.04,.88,3.35,885\n",
            "1,14.21,4.04,2.44,18.9,111,2.85,2.65,.3,1.25,5.24,.87,3.33,1080\n",
            "1,14.38,3.59,2.28,16,102,3.25,3.17,.27,2.19,4.9,1.04,3.44,1065\n",
            "1,13.9,1.68,2.12,16,101,3.1,3.39,.21,2.14,6.1,.91,3.33,985\n",
            "1,14.1,2.02,2.4,18.8,103,2.75,2.92,.32,2.38,6.2,1.07,2.75,1060\n",
            "1,13.94,1.73,2.27,17.4,108,2.88,3.54,.32,2.08,8.90,1.12,3.1,1260\n",
            "1,13.05,1.73,2.04,12.4,92,2.72,3.27,.17,2.91,7.2,1.12,2.91,1150\n",
            "1,13.83,1.65,2.6,17.2,94,2.45,2.99,.22,2.29,5.6,1.24,3.37,1265\n",
            "1,13.82,1.75,2.42,14,111,3.88,3.74,.32,1.87,7.05,1.01,3.26,1190\n",
            "1,13.77,1.9,2.68,17.1,115,3,2.79,.39,1.68,6.3,1.13,2.93,1375\n",
            "1,13.74,1.67,2.25,16.4,118,2.6,2.9,.21,1.62,5.85,.92,3.2,1060\n",
            "1,13.56,1.73,2.46,20.5,116,2.96,2.78,.2,2.45,6.25,.98,3.03,1120\n",
            "1,14.22,1.7,2.3,16.3,118,3.2,3,.26,2.03,6.38,.94,3.31,970\n",
            "1,13.29,1.97,2.68,16.8,102,3,3.23,.31,1.66,6,1.07,2.84,1270\n",
            "1,13.72,1.43,2.5,16.7,108,3.4,3.67,.19,2.04,6.8,.89,2.87,1285\n",
            "2,12.37,.94,1.36,10.6,88,1.98,.57,.28,.42,1.95,1.05,1.82,520\n",
            "2,12.33,1.1,2.28,16,101,2.05,1.09,.63,.41,3.27,1.25,1.67,680\n",
            "2,12.64,1.36,2.02,16.8,100,2.02,1.41,.53,.62,5.75,.98,1.59,450\n",
            "2,13.67,1.25,1.92,18,94,2.1,1.79,.32,.73,3.8,1.23,2.46,630\n",
            "2,12.37,1.13,2.16,19,87,3.5,3.1,.19,1.87,4.45,1.22,2.87,420\n",
            "2,12.17,1.45,2.53,19,104,1.89,1.75,.45,1.03,2.95,1.45,2.23,355\n",
            "2,12.37,1.21,2.56,18.1,98,2.42,2.65,.37,2.08,4.6,1.19,2.3,678\n",
            "2,13.11,1.01,1.7,15,78,2.98,3.18,.26,2.28,5.3,1.12,3.18,502\n",
            "2,12.37,1.17,1.92,19.6,78,2.11,2,.27,1.04,4.68,1.12,3.48,510\n",
            "2,13.34,.94,2.36,17,110,2.53,1.3,.55,.42,3.17,1.02,1.93,750\n",
            "2,12.21,1.19,1.75,16.8,151,1.85,1.28,.14,2.5,2.85,1.28,3.07,718\n",
            "2,12.29,1.61,2.21,20.4,103,1.1,1.02,.37,1.46,3.05,.906,1.82,870\n",
            "2,13.86,1.51,2.67,25,86,2.95,2.86,.21,1.87,3.38,1.36,3.16,410\n",
            "2,13.49,1.66,2.24,24,87,1.88,1.84,.27,1.03,3.74,.98,2.78,472\n",
            "2,12.99,1.67,2.6,30,139,3.3,2.89,.21,1.96,3.35,1.31,3.5,985\n",
            "2,11.96,1.09,2.3,21,101,3.38,2.14,.13,1.65,3.21,.99,3.13,886\n",
            "2,11.66,1.88,1.92,16,97,1.61,1.57,.34,1.15,3.8,1.23,2.14,428\n",
            "2,13.03,.9,1.71,16,86,1.95,2.03,.24,1.46,4.6,1.19,2.48,392\n",
            "2,11.84,2.89,2.23,18,112,1.72,1.32,.43,.95,2.65,.96,2.52,500\n",
            "2,12.33,.99,1.95,14.8,136,1.9,1.85,.35,2.76,3.4,1.06,2.31,750\n",
            "2,12.7,3.87,2.4,23,101,2.83,2.55,.43,1.95,2.57,1.19,3.13,463\n",
            "2,12,.92,2,19,86,2.42,2.26,.3,1.43,2.5,1.38,3.12,278\n",
            "2,12.72,1.81,2.2,18.8,86,2.2,2.53,.26,1.77,3.9,1.16,3.14,714\n",
            "2,12.08,1.13,2.51,24,78,2,1.58,.4,1.4,2.2,1.31,2.72,630\n",
            "2,13.05,3.86,2.32,22.5,85,1.65,1.59,.61,1.62,4.8,.84,2.01,515\n",
            "2,11.84,.89,2.58,18,94,2.2,2.21,.22,2.35,3.05,.79,3.08,520\n",
            "2,12.67,.98,2.24,18,99,2.2,1.94,.3,1.46,2.62,1.23,3.16,450\n",
            "2,12.16,1.61,2.31,22.8,90,1.78,1.69,.43,1.56,2.45,1.33,2.26,495\n",
            "2,11.65,1.67,2.62,26,88,1.92,1.61,.4,1.34,2.6,1.36,3.21,562\n",
            "2,11.64,2.06,2.46,21.6,84,1.95,1.69,.48,1.35,2.8,1,2.75,680\n",
            "2,12.08,1.33,2.3,23.6,70,2.2,1.59,.42,1.38,1.74,1.07,3.21,625\n",
            "2,12.08,1.83,2.32,18.5,81,1.6,1.5,.52,1.64,2.4,1.08,2.27,480\n",
            "2,12,1.51,2.42,22,86,1.45,1.25,.5,1.63,3.6,1.05,2.65,450\n",
            "2,12.69,1.53,2.26,20.7,80,1.38,1.46,.58,1.62,3.05,.96,2.06,495\n",
            "2,12.29,2.83,2.22,18,88,2.45,2.25,.25,1.99,2.15,1.15,3.3,290\n",
            "2,11.62,1.99,2.28,18,98,3.02,2.26,.17,1.35,3.25,1.16,2.96,345\n",
            "2,12.47,1.52,2.2,19,162,2.5,2.27,.32,3.28,2.6,1.16,2.63,937\n",
            "2,11.81,2.12,2.74,21.5,134,1.6,.99,.14,1.56,2.5,.95,2.26,625\n",
            "2,12.29,1.41,1.98,16,85,2.55,2.5,.29,1.77,2.9,1.23,2.74,428\n",
            "2,12.37,1.07,2.1,18.5,88,3.52,3.75,.24,1.95,4.5,1.04,2.77,660\n",
            "2,12.29,3.17,2.21,18,88,2.85,2.99,.45,2.81,2.3,1.42,2.83,406\n",
            "2,12.08,2.08,1.7,17.5,97,2.23,2.17,.26,1.4,3.3,1.27,2.96,710\n",
            "2,12.6,1.34,1.9,18.5,88,1.45,1.36,.29,1.35,2.45,1.04,2.77,562\n",
            "2,12.34,2.45,2.46,21,98,2.56,2.11,.34,1.31,2.8,.8,3.38,438\n",
            "2,11.82,1.72,1.88,19.5,86,2.5,1.64,.37,1.42,2.06,.94,2.44,415\n",
            "2,12.51,1.73,1.98,20.5,85,2.2,1.92,.32,1.48,2.94,1.04,3.57,672\n",
            "2,12.42,2.55,2.27,22,90,1.68,1.84,.66,1.42,2.7,.86,3.3,315\n",
            "2,12.25,1.73,2.12,19,80,1.65,2.03,.37,1.63,3.4,1,3.17,510\n",
            "2,12.72,1.75,2.28,22.5,84,1.38,1.76,.48,1.63,3.3,.88,2.42,488\n",
            "2,12.22,1.29,1.94,19,92,2.36,2.04,.39,2.08,2.7,.86,3.02,312\n",
            "2,11.61,1.35,2.7,20,94,2.74,2.92,.29,2.49,2.65,.96,3.26,680\n",
            "2,11.46,3.74,1.82,19.5,107,3.18,2.58,.24,3.58,2.9,.75,2.81,562\n",
            "2,12.52,2.43,2.17,21,88,2.55,2.27,.26,1.22,2,.9,2.78,325\n",
            "2,11.76,2.68,2.92,20,103,1.75,2.03,.6,1.05,3.8,1.23,2.5,607\n",
            "2,11.41,.74,2.5,21,88,2.48,2.01,.42,1.44,3.08,1.1,2.31,434\n",
            "2,12.08,1.39,2.5,22.5,84,2.56,2.29,.43,1.04,2.9,.93,3.19,385\n",
            "2,11.03,1.51,2.2,21.5,85,2.46,2.17,.52,2.01,1.9,1.71,2.87,407\n",
            "2,11.82,1.47,1.99,20.8,86,1.98,1.6,.3,1.53,1.95,.95,3.33,495\n",
            "2,12.42,1.61,2.19,22.5,108,2,2.09,.34,1.61,2.06,1.06,2.96,345\n",
            "2,12.77,3.43,1.98,16,80,1.63,1.25,.43,.83,3.4,.7,2.12,372\n",
            "2,12,3.43,2,19,87,2,1.64,.37,1.87,1.28,.93,3.05,564\n",
            "2,11.45,2.4,2.42,20,96,2.9,2.79,.32,1.83,3.25,.8,3.39,625\n",
            "2,11.56,2.05,3.23,28.5,119,3.18,5.08,.47,1.87,6,.93,3.69,465\n",
            "2,12.42,4.43,2.73,26.5,102,2.2,2.13,.43,1.71,2.08,.92,3.12,365\n",
            "2,13.05,5.8,2.13,21.5,86,2.62,2.65,.3,2.01,2.6,.73,3.1,380\n",
            "2,11.87,4.31,2.39,21,82,2.86,3.03,.21,2.91,2.8,.75,3.64,380\n",
            "2,12.07,2.16,2.17,21,85,2.6,2.65,.37,1.35,2.76,.86,3.28,378\n",
            "2,12.43,1.53,2.29,21.5,86,2.74,3.15,.39,1.77,3.94,.69,2.84,352\n",
            "2,11.79,2.13,2.78,28.5,92,2.13,2.24,.58,1.76,3,.97,2.44,466\n",
            "2,12.37,1.63,2.3,24.5,88,2.22,2.45,.4,1.9,2.12,.89,2.78,342\n",
            "2,12.04,4.3,2.38,22,80,2.1,1.75,.42,1.35,2.6,.79,2.57,580\n",
            "3,12.86,1.35,2.32,18,122,1.51,1.25,.21,.94,4.1,.76,1.29,630\n",
            "3,12.88,2.99,2.4,20,104,1.3,1.22,.24,.83,5.4,.74,1.42,530\n",
            "3,12.81,2.31,2.4,24,98,1.15,1.09,.27,.83,5.7,.66,1.36,560\n",
            "3,12.7,3.55,2.36,21.5,106,1.7,1.2,.17,.84,5,.78,1.29,600\n",
            "3,12.51,1.24,2.25,17.5,85,2,.58,.6,1.25,5.45,.75,1.51,650\n",
            "3,12.6,2.46,2.2,18.5,94,1.62,.66,.63,.94,7.1,.73,1.58,695\n",
            "3,12.25,4.72,2.54,21,89,1.38,.47,.53,.8,3.85,.75,1.27,720\n",
            "3,12.53,5.51,2.64,25,96,1.79,.6,.63,1.1,5,.82,1.69,515\n",
            "3,13.49,3.59,2.19,19.5,88,1.62,.48,.58,.88,5.7,.81,1.82,580\n",
            "3,12.84,2.96,2.61,24,101,2.32,.6,.53,.81,4.92,.89,2.15,590\n",
            "3,12.93,2.81,2.7,21,96,1.54,.5,.53,.75,4.6,.77,2.31,600\n",
            "3,13.36,2.56,2.35,20,89,1.4,.5,.37,.64,5.6,.7,2.47,780\n",
            "3,13.52,3.17,2.72,23.5,97,1.55,.52,.5,.55,4.35,.89,2.06,520\n",
            "3,13.62,4.95,2.35,20,92,2,.8,.47,1.02,4.4,.91,2.05,550\n",
            "3,12.25,3.88,2.2,18.5,112,1.38,.78,.29,1.14,8.21,.65,2,855\n",
            "3,13.16,3.57,2.15,21,102,1.5,.55,.43,1.3,4,.6,1.68,830\n",
            "3,13.88,5.04,2.23,20,80,.98,.34,.4,.68,4.9,.58,1.33,415\n",
            "3,12.87,4.61,2.48,21.5,86,1.7,.65,.47,.86,7.65,.54,1.86,625\n",
            "3,13.32,3.24,2.38,21.5,92,1.93,.76,.45,1.25,8.42,.55,1.62,650\n",
            "3,13.08,3.9,2.36,21.5,113,1.41,1.39,.34,1.14,9.40,.57,1.33,550\n",
            "3,13.5,3.12,2.62,24,123,1.4,1.57,.22,1.25,8.60,.59,1.3,500\n",
            "3,12.79,2.67,2.48,22,112,1.48,1.36,.24,1.26,10.8,.48,1.47,480\n",
            "3,13.11,1.9,2.75,25.5,116,2.2,1.28,.26,1.56,7.1,.61,1.33,425\n",
            "3,13.23,3.3,2.28,18.5,98,1.8,.83,.61,1.87,10.52,.56,1.51,675\n",
            "3,12.58,1.29,2.1,20,103,1.48,.58,.53,1.4,7.6,.58,1.55,640\n",
            "3,13.17,5.19,2.32,22,93,1.74,.63,.61,1.55,7.9,.6,1.48,725\n",
            "3,13.84,4.12,2.38,19.5,89,1.8,.83,.48,1.56,9.01,.57,1.64,480\n",
            "3,12.45,3.03,2.64,27,97,1.9,.58,.63,1.14,7.5,.67,1.73,880\n",
            "3,14.34,1.68,2.7,25,98,2.8,1.31,.53,2.7,13,.57,1.96,660\n",
            "3,13.48,1.67,2.64,22.5,89,2.6,1.1,.52,2.29,11.75,.57,1.78,620\n",
            "3,12.36,3.83,2.38,21,88,2.3,.92,.5,1.04,7.65,.56,1.58,520\n",
            "3,13.69,3.26,2.54,20,107,1.83,.56,.5,.8,5.88,.96,1.82,680\n",
            "3,12.85,3.27,2.58,22,106,1.65,.6,.6,.96,5.58,.87,2.11,570\n",
            "3,12.96,3.45,2.35,18.5,106,1.39,.7,.4,.94,5.28,.68,1.75,675\n",
            "3,13.78,2.76,2.3,22,90,1.35,.68,.41,1.03,9.58,.7,1.68,615\n",
            "3,13.73,4.36,2.26,22.5,88,1.28,.47,.52,1.15,6.62,.78,1.75,520\n",
            "3,13.45,3.7,2.6,23,111,1.7,.92,.43,1.46,10.68,.85,1.56,695\n",
            "3,12.82,3.37,2.3,19.5,88,1.48,.66,.4,.97,10.26,.72,1.75,685\n",
            "3,13.58,2.58,2.69,24.5,105,1.55,.84,.39,1.54,8.66,.74,1.8,750\n",
            "3,13.4,4.6,2.86,25,112,1.98,.96,.27,1.11,8.5,.67,1.92,630\n",
            "3,12.2,3.03,2.32,19,96,1.25,.49,.4,.73,5.5,.66,1.83,510\n",
            "3,12.77,2.39,2.28,19.5,86,1.39,.51,.48,.64,9.899999,.57,1.63,470\n",
            "3,14.16,2.51,2.48,20,91,1.68,.7,.44,1.24,9.7,.62,1.71,660\n",
            "3,13.71,5.65,2.45,20.5,95,1.68,.61,.52,1.06,7.7,.64,1.74,740\n",
            "3,13.4,3.91,2.48,23,102,1.8,.75,.43,1.41,7.3,.7,1.56,750\n",
            "3,13.27,4.28,2.26,20,120,1.59,.69,.43,1.35,10.2,.59,1.56,835\n",
            "3,13.17,2.59,2.37,20,120,1.65,.68,.53,1.46,9.3,.6,1.62,840\n",
            "3,14.13,4.1,2.74,24.5,96,2.05,.76,.56,1.35,9.2,.61,1.6,560"
          ],
          "name": "stdout"
        }
      ]
    },
    {
      "cell_type": "code",
      "metadata": {
        "colab": {
          "background_save": true
        },
        "id": "GrW4V5hTwDvH",
        "outputId": "5e13918a-3b13-46ca-af58-b5abd3f13f11"
      },
      "source": [
        "import numpy as np\n",
        "\n",
        "l = iter(np.array([1,2,3]))\n",
        "l1 = iter([4, 5, 6])\n",
        "print(next(l))\n",
        "print(next(l))\n",
        "print(next(l1))\n",
        "print(next(l1))"
      ],
      "execution_count": null,
      "outputs": [
        {
          "output_type": "stream",
          "text": [
            "1\n",
            "2\n",
            "4\n",
            "5\n"
          ],
          "name": "stdout"
        }
      ]
    },
    {
      "cell_type": "code",
      "metadata": {
        "colab": {
          "background_save": true
        },
        "id": "50QiZVy7mp59",
        "outputId": "3779099c-6676-4cb5-88bb-d8ce7e9edc96"
      },
      "source": [
        "lines = []\n",
        "with open('gdrive/MyDrive/wine.csv') as f:\n",
        "  lines = f.read().splitlines()\n",
        "\n",
        "\n",
        "lines"
      ],
      "execution_count": null,
      "outputs": [
        {
          "output_type": "execute_result",
          "data": {
            "text/plain": [
              "['Wine,Alcohol,Malic.acid,Ash,Acl,Mg,Phenols,Flavanoids,Nonflavanoid.phenols,Proanth,Color.int,Hue,OD,Proline',\n",
              " '1,14.23,1.71,2.43,15.6,127,2.8,3.06,.28,2.29,5.64,1.04,3.92,1065',\n",
              " '1,13.2,1.78,2.14,11.2,100,2.65,2.76,.26,1.28,4.38,1.05,3.4,1050',\n",
              " '1,13.16,2.36,2.67,18.6,101,2.8,3.24,.3,2.81,5.68,1.03,3.17,1185',\n",
              " '1,14.37,1.95,2.5,16.8,113,3.85,3.49,.24,2.18,7.8,.86,3.45,1480',\n",
              " '1,13.24,2.59,2.87,21,118,2.8,2.69,.39,1.82,4.32,1.04,2.93,735',\n",
              " '1,14.2,1.76,2.45,15.2,112,3.27,3.39,.34,1.97,6.75,1.05,2.85,1450',\n",
              " '1,14.39,1.87,2.45,14.6,96,2.5,2.52,.3,1.98,5.25,1.02,3.58,1290',\n",
              " '1,14.06,2.15,2.61,17.6,121,2.6,2.51,.31,1.25,5.05,1.06,3.58,1295',\n",
              " '1,14.83,1.64,2.17,14,97,2.8,2.98,.29,1.98,5.2,1.08,2.85,1045',\n",
              " '1,13.86,1.35,2.27,16,98,2.98,3.15,.22,1.85,7.22,1.01,3.55,1045',\n",
              " '1,14.1,2.16,2.3,18,105,2.95,3.32,.22,2.38,5.75,1.25,3.17,1510',\n",
              " '1,14.12,1.48,2.32,16.8,95,2.2,2.43,.26,1.57,5,1.17,2.82,1280',\n",
              " '1,13.75,1.73,2.41,16,89,2.6,2.76,.29,1.81,5.6,1.15,2.9,1320',\n",
              " '1,14.75,1.73,2.39,11.4,91,3.1,3.69,.43,2.81,5.4,1.25,2.73,1150',\n",
              " '1,14.38,1.87,2.38,12,102,3.3,3.64,.29,2.96,7.5,1.2,3,1547',\n",
              " '1,13.63,1.81,2.7,17.2,112,2.85,2.91,.3,1.46,7.3,1.28,2.88,1310',\n",
              " '1,14.3,1.92,2.72,20,120,2.8,3.14,.33,1.97,6.2,1.07,2.65,1280',\n",
              " '1,13.83,1.57,2.62,20,115,2.95,3.4,.4,1.72,6.6,1.13,2.57,1130',\n",
              " '1,14.19,1.59,2.48,16.5,108,3.3,3.93,.32,1.86,8.7,1.23,2.82,1680',\n",
              " '1,13.64,3.1,2.56,15.2,116,2.7,3.03,.17,1.66,5.1,.96,3.36,845',\n",
              " '1,14.06,1.63,2.28,16,126,3,3.17,.24,2.1,5.65,1.09,3.71,780',\n",
              " '1,12.93,3.8,2.65,18.6,102,2.41,2.41,.25,1.98,4.5,1.03,3.52,770',\n",
              " '1,13.71,1.86,2.36,16.6,101,2.61,2.88,.27,1.69,3.8,1.11,4,1035',\n",
              " '1,12.85,1.6,2.52,17.8,95,2.48,2.37,.26,1.46,3.93,1.09,3.63,1015',\n",
              " '1,13.5,1.81,2.61,20,96,2.53,2.61,.28,1.66,3.52,1.12,3.82,845',\n",
              " '1,13.05,2.05,3.22,25,124,2.63,2.68,.47,1.92,3.58,1.13,3.2,830',\n",
              " '1,13.39,1.77,2.62,16.1,93,2.85,2.94,.34,1.45,4.8,.92,3.22,1195',\n",
              " '1,13.3,1.72,2.14,17,94,2.4,2.19,.27,1.35,3.95,1.02,2.77,1285',\n",
              " '1,13.87,1.9,2.8,19.4,107,2.95,2.97,.37,1.76,4.5,1.25,3.4,915',\n",
              " '1,14.02,1.68,2.21,16,96,2.65,2.33,.26,1.98,4.7,1.04,3.59,1035',\n",
              " '1,13.73,1.5,2.7,22.5,101,3,3.25,.29,2.38,5.7,1.19,2.71,1285',\n",
              " '1,13.58,1.66,2.36,19.1,106,2.86,3.19,.22,1.95,6.9,1.09,2.88,1515',\n",
              " '1,13.68,1.83,2.36,17.2,104,2.42,2.69,.42,1.97,3.84,1.23,2.87,990',\n",
              " '1,13.76,1.53,2.7,19.5,132,2.95,2.74,.5,1.35,5.4,1.25,3,1235',\n",
              " '1,13.51,1.8,2.65,19,110,2.35,2.53,.29,1.54,4.2,1.1,2.87,1095',\n",
              " '1,13.48,1.81,2.41,20.5,100,2.7,2.98,.26,1.86,5.1,1.04,3.47,920',\n",
              " '1,13.28,1.64,2.84,15.5,110,2.6,2.68,.34,1.36,4.6,1.09,2.78,880',\n",
              " '1,13.05,1.65,2.55,18,98,2.45,2.43,.29,1.44,4.25,1.12,2.51,1105',\n",
              " '1,13.07,1.5,2.1,15.5,98,2.4,2.64,.28,1.37,3.7,1.18,2.69,1020',\n",
              " '1,14.22,3.99,2.51,13.2,128,3,3.04,.2,2.08,5.1,.89,3.53,760',\n",
              " '1,13.56,1.71,2.31,16.2,117,3.15,3.29,.34,2.34,6.13,.95,3.38,795',\n",
              " '1,13.41,3.84,2.12,18.8,90,2.45,2.68,.27,1.48,4.28,.91,3,1035',\n",
              " '1,13.88,1.89,2.59,15,101,3.25,3.56,.17,1.7,5.43,.88,3.56,1095',\n",
              " '1,13.24,3.98,2.29,17.5,103,2.64,2.63,.32,1.66,4.36,.82,3,680',\n",
              " '1,13.05,1.77,2.1,17,107,3,3,.28,2.03,5.04,.88,3.35,885',\n",
              " '1,14.21,4.04,2.44,18.9,111,2.85,2.65,.3,1.25,5.24,.87,3.33,1080',\n",
              " '1,14.38,3.59,2.28,16,102,3.25,3.17,.27,2.19,4.9,1.04,3.44,1065',\n",
              " '1,13.9,1.68,2.12,16,101,3.1,3.39,.21,2.14,6.1,.91,3.33,985',\n",
              " '1,14.1,2.02,2.4,18.8,103,2.75,2.92,.32,2.38,6.2,1.07,2.75,1060',\n",
              " '1,13.94,1.73,2.27,17.4,108,2.88,3.54,.32,2.08,8.90,1.12,3.1,1260',\n",
              " '1,13.05,1.73,2.04,12.4,92,2.72,3.27,.17,2.91,7.2,1.12,2.91,1150',\n",
              " '1,13.83,1.65,2.6,17.2,94,2.45,2.99,.22,2.29,5.6,1.24,3.37,1265',\n",
              " '1,13.82,1.75,2.42,14,111,3.88,3.74,.32,1.87,7.05,1.01,3.26,1190',\n",
              " '1,13.77,1.9,2.68,17.1,115,3,2.79,.39,1.68,6.3,1.13,2.93,1375',\n",
              " '1,13.74,1.67,2.25,16.4,118,2.6,2.9,.21,1.62,5.85,.92,3.2,1060',\n",
              " '1,13.56,1.73,2.46,20.5,116,2.96,2.78,.2,2.45,6.25,.98,3.03,1120',\n",
              " '1,14.22,1.7,2.3,16.3,118,3.2,3,.26,2.03,6.38,.94,3.31,970',\n",
              " '1,13.29,1.97,2.68,16.8,102,3,3.23,.31,1.66,6,1.07,2.84,1270',\n",
              " '1,13.72,1.43,2.5,16.7,108,3.4,3.67,.19,2.04,6.8,.89,2.87,1285',\n",
              " '2,12.37,.94,1.36,10.6,88,1.98,.57,.28,.42,1.95,1.05,1.82,520',\n",
              " '2,12.33,1.1,2.28,16,101,2.05,1.09,.63,.41,3.27,1.25,1.67,680',\n",
              " '2,12.64,1.36,2.02,16.8,100,2.02,1.41,.53,.62,5.75,.98,1.59,450',\n",
              " '2,13.67,1.25,1.92,18,94,2.1,1.79,.32,.73,3.8,1.23,2.46,630',\n",
              " '2,12.37,1.13,2.16,19,87,3.5,3.1,.19,1.87,4.45,1.22,2.87,420',\n",
              " '2,12.17,1.45,2.53,19,104,1.89,1.75,.45,1.03,2.95,1.45,2.23,355',\n",
              " '2,12.37,1.21,2.56,18.1,98,2.42,2.65,.37,2.08,4.6,1.19,2.3,678',\n",
              " '2,13.11,1.01,1.7,15,78,2.98,3.18,.26,2.28,5.3,1.12,3.18,502',\n",
              " '2,12.37,1.17,1.92,19.6,78,2.11,2,.27,1.04,4.68,1.12,3.48,510',\n",
              " '2,13.34,.94,2.36,17,110,2.53,1.3,.55,.42,3.17,1.02,1.93,750',\n",
              " '2,12.21,1.19,1.75,16.8,151,1.85,1.28,.14,2.5,2.85,1.28,3.07,718',\n",
              " '2,12.29,1.61,2.21,20.4,103,1.1,1.02,.37,1.46,3.05,.906,1.82,870',\n",
              " '2,13.86,1.51,2.67,25,86,2.95,2.86,.21,1.87,3.38,1.36,3.16,410',\n",
              " '2,13.49,1.66,2.24,24,87,1.88,1.84,.27,1.03,3.74,.98,2.78,472',\n",
              " '2,12.99,1.67,2.6,30,139,3.3,2.89,.21,1.96,3.35,1.31,3.5,985',\n",
              " '2,11.96,1.09,2.3,21,101,3.38,2.14,.13,1.65,3.21,.99,3.13,886',\n",
              " '2,11.66,1.88,1.92,16,97,1.61,1.57,.34,1.15,3.8,1.23,2.14,428',\n",
              " '2,13.03,.9,1.71,16,86,1.95,2.03,.24,1.46,4.6,1.19,2.48,392',\n",
              " '2,11.84,2.89,2.23,18,112,1.72,1.32,.43,.95,2.65,.96,2.52,500',\n",
              " '2,12.33,.99,1.95,14.8,136,1.9,1.85,.35,2.76,3.4,1.06,2.31,750',\n",
              " '2,12.7,3.87,2.4,23,101,2.83,2.55,.43,1.95,2.57,1.19,3.13,463',\n",
              " '2,12,.92,2,19,86,2.42,2.26,.3,1.43,2.5,1.38,3.12,278',\n",
              " '2,12.72,1.81,2.2,18.8,86,2.2,2.53,.26,1.77,3.9,1.16,3.14,714',\n",
              " '2,12.08,1.13,2.51,24,78,2,1.58,.4,1.4,2.2,1.31,2.72,630',\n",
              " '2,13.05,3.86,2.32,22.5,85,1.65,1.59,.61,1.62,4.8,.84,2.01,515',\n",
              " '2,11.84,.89,2.58,18,94,2.2,2.21,.22,2.35,3.05,.79,3.08,520',\n",
              " '2,12.67,.98,2.24,18,99,2.2,1.94,.3,1.46,2.62,1.23,3.16,450',\n",
              " '2,12.16,1.61,2.31,22.8,90,1.78,1.69,.43,1.56,2.45,1.33,2.26,495',\n",
              " '2,11.65,1.67,2.62,26,88,1.92,1.61,.4,1.34,2.6,1.36,3.21,562',\n",
              " '2,11.64,2.06,2.46,21.6,84,1.95,1.69,.48,1.35,2.8,1,2.75,680',\n",
              " '2,12.08,1.33,2.3,23.6,70,2.2,1.59,.42,1.38,1.74,1.07,3.21,625',\n",
              " '2,12.08,1.83,2.32,18.5,81,1.6,1.5,.52,1.64,2.4,1.08,2.27,480',\n",
              " '2,12,1.51,2.42,22,86,1.45,1.25,.5,1.63,3.6,1.05,2.65,450',\n",
              " '2,12.69,1.53,2.26,20.7,80,1.38,1.46,.58,1.62,3.05,.96,2.06,495',\n",
              " '2,12.29,2.83,2.22,18,88,2.45,2.25,.25,1.99,2.15,1.15,3.3,290',\n",
              " '2,11.62,1.99,2.28,18,98,3.02,2.26,.17,1.35,3.25,1.16,2.96,345',\n",
              " '2,12.47,1.52,2.2,19,162,2.5,2.27,.32,3.28,2.6,1.16,2.63,937',\n",
              " '2,11.81,2.12,2.74,21.5,134,1.6,.99,.14,1.56,2.5,.95,2.26,625',\n",
              " '2,12.29,1.41,1.98,16,85,2.55,2.5,.29,1.77,2.9,1.23,2.74,428',\n",
              " '2,12.37,1.07,2.1,18.5,88,3.52,3.75,.24,1.95,4.5,1.04,2.77,660',\n",
              " '2,12.29,3.17,2.21,18,88,2.85,2.99,.45,2.81,2.3,1.42,2.83,406',\n",
              " '2,12.08,2.08,1.7,17.5,97,2.23,2.17,.26,1.4,3.3,1.27,2.96,710',\n",
              " '2,12.6,1.34,1.9,18.5,88,1.45,1.36,.29,1.35,2.45,1.04,2.77,562',\n",
              " '2,12.34,2.45,2.46,21,98,2.56,2.11,.34,1.31,2.8,.8,3.38,438',\n",
              " '2,11.82,1.72,1.88,19.5,86,2.5,1.64,.37,1.42,2.06,.94,2.44,415',\n",
              " '2,12.51,1.73,1.98,20.5,85,2.2,1.92,.32,1.48,2.94,1.04,3.57,672',\n",
              " '2,12.42,2.55,2.27,22,90,1.68,1.84,.66,1.42,2.7,.86,3.3,315',\n",
              " '2,12.25,1.73,2.12,19,80,1.65,2.03,.37,1.63,3.4,1,3.17,510',\n",
              " '2,12.72,1.75,2.28,22.5,84,1.38,1.76,.48,1.63,3.3,.88,2.42,488',\n",
              " '2,12.22,1.29,1.94,19,92,2.36,2.04,.39,2.08,2.7,.86,3.02,312',\n",
              " '2,11.61,1.35,2.7,20,94,2.74,2.92,.29,2.49,2.65,.96,3.26,680',\n",
              " '2,11.46,3.74,1.82,19.5,107,3.18,2.58,.24,3.58,2.9,.75,2.81,562',\n",
              " '2,12.52,2.43,2.17,21,88,2.55,2.27,.26,1.22,2,.9,2.78,325',\n",
              " '2,11.76,2.68,2.92,20,103,1.75,2.03,.6,1.05,3.8,1.23,2.5,607',\n",
              " '2,11.41,.74,2.5,21,88,2.48,2.01,.42,1.44,3.08,1.1,2.31,434',\n",
              " '2,12.08,1.39,2.5,22.5,84,2.56,2.29,.43,1.04,2.9,.93,3.19,385',\n",
              " '2,11.03,1.51,2.2,21.5,85,2.46,2.17,.52,2.01,1.9,1.71,2.87,407',\n",
              " '2,11.82,1.47,1.99,20.8,86,1.98,1.6,.3,1.53,1.95,.95,3.33,495',\n",
              " '2,12.42,1.61,2.19,22.5,108,2,2.09,.34,1.61,2.06,1.06,2.96,345',\n",
              " '2,12.77,3.43,1.98,16,80,1.63,1.25,.43,.83,3.4,.7,2.12,372',\n",
              " '2,12,3.43,2,19,87,2,1.64,.37,1.87,1.28,.93,3.05,564',\n",
              " '2,11.45,2.4,2.42,20,96,2.9,2.79,.32,1.83,3.25,.8,3.39,625',\n",
              " '2,11.56,2.05,3.23,28.5,119,3.18,5.08,.47,1.87,6,.93,3.69,465',\n",
              " '2,12.42,4.43,2.73,26.5,102,2.2,2.13,.43,1.71,2.08,.92,3.12,365',\n",
              " '2,13.05,5.8,2.13,21.5,86,2.62,2.65,.3,2.01,2.6,.73,3.1,380',\n",
              " '2,11.87,4.31,2.39,21,82,2.86,3.03,.21,2.91,2.8,.75,3.64,380',\n",
              " '2,12.07,2.16,2.17,21,85,2.6,2.65,.37,1.35,2.76,.86,3.28,378',\n",
              " '2,12.43,1.53,2.29,21.5,86,2.74,3.15,.39,1.77,3.94,.69,2.84,352',\n",
              " '2,11.79,2.13,2.78,28.5,92,2.13,2.24,.58,1.76,3,.97,2.44,466',\n",
              " '2,12.37,1.63,2.3,24.5,88,2.22,2.45,.4,1.9,2.12,.89,2.78,342',\n",
              " '2,12.04,4.3,2.38,22,80,2.1,1.75,.42,1.35,2.6,.79,2.57,580',\n",
              " '3,12.86,1.35,2.32,18,122,1.51,1.25,.21,.94,4.1,.76,1.29,630',\n",
              " '3,12.88,2.99,2.4,20,104,1.3,1.22,.24,.83,5.4,.74,1.42,530',\n",
              " '3,12.81,2.31,2.4,24,98,1.15,1.09,.27,.83,5.7,.66,1.36,560',\n",
              " '3,12.7,3.55,2.36,21.5,106,1.7,1.2,.17,.84,5,.78,1.29,600',\n",
              " '3,12.51,1.24,2.25,17.5,85,2,.58,.6,1.25,5.45,.75,1.51,650',\n",
              " '3,12.6,2.46,2.2,18.5,94,1.62,.66,.63,.94,7.1,.73,1.58,695',\n",
              " '3,12.25,4.72,2.54,21,89,1.38,.47,.53,.8,3.85,.75,1.27,720',\n",
              " '3,12.53,5.51,2.64,25,96,1.79,.6,.63,1.1,5,.82,1.69,515',\n",
              " '3,13.49,3.59,2.19,19.5,88,1.62,.48,.58,.88,5.7,.81,1.82,580',\n",
              " '3,12.84,2.96,2.61,24,101,2.32,.6,.53,.81,4.92,.89,2.15,590',\n",
              " '3,12.93,2.81,2.7,21,96,1.54,.5,.53,.75,4.6,.77,2.31,600',\n",
              " '3,13.36,2.56,2.35,20,89,1.4,.5,.37,.64,5.6,.7,2.47,780',\n",
              " '3,13.52,3.17,2.72,23.5,97,1.55,.52,.5,.55,4.35,.89,2.06,520',\n",
              " '3,13.62,4.95,2.35,20,92,2,.8,.47,1.02,4.4,.91,2.05,550',\n",
              " '3,12.25,3.88,2.2,18.5,112,1.38,.78,.29,1.14,8.21,.65,2,855',\n",
              " '3,13.16,3.57,2.15,21,102,1.5,.55,.43,1.3,4,.6,1.68,830',\n",
              " '3,13.88,5.04,2.23,20,80,.98,.34,.4,.68,4.9,.58,1.33,415',\n",
              " '3,12.87,4.61,2.48,21.5,86,1.7,.65,.47,.86,7.65,.54,1.86,625',\n",
              " '3,13.32,3.24,2.38,21.5,92,1.93,.76,.45,1.25,8.42,.55,1.62,650',\n",
              " '3,13.08,3.9,2.36,21.5,113,1.41,1.39,.34,1.14,9.40,.57,1.33,550',\n",
              " '3,13.5,3.12,2.62,24,123,1.4,1.57,.22,1.25,8.60,.59,1.3,500',\n",
              " '3,12.79,2.67,2.48,22,112,1.48,1.36,.24,1.26,10.8,.48,1.47,480',\n",
              " '3,13.11,1.9,2.75,25.5,116,2.2,1.28,.26,1.56,7.1,.61,1.33,425',\n",
              " '3,13.23,3.3,2.28,18.5,98,1.8,.83,.61,1.87,10.52,.56,1.51,675',\n",
              " '3,12.58,1.29,2.1,20,103,1.48,.58,.53,1.4,7.6,.58,1.55,640',\n",
              " '3,13.17,5.19,2.32,22,93,1.74,.63,.61,1.55,7.9,.6,1.48,725',\n",
              " '3,13.84,4.12,2.38,19.5,89,1.8,.83,.48,1.56,9.01,.57,1.64,480',\n",
              " '3,12.45,3.03,2.64,27,97,1.9,.58,.63,1.14,7.5,.67,1.73,880',\n",
              " '3,14.34,1.68,2.7,25,98,2.8,1.31,.53,2.7,13,.57,1.96,660',\n",
              " '3,13.48,1.67,2.64,22.5,89,2.6,1.1,.52,2.29,11.75,.57,1.78,620',\n",
              " '3,12.36,3.83,2.38,21,88,2.3,.92,.5,1.04,7.65,.56,1.58,520',\n",
              " '3,13.69,3.26,2.54,20,107,1.83,.56,.5,.8,5.88,.96,1.82,680',\n",
              " '3,12.85,3.27,2.58,22,106,1.65,.6,.6,.96,5.58,.87,2.11,570',\n",
              " '3,12.96,3.45,2.35,18.5,106,1.39,.7,.4,.94,5.28,.68,1.75,675',\n",
              " '3,13.78,2.76,2.3,22,90,1.35,.68,.41,1.03,9.58,.7,1.68,615',\n",
              " '3,13.73,4.36,2.26,22.5,88,1.28,.47,.52,1.15,6.62,.78,1.75,520',\n",
              " '3,13.45,3.7,2.6,23,111,1.7,.92,.43,1.46,10.68,.85,1.56,695',\n",
              " '3,12.82,3.37,2.3,19.5,88,1.48,.66,.4,.97,10.26,.72,1.75,685',\n",
              " '3,13.58,2.58,2.69,24.5,105,1.55,.84,.39,1.54,8.66,.74,1.8,750',\n",
              " '3,13.4,4.6,2.86,25,112,1.98,.96,.27,1.11,8.5,.67,1.92,630',\n",
              " '3,12.2,3.03,2.32,19,96,1.25,.49,.4,.73,5.5,.66,1.83,510',\n",
              " '3,12.77,2.39,2.28,19.5,86,1.39,.51,.48,.64,9.899999,.57,1.63,470',\n",
              " '3,14.16,2.51,2.48,20,91,1.68,.7,.44,1.24,9.7,.62,1.71,660',\n",
              " '3,13.71,5.65,2.45,20.5,95,1.68,.61,.52,1.06,7.7,.64,1.74,740',\n",
              " '3,13.4,3.91,2.48,23,102,1.8,.75,.43,1.41,7.3,.7,1.56,750',\n",
              " '3,13.27,4.28,2.26,20,120,1.59,.69,.43,1.35,10.2,.59,1.56,835',\n",
              " '3,13.17,2.59,2.37,20,120,1.65,.68,.53,1.46,9.3,.6,1.62,840',\n",
              " '3,14.13,4.1,2.74,24.5,96,2.05,.76,.56,1.35,9.2,.61,1.6,560']"
            ]
          },
          "metadata": {
            "tags": []
          },
          "execution_count": 0
        }
      ]
    },
    {
      "cell_type": "code",
      "metadata": {
        "colab": {
          "background_save": true
        },
        "id": "nd1suhHYof16",
        "outputId": "d971781f-166d-41ec-bacb-f04981f368ca"
      },
      "source": [
        "c = iter(chunker(lines, 5))\n",
        "while True:\n",
        "  try:\n",
        "    print(next(c))\n",
        "  except StopIteration:\n",
        "    break\n",
        "del c"
      ],
      "execution_count": null,
      "outputs": [
        {
          "output_type": "stream",
          "text": [
            "0\n",
            "['Wine,Alcohol,Malic.acid,Ash,Acl,Mg,Phenols,Flavanoids,Nonflavanoid.phenols,Proanth,Color.int,Hue,OD,Proline', '1,14.23,1.71,2.43,15.6,127,2.8,3.06,.28,2.29,5.64,1.04,3.92,1065', '1,13.2,1.78,2.14,11.2,100,2.65,2.76,.26,1.28,4.38,1.05,3.4,1050', '1,13.16,2.36,2.67,18.6,101,2.8,3.24,.3,2.81,5.68,1.03,3.17,1185', '1,14.37,1.95,2.5,16.8,113,3.85,3.49,.24,2.18,7.8,.86,3.45,1480']\n",
            "5\n",
            "['1,13.24,2.59,2.87,21,118,2.8,2.69,.39,1.82,4.32,1.04,2.93,735', '1,14.2,1.76,2.45,15.2,112,3.27,3.39,.34,1.97,6.75,1.05,2.85,1450', '1,14.39,1.87,2.45,14.6,96,2.5,2.52,.3,1.98,5.25,1.02,3.58,1290', '1,14.06,2.15,2.61,17.6,121,2.6,2.51,.31,1.25,5.05,1.06,3.58,1295', '1,14.83,1.64,2.17,14,97,2.8,2.98,.29,1.98,5.2,1.08,2.85,1045']\n",
            "10\n",
            "['1,13.86,1.35,2.27,16,98,2.98,3.15,.22,1.85,7.22,1.01,3.55,1045', '1,14.1,2.16,2.3,18,105,2.95,3.32,.22,2.38,5.75,1.25,3.17,1510', '1,14.12,1.48,2.32,16.8,95,2.2,2.43,.26,1.57,5,1.17,2.82,1280', '1,13.75,1.73,2.41,16,89,2.6,2.76,.29,1.81,5.6,1.15,2.9,1320', '1,14.75,1.73,2.39,11.4,91,3.1,3.69,.43,2.81,5.4,1.25,2.73,1150']\n",
            "15\n",
            "['1,14.38,1.87,2.38,12,102,3.3,3.64,.29,2.96,7.5,1.2,3,1547', '1,13.63,1.81,2.7,17.2,112,2.85,2.91,.3,1.46,7.3,1.28,2.88,1310', '1,14.3,1.92,2.72,20,120,2.8,3.14,.33,1.97,6.2,1.07,2.65,1280', '1,13.83,1.57,2.62,20,115,2.95,3.4,.4,1.72,6.6,1.13,2.57,1130', '1,14.19,1.59,2.48,16.5,108,3.3,3.93,.32,1.86,8.7,1.23,2.82,1680']\n",
            "20\n",
            "['1,13.64,3.1,2.56,15.2,116,2.7,3.03,.17,1.66,5.1,.96,3.36,845', '1,14.06,1.63,2.28,16,126,3,3.17,.24,2.1,5.65,1.09,3.71,780', '1,12.93,3.8,2.65,18.6,102,2.41,2.41,.25,1.98,4.5,1.03,3.52,770', '1,13.71,1.86,2.36,16.6,101,2.61,2.88,.27,1.69,3.8,1.11,4,1035', '1,12.85,1.6,2.52,17.8,95,2.48,2.37,.26,1.46,3.93,1.09,3.63,1015']\n",
            "25\n",
            "['1,13.5,1.81,2.61,20,96,2.53,2.61,.28,1.66,3.52,1.12,3.82,845', '1,13.05,2.05,3.22,25,124,2.63,2.68,.47,1.92,3.58,1.13,3.2,830', '1,13.39,1.77,2.62,16.1,93,2.85,2.94,.34,1.45,4.8,.92,3.22,1195', '1,13.3,1.72,2.14,17,94,2.4,2.19,.27,1.35,3.95,1.02,2.77,1285', '1,13.87,1.9,2.8,19.4,107,2.95,2.97,.37,1.76,4.5,1.25,3.4,915']\n",
            "30\n",
            "['1,14.02,1.68,2.21,16,96,2.65,2.33,.26,1.98,4.7,1.04,3.59,1035', '1,13.73,1.5,2.7,22.5,101,3,3.25,.29,2.38,5.7,1.19,2.71,1285', '1,13.58,1.66,2.36,19.1,106,2.86,3.19,.22,1.95,6.9,1.09,2.88,1515', '1,13.68,1.83,2.36,17.2,104,2.42,2.69,.42,1.97,3.84,1.23,2.87,990', '1,13.76,1.53,2.7,19.5,132,2.95,2.74,.5,1.35,5.4,1.25,3,1235']\n",
            "35\n",
            "['1,13.51,1.8,2.65,19,110,2.35,2.53,.29,1.54,4.2,1.1,2.87,1095', '1,13.48,1.81,2.41,20.5,100,2.7,2.98,.26,1.86,5.1,1.04,3.47,920', '1,13.28,1.64,2.84,15.5,110,2.6,2.68,.34,1.36,4.6,1.09,2.78,880', '1,13.05,1.65,2.55,18,98,2.45,2.43,.29,1.44,4.25,1.12,2.51,1105', '1,13.07,1.5,2.1,15.5,98,2.4,2.64,.28,1.37,3.7,1.18,2.69,1020']\n",
            "40\n",
            "['1,14.22,3.99,2.51,13.2,128,3,3.04,.2,2.08,5.1,.89,3.53,760', '1,13.56,1.71,2.31,16.2,117,3.15,3.29,.34,2.34,6.13,.95,3.38,795', '1,13.41,3.84,2.12,18.8,90,2.45,2.68,.27,1.48,4.28,.91,3,1035', '1,13.88,1.89,2.59,15,101,3.25,3.56,.17,1.7,5.43,.88,3.56,1095', '1,13.24,3.98,2.29,17.5,103,2.64,2.63,.32,1.66,4.36,.82,3,680']\n",
            "45\n",
            "['1,13.05,1.77,2.1,17,107,3,3,.28,2.03,5.04,.88,3.35,885', '1,14.21,4.04,2.44,18.9,111,2.85,2.65,.3,1.25,5.24,.87,3.33,1080', '1,14.38,3.59,2.28,16,102,3.25,3.17,.27,2.19,4.9,1.04,3.44,1065', '1,13.9,1.68,2.12,16,101,3.1,3.39,.21,2.14,6.1,.91,3.33,985', '1,14.1,2.02,2.4,18.8,103,2.75,2.92,.32,2.38,6.2,1.07,2.75,1060']\n",
            "50\n",
            "['1,13.94,1.73,2.27,17.4,108,2.88,3.54,.32,2.08,8.90,1.12,3.1,1260', '1,13.05,1.73,2.04,12.4,92,2.72,3.27,.17,2.91,7.2,1.12,2.91,1150', '1,13.83,1.65,2.6,17.2,94,2.45,2.99,.22,2.29,5.6,1.24,3.37,1265', '1,13.82,1.75,2.42,14,111,3.88,3.74,.32,1.87,7.05,1.01,3.26,1190', '1,13.77,1.9,2.68,17.1,115,3,2.79,.39,1.68,6.3,1.13,2.93,1375']\n",
            "55\n",
            "['1,13.74,1.67,2.25,16.4,118,2.6,2.9,.21,1.62,5.85,.92,3.2,1060', '1,13.56,1.73,2.46,20.5,116,2.96,2.78,.2,2.45,6.25,.98,3.03,1120', '1,14.22,1.7,2.3,16.3,118,3.2,3,.26,2.03,6.38,.94,3.31,970', '1,13.29,1.97,2.68,16.8,102,3,3.23,.31,1.66,6,1.07,2.84,1270', '1,13.72,1.43,2.5,16.7,108,3.4,3.67,.19,2.04,6.8,.89,2.87,1285']\n",
            "60\n",
            "['2,12.37,.94,1.36,10.6,88,1.98,.57,.28,.42,1.95,1.05,1.82,520', '2,12.33,1.1,2.28,16,101,2.05,1.09,.63,.41,3.27,1.25,1.67,680', '2,12.64,1.36,2.02,16.8,100,2.02,1.41,.53,.62,5.75,.98,1.59,450', '2,13.67,1.25,1.92,18,94,2.1,1.79,.32,.73,3.8,1.23,2.46,630', '2,12.37,1.13,2.16,19,87,3.5,3.1,.19,1.87,4.45,1.22,2.87,420']\n",
            "65\n",
            "['2,12.17,1.45,2.53,19,104,1.89,1.75,.45,1.03,2.95,1.45,2.23,355', '2,12.37,1.21,2.56,18.1,98,2.42,2.65,.37,2.08,4.6,1.19,2.3,678', '2,13.11,1.01,1.7,15,78,2.98,3.18,.26,2.28,5.3,1.12,3.18,502', '2,12.37,1.17,1.92,19.6,78,2.11,2,.27,1.04,4.68,1.12,3.48,510', '2,13.34,.94,2.36,17,110,2.53,1.3,.55,.42,3.17,1.02,1.93,750']\n",
            "70\n",
            "['2,12.21,1.19,1.75,16.8,151,1.85,1.28,.14,2.5,2.85,1.28,3.07,718', '2,12.29,1.61,2.21,20.4,103,1.1,1.02,.37,1.46,3.05,.906,1.82,870', '2,13.86,1.51,2.67,25,86,2.95,2.86,.21,1.87,3.38,1.36,3.16,410', '2,13.49,1.66,2.24,24,87,1.88,1.84,.27,1.03,3.74,.98,2.78,472', '2,12.99,1.67,2.6,30,139,3.3,2.89,.21,1.96,3.35,1.31,3.5,985']\n",
            "75\n",
            "['2,11.96,1.09,2.3,21,101,3.38,2.14,.13,1.65,3.21,.99,3.13,886', '2,11.66,1.88,1.92,16,97,1.61,1.57,.34,1.15,3.8,1.23,2.14,428', '2,13.03,.9,1.71,16,86,1.95,2.03,.24,1.46,4.6,1.19,2.48,392', '2,11.84,2.89,2.23,18,112,1.72,1.32,.43,.95,2.65,.96,2.52,500', '2,12.33,.99,1.95,14.8,136,1.9,1.85,.35,2.76,3.4,1.06,2.31,750']\n",
            "80\n",
            "['2,12.7,3.87,2.4,23,101,2.83,2.55,.43,1.95,2.57,1.19,3.13,463', '2,12,.92,2,19,86,2.42,2.26,.3,1.43,2.5,1.38,3.12,278', '2,12.72,1.81,2.2,18.8,86,2.2,2.53,.26,1.77,3.9,1.16,3.14,714', '2,12.08,1.13,2.51,24,78,2,1.58,.4,1.4,2.2,1.31,2.72,630', '2,13.05,3.86,2.32,22.5,85,1.65,1.59,.61,1.62,4.8,.84,2.01,515']\n",
            "85\n",
            "['2,11.84,.89,2.58,18,94,2.2,2.21,.22,2.35,3.05,.79,3.08,520', '2,12.67,.98,2.24,18,99,2.2,1.94,.3,1.46,2.62,1.23,3.16,450', '2,12.16,1.61,2.31,22.8,90,1.78,1.69,.43,1.56,2.45,1.33,2.26,495', '2,11.65,1.67,2.62,26,88,1.92,1.61,.4,1.34,2.6,1.36,3.21,562', '2,11.64,2.06,2.46,21.6,84,1.95,1.69,.48,1.35,2.8,1,2.75,680']\n",
            "90\n",
            "['2,12.08,1.33,2.3,23.6,70,2.2,1.59,.42,1.38,1.74,1.07,3.21,625', '2,12.08,1.83,2.32,18.5,81,1.6,1.5,.52,1.64,2.4,1.08,2.27,480', '2,12,1.51,2.42,22,86,1.45,1.25,.5,1.63,3.6,1.05,2.65,450', '2,12.69,1.53,2.26,20.7,80,1.38,1.46,.58,1.62,3.05,.96,2.06,495', '2,12.29,2.83,2.22,18,88,2.45,2.25,.25,1.99,2.15,1.15,3.3,290']\n",
            "95\n",
            "['2,11.62,1.99,2.28,18,98,3.02,2.26,.17,1.35,3.25,1.16,2.96,345', '2,12.47,1.52,2.2,19,162,2.5,2.27,.32,3.28,2.6,1.16,2.63,937', '2,11.81,2.12,2.74,21.5,134,1.6,.99,.14,1.56,2.5,.95,2.26,625', '2,12.29,1.41,1.98,16,85,2.55,2.5,.29,1.77,2.9,1.23,2.74,428', '2,12.37,1.07,2.1,18.5,88,3.52,3.75,.24,1.95,4.5,1.04,2.77,660']\n",
            "100\n",
            "['2,12.29,3.17,2.21,18,88,2.85,2.99,.45,2.81,2.3,1.42,2.83,406', '2,12.08,2.08,1.7,17.5,97,2.23,2.17,.26,1.4,3.3,1.27,2.96,710', '2,12.6,1.34,1.9,18.5,88,1.45,1.36,.29,1.35,2.45,1.04,2.77,562', '2,12.34,2.45,2.46,21,98,2.56,2.11,.34,1.31,2.8,.8,3.38,438', '2,11.82,1.72,1.88,19.5,86,2.5,1.64,.37,1.42,2.06,.94,2.44,415']\n",
            "105\n",
            "['2,12.51,1.73,1.98,20.5,85,2.2,1.92,.32,1.48,2.94,1.04,3.57,672', '2,12.42,2.55,2.27,22,90,1.68,1.84,.66,1.42,2.7,.86,3.3,315', '2,12.25,1.73,2.12,19,80,1.65,2.03,.37,1.63,3.4,1,3.17,510', '2,12.72,1.75,2.28,22.5,84,1.38,1.76,.48,1.63,3.3,.88,2.42,488', '2,12.22,1.29,1.94,19,92,2.36,2.04,.39,2.08,2.7,.86,3.02,312']\n",
            "110\n",
            "['2,11.61,1.35,2.7,20,94,2.74,2.92,.29,2.49,2.65,.96,3.26,680', '2,11.46,3.74,1.82,19.5,107,3.18,2.58,.24,3.58,2.9,.75,2.81,562', '2,12.52,2.43,2.17,21,88,2.55,2.27,.26,1.22,2,.9,2.78,325', '2,11.76,2.68,2.92,20,103,1.75,2.03,.6,1.05,3.8,1.23,2.5,607', '2,11.41,.74,2.5,21,88,2.48,2.01,.42,1.44,3.08,1.1,2.31,434']\n",
            "115\n",
            "['2,12.08,1.39,2.5,22.5,84,2.56,2.29,.43,1.04,2.9,.93,3.19,385', '2,11.03,1.51,2.2,21.5,85,2.46,2.17,.52,2.01,1.9,1.71,2.87,407', '2,11.82,1.47,1.99,20.8,86,1.98,1.6,.3,1.53,1.95,.95,3.33,495', '2,12.42,1.61,2.19,22.5,108,2,2.09,.34,1.61,2.06,1.06,2.96,345', '2,12.77,3.43,1.98,16,80,1.63,1.25,.43,.83,3.4,.7,2.12,372']\n",
            "120\n",
            "['2,12,3.43,2,19,87,2,1.64,.37,1.87,1.28,.93,3.05,564', '2,11.45,2.4,2.42,20,96,2.9,2.79,.32,1.83,3.25,.8,3.39,625', '2,11.56,2.05,3.23,28.5,119,3.18,5.08,.47,1.87,6,.93,3.69,465', '2,12.42,4.43,2.73,26.5,102,2.2,2.13,.43,1.71,2.08,.92,3.12,365', '2,13.05,5.8,2.13,21.5,86,2.62,2.65,.3,2.01,2.6,.73,3.1,380']\n",
            "125\n",
            "['2,11.87,4.31,2.39,21,82,2.86,3.03,.21,2.91,2.8,.75,3.64,380', '2,12.07,2.16,2.17,21,85,2.6,2.65,.37,1.35,2.76,.86,3.28,378', '2,12.43,1.53,2.29,21.5,86,2.74,3.15,.39,1.77,3.94,.69,2.84,352', '2,11.79,2.13,2.78,28.5,92,2.13,2.24,.58,1.76,3,.97,2.44,466', '2,12.37,1.63,2.3,24.5,88,2.22,2.45,.4,1.9,2.12,.89,2.78,342']\n",
            "130\n",
            "['2,12.04,4.3,2.38,22,80,2.1,1.75,.42,1.35,2.6,.79,2.57,580', '3,12.86,1.35,2.32,18,122,1.51,1.25,.21,.94,4.1,.76,1.29,630', '3,12.88,2.99,2.4,20,104,1.3,1.22,.24,.83,5.4,.74,1.42,530', '3,12.81,2.31,2.4,24,98,1.15,1.09,.27,.83,5.7,.66,1.36,560', '3,12.7,3.55,2.36,21.5,106,1.7,1.2,.17,.84,5,.78,1.29,600']\n",
            "135\n",
            "['3,12.51,1.24,2.25,17.5,85,2,.58,.6,1.25,5.45,.75,1.51,650', '3,12.6,2.46,2.2,18.5,94,1.62,.66,.63,.94,7.1,.73,1.58,695', '3,12.25,4.72,2.54,21,89,1.38,.47,.53,.8,3.85,.75,1.27,720', '3,12.53,5.51,2.64,25,96,1.79,.6,.63,1.1,5,.82,1.69,515', '3,13.49,3.59,2.19,19.5,88,1.62,.48,.58,.88,5.7,.81,1.82,580']\n",
            "140\n",
            "['3,12.84,2.96,2.61,24,101,2.32,.6,.53,.81,4.92,.89,2.15,590', '3,12.93,2.81,2.7,21,96,1.54,.5,.53,.75,4.6,.77,2.31,600', '3,13.36,2.56,2.35,20,89,1.4,.5,.37,.64,5.6,.7,2.47,780', '3,13.52,3.17,2.72,23.5,97,1.55,.52,.5,.55,4.35,.89,2.06,520', '3,13.62,4.95,2.35,20,92,2,.8,.47,1.02,4.4,.91,2.05,550']\n",
            "145\n",
            "['3,12.25,3.88,2.2,18.5,112,1.38,.78,.29,1.14,8.21,.65,2,855', '3,13.16,3.57,2.15,21,102,1.5,.55,.43,1.3,4,.6,1.68,830', '3,13.88,5.04,2.23,20,80,.98,.34,.4,.68,4.9,.58,1.33,415', '3,12.87,4.61,2.48,21.5,86,1.7,.65,.47,.86,7.65,.54,1.86,625', '3,13.32,3.24,2.38,21.5,92,1.93,.76,.45,1.25,8.42,.55,1.62,650']\n",
            "150\n",
            "['3,13.08,3.9,2.36,21.5,113,1.41,1.39,.34,1.14,9.40,.57,1.33,550', '3,13.5,3.12,2.62,24,123,1.4,1.57,.22,1.25,8.60,.59,1.3,500', '3,12.79,2.67,2.48,22,112,1.48,1.36,.24,1.26,10.8,.48,1.47,480', '3,13.11,1.9,2.75,25.5,116,2.2,1.28,.26,1.56,7.1,.61,1.33,425', '3,13.23,3.3,2.28,18.5,98,1.8,.83,.61,1.87,10.52,.56,1.51,675']\n",
            "155\n",
            "['3,12.58,1.29,2.1,20,103,1.48,.58,.53,1.4,7.6,.58,1.55,640', '3,13.17,5.19,2.32,22,93,1.74,.63,.61,1.55,7.9,.6,1.48,725', '3,13.84,4.12,2.38,19.5,89,1.8,.83,.48,1.56,9.01,.57,1.64,480', '3,12.45,3.03,2.64,27,97,1.9,.58,.63,1.14,7.5,.67,1.73,880', '3,14.34,1.68,2.7,25,98,2.8,1.31,.53,2.7,13,.57,1.96,660']\n",
            "160\n",
            "['3,13.48,1.67,2.64,22.5,89,2.6,1.1,.52,2.29,11.75,.57,1.78,620', '3,12.36,3.83,2.38,21,88,2.3,.92,.5,1.04,7.65,.56,1.58,520', '3,13.69,3.26,2.54,20,107,1.83,.56,.5,.8,5.88,.96,1.82,680', '3,12.85,3.27,2.58,22,106,1.65,.6,.6,.96,5.58,.87,2.11,570', '3,12.96,3.45,2.35,18.5,106,1.39,.7,.4,.94,5.28,.68,1.75,675']\n",
            "165\n",
            "['3,13.78,2.76,2.3,22,90,1.35,.68,.41,1.03,9.58,.7,1.68,615', '3,13.73,4.36,2.26,22.5,88,1.28,.47,.52,1.15,6.62,.78,1.75,520', '3,13.45,3.7,2.6,23,111,1.7,.92,.43,1.46,10.68,.85,1.56,695', '3,12.82,3.37,2.3,19.5,88,1.48,.66,.4,.97,10.26,.72,1.75,685', '3,13.58,2.58,2.69,24.5,105,1.55,.84,.39,1.54,8.66,.74,1.8,750']\n",
            "170\n",
            "['3,13.4,4.6,2.86,25,112,1.98,.96,.27,1.11,8.5,.67,1.92,630', '3,12.2,3.03,2.32,19,96,1.25,.49,.4,.73,5.5,.66,1.83,510', '3,12.77,2.39,2.28,19.5,86,1.39,.51,.48,.64,9.899999,.57,1.63,470', '3,14.16,2.51,2.48,20,91,1.68,.7,.44,1.24,9.7,.62,1.71,660', '3,13.71,5.65,2.45,20.5,95,1.68,.61,.52,1.06,7.7,.64,1.74,740']\n",
            "175\n",
            "['3,13.4,3.91,2.48,23,102,1.8,.75,.43,1.41,7.3,.7,1.56,750', '3,13.27,4.28,2.26,20,120,1.59,.69,.43,1.35,10.2,.59,1.56,835', '3,13.17,2.59,2.37,20,120,1.65,.68,.53,1.46,9.3,.6,1.62,840', '3,14.13,4.1,2.74,24.5,96,2.05,.76,.56,1.35,9.2,.61,1.6,560']\n"
          ],
          "name": "stdout"
        }
      ]
    },
    {
      "cell_type": "code",
      "metadata": {
        "colab": {
          "background_save": true
        },
        "id": "rV6B6nMd-3Dr"
      },
      "source": [
        "import random\n",
        "import pdb\n",
        "def code_to_debug():  \n",
        "  pdb.set_trace()\n",
        "  for i in range(100):\n",
        "    x = random.random()\n",
        "    print(x)"
      ],
      "execution_count": null,
      "outputs": []
    },
    {
      "cell_type": "code",
      "metadata": {
        "colab": {
          "base_uri": "https://localhost:8080/"
        },
        "id": "gcGUO9_UB-GR",
        "outputId": "1a4d5310-4a43-4090-d64a-cc915cd193f9"
      },
      "source": [
        "code_to_debug()"
      ],
      "execution_count": null,
      "outputs": [
        {
          "output_type": "stream",
          "text": [
            "> <ipython-input-21-6cadee9054d4>(5)code_to_debug()\n",
            "-> for i in range(100):\n",
            "(Pdb) c\n",
            "0.14713134499024128\n",
            "0.462197901640405\n",
            "0.8586736881886449\n",
            "0.6396828943441247\n",
            "0.9726819020053856\n",
            "0.3754032566268577\n",
            "0.846562428064602\n",
            "0.04028579212725292\n",
            "0.9349967592496841\n",
            "0.5391342146816128\n",
            "0.63810486661286\n",
            "0.9558326678851063\n",
            "0.37519353072398565\n",
            "0.24042952065262946\n",
            "0.11679863078683528\n",
            "0.7597872722207866\n",
            "0.34557698744593635\n",
            "0.3387581676136241\n",
            "0.9509434137641867\n",
            "0.655932810074845\n",
            "0.7189019218322938\n",
            "0.9978265279331167\n",
            "0.8083806285510027\n",
            "0.8671706511079516\n",
            "0.15453007991820245\n",
            "0.1942346590775762\n",
            "0.8972065138276956\n",
            "0.02648096096648822\n",
            "0.7224080393177569\n",
            "0.6711787055175312\n",
            "0.47731891973732554\n",
            "0.808574724514478\n",
            "0.7277020526090108\n",
            "0.892819201666698\n",
            "0.8374565791550705\n",
            "0.19133595054785957\n",
            "0.794532909211295\n",
            "0.6358189127914217\n",
            "0.8214016910365053\n",
            "0.7678280272490846\n",
            "0.054459133622868916\n",
            "0.7061598573678843\n",
            "0.1742337935371917\n",
            "0.06330536450150637\n",
            "0.29839999638284875\n",
            "0.5325841402610137\n",
            "0.9226940305970169\n",
            "0.15283386251284914\n",
            "0.2360147843485727\n",
            "0.40529857771608924\n",
            "0.7978089252981071\n",
            "0.956608428760426\n",
            "0.6465950746880857\n",
            "0.4494605021222602\n",
            "0.548788330295023\n",
            "0.8929787102391203\n",
            "0.5767673665381403\n",
            "0.9756645933223181\n",
            "0.12306107227474938\n",
            "0.6414605189175155\n",
            "0.556292120964806\n",
            "0.14675487971719148\n",
            "0.9903211852266338\n",
            "0.6027021388423044\n",
            "0.9301045059841122\n",
            "0.6022031706897455\n",
            "0.8929205706444702\n",
            "0.14018550668354612\n",
            "0.8803435828844062\n",
            "0.735036688495339\n",
            "0.30539655732310655\n",
            "0.7990185338210054\n",
            "0.8221257334113733\n",
            "0.4208178462560891\n",
            "0.8298555799317296\n",
            "0.27917084846464013\n",
            "0.3222774141154703\n",
            "0.849701974586717\n",
            "0.10007083814691153\n",
            "0.4869322404307348\n",
            "0.9350133832612171\n",
            "0.8883095084594433\n",
            "0.2534256072419987\n",
            "0.8785857007467417\n",
            "0.4341261108001223\n",
            "0.9865122896062685\n",
            "0.7750646231830298\n",
            "0.38544195447456187\n",
            "0.17752510569785296\n",
            "0.884432940305752\n",
            "0.41267594049268175\n",
            "0.03188659379154046\n",
            "0.8046399651590734\n",
            "0.3937616911139341\n",
            "0.07621440630119947\n",
            "0.4485439662634991\n",
            "0.9261117384241653\n",
            "0.13535668383634514\n",
            "0.7321824411835236\n",
            "0.65425705882031\n"
          ],
          "name": "stdout"
        }
      ]
    },
    {
      "cell_type": "code",
      "metadata": {
        "id": "ArjJbAWobEMW"
      },
      "source": [
        "from itertools import chain"
      ],
      "execution_count": null,
      "outputs": []
    },
    {
      "cell_type": "code",
      "metadata": {
        "id": "xBNFLRMQbbGV",
        "colab": {
          "base_uri": "https://localhost:8080/"
        },
        "outputId": "58f01054-5010-43fd-d6ad-c8bc53171c6d"
      },
      "source": [
        "list(chain.from_iterable((i, i**2) for i in range(1, 6)))"
      ],
      "execution_count": null,
      "outputs": [
        {
          "output_type": "execute_result",
          "data": {
            "text/plain": [
              "[1, 1, 2, 4, 3, 9, 4, 16, 5, 25]"
            ]
          },
          "metadata": {
            "tags": []
          },
          "execution_count": 24
        }
      ]
    },
    {
      "cell_type": "code",
      "metadata": {
        "id": "MDptSETNbvGb",
        "colab": {
          "base_uri": "https://localhost:8080/"
        },
        "outputId": "e6986b75-1484-48e6-f3a0-1d8d53409499"
      },
      "source": [
        "                                                                          k = [ \"k1\", \"k2\", \"k3\"]\n",
        "d = { \"k1\" : \"f1\", \"k2\" : \"f2\" }\n",
        "list(chain.from_iterable((k, d[k]) for k in d))\n"
      ],
      "execution_count": null,
      "outputs": [
        {
          "output_type": "execute_result",
          "data": {
            "text/plain": [
              "['k1', 'f1', 'k2', 'f2']"
            ]
          },
          "metadata": {
            "tags": []
          },
          "execution_count": 25
        }
      ]
    },
    {
      "cell_type": "code",
      "metadata": {
        "id": "B7Yp6EFeu6wj",
        "colab": {
          "base_uri": "https://localhost:8080/"
        },
        "outputId": "6a5af292-dc73-4203-d561-e23ab2a12453"
      },
      "source": [
        "import operator\n",
        "import numpy as np\n",
        "\n",
        "l1 = np.full(10, 3)\n",
        "l2 = np.full(1000, 4.5)\n",
        "#print(l1, l2)\n",
        "\n",
        "r1 = map(operator.mul, l1, l2)\n",
        "r1 = np.fromiter(r1, dtype=np.float32)\n",
        "print(r1)\n",
        "\n",
        "r2 = map(lambda x, y : x*y , l1, l2)\n",
        "r2 = np.fromiter(r2, dtype=np.float32)\n",
        "print(r2)\n",
        "\n",
        "l3 = [ \"This\", \"sucks!\"]\n",
        "l4 = [ y for x in l3 for y in x ]\n",
        "print(l4)\n"
      ],
      "execution_count": null,
      "outputs": [
        {
          "output_type": "stream",
          "text": [
            "[13.5 13.5 13.5 13.5 13.5 13.5 13.5 13.5 13.5 13.5]\n",
            "[13.5 13.5 13.5 13.5 13.5 13.5 13.5 13.5 13.5 13.5]\n"
          ],
          "name": "stdout"
        },
        {
          "output_type": "execute_result",
          "data": {
            "text/plain": [
              "['T', 'h', 'i', 's', 's', 'u', 'c', 'k', 's', '!']"
            ]
          },
          "metadata": {
            "tags": []
          },
          "execution_count": 39
        }
      ]
    },
    {
      "cell_type": "code",
      "metadata": {
        "colab": {
          "base_uri": "https://localhost:8080/"
        },
        "id": "UxExSRWasCcx",
        "outputId": "0fd8221d-77b8-4daf-9c6c-4e88d3fa8d9e"
      },
      "source": [
        "import numpy as np\n",
        "n1 = np.arange(10).reshape(2,5)"
      ],
      "execution_count": null,
      "outputs": [
        {
          "output_type": "execute_result",
          "data": {
            "text/plain": [
              "array([[0, 1, 2, 3, 4],\n",
              "       [5, 6, 7, 8, 9]])"
            ]
          },
          "metadata": {
            "tags": []
          },
          "execution_count": 40
        }
      ]
    },
    {
      "cell_type": "code",
      "metadata": {
        "colab": {
          "base_uri": "https://localhost:8080/"
        },
        "id": "iXTKWrDY8MQe",
        "outputId": "db5f8577-f28e-480c-bf7f-b7deba1ee50e"
      },
      "source": [
        "from collections import Counter\n",
        "c = Counter()\n",
        "r1 = Counter([1, 1, 2, 1, 2])\n",
        "r1 = r1.elements()\n",
        "r1 = np.fromiter(r1, dtype=np.float32)\n",
        "print(r1)\n",
        "r2 = list(Counter(cats=2, dogs=4, elephants=6, kangaroos=3).values())\n",
        "print(r2)\n",
        "print(r2[:-3:-1])\n",
        "r2 = Counter(cats=2, dogs=4, elephants=6, kangaroos=3).most_common(2)\n",
        "print(r2)\n",
        "r3 = Counter({1:2, 3:2, 4:50, 6:1})\n",
        "r3.most_common()\n"
      ],
      "execution_count": null,
      "outputs": [
        {
          "output_type": "stream",
          "text": [
            "[1. 1. 1. 2. 2.]\n",
            "[2, 4, 6, 3]\n",
            "[3, 6]\n",
            "[('elephants', 6), ('dogs', 4)]\n"
          ],
          "name": "stdout"
        },
        {
          "output_type": "execute_result",
          "data": {
            "text/plain": [
              "[(4, 50), (1, 2), (3, 2), (6, 1)]"
            ]
          },
          "metadata": {
            "tags": []
          },
          "execution_count": 84
        }
      ]
    },
    {
      "cell_type": "code",
      "metadata": {
        "id": "1Qk2M4NVl-3Q"
      },
      "source": [
        "def my_sum(a, b, c, d):\n",
        "  return a+b+c+d"
      ],
      "execution_count": 2,
      "outputs": []
    },
    {
      "cell_type": "code",
      "metadata": {
        "colab": {
          "base_uri": "https://localhost:8080/"
        },
        "id": "jKallXAmD7u9",
        "outputId": "0f452939-4641-4081-9598-2a1921b7d7f6"
      },
      "source": [
        "l = [ 1, 2, 3, 4]\n",
        "print(my_sum(*l))"
      ],
      "execution_count": 3,
      "outputs": [
        {
          "output_type": "stream",
          "text": [
            "10\n"
          ],
          "name": "stdout"
        }
      ]
    },
    {
      "cell_type": "code",
      "metadata": {
        "colab": {
          "base_uri": "https://localhost:8080/"
        },
        "id": "JgtzK5GRECY4",
        "outputId": "71c19e6c-fc01-406e-cfc9-1b6499c19e27"
      },
      "source": [
        "l = [1, 2]\n",
        "d = { 'c': 3, 'd' : 4}\n",
        "print(my_sum(*l, **d))"
      ],
      "execution_count": 4,
      "outputs": [
        {
          "output_type": "stream",
          "text": [
            "10\n"
          ],
          "name": "stdout"
        }
      ]
    },
    {
      "cell_type": "code",
      "metadata": {
        "colab": {
          "base_uri": "https://localhost:8080/"
        },
        "id": "K9Tt6DEXevF3",
        "outputId": "36ca500e-7303-4063-fad9-02c8b3b5a657"
      },
      "source": [
        "l = [1, 2, 3, 4]\n",
        "i1  = iter(l)\n",
        "x = zip(i1, i1)\n",
        "y = zip(l, l)\n",
        "print(list(x))\n",
        "print(list(y))"
      ],
      "execution_count": 19,
      "outputs": [
        {
          "output_type": "stream",
          "text": [
            "[(1, 2), (3, 4)]\n",
            "[(1, 1), (2, 2), (3, 3), (4, 4)]\n"
          ],
          "name": "stdout"
        }
      ]
    },
    {
      "cell_type": "code",
      "metadata": {
        "id": "VbzB781dnnos"
      },
      "source": [
        "def better_grouper(inputs, n):\n",
        "    iters = [iter(inputs)] * n\n",
        "    print(list(iters))\n",
        "    return zip(*iters)"
      ],
      "execution_count": 10,
      "outputs": []
    },
    {
      "cell_type": "code",
      "metadata": {
        "colab": {
          "base_uri": "https://localhost:8080/"
        },
        "id": "3HezWFHVnpHf",
        "outputId": "a6a49194-fd00-46df-f06d-d5fb87482973"
      },
      "source": [
        "inputs = [1, 2, 3, 4, 5, 6]\n",
        "z = better_grouper(inputs, 2)\n",
        "print(list(z))"
      ],
      "execution_count": 13,
      "outputs": [
        {
          "output_type": "stream",
          "text": [
            "[<list_iterator object at 0x7ff82bb46950>, <list_iterator object at 0x7ff82bb46950>]\n",
            "[(1, 2), (3, 4), (5, 6)]\n"
          ],
          "name": "stdout"
        }
      ]
    }
  ]
}