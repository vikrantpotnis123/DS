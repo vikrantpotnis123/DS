{
  "nbformat": 4,
  "nbformat_minor": 0,
  "metadata": {
    "colab": {
      "name": "python_basic2.ipynb",
      "provenance": [],
      "authorship_tag": "ABX9TyPB3v29QhvkqaMjStVUm8d2",
      "include_colab_link": true
    },
    "kernelspec": {
      "name": "python3",
      "display_name": "Python 3"
    },
    "language_info": {
      "name": "python"
    }
  },
  "cells": [
    {
      "cell_type": "markdown",
      "metadata": {
        "id": "view-in-github",
        "colab_type": "text"
      },
      "source": [
        "<a href=\"https://colab.research.google.com/github/vikrantpotnis123/DS/blob/master/python_basic2.ipynb\" target=\"_parent\"><img src=\"https://colab.research.google.com/assets/colab-badge.svg\" alt=\"Open In Colab\"/></a>"
      ]
    },
    {
      "cell_type": "code",
      "metadata": {
        "colab": {
          "base_uri": "https://localhost:8080/"
        },
        "id": "lX70OBUyveJH",
        "outputId": "8082a6f4-b1b2-4418-e4ef-0be478c43f4c"
      },
      "source": [
        "import collections\n",
        "x = dict(one=1,two=2)\n",
        "print(x)"
      ],
      "execution_count": null,
      "outputs": [
        {
          "output_type": "stream",
          "text": [
            "{'one': 1, 'two': 2}\n"
          ],
          "name": "stdout"
        }
      ]
    },
    {
      "cell_type": "code",
      "metadata": {
        "colab": {
          "base_uri": "https://localhost:8080/"
        },
        "id": "JuY9Pqw3Ma9W",
        "outputId": "eed26d02-d637-4f3e-9533-fddc94833cf8"
      },
      "source": [
        "x.pop('one', 'None')\n",
        "x"
      ],
      "execution_count": null,
      "outputs": [
        {
          "output_type": "execute_result",
          "data": {
            "text/plain": [
              "{'two': 2}"
            ]
          },
          "metadata": {
            "tags": []
          },
          "execution_count": 6
        }
      ]
    },
    {
      "cell_type": "code",
      "metadata": {
        "colab": {
          "base_uri": "https://localhost:8080/"
        },
        "id": "BRiB7M1XNwEo",
        "outputId": "45d93fa2-e3bb-43c7-a81c-3dbece0958e6"
      },
      "source": [
        "import copy\n",
        "y = [ 1, 2, [3, 4], 5]\n",
        "y1 = y.copy()\n",
        "y[1] = 22\n",
        "\n",
        "print(y, y1)\n",
        "y2 = copy.deepcopy(y1)\n",
        "y[2][1] = 44\n",
        "print(y, y1, y2, sep='\\t', end='\\n')"
      ],
      "execution_count": null,
      "outputs": [
        {
          "output_type": "stream",
          "text": [
            "[1, 22, [3, 4], 5] [1, 2, [3, 4], 5]\n",
            "[1, 22, [3, 44], 5]\t[1, 2, [3, 44], 5]\t[1, 2, [3, 4], 5]\n"
          ],
          "name": "stdout"
        }
      ]
    },
    {
      "cell_type": "code",
      "metadata": {
        "colab": {
          "base_uri": "https://localhost:8080/"
        },
        "id": "oieHMPc2q_oc",
        "outputId": "3b963023-af2e-4dac-cf46-17ecc542ba96"
      },
      "source": [
        "import numpy as np\n",
        "x= np.arange(10).reshape(2,5)\n",
        "print(x)\n",
        "y = copy.deepcopy(x)\n",
        "z = x\n",
        "x[1][2] = 77\n",
        "print(x)\n",
        "print(y)\n",
        "print(z)"
      ],
      "execution_count": null,
      "outputs": [
        {
          "output_type": "stream",
          "text": [
            "[[0 1 2 3 4]\n",
            " [5 6 7 8 9]]\n",
            "[[ 0  1  2  3  4]\n",
            " [ 5  6 77  8  9]]\n",
            "[[0 1 2 3 4]\n",
            " [5 6 7 8 9]]\n",
            "[[ 0  1  2  3  4]\n",
            " [ 5  6 77  8  9]]\n"
          ],
          "name": "stdout"
        }
      ]
    },
    {
      "cell_type": "code",
      "metadata": {
        "id": "FF2k28oBsWxt",
        "colab": {
          "base_uri": "https://localhost:8080/"
        },
        "outputId": "ea62b272-ec42-434d-8ed4-861df9a422fd"
      },
      "source": [
        "l = [1, 2, 3, 2, 3]\n",
        "l.count(2)"
      ],
      "execution_count": null,
      "outputs": [
        {
          "output_type": "execute_result",
          "data": {
            "text/plain": [
              "2"
            ]
          },
          "metadata": {
            "tags": []
          },
          "execution_count": 3
        }
      ]
    },
    {
      "cell_type": "code",
      "metadata": {
        "colab": {
          "base_uri": "https://localhost:8080/"
        },
        "id": "LEYDaT3gbXuw",
        "outputId": "b3dc7090-9b0c-4976-b528-4f0da6962176"
      },
      "source": [
        "# random list\n",
        "random = ['a', ('a', 'b'), ('a', 'b'), [3, 4]]\n",
        "\n",
        "# count element ('a', 'b')\n",
        "count = random.count(('a', 'b'))\n",
        "\n",
        "# print count\n",
        "print(\"The count of ('a', 'b') is:\", count)"
      ],
      "execution_count": null,
      "outputs": [
        {
          "output_type": "stream",
          "text": [
            "The count of ('a', 'b') is: 2\n"
          ],
          "name": "stdout"
        }
      ]
    },
    {
      "cell_type": "code",
      "metadata": {
        "colab": {
          "base_uri": "https://localhost:8080/"
        },
        "id": "giYunHrDbX5G",
        "outputId": "69616036-29e6-4871-f8d7-97383f32b8c5"
      },
      "source": [
        "from collections import Counter\n",
        "l = [ 1,2, 2, 1, 3, 3, 2, 3, 1]\n",
        "c = Counter(l)\n",
        "c"
      ],
      "execution_count": null,
      "outputs": [
        {
          "output_type": "execute_result",
          "data": {
            "text/plain": [
              "Counter({1: 3, 2: 3, 3: 3})"
            ]
          },
          "metadata": {
            "tags": []
          },
          "execution_count": 7
        }
      ]
    },
    {
      "cell_type": "code",
      "metadata": {
        "colab": {
          "base_uri": "https://localhost:8080/"
        },
        "id": "G5bAq3-TfaqG",
        "outputId": "ece71f2a-5815-4da3-cd10-319a0f43456a"
      },
      "source": [
        "c.most_common(2)"
      ],
      "execution_count": null,
      "outputs": [
        {
          "output_type": "execute_result",
          "data": {
            "text/plain": [
              "[(1, 3), (2, 3)]"
            ]
          },
          "metadata": {
            "tags": []
          },
          "execution_count": 9
        }
      ]
    },
    {
      "cell_type": "code",
      "metadata": {
        "colab": {
          "base_uri": "https://localhost:8080/",
          "height": 35
        },
        "id": "OAlUu4OWgIu8",
        "outputId": "da9f00cd-6ef8-4162-af1c-6e4bf664ca70"
      },
      "source": [
        "f'hello, {name}, gunga din'"
      ],
      "execution_count": null,
      "outputs": [
        {
          "output_type": "execute_result",
          "data": {
            "application/vnd.google.colaboratory.intrinsic+json": {
              "type": "string"
            },
            "text/plain": [
              "'hello, bob cat, gunga din'"
            ]
          },
          "metadata": {
            "tags": []
          },
          "execution_count": 14
        }
      ]
    },
    {
      "cell_type": "code",
      "metadata": {
        "colab": {
          "base_uri": "https://localhost:8080/",
          "height": 35
        },
        "id": "XuD7--hajTmR",
        "outputId": "515b3188-181f-4a41-a98a-240e0235e693"
      },
      "source": [
        "str.lower('DDDDD').capitalize()"
      ],
      "execution_count": null,
      "outputs": [
        {
          "output_type": "execute_result",
          "data": {
            "application/vnd.google.colaboratory.intrinsic+json": {
              "type": "string"
            },
            "text/plain": [
              "'Ddddd'"
            ]
          },
          "metadata": {
            "tags": []
          },
          "execution_count": 17
        }
      ]
    },
    {
      "cell_type": "code",
      "metadata": {
        "colab": {
          "base_uri": "https://localhost:8080/"
        },
        "id": "vWoCB7OyjseZ",
        "outputId": "1ab84ef7-b37f-4ef8-85f1-c666e565a67c"
      },
      "source": [
        "list(map(str.upper, [ 'hi', 'there']))"
      ],
      "execution_count": null,
      "outputs": [
        {
          "output_type": "execute_result",
          "data": {
            "text/plain": [
              "['HI', 'THERE']"
            ]
          },
          "metadata": {
            "tags": []
          },
          "execution_count": 64
        }
      ]
    },
    {
      "cell_type": "code",
      "metadata": {
        "id": "jVVh3YP3kIHG"
      },
      "source": [
        "def coo(*args, **kwargs):\n",
        "  print(type(args), type(kwargs))\n",
        "  print(f\"cooing {args} {kwargs}\")\n",
        "  \n",
        "  def moo(*args, **kwargs):\n",
        "    print(f\"mooing  {args} {kwargs}\")\n",
        "    return str.upper(str(args)), str.upper(str(kwargs))\n",
        "  moo(args, kwargs)\n",
        "  return moo"
      ],
      "execution_count": null,
      "outputs": []
    },
    {
      "cell_type": "code",
      "metadata": {
        "colab": {
          "base_uri": "https://localhost:8080/"
        },
        "id": "PLzjEdzJkeux",
        "outputId": "78102b3c-d451-4066-93f8-89d14c05122d"
      },
      "source": [
        "x  = coo('hi', 'ho', name='10bombai', age=45)\n",
        "x('hi', 'ho', name='10bombai', age=45)"
      ],
      "execution_count": null,
      "outputs": [
        {
          "output_type": "stream",
          "text": [
            "<class 'tuple'> <class 'dict'>\n",
            "cooing ('hi', 'ho') {'name': '10bombai', 'age': 45}\n",
            "mooing  (('hi', 'ho'), {'name': '10bombai', 'age': 45}) {}\n",
            "mooing  ('hi', 'ho') {'name': '10bombai', 'age': 45}\n"
          ],
          "name": "stdout"
        },
        {
          "output_type": "execute_result",
          "data": {
            "text/plain": [
              "(\"('HI', 'HO')\", \"{'NAME': '10BOMBAI', 'AGE': 45}\")"
            ]
          },
          "metadata": {
            "tags": []
          },
          "execution_count": 136
        }
      ]
    },
    {
      "cell_type": "code",
      "metadata": {
        "id": "eRWQVk0_nVUN"
      },
      "source": [
        "def coo2(*args, **kwargs):\n",
        "  print(f\"cooing2  {args} {kwargs}\")\n",
        "  def moo2(*args, **kwargs):\n",
        "    print(f\"mooing2  {args} {kwargs}\")\n",
        "    return str.upper(str(args)), str.upper(str(kwargs))\n",
        "  return moo2"
      ],
      "execution_count": null,
      "outputs": []
    },
    {
      "cell_type": "code",
      "metadata": {
        "colab": {
          "base_uri": "https://localhost:8080/"
        },
        "id": "-uZO-4hXnZtz",
        "outputId": "b6d7fb79-acc9-4dbe-b9d5-36e8d745fb06"
      },
      "source": [
        "z = coo2('hello', name='gunga din')\n",
        "z('popatal', name='popat')"
      ],
      "execution_count": null,
      "outputs": [
        {
          "output_type": "stream",
          "text": [
            "cooing2  ('hello',) {'name': 'gunga din'}\n",
            "mooing2  ('popatal',) {'name': 'popat'}\n"
          ],
          "name": "stdout"
        },
        {
          "output_type": "execute_result",
          "data": {
            "text/plain": [
              "(\"('POPATAL',)\", \"{'NAME': 'POPAT'}\")"
            ]
          },
          "metadata": {
            "tags": []
          },
          "execution_count": 58
        }
      ]
    },
    {
      "cell_type": "code",
      "metadata": {
        "id": "fRbJJ1RiHL5y"
      },
      "source": [
        "class MyEmployee:\n",
        "  def __init__(self, name, age):\n",
        "    self._name = name\n",
        "    self._age = age\n",
        "  \n",
        "  @property\n",
        "  def name(self):\n",
        "    print(\"getter called!\")\n",
        "    return self._name\n",
        "\n",
        "  @name.setter\n",
        "  def name(self, newname):\n",
        "    print(\"setter called!\")\n",
        "    self._name = newname\n",
        "\n",
        "  @name.deleter\n",
        "  def name(self):\n",
        "    print(\"deleter called!\")\n",
        "    del self._name"
      ],
      "execution_count": null,
      "outputs": []
    },
    {
      "cell_type": "code",
      "metadata": {
        "colab": {
          "base_uri": "https://localhost:8080/"
        },
        "id": "zja4bSakub34",
        "outputId": "0294a212-308c-483f-92ae-c942de6d1e0c"
      },
      "source": [
        "e = MyEmployee(\"Tina\", 33)\n",
        "e.name = \"Tina M\"\n",
        "print(e.name)\n",
        "del e.name"
      ],
      "execution_count": null,
      "outputs": [
        {
          "output_type": "stream",
          "text": [
            "setter called!\n",
            "getter called!\n",
            "Tina M\n",
            "deleter called!\n"
          ],
          "name": "stdout"
        }
      ]
    },
    {
      "cell_type": "code",
      "metadata": {
        "colab": {
          "base_uri": "https://localhost:8080/"
        },
        "id": "krrBscNVv5oS",
        "outputId": "be8889a1-ca83-4363-c465-a9d8b8e4a8af"
      },
      "source": [
        "from collections import defaultdict\n",
        "print(issubclass(defaultdict, dict))\n",
        "students = [ \"popat\", \"locha\", \"mynah\", \"tina\"]\n",
        "sem1_scores =  [65, 50, 75, 85]\n",
        "sem2_scores =  [55, 80, 75, 65]\n",
        "d = defaultdict(list)\n",
        "for x, y1, y2 in zip(students, sem1_scores, sem2_scores):\n",
        "  d[x].append(y1)\n",
        "  d[x].append(y2)\n",
        "print(d.items())\n"
      ],
      "execution_count": 21,
      "outputs": [
        {
          "output_type": "stream",
          "text": [
            "True\n",
            "dict_items([('popat', [65, 55]), ('locha', [50, 80]), ('mynah', [75, 75]), ('tina', [85, 65])])\n"
          ],
          "name": "stdout"
        }
      ]
    },
    {
      "cell_type": "code",
      "metadata": {
        "id": "1ornqJer1qsL"
      },
      "source": [
        "from abc import ABC, abstractmethod\n",
        "\n",
        "class MLModel(ABC):\n",
        "  def __init__(self, pipeline_config):\n",
        "    self.pipeline_config = pipeline_config\n",
        "\n",
        "  @abstractmethod\n",
        "  def predict(self, test_data):\n",
        "    pass\n",
        "\n",
        "  @abstractmethod\n",
        "  def train(self, train_data):\n",
        "    pass\n",
        "\n",
        "class SSDModel(MLModel):\n",
        "  \n",
        "  def __init__(self, pipeline_config):\n",
        "    super().__init__(pipeline_config)\n",
        "\n",
        "  def predict(self, test_data):\n",
        "    print (f\"SSD model predict {test_data}\")\n",
        "\n",
        "  def train(self, train_data):\n",
        "    print (f\"SSD model train {train_data}\")"
      ],
      "execution_count": 12,
      "outputs": []
    },
    {
      "cell_type": "code",
      "metadata": {
        "colab": {
          "base_uri": "https://localhost:8080/"
        },
        "id": "lC4CvqSsEcmt",
        "outputId": "bdb09713-a302-49c5-acd2-812960cd41be"
      },
      "source": [
        "train_data = \"blah blah\"\n",
        "test_data = \"bloo bloo\"\n",
        "pipeline_config = \"mypipeline.cfg\"\n",
        "m = SSDModel(pipeline_config)\n",
        "m.train(train_data)\n",
        "m.predict(test_data)"
      ],
      "execution_count": 13,
      "outputs": [
        {
          "output_type": "stream",
          "text": [
            "SSD model train blah blah\n",
            "SSD model predict bloo bloo\n"
          ],
          "name": "stdout"
        }
      ]
    }
  ]
}