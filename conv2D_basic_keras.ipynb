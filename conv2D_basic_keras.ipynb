{
  "nbformat": 4,
  "nbformat_minor": 0,
  "metadata": {
    "colab": {
      "name": "conv2D_basic_keras.ipynb",
      "provenance": [],
      "collapsed_sections": [],
      "authorship_tag": "ABX9TyMFWydrFhQTyKVGDQ163bax",
      "include_colab_link": true
    },
    "kernelspec": {
      "name": "python3",
      "display_name": "Python 3"
    }
  },
  "cells": [
    {
      "cell_type": "markdown",
      "metadata": {
        "id": "view-in-github",
        "colab_type": "text"
      },
      "source": [
        "<a href=\"https://colab.research.google.com/github/vikrantpotnis123/DS/blob/master/conv2D_basic_keras.ipynb\" target=\"_parent\"><img src=\"https://colab.research.google.com/assets/colab-badge.svg\" alt=\"Open In Colab\"/></a>"
      ]
    },
    {
      "cell_type": "markdown",
      "metadata": {
        "id": "ECJGcXA-1fYU",
        "colab_type": "text"
      },
      "source": [
        "In TensorFlow, packages like Keras, TensorFlow-Slim, and TFLearn provide higher-level abstractions over raw computational graphs that are useful for building neural networks.\n",
        "\n",
        "In PyTorch, the nn package serves this same purpose. The nn package defines a set of Modules, which are roughly equivalent to neural network layers. A Module receives input Tensors and computes output Tensors, but may also hold internal state such as Tensors containing learnable parameters. The nn package also defines a set of useful loss functions that are commonly used when training neural networks."
      ]
    },
    {
      "cell_type": "code",
      "metadata": {
        "id": "Jp28IOt_1r1u",
        "colab_type": "code",
        "colab": {
          "base_uri": "https://localhost:8080/",
          "height": 283
        },
        "outputId": "dd6bd6b7-c9b7-4084-952e-0f52e2abac60"
      },
      "source": [
        "import tensorflow as tf\n",
        "print(tf.__version__)\n",
        "import matplotlib.pyplot as plt\n",
        "%matplotlib inline\n",
        "import numpy as np\n",
        "np.set_printoptions(linewidth=200)\n",
        "\n",
        "# Use Fashion mnist in place of mnist\n",
        "mnist = tf.keras.datasets.fashion_mnist\n",
        "(training_images, training_labels),(test_images, test_labels) = mnist.load_data()\n",
        "\n",
        "plt.imshow(training_images[9], cmap='gray')\n",
        "\n",
        "training_images, test_images = training_images / 255.0, test_images / 255.0\n",
        "\n",
        "# this needs to be done as the firstm convolution\n",
        "# expects a single tensor containing everything\n",
        "training_images=training_images.reshape(60000, 28, 28, 1)\n"
      ],
      "execution_count": 26,
      "outputs": [
        {
          "output_type": "stream",
          "text": [
            "2.2.0\n"
          ],
          "name": "stdout"
        },
        {
          "output_type": "display_data",
          "data": {
            "image/png": "[encoded data removed]",
            "text/plain": [
              "<Figure size 432x288 with 1 Axes>"
            ]
          },
          "metadata": {
            "tags": [],
            "needs_background": "light"
          }
        }
      ]
    },
    {
      "cell_type": "code",
      "metadata": {
        "id": "XT_NtZyaHEam",
        "colab_type": "code",
        "colab": {}
      },
      "source": [
        "# define callback\n",
        "class myCallback(tf.keras.callbacks.Callback):\n",
        "  def on_epoch_end(self, epoch, logs={}):\n",
        "    if(logs.get('accuracy') > 0.985):\n",
        "      print(\"\\nReached 98.5% accuracy so cancelling training!\")\n",
        "      self.model.stop_training = True\n",
        "callbacks = myCallback()"
      ],
      "execution_count": 21,
      "outputs": []
    },
    {
      "cell_type": "code",
      "metadata": {
        "id": "vsbIWPtwMAhM",
        "colab_type": "code",
        "colab": {}
      },
      "source": [
        ""
      ],
      "execution_count": 21,
      "outputs": []
    },
    {
      "cell_type": "markdown",
      "metadata": {
        "id": "OpwhLJbqOvIR",
        "colab_type": "text"
      },
      "source": [
        "  Flatten 0 just takes square image matrix and turns it into a 1 dimensional set.\n",
        "\n",
        "  Dense - adds a layer of neurons\n",
        "  Dense implements the operation: \n",
        "  output = activation(dot(input, kernel) + bias) \n",
        "  where activation is the element-wise activation function passed \n",
        "  as the activation argument, \n",
        "  kernel is a weights matrix created by the layer, and \n",
        "  bias is a bias vector created by the layer \n",
        "  (only applicable if use_bias is True)\n",
        "    check the help for details but output has dimensions [batch_size, d0, units]\n",
        "  when input dimensions are [batch_size, d0, d1]\n",
        "  so here the first argument is the the 'units'\n",
        "\n",
        "  Softmax takes a set of values, and effectively picks the biggest one, so, \n",
        "  for example, if the output of the last layer looks like [0.1, 0.1, 0.05, 0.1, 9.5, 0.1, 0.05, 0.05, 0.05], \n",
        "  it saves you from fishing through it looking for the biggest value, and turns it into [0,0,0,0,1,0,0,0,0] \n",
        "  \n",
        "  Relu = if x > 0 return x else return 0\n",
        "  "
      ]
    },
    {
      "cell_type": "code",
      "metadata": {
        "id": "EMb6XKb_MHYs",
        "colab_type": "code",
        "colab": {}
      },
      "source": [
        "# define the model\n",
        "\n",
        "# Sequential: That defines a SEQUENCE of layers in the neural network\n",
        "model = tf.keras.models.Sequential([\n",
        "      # convolution layers\n",
        "      tf.keras.layers.Conv2D(64, (3,3), activation='relu', input_shape=(28, 28, 1)),\n",
        "      tf.keras.layers.MaxPooling2D(2, 2),\n",
        "      tf.keras.layers.Conv2D(64, (3,3), activation='relu'),\n",
        "      tf.keras.layers.MaxPooling2D(2,2),\n",
        "      \n",
        "      # tf.keras.layers.Flatten(input_shape=(28,28)),\n",
        "      tf.keras.layers.Flatten(),\n",
        "      tf.keras.layers.Dense(128, activation=tf.nn.relu),\n",
        "      tf.keras.layers.Dense(10, activation=tf.nn.softmax)\n",
        "])\n"
      ],
      "execution_count": 33,
      "outputs": []
    },
    {
      "cell_type": "code",
      "metadata": {
        "id": "rPr3r035MG1d",
        "colab_type": "code",
        "colab": {
          "base_uri": "https://localhost:8080/",
          "height": 408
        },
        "outputId": "d483e6d7-57c4-4fa9-c177-d29b925a3b96"
      },
      "source": [
        "model.summary()"
      ],
      "execution_count": 34,
      "outputs": [
        {
          "output_type": "stream",
          "text": [
            "Model: \"sequential_8\"\n",
            "_________________________________________________________________\n",
            "Layer (type)                 Output Shape              Param #   \n",
            "=================================================================\n",
            "conv2d_16 (Conv2D)           (None, 26, 26, 64)        640       \n",
            "_________________________________________________________________\n",
            "max_pooling2d_14 (MaxPooling (None, 13, 13, 64)        0         \n",
            "_________________________________________________________________\n",
            "conv2d_17 (Conv2D)           (None, 11, 11, 64)        36928     \n",
            "_________________________________________________________________\n",
            "max_pooling2d_15 (MaxPooling (None, 5, 5, 64)          0         \n",
            "_________________________________________________________________\n",
            "flatten_8 (Flatten)          (None, 1600)              0         \n",
            "_________________________________________________________________\n",
            "dense_16 (Dense)             (None, 128)               204928    \n",
            "_________________________________________________________________\n",
            "dense_17 (Dense)             (None, 10)                1290      \n",
            "=================================================================\n",
            "Total params: 243,786\n",
            "Trainable params: 243,786\n",
            "Non-trainable params: 0\n",
            "_________________________________________________________________\n"
          ],
          "name": "stdout"
        }
      ]
    },
    {
      "cell_type": "markdown",
      "metadata": {
        "id": "iHlIVdxQIlbM",
        "colab_type": "text"
      },
      "source": [
        "## Notice how easy it is to just add conv2D layers in order to define the model!\n",
        "### Note that our convolutional filter is a 3x3 matrix "
      ]
    },
    {
      "cell_type": "code",
      "metadata": {
        "id": "zZ4x2f1VMWKl",
        "colab_type": "code",
        "colab": {
          "base_uri": "https://localhost:8080/",
          "height": 746
        },
        "outputId": "2958adb1-9d39-4cb5-e9ea-5d742a4c3bd8"
      },
      "source": [
        "\n",
        "# compile the model with a cost/loss function and an optimizer (gradient descent)\n",
        "model.compile(optimizer='adam',\n",
        "              loss='sparse_categorical_crossentropy',\n",
        "              metrics=['accuracy'])\n",
        "\n",
        "# finally train the model\n",
        "model.fit(training_images, training_labels, epochs=20, callbacks=[callbacks])"
      ],
      "execution_count": 24,
      "outputs": [
        {
          "output_type": "stream",
          "text": [
            "Epoch 1/20\n",
            "1875/1875 [==============================] - 74s 40ms/step - loss: 0.4432 - accuracy: 0.8390\n",
            "Epoch 2/20\n",
            "1875/1875 [==============================] - 74s 40ms/step - loss: 0.2919 - accuracy: 0.8934\n",
            "Epoch 3/20\n",
            "1875/1875 [==============================] - 74s 39ms/step - loss: 0.2471 - accuracy: 0.9082\n",
            "Epoch 4/20\n",
            "1875/1875 [==============================] - 74s 39ms/step - loss: 0.2161 - accuracy: 0.9201\n",
            "Epoch 5/20\n",
            "1875/1875 [==============================] - 74s 39ms/step - loss: 0.1893 - accuracy: 0.9298\n",
            "Epoch 6/20\n",
            "1875/1875 [==============================] - 78s 42ms/step - loss: 0.1661 - accuracy: 0.9371\n",
            "Epoch 7/20\n",
            "1875/1875 [==============================] - 73s 39ms/step - loss: 0.1478 - accuracy: 0.9437\n",
            "Epoch 8/20\n",
            "1875/1875 [==============================] - 73s 39ms/step - loss: 0.1273 - accuracy: 0.9525\n",
            "Epoch 9/20\n",
            "1875/1875 [==============================] - 73s 39ms/step - loss: 0.1150 - accuracy: 0.9564\n",
            "Epoch 10/20\n",
            "1875/1875 [==============================] - 73s 39ms/step - loss: 0.0981 - accuracy: 0.9636\n",
            "Epoch 11/20\n",
            "1875/1875 [==============================] - 73s 39ms/step - loss: 0.0899 - accuracy: 0.9655\n",
            "Epoch 12/20\n",
            "1875/1875 [==============================] - 74s 39ms/step - loss: 0.0773 - accuracy: 0.9714\n",
            "Epoch 13/20\n",
            "1875/1875 [==============================] - 74s 40ms/step - loss: 0.0700 - accuracy: 0.9738\n",
            "Epoch 14/20\n",
            "1875/1875 [==============================] - 74s 40ms/step - loss: 0.0623 - accuracy: 0.9765\n",
            "Epoch 15/20\n",
            "1875/1875 [==============================] - 79s 42ms/step - loss: 0.0576 - accuracy: 0.9785\n",
            "Epoch 16/20\n",
            "1875/1875 [==============================] - 74s 40ms/step - loss: 0.0499 - accuracy: 0.9821\n",
            "Epoch 17/20\n",
            "1875/1875 [==============================] - 74s 40ms/step - loss: 0.0461 - accuracy: 0.9828\n",
            "Epoch 18/20\n",
            "1875/1875 [==============================] - 74s 40ms/step - loss: 0.0423 - accuracy: 0.9840\n",
            "Epoch 19/20\n",
            "1875/1875 [==============================] - ETA: 0s - loss: 0.0377 - accuracy: 0.9862\n",
            "Reached 98.5% accuracy so cancelling training!\n",
            "1875/1875 [==============================] - 74s 39ms/step - loss: 0.0377 - accuracy: 0.9862\n"
          ],
          "name": "stdout"
        },
        {
          "output_type": "execute_result",
          "data": {
            "text/plain": [
              "<tensorflow.python.keras.callbacks.History at 0x7f6508a7ccc0>"
            ]
          },
          "metadata": {
            "tags": []
          },
          "execution_count": 24
        }
      ]
    },
    {
      "cell_type": "code",
      "metadata": {
        "id": "VDYzFahlLhD5",
        "colab_type": "code",
        "colab": {
          "base_uri": "https://localhost:8080/",
          "height": 53
        },
        "outputId": "f3251fdb-9169-4347-8f57-f985fc1d2f9a"
      },
      "source": [
        "test_images=test_images.reshape(10000, 28, 28, 1)\n",
        "model.evaluate(test_images, test_labels)"
      ],
      "execution_count": 29,
      "outputs": [
        {
          "output_type": "stream",
          "text": [
            "313/313 [==============================] - 4s 12ms/step - loss: 0.5195 - accuracy: 0.9152\n"
          ],
          "name": "stdout"
        },
        {
          "output_type": "execute_result",
          "data": {
            "text/plain": [
              "[0.5194834470748901, 0.9151999950408936]"
            ]
          },
          "metadata": {
            "tags": []
          },
          "execution_count": 29
        }
      ]
    },
    {
      "cell_type": "code",
      "metadata": {
        "id": "XjWL_EZbPdHu",
        "colab_type": "code",
        "colab": {
          "base_uri": "https://localhost:8080/",
          "height": 35
        },
        "outputId": "3152d384-5897-497e-8a61-aa5f150b046c"
      },
      "source": [
        "classifications = model.predict(test_images)\n",
        "print(classifications[0])"
      ],
      "execution_count": 30,
      "outputs": [
        {
          "output_type": "stream",
          "text": [
            "[1.5659701e-15 7.1190120e-22 1.9638524e-22 8.8638146e-21 6.5536829e-24 1.0087086e-15 4.9909026e-22 1.5200233e-12 5.1683072e-20 1.0000000e+00]\n"
          ],
          "name": "stdout"
        }
      ]
    },
    {
      "cell_type": "markdown",
      "metadata": {
        "id": "uXlrnWdzP6xl",
        "colab_type": "text"
      },
      "source": [
        "The output of the model is a list of 10 numbers. \n",
        "\n",
        "These numbers are a probability that the value being classified is the corresponding value \n",
        "\n",
        "Check:\n",
        "(https://github.com/zalandoresearch/fashion-mnist#labels).\n",
        "\n",
        "The first value in the list is the probability that the image is of a '0' (T-shirt/top), the next is a '1' (Trouser) etc. \n",
        "\n",
        "For the 9 (Ankle boot), the probability was in the 90's, i.e. the neural network is telling us that it's almost certainly a 7.\n",
        "The rest are very low probabilities."
      ]
    },
    {
      "cell_type": "code",
      "metadata": {
        "id": "CKNtG-tdNAwj",
        "colab_type": "code",
        "colab": {
          "base_uri": "https://localhost:8080/",
          "height": 73
        },
        "outputId": "5e980d2b-f8c1-44fd-b326-983e8e79518e"
      },
      "source": [
        "print(test_labels[:100])"
      ],
      "execution_count": 31,
      "outputs": [
        {
          "output_type": "stream",
          "text": [
            "[9 2 1 1 6 1 4 6 5 7 4 5 7 3 4 1 2 4 8 0 2 5 7 9 1 4 6 0 9 3 8 8 3 3 8 0 7 5 7 9 6 1 3 7 6 7 2 1 2 2 4 4 5 8 2 2 8 4 8 0 7 7 8 5 1 1 2 3 9 8 7 0 2 6 2 3 1 2 8 4 1 8 5 9 5 0 3 2 0 6 5 3 6 7 1 8 0 1 4\n",
            " 2]\n"
          ],
          "name": "stdout"
        }
      ]
    },
    {
      "cell_type": "code",
      "metadata": {
        "id": "t8YcV6OXNDPd",
        "colab_type": "code",
        "colab": {
          "base_uri": "https://localhost:8080/",
          "height": 268
        },
        "outputId": "669ebf14-c7d7-4962-8b6b-1b05eee7dddd"
      },
      "source": [
        "f, axarr = plt.subplots(3,4)\n",
        "FIRST_IMAGE=0\n",
        "SECOND_IMAGE=7\n",
        "THIRD_IMAGE=26\n",
        "CONVOLUTION_NUMBER = 1\n",
        "from tensorflow.keras import models\n",
        "layer_outputs = [layer.output for layer in model.layers]\n",
        "activation_model = tf.keras.models.Model(inputs = model.input, outputs = layer_outputs)\n",
        "for x in range(0,4):\n",
        "  f1 = activation_model.predict(test_images[FIRST_IMAGE].reshape(1, 28, 28, 1))[x]\n",
        "  axarr[0,x].imshow(f1[0, : , :, CONVOLUTION_NUMBER], cmap='gray')\n",
        "  axarr[0,x].grid(False)\n",
        "  f2 = activation_model.predict(test_images[SECOND_IMAGE].reshape(1, 28, 28, 1))[x]\n",
        "  axarr[1,x].imshow(f2[0, : , :, CONVOLUTION_NUMBER], cmap='gray')\n",
        "  axarr[1,x].grid(False)\n",
        "  f3 = activation_model.predict(test_images[THIRD_IMAGE].reshape(1, 28, 28, 1))[x]\n",
        "  axarr[2,x].imshow(f3[0, : , :, CONVOLUTION_NUMBER], cmap='gray')\n",
        "  axarr[2,x].grid(False)"
      ],
      "execution_count": 37,
      "outputs": [
        {
          "output_type": "display_data",
          "data": {
            "image/png": "[encoded data removed]",
            "text/plain": [
              "<Figure size 432x288 with 12 Axes>"
            ]
          },
          "metadata": {
            "tags": [],
            "needs_background": "light"
          }
        }
      ]
    },
    {
      "cell_type": "markdown",
      "metadata": {
        "id": "rNsuvfZomzSV",
        "colab_type": "text"
      },
      "source": [
        "  The print (test_labels[;100]) shows us the first 100 labels in the test set.  \n",
        "  The ones at index 0, index 23 and index 28 are all the same value (9).\n",
        "\n",
        "  They're all shoes. \n",
        "\n",
        "  Each convolution run (see above) shows common features emerging.\n",
        "  The size of th image is going lower and lower as move row wise.\n",
        "\n",
        "  Now, when the DNN is training on that data, it's working with a lot less, and it's perhaps finding a commonality between shoes based on this convolution/pooling combination."
      ]
    },
    {
      "cell_type": "code",
      "metadata": {
        "id": "QCZ3yztQmafM",
        "colab_type": "code",
        "colab": {}
      },
      "source": [
        ""
      ],
      "execution_count": null,
      "outputs": []
    }
  ]
}