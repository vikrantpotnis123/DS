{
  "nbformat": 4,
  "nbformat_minor": 0,
  "metadata": {
    "colab": {
      "name": "TED_basics",
      "provenance": [],
      "collapsed_sections": [],
      "authorship_tag": "ABX9TyNtgkURXzjROv/VsBTwyDHR",
      "include_colab_link": true
    },
    "kernelspec": {
      "name": "python3",
      "display_name": "Python 3"
    }
  },
  "cells": [
    {
      "cell_type": "markdown",
      "metadata": {
        "id": "view-in-github",
        "colab_type": "text"
      },
      "source": [
        "<a href=\"https://colab.research.google.com/github/vikrantpotnis123/DS/blob/master/TED_basics.ipynb\" target=\"_parent\"><img src=\"https://colab.research.google.com/assets/colab-badge.svg\" alt=\"Open In Colab\"/></a>"
      ]
    },
    {
      "cell_type": "code",
      "metadata": {
        "id": "ffv7GVXVlUG5",
        "colab_type": "code",
        "colab": {
          "base_uri": "https://localhost:8080/",
          "height": 35
        },
        "outputId": "43d89f8b-7775-43d7-cb12-eb3e181d18eb"
      },
      "source": [
        "import pandas as pd\n",
        "import matplotlib.pyplot as plt\n",
        "%matplotlib inline\n",
        "pd.__version__\n"
      ],
      "execution_count": null,
      "outputs": [
        {
          "output_type": "execute_result",
          "data": {
            "text/plain": [
              "'1.0.4'"
            ]
          },
          "metadata": {
            "tags": []
          },
          "execution_count": 74
        }
      ]
    },
    {
      "cell_type": "code",
      "metadata": {
        "id": "9f4Go1c5lby3",
        "colab_type": "code",
        "colab": {}
      },
      "source": [
        "ted = pd.read_csv(\"https://raw.githubusercontent.com/justmarkham/pycon-2019-tutorial/master/ted.csv\")"
      ],
      "execution_count": null,
      "outputs": []
    },
    {
      "cell_type": "code",
      "metadata": {
        "id": "kzTIqC1E2T6p",
        "colab_type": "code",
        "colab": {
          "base_uri": "https://localhost:8080/",
          "height": 35
        },
        "outputId": "87fa07c6-6ab5-4c2b-af75-2e86d1c87325"
      },
      "source": [
        "ted.shape"
      ],
      "execution_count": null,
      "outputs": [
        {
          "output_type": "execute_result",
          "data": {
            "text/plain": [
              "(2550, 17)"
            ]
          },
          "metadata": {
            "tags": []
          },
          "execution_count": 76
        }
      ]
    },
    {
      "cell_type": "code",
      "metadata": {
        "id": "f6IfNpeale7p",
        "colab_type": "code",
        "colab": {
          "base_uri": "https://localhost:8080/",
          "height": 106
        },
        "outputId": "a7da6f48-382c-4077-f848-9eada86b15f0"
      },
      "source": [
        "ted.columns"
      ],
      "execution_count": null,
      "outputs": [
        {
          "output_type": "execute_result",
          "data": {
            "text/plain": [
              "Index(['comments', 'description', 'duration', 'event', 'film_date',\n",
              "       'languages', 'main_speaker', 'name', 'num_speaker', 'published_date',\n",
              "       'ratings', 'related_talks', 'speaker_occupation', 'tags', 'title',\n",
              "       'url', 'views'],\n",
              "      dtype='object')"
            ]
          },
          "metadata": {
            "tags": []
          },
          "execution_count": 77
        }
      ]
    },
    {
      "cell_type": "code",
      "metadata": {
        "id": "NuXkgD_jmVp5",
        "colab_type": "code",
        "colab": {
          "base_uri": "https://localhost:8080/",
          "height": 337
        },
        "outputId": "cd4c8d32-c693-41a9-ac49-164439ec7dd1"
      },
      "source": [
        "ted.dtypes"
      ],
      "execution_count": null,
      "outputs": [
        {
          "output_type": "execute_result",
          "data": {
            "text/plain": [
              "comments               int64\n",
              "description           object\n",
              "duration               int64\n",
              "event                 object\n",
              "film_date              int64\n",
              "languages              int64\n",
              "main_speaker          object\n",
              "name                  object\n",
              "num_speaker            int64\n",
              "published_date         int64\n",
              "ratings               object\n",
              "related_talks         object\n",
              "speaker_occupation    object\n",
              "tags                  object\n",
              "title                 object\n",
              "url                   object\n",
              "views                  int64\n",
              "dtype: object"
            ]
          },
          "metadata": {
            "tags": []
          },
          "execution_count": 78
        }
      ]
    },
    {
      "cell_type": "code",
      "metadata": {
        "id": "GonlObTPnTfe",
        "colab_type": "code",
        "colab": {
          "base_uri": "https://localhost:8080/",
          "height": 608
        },
        "outputId": "43436e77-8eb7-452e-9d77-f9eeb920a15d"
      },
      "source": [
        "ted.head()"
      ],
      "execution_count": null,
      "outputs": [
        {
          "output_type": "execute_result",
          "data": {
            "text/html": [
              "<div>\n",
              "<style scoped>\n",
              "    .dataframe tbody tr th:only-of-type {\n",
              "        vertical-align: middle;\n",
              "    }\n",
              "\n",
              "    .dataframe tbody tr th {\n",
              "        vertical-align: top;\n",
              "    }\n",
              "\n",
              "    .dataframe thead th {\n",
              "        text-align: right;\n",
              "    }\n",
              "</style>\n",
              "<table border=\"1\" class=\"dataframe\">\n",
              "  <thead>\n",
              "    <tr style=\"text-align: right;\">\n",
              "      <th></th>\n",
              "      <th>comments</th>\n",
              "      <th>description</th>\n",
              "      <th>duration</th>\n",
              "      <th>event</th>\n",
              "      <th>film_date</th>\n",
              "      <th>languages</th>\n",
              "      <th>main_speaker</th>\n",
              "      <th>name</th>\n",
              "      <th>num_speaker</th>\n",
              "      <th>published_date</th>\n",
              "      <th>ratings</th>\n",
              "      <th>related_talks</th>\n",
              "      <th>speaker_occupation</th>\n",
              "      <th>tags</th>\n",
              "      <th>title</th>\n",
              "      <th>url</th>\n",
              "      <th>views</th>\n",
              "    </tr>\n",
              "  </thead>\n",
              "  <tbody>\n",
              "    <tr>\n",
              "      <th>0</th>\n",
              "      <td>4553</td>\n",
              "      <td>Sir Ken Robinson makes an entertaining and pro...</td>\n",
              "      <td>1164</td>\n",
              "      <td>TED2006</td>\n",
              "      <td>1140825600</td>\n",
              "      <td>60</td>\n",
              "      <td>Ken Robinson</td>\n",
              "      <td>Ken Robinson: Do schools kill creativity?</td>\n",
              "      <td>1</td>\n",
              "      <td>1151367060</td>\n",
              "      <td>[{'id': 7, 'name': 'Funny', 'count': 19645}, {...</td>\n",
              "      <td>[{'id': 865, 'hero': 'https://pe.tedcdn.com/im...</td>\n",
              "      <td>Author/educator</td>\n",
              "      <td>['children', 'creativity', 'culture', 'dance',...</td>\n",
              "      <td>Do schools kill creativity?</td>\n",
              "      <td>https://www.ted.com/talks/ken_robinson_says_sc...</td>\n",
              "      <td>47227110</td>\n",
              "    </tr>\n",
              "    <tr>\n",
              "      <th>1</th>\n",
              "      <td>265</td>\n",
              "      <td>With the same humor and humanity he exuded in ...</td>\n",
              "      <td>977</td>\n",
              "      <td>TED2006</td>\n",
              "      <td>1140825600</td>\n",
              "      <td>43</td>\n",
              "      <td>Al Gore</td>\n",
              "      <td>Al Gore: Averting the climate crisis</td>\n",
              "      <td>1</td>\n",
              "      <td>1151367060</td>\n",
              "      <td>[{'id': 7, 'name': 'Funny', 'count': 544}, {'i...</td>\n",
              "      <td>[{'id': 243, 'hero': 'https://pe.tedcdn.com/im...</td>\n",
              "      <td>Climate advocate</td>\n",
              "      <td>['alternative energy', 'cars', 'climate change...</td>\n",
              "      <td>Averting the climate crisis</td>\n",
              "      <td>https://www.ted.com/talks/al_gore_on_averting_...</td>\n",
              "      <td>3200520</td>\n",
              "    </tr>\n",
              "    <tr>\n",
              "      <th>2</th>\n",
              "      <td>124</td>\n",
              "      <td>New York Times columnist David Pogue takes aim...</td>\n",
              "      <td>1286</td>\n",
              "      <td>TED2006</td>\n",
              "      <td>1140739200</td>\n",
              "      <td>26</td>\n",
              "      <td>David Pogue</td>\n",
              "      <td>David Pogue: Simplicity sells</td>\n",
              "      <td>1</td>\n",
              "      <td>1151367060</td>\n",
              "      <td>[{'id': 7, 'name': 'Funny', 'count': 964}, {'i...</td>\n",
              "      <td>[{'id': 1725, 'hero': 'https://pe.tedcdn.com/i...</td>\n",
              "      <td>Technology columnist</td>\n",
              "      <td>['computers', 'entertainment', 'interface desi...</td>\n",
              "      <td>Simplicity sells</td>\n",
              "      <td>https://www.ted.com/talks/david_pogue_says_sim...</td>\n",
              "      <td>1636292</td>\n",
              "    </tr>\n",
              "    <tr>\n",
              "      <th>3</th>\n",
              "      <td>200</td>\n",
              "      <td>In an emotionally charged talk, MacArthur-winn...</td>\n",
              "      <td>1116</td>\n",
              "      <td>TED2006</td>\n",
              "      <td>1140912000</td>\n",
              "      <td>35</td>\n",
              "      <td>Majora Carter</td>\n",
              "      <td>Majora Carter: Greening the ghetto</td>\n",
              "      <td>1</td>\n",
              "      <td>1151367060</td>\n",
              "      <td>[{'id': 3, 'name': 'Courageous', 'count': 760}...</td>\n",
              "      <td>[{'id': 1041, 'hero': 'https://pe.tedcdn.com/i...</td>\n",
              "      <td>Activist for environmental justice</td>\n",
              "      <td>['MacArthur grant', 'activism', 'business', 'c...</td>\n",
              "      <td>Greening the ghetto</td>\n",
              "      <td>https://www.ted.com/talks/majora_carter_s_tale...</td>\n",
              "      <td>1697550</td>\n",
              "    </tr>\n",
              "    <tr>\n",
              "      <th>4</th>\n",
              "      <td>593</td>\n",
              "      <td>You've never seen data presented like this. Wi...</td>\n",
              "      <td>1190</td>\n",
              "      <td>TED2006</td>\n",
              "      <td>1140566400</td>\n",
              "      <td>48</td>\n",
              "      <td>Hans Rosling</td>\n",
              "      <td>Hans Rosling: The best stats you've ever seen</td>\n",
              "      <td>1</td>\n",
              "      <td>1151440680</td>\n",
              "      <td>[{'id': 9, 'name': 'Ingenious', 'count': 3202}...</td>\n",
              "      <td>[{'id': 2056, 'hero': 'https://pe.tedcdn.com/i...</td>\n",
              "      <td>Global health expert; data visionary</td>\n",
              "      <td>['Africa', 'Asia', 'Google', 'demo', 'economic...</td>\n",
              "      <td>The best stats you've ever seen</td>\n",
              "      <td>https://www.ted.com/talks/hans_rosling_shows_t...</td>\n",
              "      <td>12005869</td>\n",
              "    </tr>\n",
              "  </tbody>\n",
              "</table>\n",
              "</div>"
            ],
            "text/plain": [
              "   comments  ...     views\n",
              "0      4553  ...  47227110\n",
              "1       265  ...   3200520\n",
              "2       124  ...   1636292\n",
              "3       200  ...   1697550\n",
              "4       593  ...  12005869\n",
              "\n",
              "[5 rows x 17 columns]"
            ]
          },
          "metadata": {
            "tags": []
          },
          "execution_count": 79
        }
      ]
    },
    {
      "cell_type": "code",
      "metadata": {
        "id": "gkrStSSQnxiL",
        "colab_type": "code",
        "colab": {
          "base_uri": "https://localhost:8080/",
          "height": 35
        },
        "outputId": "1bad1569-2e72-4716-9b90-2ebd411421e4"
      },
      "source": [
        "ted.shape"
      ],
      "execution_count": null,
      "outputs": [
        {
          "output_type": "execute_result",
          "data": {
            "text/plain": [
              "(2550, 17)"
            ]
          },
          "metadata": {
            "tags": []
          },
          "execution_count": 80
        }
      ]
    },
    {
      "cell_type": "code",
      "metadata": {
        "id": "PX4R0xUuoMDN",
        "colab_type": "code",
        "colab": {
          "base_uri": "https://localhost:8080/",
          "height": 337
        },
        "outputId": "09e6432c-1765-48c3-ec51-d71b5e917345"
      },
      "source": [
        "ted.dtypes"
      ],
      "execution_count": null,
      "outputs": [
        {
          "output_type": "execute_result",
          "data": {
            "text/plain": [
              "comments               int64\n",
              "description           object\n",
              "duration               int64\n",
              "event                 object\n",
              "film_date              int64\n",
              "languages              int64\n",
              "main_speaker          object\n",
              "name                  object\n",
              "num_speaker            int64\n",
              "published_date         int64\n",
              "ratings               object\n",
              "related_talks         object\n",
              "speaker_occupation    object\n",
              "tags                  object\n",
              "title                 object\n",
              "url                   object\n",
              "views                  int64\n",
              "dtype: object"
            ]
          },
          "metadata": {
            "tags": []
          },
          "execution_count": 81
        }
      ]
    },
    {
      "cell_type": "code",
      "metadata": {
        "id": "fk0tLZ0JoNmr",
        "colab_type": "code",
        "colab": {
          "base_uri": "https://localhost:8080/",
          "height": 337
        },
        "outputId": "f4b19d7f-0456-4204-f808-8ed38e351a8f"
      },
      "source": [
        "# check for missing values\n",
        "ted.isna().sum() # missing values in rows"
      ],
      "execution_count": null,
      "outputs": [
        {
          "output_type": "execute_result",
          "data": {
            "text/plain": [
              "comments              0\n",
              "description           0\n",
              "duration              0\n",
              "event                 0\n",
              "film_date             0\n",
              "languages             0\n",
              "main_speaker          0\n",
              "name                  0\n",
              "num_speaker           0\n",
              "published_date        0\n",
              "ratings               0\n",
              "related_talks         0\n",
              "speaker_occupation    6\n",
              "tags                  0\n",
              "title                 0\n",
              "url                   0\n",
              "views                 0\n",
              "dtype: int64"
            ]
          },
          "metadata": {
            "tags": []
          },
          "execution_count": 82
        }
      ]
    },
    {
      "cell_type": "markdown",
      "metadata": {
        "id": "Zr5kDPDto6sZ",
        "colab_type": "text"
      },
      "source": [
        "## Which talks provoke most online discussion?\n",
        "\n",
        "---\n",
        "\n"
      ]
    },
    {
      "cell_type": "code",
      "metadata": {
        "id": "T4djpAKRo7K6",
        "colab_type": "code",
        "colab": {
          "base_uri": "https://localhost:8080/",
          "height": 539
        },
        "outputId": "d6e7090c-ce57-47cc-b335-67fc028f7c00"
      },
      "source": [
        "ted.sort_values('comments').tail()"
      ],
      "execution_count": null,
      "outputs": [
        {
          "output_type": "execute_result",
          "data": {
            "text/html": [
              "<div>\n",
              "<style scoped>\n",
              "    .dataframe tbody tr th:only-of-type {\n",
              "        vertical-align: middle;\n",
              "    }\n",
              "\n",
              "    .dataframe tbody tr th {\n",
              "        vertical-align: top;\n",
              "    }\n",
              "\n",
              "    .dataframe thead th {\n",
              "        text-align: right;\n",
              "    }\n",
              "</style>\n",
              "<table border=\"1\" class=\"dataframe\">\n",
              "  <thead>\n",
              "    <tr style=\"text-align: right;\">\n",
              "      <th></th>\n",
              "      <th>comments</th>\n",
              "      <th>description</th>\n",
              "      <th>duration</th>\n",
              "      <th>event</th>\n",
              "      <th>film_date</th>\n",
              "      <th>languages</th>\n",
              "      <th>main_speaker</th>\n",
              "      <th>name</th>\n",
              "      <th>num_speaker</th>\n",
              "      <th>published_date</th>\n",
              "      <th>ratings</th>\n",
              "      <th>related_talks</th>\n",
              "      <th>speaker_occupation</th>\n",
              "      <th>tags</th>\n",
              "      <th>title</th>\n",
              "      <th>url</th>\n",
              "      <th>views</th>\n",
              "    </tr>\n",
              "  </thead>\n",
              "  <tbody>\n",
              "    <tr>\n",
              "      <th>1787</th>\n",
              "      <td>2673</td>\n",
              "      <td>Our consciousness is a fundamental aspect of o...</td>\n",
              "      <td>1117</td>\n",
              "      <td>TED2014</td>\n",
              "      <td>1395100800</td>\n",
              "      <td>33</td>\n",
              "      <td>David Chalmers</td>\n",
              "      <td>David Chalmers: How do you explain consciousness?</td>\n",
              "      <td>1</td>\n",
              "      <td>1405350484</td>\n",
              "      <td>[{'id': 25, 'name': 'OK', 'count': 280}, {'id'...</td>\n",
              "      <td>[{'id': 1308, 'hero': 'https://pe.tedcdn.com/i...</td>\n",
              "      <td>Philosopher</td>\n",
              "      <td>['brain', 'consciousness', 'neuroscience', 'ph...</td>\n",
              "      <td>How do you explain consciousness?</td>\n",
              "      <td>https://www.ted.com/talks/david_chalmers_how_d...</td>\n",
              "      <td>2162764</td>\n",
              "    </tr>\n",
              "    <tr>\n",
              "      <th>201</th>\n",
              "      <td>2877</td>\n",
              "      <td>Jill Bolte Taylor got a research opportunity f...</td>\n",
              "      <td>1099</td>\n",
              "      <td>TED2008</td>\n",
              "      <td>1204070400</td>\n",
              "      <td>49</td>\n",
              "      <td>Jill Bolte Taylor</td>\n",
              "      <td>Jill Bolte Taylor: My stroke of insight</td>\n",
              "      <td>1</td>\n",
              "      <td>1205284200</td>\n",
              "      <td>[{'id': 22, 'name': 'Fascinating', 'count': 14...</td>\n",
              "      <td>[{'id': 184, 'hero': 'https://pe.tedcdn.com/im...</td>\n",
              "      <td>Neuroanatomist</td>\n",
              "      <td>['biology', 'brain', 'consciousness', 'global ...</td>\n",
              "      <td>My stroke of insight</td>\n",
              "      <td>https://www.ted.com/talks/jill_bolte_taylor_s_...</td>\n",
              "      <td>21190883</td>\n",
              "    </tr>\n",
              "    <tr>\n",
              "      <th>644</th>\n",
              "      <td>3356</td>\n",
              "      <td>Questions of good and evil, right and wrong ar...</td>\n",
              "      <td>1386</td>\n",
              "      <td>TED2010</td>\n",
              "      <td>1265846400</td>\n",
              "      <td>39</td>\n",
              "      <td>Sam Harris</td>\n",
              "      <td>Sam Harris: Science can answer moral questions</td>\n",
              "      <td>1</td>\n",
              "      <td>1269249180</td>\n",
              "      <td>[{'id': 8, 'name': 'Informative', 'count': 923...</td>\n",
              "      <td>[{'id': 666, 'hero': 'https://pe.tedcdn.com/im...</td>\n",
              "      <td>Neuroscientist, philosopher</td>\n",
              "      <td>['culture', 'evolutionary psychology', 'global...</td>\n",
              "      <td>Science can answer moral questions</td>\n",
              "      <td>https://www.ted.com/talks/sam_harris_science_c...</td>\n",
              "      <td>3433437</td>\n",
              "    </tr>\n",
              "    <tr>\n",
              "      <th>0</th>\n",
              "      <td>4553</td>\n",
              "      <td>Sir Ken Robinson makes an entertaining and pro...</td>\n",
              "      <td>1164</td>\n",
              "      <td>TED2006</td>\n",
              "      <td>1140825600</td>\n",
              "      <td>60</td>\n",
              "      <td>Ken Robinson</td>\n",
              "      <td>Ken Robinson: Do schools kill creativity?</td>\n",
              "      <td>1</td>\n",
              "      <td>1151367060</td>\n",
              "      <td>[{'id': 7, 'name': 'Funny', 'count': 19645}, {...</td>\n",
              "      <td>[{'id': 865, 'hero': 'https://pe.tedcdn.com/im...</td>\n",
              "      <td>Author/educator</td>\n",
              "      <td>['children', 'creativity', 'culture', 'dance',...</td>\n",
              "      <td>Do schools kill creativity?</td>\n",
              "      <td>https://www.ted.com/talks/ken_robinson_says_sc...</td>\n",
              "      <td>47227110</td>\n",
              "    </tr>\n",
              "    <tr>\n",
              "      <th>96</th>\n",
              "      <td>6404</td>\n",
              "      <td>Richard Dawkins urges all atheists to openly s...</td>\n",
              "      <td>1750</td>\n",
              "      <td>TED2002</td>\n",
              "      <td>1012608000</td>\n",
              "      <td>42</td>\n",
              "      <td>Richard Dawkins</td>\n",
              "      <td>Richard Dawkins: Militant atheism</td>\n",
              "      <td>1</td>\n",
              "      <td>1176689220</td>\n",
              "      <td>[{'id': 3, 'name': 'Courageous', 'count': 3236...</td>\n",
              "      <td>[{'id': 86, 'hero': 'https://pe.tedcdn.com/ima...</td>\n",
              "      <td>Evolutionary biologist</td>\n",
              "      <td>['God', 'atheism', 'culture', 'religion', 'sci...</td>\n",
              "      <td>Militant atheism</td>\n",
              "      <td>https://www.ted.com/talks/richard_dawkins_on_m...</td>\n",
              "      <td>4374792</td>\n",
              "    </tr>\n",
              "  </tbody>\n",
              "</table>\n",
              "</div>"
            ],
            "text/plain": [
              "      comments  ...     views\n",
              "1787      2673  ...   2162764\n",
              "201       2877  ...  21190883\n",
              "644       3356  ...   3433437\n",
              "0         4553  ...  47227110\n",
              "96        6404  ...   4374792\n",
              "\n",
              "[5 rows x 17 columns]"
            ]
          },
          "metadata": {
            "tags": []
          },
          "execution_count": 83
        }
      ]
    },
    {
      "cell_type": "markdown",
      "metadata": {
        "id": "-Eq18JkIpltD",
        "colab_type": "text"
      },
      "source": [
        "## How long it has been online?"
      ]
    },
    {
      "cell_type": "code",
      "metadata": {
        "id": "0bpegSbWpo4m",
        "colab_type": "code",
        "colab": {}
      },
      "source": [
        "ted['comments_per_view'] = ted.comments /ted.views"
      ],
      "execution_count": null,
      "outputs": []
    },
    {
      "cell_type": "code",
      "metadata": {
        "id": "zG3XYM7Ppzzg",
        "colab_type": "code",
        "colab": {
          "base_uri": "https://localhost:8080/",
          "height": 608
        },
        "outputId": "a463c6b5-86e8-49d7-fed1-d8f5d0340340"
      },
      "source": [
        "ted.sort_values('comments_per_view').tail()\n"
      ],
      "execution_count": null,
      "outputs": [
        {
          "output_type": "execute_result",
          "data": {
            "text/html": [
              "<div>\n",
              "<style scoped>\n",
              "    .dataframe tbody tr th:only-of-type {\n",
              "        vertical-align: middle;\n",
              "    }\n",
              "\n",
              "    .dataframe tbody tr th {\n",
              "        vertical-align: top;\n",
              "    }\n",
              "\n",
              "    .dataframe thead th {\n",
              "        text-align: right;\n",
              "    }\n",
              "</style>\n",
              "<table border=\"1\" class=\"dataframe\">\n",
              "  <thead>\n",
              "    <tr style=\"text-align: right;\">\n",
              "      <th></th>\n",
              "      <th>comments</th>\n",
              "      <th>description</th>\n",
              "      <th>duration</th>\n",
              "      <th>event</th>\n",
              "      <th>film_date</th>\n",
              "      <th>languages</th>\n",
              "      <th>main_speaker</th>\n",
              "      <th>name</th>\n",
              "      <th>num_speaker</th>\n",
              "      <th>published_date</th>\n",
              "      <th>ratings</th>\n",
              "      <th>related_talks</th>\n",
              "      <th>speaker_occupation</th>\n",
              "      <th>tags</th>\n",
              "      <th>title</th>\n",
              "      <th>url</th>\n",
              "      <th>views</th>\n",
              "      <th>comments_per_view</th>\n",
              "    </tr>\n",
              "  </thead>\n",
              "  <tbody>\n",
              "    <tr>\n",
              "      <th>954</th>\n",
              "      <td>2492</td>\n",
              "      <td>Janet Echelman found her true voice as an arti...</td>\n",
              "      <td>566</td>\n",
              "      <td>TED2011</td>\n",
              "      <td>1299110400</td>\n",
              "      <td>35</td>\n",
              "      <td>Janet Echelman</td>\n",
              "      <td>Janet Echelman: Taking imagination seriously</td>\n",
              "      <td>1</td>\n",
              "      <td>1307489760</td>\n",
              "      <td>[{'id': 23, 'name': 'Jaw-dropping', 'count': 3...</td>\n",
              "      <td>[{'id': 453, 'hero': 'https://pe.tedcdn.com/im...</td>\n",
              "      <td>Artist</td>\n",
              "      <td>['art', 'cities', 'culture', 'data', 'design',...</td>\n",
              "      <td>Taking imagination seriously</td>\n",
              "      <td>https://www.ted.com/talks/janet_echelman</td>\n",
              "      <td>1832930</td>\n",
              "      <td>0.001360</td>\n",
              "    </tr>\n",
              "    <tr>\n",
              "      <th>694</th>\n",
              "      <td>1502</td>\n",
              "      <td>Filmmaker Sharmeen Obaid-Chinoy takes on a ter...</td>\n",
              "      <td>489</td>\n",
              "      <td>TED2010</td>\n",
              "      <td>1265760000</td>\n",
              "      <td>32</td>\n",
              "      <td>Sharmeen Obaid-Chinoy</td>\n",
              "      <td>Sharmeen Obaid-Chinoy: Inside a school for sui...</td>\n",
              "      <td>1</td>\n",
              "      <td>1274865960</td>\n",
              "      <td>[{'id': 23, 'name': 'Jaw-dropping', 'count': 3...</td>\n",
              "      <td>[{'id': 171, 'hero': 'https://pe.tedcdn.com/im...</td>\n",
              "      <td>Filmmaker</td>\n",
              "      <td>['TED Fellows', 'children', 'culture', 'film',...</td>\n",
              "      <td>Inside a school for suicide bombers</td>\n",
              "      <td>https://www.ted.com/talks/sharmeen_obaid_chino...</td>\n",
              "      <td>1057238</td>\n",
              "      <td>0.001421</td>\n",
              "    </tr>\n",
              "    <tr>\n",
              "      <th>96</th>\n",
              "      <td>6404</td>\n",
              "      <td>Richard Dawkins urges all atheists to openly s...</td>\n",
              "      <td>1750</td>\n",
              "      <td>TED2002</td>\n",
              "      <td>1012608000</td>\n",
              "      <td>42</td>\n",
              "      <td>Richard Dawkins</td>\n",
              "      <td>Richard Dawkins: Militant atheism</td>\n",
              "      <td>1</td>\n",
              "      <td>1176689220</td>\n",
              "      <td>[{'id': 3, 'name': 'Courageous', 'count': 3236...</td>\n",
              "      <td>[{'id': 86, 'hero': 'https://pe.tedcdn.com/ima...</td>\n",
              "      <td>Evolutionary biologist</td>\n",
              "      <td>['God', 'atheism', 'culture', 'religion', 'sci...</td>\n",
              "      <td>Militant atheism</td>\n",
              "      <td>https://www.ted.com/talks/richard_dawkins_on_m...</td>\n",
              "      <td>4374792</td>\n",
              "      <td>0.001464</td>\n",
              "    </tr>\n",
              "    <tr>\n",
              "      <th>803</th>\n",
              "      <td>834</td>\n",
              "      <td>David Bismark demos a new system for voting th...</td>\n",
              "      <td>422</td>\n",
              "      <td>TEDGlobal 2010</td>\n",
              "      <td>1279065600</td>\n",
              "      <td>36</td>\n",
              "      <td>David Bismark</td>\n",
              "      <td>David Bismark: E-voting without fraud</td>\n",
              "      <td>1</td>\n",
              "      <td>1288685640</td>\n",
              "      <td>[{'id': 25, 'name': 'OK', 'count': 111}, {'id'...</td>\n",
              "      <td>[{'id': 803, 'hero': 'https://pe.tedcdn.com/im...</td>\n",
              "      <td>Voting system designer</td>\n",
              "      <td>['culture', 'democracy', 'design', 'global iss...</td>\n",
              "      <td>E-voting without fraud</td>\n",
              "      <td>https://www.ted.com/talks/david_bismark_e_voti...</td>\n",
              "      <td>543551</td>\n",
              "      <td>0.001534</td>\n",
              "    </tr>\n",
              "    <tr>\n",
              "      <th>744</th>\n",
              "      <td>649</td>\n",
              "      <td>Hours before New York lawmakers rejected a key...</td>\n",
              "      <td>453</td>\n",
              "      <td>New York State Senate</td>\n",
              "      <td>1259712000</td>\n",
              "      <td>0</td>\n",
              "      <td>Diane J. Savino</td>\n",
              "      <td>Diane J. Savino: The case for same-sex marriage</td>\n",
              "      <td>1</td>\n",
              "      <td>1282062180</td>\n",
              "      <td>[{'id': 25, 'name': 'OK', 'count': 100}, {'id'...</td>\n",
              "      <td>[{'id': 217, 'hero': 'https://pe.tedcdn.com/im...</td>\n",
              "      <td>Senator</td>\n",
              "      <td>['God', 'LGBT', 'culture', 'government', 'law'...</td>\n",
              "      <td>The case for same-sex marriage</td>\n",
              "      <td>https://www.ted.com/talks/diane_j_savino_the_c...</td>\n",
              "      <td>292395</td>\n",
              "      <td>0.002220</td>\n",
              "    </tr>\n",
              "  </tbody>\n",
              "</table>\n",
              "</div>"
            ],
            "text/plain": [
              "     comments  ... comments_per_view\n",
              "954      2492  ...          0.001360\n",
              "694      1502  ...          0.001421\n",
              "96       6404  ...          0.001464\n",
              "803       834  ...          0.001534\n",
              "744       649  ...          0.002220\n",
              "\n",
              "[5 rows x 18 columns]"
            ]
          },
          "metadata": {
            "tags": []
          },
          "execution_count": 85
        }
      ]
    },
    {
      "cell_type": "markdown",
      "metadata": {
        "id": "Ezb8KVDBqQL-",
        "colab_type": "text"
      },
      "source": [
        "## Change to views per comments to make it more readable?\n"
      ]
    },
    {
      "cell_type": "code",
      "metadata": {
        "id": "HoTnSQwBp8Ul",
        "colab_type": "code",
        "colab": {}
      },
      "source": [
        "ted['views_per_comment'] = ted.views /ted.comments"
      ],
      "execution_count": null,
      "outputs": []
    },
    {
      "cell_type": "code",
      "metadata": {
        "id": "RcHm5vQ0vmcW",
        "colab_type": "code",
        "colab": {
          "base_uri": "https://localhost:8080/",
          "height": 539
        },
        "outputId": "9f6e48e7-4045-4790-d851-bc5b3e287c21"
      },
      "source": [
        "ted.sort_values('comments').tail()"
      ],
      "execution_count": null,
      "outputs": [
        {
          "output_type": "execute_result",
          "data": {
            "text/html": [
              "<div>\n",
              "<style scoped>\n",
              "    .dataframe tbody tr th:only-of-type {\n",
              "        vertical-align: middle;\n",
              "    }\n",
              "\n",
              "    .dataframe tbody tr th {\n",
              "        vertical-align: top;\n",
              "    }\n",
              "\n",
              "    .dataframe thead th {\n",
              "        text-align: right;\n",
              "    }\n",
              "</style>\n",
              "<table border=\"1\" class=\"dataframe\">\n",
              "  <thead>\n",
              "    <tr style=\"text-align: right;\">\n",
              "      <th></th>\n",
              "      <th>comments</th>\n",
              "      <th>description</th>\n",
              "      <th>duration</th>\n",
              "      <th>event</th>\n",
              "      <th>film_date</th>\n",
              "      <th>languages</th>\n",
              "      <th>main_speaker</th>\n",
              "      <th>name</th>\n",
              "      <th>num_speaker</th>\n",
              "      <th>published_date</th>\n",
              "      <th>ratings</th>\n",
              "      <th>related_talks</th>\n",
              "      <th>speaker_occupation</th>\n",
              "      <th>tags</th>\n",
              "      <th>title</th>\n",
              "      <th>url</th>\n",
              "      <th>views</th>\n",
              "      <th>comments_per_view</th>\n",
              "      <th>views_per_comment</th>\n",
              "    </tr>\n",
              "  </thead>\n",
              "  <tbody>\n",
              "    <tr>\n",
              "      <th>1787</th>\n",
              "      <td>2673</td>\n",
              "      <td>Our consciousness is a fundamental aspect of o...</td>\n",
              "      <td>1117</td>\n",
              "      <td>TED2014</td>\n",
              "      <td>1395100800</td>\n",
              "      <td>33</td>\n",
              "      <td>David Chalmers</td>\n",
              "      <td>David Chalmers: How do you explain consciousness?</td>\n",
              "      <td>1</td>\n",
              "      <td>1405350484</td>\n",
              "      <td>[{'id': 25, 'name': 'OK', 'count': 280}, {'id'...</td>\n",
              "      <td>[{'id': 1308, 'hero': 'https://pe.tedcdn.com/i...</td>\n",
              "      <td>Philosopher</td>\n",
              "      <td>['brain', 'consciousness', 'neuroscience', 'ph...</td>\n",
              "      <td>How do you explain consciousness?</td>\n",
              "      <td>https://www.ted.com/talks/david_chalmers_how_d...</td>\n",
              "      <td>2162764</td>\n",
              "      <td>0.001236</td>\n",
              "      <td>809.114852</td>\n",
              "    </tr>\n",
              "    <tr>\n",
              "      <th>201</th>\n",
              "      <td>2877</td>\n",
              "      <td>Jill Bolte Taylor got a research opportunity f...</td>\n",
              "      <td>1099</td>\n",
              "      <td>TED2008</td>\n",
              "      <td>1204070400</td>\n",
              "      <td>49</td>\n",
              "      <td>Jill Bolte Taylor</td>\n",
              "      <td>Jill Bolte Taylor: My stroke of insight</td>\n",
              "      <td>1</td>\n",
              "      <td>1205284200</td>\n",
              "      <td>[{'id': 22, 'name': 'Fascinating', 'count': 14...</td>\n",
              "      <td>[{'id': 184, 'hero': 'https://pe.tedcdn.com/im...</td>\n",
              "      <td>Neuroanatomist</td>\n",
              "      <td>['biology', 'brain', 'consciousness', 'global ...</td>\n",
              "      <td>My stroke of insight</td>\n",
              "      <td>https://www.ted.com/talks/jill_bolte_taylor_s_...</td>\n",
              "      <td>21190883</td>\n",
              "      <td>0.000136</td>\n",
              "      <td>7365.618005</td>\n",
              "    </tr>\n",
              "    <tr>\n",
              "      <th>644</th>\n",
              "      <td>3356</td>\n",
              "      <td>Questions of good and evil, right and wrong ar...</td>\n",
              "      <td>1386</td>\n",
              "      <td>TED2010</td>\n",
              "      <td>1265846400</td>\n",
              "      <td>39</td>\n",
              "      <td>Sam Harris</td>\n",
              "      <td>Sam Harris: Science can answer moral questions</td>\n",
              "      <td>1</td>\n",
              "      <td>1269249180</td>\n",
              "      <td>[{'id': 8, 'name': 'Informative', 'count': 923...</td>\n",
              "      <td>[{'id': 666, 'hero': 'https://pe.tedcdn.com/im...</td>\n",
              "      <td>Neuroscientist, philosopher</td>\n",
              "      <td>['culture', 'evolutionary psychology', 'global...</td>\n",
              "      <td>Science can answer moral questions</td>\n",
              "      <td>https://www.ted.com/talks/sam_harris_science_c...</td>\n",
              "      <td>3433437</td>\n",
              "      <td>0.000977</td>\n",
              "      <td>1023.074195</td>\n",
              "    </tr>\n",
              "    <tr>\n",
              "      <th>0</th>\n",
              "      <td>4553</td>\n",
              "      <td>Sir Ken Robinson makes an entertaining and pro...</td>\n",
              "      <td>1164</td>\n",
              "      <td>TED2006</td>\n",
              "      <td>1140825600</td>\n",
              "      <td>60</td>\n",
              "      <td>Ken Robinson</td>\n",
              "      <td>Ken Robinson: Do schools kill creativity?</td>\n",
              "      <td>1</td>\n",
              "      <td>1151367060</td>\n",
              "      <td>[{'id': 7, 'name': 'Funny', 'count': 19645}, {...</td>\n",
              "      <td>[{'id': 865, 'hero': 'https://pe.tedcdn.com/im...</td>\n",
              "      <td>Author/educator</td>\n",
              "      <td>['children', 'creativity', 'culture', 'dance',...</td>\n",
              "      <td>Do schools kill creativity?</td>\n",
              "      <td>https://www.ted.com/talks/ken_robinson_says_sc...</td>\n",
              "      <td>47227110</td>\n",
              "      <td>0.000096</td>\n",
              "      <td>10372.745443</td>\n",
              "    </tr>\n",
              "    <tr>\n",
              "      <th>96</th>\n",
              "      <td>6404</td>\n",
              "      <td>Richard Dawkins urges all atheists to openly s...</td>\n",
              "      <td>1750</td>\n",
              "      <td>TED2002</td>\n",
              "      <td>1012608000</td>\n",
              "      <td>42</td>\n",
              "      <td>Richard Dawkins</td>\n",
              "      <td>Richard Dawkins: Militant atheism</td>\n",
              "      <td>1</td>\n",
              "      <td>1176689220</td>\n",
              "      <td>[{'id': 3, 'name': 'Courageous', 'count': 3236...</td>\n",
              "      <td>[{'id': 86, 'hero': 'https://pe.tedcdn.com/ima...</td>\n",
              "      <td>Evolutionary biologist</td>\n",
              "      <td>['God', 'atheism', 'culture', 'religion', 'sci...</td>\n",
              "      <td>Militant atheism</td>\n",
              "      <td>https://www.ted.com/talks/richard_dawkins_on_m...</td>\n",
              "      <td>4374792</td>\n",
              "      <td>0.001464</td>\n",
              "      <td>683.134291</td>\n",
              "    </tr>\n",
              "  </tbody>\n",
              "</table>\n",
              "</div>"
            ],
            "text/plain": [
              "      comments  ... views_per_comment\n",
              "1787      2673  ...        809.114852\n",
              "201       2877  ...       7365.618005\n",
              "644       3356  ...       1023.074195\n",
              "0         4553  ...      10372.745443\n",
              "96        6404  ...        683.134291\n",
              "\n",
              "[5 rows x 19 columns]"
            ]
          },
          "metadata": {
            "tags": []
          },
          "execution_count": 87
        }
      ]
    },
    {
      "cell_type": "markdown",
      "metadata": {
        "id": "Serm_WFpuK09",
        "colab_type": "text"
      },
      "source": [
        "## Visualize the distribution of comments"
      ]
    },
    {
      "cell_type": "code",
      "metadata": {
        "id": "lv3PUxIuuvK2",
        "colab_type": "code",
        "colab": {
          "base_uri": "https://localhost:8080/",
          "height": 283
        },
        "outputId": "eb408ded-5d74-454a-dd9f-94b72b4528c4"
      },
      "source": [
        "ted.comments.plot()"
      ],
      "execution_count": null,
      "outputs": [
        {
          "output_type": "execute_result",
          "data": {
            "text/plain": [
              "<matplotlib.axes._subplots.AxesSubplot at 0x7fd6bc78e208>"
            ]
          },
          "metadata": {
            "tags": []
          },
          "execution_count": 88
        },
        {
          "output_type": "display_data",
          "data": {
            "image/png": "[encoded data removed]",
            "text/plain": [
              "<Figure size 432x288 with 1 Axes>"
            ]
          },
          "metadata": {
            "tags": [],
            "needs_background": "light"
          }
        }
      ]
    },
    {
      "cell_type": "markdown",
      "metadata": {
        "id": "xAAS7zHau17s",
        "colab_type": "text"
      },
      "source": [
        "X is the index\n",
        "and Y is the values"
      ]
    },
    {
      "cell_type": "code",
      "metadata": {
        "id": "NXw2PJgwuyCu",
        "colab_type": "code",
        "colab": {
          "base_uri": "https://localhost:8080/",
          "height": 283
        },
        "outputId": "1d986567-aa4f-4cae-c231-b366a9739f18"
      },
      "source": [
        "ted.comments.plot(kind='hist')"
      ],
      "execution_count": null,
      "outputs": [
        {
          "output_type": "execute_result",
          "data": {
            "text/plain": [
              "<matplotlib.axes._subplots.AxesSubplot at 0x7fd6bb4ed748>"
            ]
          },
          "metadata": {
            "tags": []
          },
          "execution_count": 89
        },
        {
          "output_type": "display_data",
          "data": {
            "image/png": "[encoded data removed]",
            "text/plain": [
              "<Figure size 432x288 with 1 Axes>"
            ]
          },
          "metadata": {
            "tags": [],
            "needs_background": "light"
          }
        }
      ]
    },
    {
      "cell_type": "markdown",
      "metadata": {
        "id": "4Dld8SVZyE2z",
        "colab_type": "text"
      },
      "source": [
        "## What does the distribution look like within 0-600 talks?"
      ]
    },
    {
      "cell_type": "code",
      "metadata": {
        "id": "lHVg4gmVySKu",
        "colab_type": "code",
        "colab": {
          "base_uri": "https://localhost:8080/",
          "height": 35
        },
        "outputId": "f4da8358-6fb0-4416-c3cf-595dfbf72d30"
      },
      "source": [
        "ted[ted['comments'] >= 1000].shape"
      ],
      "execution_count": null,
      "outputs": [
        {
          "output_type": "execute_result",
          "data": {
            "text/plain": [
              "(32, 19)"
            ]
          },
          "metadata": {
            "tags": []
          },
          "execution_count": 90
        }
      ]
    },
    {
      "cell_type": "code",
      "metadata": {
        "id": "LzEIFgfPwBhx",
        "colab_type": "code",
        "colab": {
          "base_uri": "https://localhost:8080/",
          "height": 283
        },
        "outputId": "d673f449-5681-4978-adfd-c234d5bc15e2"
      },
      "source": [
        "ted[ted['comments'] < 1000]['comments'].plot(kind='hist', bins=20)"
      ],
      "execution_count": null,
      "outputs": [
        {
          "output_type": "execute_result",
          "data": {
            "text/plain": [
              "<matplotlib.axes._subplots.AxesSubplot at 0x7fd6bb46b320>"
            ]
          },
          "metadata": {
            "tags": []
          },
          "execution_count": 91
        },
        {
          "output_type": "display_data",
          "data": {
            "image/png": "[encoded data removed]",
            "text/plain": [
              "<Figure size 432x288 with 1 Axes>"
            ]
          },
          "metadata": {
            "tags": [],
            "needs_background": "light"
          }
        }
      ]
    },
    {
      "cell_type": "markdown",
      "metadata": {
        "id": "N8UEFXWsyEOr",
        "colab_type": "text"
      },
      "source": [
        "\n",
        "## Try box plot?\n",
        "\n"
      ]
    },
    {
      "cell_type": "code",
      "metadata": {
        "id": "u7OlzCdEzp9N",
        "colab_type": "code",
        "colab": {
          "base_uri": "https://localhost:8080/",
          "height": 283
        },
        "outputId": "9eaaaebc-34d8-4597-da85-961fae262add"
      },
      "source": [
        "ted[ted['comments'] < 1000]['comments'].plot(kind='box')"
      ],
      "execution_count": null,
      "outputs": [
        {
          "output_type": "execute_result",
          "data": {
            "text/plain": [
              "<matplotlib.axes._subplots.AxesSubplot at 0x7fd6bb4066d8>"
            ]
          },
          "metadata": {
            "tags": []
          },
          "execution_count": 92
        },
        {
          "output_type": "display_data",
          "data": {
            "image/png": "[encoded data removed]",
            "text/plain": [
              "<Figure size 432x288 with 1 Axes>"
            ]
          },
          "metadata": {
            "tags": [],
            "needs_background": "light"
          }
        }
      ]
    },
    {
      "cell_type": "code",
      "metadata": {
        "id": "fopnN-yQz3XW",
        "colab_type": "code",
        "colab": {}
      },
      "source": [
        ""
      ],
      "execution_count": null,
      "outputs": []
    },
    {
      "cell_type": "markdown",
      "metadata": {
        "id": "ZR55hfUE077z",
        "colab_type": "text"
      },
      "source": [
        "Histograms are good for destributions.\n",
        "\n",
        "Bar plots are good for categories.\n",
        "\n",
        "Line plots are good for time series data.\n",
        "\n",
        "Scatter plots are for comparing multiple numeric variables.\n",
        "\n"
      ]
    },
    {
      "cell_type": "markdown",
      "metadata": {
        "id": "k926k5u21_PC",
        "colab_type": "text"
      },
      "source": [
        "## Plot the number of talks that took place each year."
      ]
    },
    {
      "cell_type": "code",
      "metadata": {
        "id": "Hhna0M1bPPHS",
        "colab_type": "code",
        "colab": {
          "base_uri": "https://localhost:8080/",
          "height": 213
        },
        "outputId": "8a997a8a-77b8-4f5b-eaa2-6fa3c5c53651"
      },
      "source": [
        "ted.event.sample(10)"
      ],
      "execution_count": null,
      "outputs": [
        {
          "output_type": "execute_result",
          "data": {
            "text/plain": [
              "1939            TED2015\n",
              "1018    TEDxBoston 2011\n",
              "2388      TEDWomen 2016\n",
              "2434        TEDMED 2016\n",
              "453             TED2009\n",
              "210             TED2008\n",
              "2503            TED2017\n",
              "2549            TED2017\n",
              "308             TED2008\n",
              "1129    TEDxBloomington\n",
              "Name: event, dtype: object"
            ]
          },
          "metadata": {
            "tags": []
          },
          "execution_count": 93
        }
      ]
    },
    {
      "cell_type": "code",
      "metadata": {
        "id": "YvahftIRgK0V",
        "colab_type": "code",
        "colab": {
          "base_uri": "https://localhost:8080/",
          "height": 124
        },
        "outputId": "6ac2a31a-4128-40ee-c90d-b6623738476a"
      },
      "source": [
        "ted.film_date.head()"
      ],
      "execution_count": null,
      "outputs": [
        {
          "output_type": "execute_result",
          "data": {
            "text/plain": [
              "0    1140825600\n",
              "1    1140825600\n",
              "2    1140739200\n",
              "3    1140912000\n",
              "4    1140566400\n",
              "Name: film_date, dtype: int64"
            ]
          },
          "metadata": {
            "tags": []
          },
          "execution_count": 94
        }
      ]
    },
    {
      "cell_type": "code",
      "metadata": {
        "id": "HCGKjgu0ghIS",
        "colab_type": "code",
        "colab": {
          "base_uri": "https://localhost:8080/",
          "height": 230
        },
        "outputId": "74776a4f-712d-4607-ce39-60f9a047ac69"
      },
      "source": [
        "pd.to_datetime(ted.film_date)"
      ],
      "execution_count": null,
      "outputs": [
        {
          "output_type": "execute_result",
          "data": {
            "text/plain": [
              "0      1970-01-01 00:00:01.140825600\n",
              "1      1970-01-01 00:00:01.140825600\n",
              "2      1970-01-01 00:00:01.140739200\n",
              "3      1970-01-01 00:00:01.140912000\n",
              "4      1970-01-01 00:00:01.140566400\n",
              "                    ...             \n",
              "2545   1970-01-01 00:00:01.496707200\n",
              "2546   1970-01-01 00:00:01.492992000\n",
              "2547   1970-01-01 00:00:01.492992000\n",
              "2548   1970-01-01 00:00:01.499472000\n",
              "2549   1970-01-01 00:00:01.492992000\n",
              "Name: film_date, Length: 2550, dtype: datetime64[ns]"
            ]
          },
          "metadata": {
            "tags": []
          },
          "execution_count": 95
        }
      ]
    },
    {
      "cell_type": "code",
      "metadata": {
        "id": "W3LAI5txglhV",
        "colab_type": "code",
        "colab": {
          "base_uri": "https://localhost:8080/",
          "height": 106
        },
        "outputId": "4cfd27e2-680f-4592-f3eb-eb330d5294fc"
      },
      "source": [
        "ted.columns"
      ],
      "execution_count": null,
      "outputs": [
        {
          "output_type": "execute_result",
          "data": {
            "text/plain": [
              "Index(['comments', 'description', 'duration', 'event', 'film_date',\n",
              "       'languages', 'main_speaker', 'name', 'num_speaker', 'published_date',\n",
              "       'ratings', 'related_talks', 'speaker_occupation', 'tags', 'title',\n",
              "       'url', 'views', 'comments_per_view', 'views_per_comment'],\n",
              "      dtype='object')"
            ]
          },
          "metadata": {
            "tags": []
          },
          "execution_count": 96
        }
      ]
    },
    {
      "cell_type": "code",
      "metadata": {
        "id": "nWK_PQVngrAG",
        "colab_type": "code",
        "colab": {
          "base_uri": "https://localhost:8080/",
          "height": 230
        },
        "outputId": "f09d24d5-780a-43bf-95c5-f91122eb9e64"
      },
      "source": [
        "pd.to_datetime(ted.film_date, unit='s')"
      ],
      "execution_count": null,
      "outputs": [
        {
          "output_type": "execute_result",
          "data": {
            "text/plain": [
              "0      2006-02-25\n",
              "1      2006-02-25\n",
              "2      2006-02-24\n",
              "3      2006-02-26\n",
              "4      2006-02-22\n",
              "          ...    \n",
              "2545   2017-06-06\n",
              "2546   2017-04-24\n",
              "2547   2017-04-24\n",
              "2548   2017-07-08\n",
              "2549   2017-04-24\n",
              "Name: film_date, Length: 2550, dtype: datetime64[ns]"
            ]
          },
          "metadata": {
            "tags": []
          },
          "execution_count": 97
        }
      ]
    },
    {
      "cell_type": "code",
      "metadata": {
        "id": "I-Eu-0m8g5me",
        "colab_type": "code",
        "colab": {}
      },
      "source": [
        "ted['film_date_time'] = pd.to_datetime(ted.film_date, unit='s')"
      ],
      "execution_count": null,
      "outputs": []
    },
    {
      "cell_type": "code",
      "metadata": {
        "id": "1nlJEzxQhAdl",
        "colab_type": "code",
        "colab": {
          "base_uri": "https://localhost:8080/",
          "height": 1000
        },
        "outputId": "b18fc2af-5bd3-491d-819a-6e2eae0d4383"
      },
      "source": [
        "ted[['event', 'film_date_time']].sample(50) "
      ],
      "execution_count": null,
      "outputs": [
        {
          "output_type": "execute_result",
          "data": {
            "text/html": [
              "<div>\n",
              "<style scoped>\n",
              "    .dataframe tbody tr th:only-of-type {\n",
              "        vertical-align: middle;\n",
              "    }\n",
              "\n",
              "    .dataframe tbody tr th {\n",
              "        vertical-align: top;\n",
              "    }\n",
              "\n",
              "    .dataframe thead th {\n",
              "        text-align: right;\n",
              "    }\n",
              "</style>\n",
              "<table border=\"1\" class=\"dataframe\">\n",
              "  <thead>\n",
              "    <tr style=\"text-align: right;\">\n",
              "      <th></th>\n",
              "      <th>event</th>\n",
              "      <th>film_date_time</th>\n",
              "    </tr>\n",
              "  </thead>\n",
              "  <tbody>\n",
              "    <tr>\n",
              "      <th>1110</th>\n",
              "      <td>TEDxWomen 2011</td>\n",
              "      <td>2011-12-01</td>\n",
              "    </tr>\n",
              "    <tr>\n",
              "      <th>2235</th>\n",
              "      <td>TED2016</td>\n",
              "      <td>2016-02-16</td>\n",
              "    </tr>\n",
              "    <tr>\n",
              "      <th>755</th>\n",
              "      <td>TEDGlobal 2010</td>\n",
              "      <td>2010-07-16</td>\n",
              "    </tr>\n",
              "    <tr>\n",
              "      <th>1147</th>\n",
              "      <td>TEDxRC2</td>\n",
              "      <td>2011-11-27</td>\n",
              "    </tr>\n",
              "    <tr>\n",
              "      <th>2131</th>\n",
              "      <td>TEDMED 2015</td>\n",
              "      <td>2015-11-18</td>\n",
              "    </tr>\n",
              "    <tr>\n",
              "      <th>928</th>\n",
              "      <td>TED2011</td>\n",
              "      <td>2011-03-02</td>\n",
              "    </tr>\n",
              "    <tr>\n",
              "      <th>838</th>\n",
              "      <td>TEDSalon NY2011</td>\n",
              "      <td>2010-11-18</td>\n",
              "    </tr>\n",
              "    <tr>\n",
              "      <th>279</th>\n",
              "      <td>EG 2007</td>\n",
              "      <td>2007-12-12</td>\n",
              "    </tr>\n",
              "    <tr>\n",
              "      <th>439</th>\n",
              "      <td>TED2009</td>\n",
              "      <td>2009-02-05</td>\n",
              "    </tr>\n",
              "    <tr>\n",
              "      <th>1797</th>\n",
              "      <td>TEDxClaremontColleges</td>\n",
              "      <td>2014-02-12</td>\n",
              "    </tr>\n",
              "    <tr>\n",
              "      <th>1132</th>\n",
              "      <td>Mission Blue Voyage</td>\n",
              "      <td>2010-04-07</td>\n",
              "    </tr>\n",
              "    <tr>\n",
              "      <th>391</th>\n",
              "      <td>TED2009</td>\n",
              "      <td>2009-02-05</td>\n",
              "    </tr>\n",
              "    <tr>\n",
              "      <th>1227</th>\n",
              "      <td>TED2012</td>\n",
              "      <td>2012-02-29</td>\n",
              "    </tr>\n",
              "    <tr>\n",
              "      <th>293</th>\n",
              "      <td>EG 2007</td>\n",
              "      <td>2007-12-12</td>\n",
              "    </tr>\n",
              "    <tr>\n",
              "      <th>1723</th>\n",
              "      <td>TED2014</td>\n",
              "      <td>2014-03-21</td>\n",
              "    </tr>\n",
              "    <tr>\n",
              "      <th>1692</th>\n",
              "      <td>TED Fellows Retreat 2013</td>\n",
              "      <td>2013-08-12</td>\n",
              "    </tr>\n",
              "    <tr>\n",
              "      <th>1588</th>\n",
              "      <td>TED2013</td>\n",
              "      <td>2013-03-01</td>\n",
              "    </tr>\n",
              "    <tr>\n",
              "      <th>2497</th>\n",
              "      <td>TED2017</td>\n",
              "      <td>2017-04-24</td>\n",
              "    </tr>\n",
              "    <tr>\n",
              "      <th>1641</th>\n",
              "      <td>TEDYouth 2013</td>\n",
              "      <td>2013-11-16</td>\n",
              "    </tr>\n",
              "    <tr>\n",
              "      <th>92</th>\n",
              "      <td>TED2006</td>\n",
              "      <td>2006-02-02</td>\n",
              "    </tr>\n",
              "    <tr>\n",
              "      <th>529</th>\n",
              "      <td>TEDxUSC</td>\n",
              "      <td>2009-03-23</td>\n",
              "    </tr>\n",
              "    <tr>\n",
              "      <th>608</th>\n",
              "      <td>TEDIndia 2009</td>\n",
              "      <td>2009-11-04</td>\n",
              "    </tr>\n",
              "    <tr>\n",
              "      <th>2073</th>\n",
              "      <td>TED Fellows Retreat 2015</td>\n",
              "      <td>2015-08-26</td>\n",
              "    </tr>\n",
              "    <tr>\n",
              "      <th>2452</th>\n",
              "      <td>TEDMED 2016</td>\n",
              "      <td>2016-11-30</td>\n",
              "    </tr>\n",
              "    <tr>\n",
              "      <th>80</th>\n",
              "      <td>TED2005</td>\n",
              "      <td>2005-02-24</td>\n",
              "    </tr>\n",
              "    <tr>\n",
              "      <th>2371</th>\n",
              "      <td>TED2016</td>\n",
              "      <td>2016-02-15</td>\n",
              "    </tr>\n",
              "    <tr>\n",
              "      <th>1668</th>\n",
              "      <td>TEDYouth 2013</td>\n",
              "      <td>2013-11-23</td>\n",
              "    </tr>\n",
              "    <tr>\n",
              "      <th>2491</th>\n",
              "      <td>TED2017</td>\n",
              "      <td>2017-04-24</td>\n",
              "    </tr>\n",
              "    <tr>\n",
              "      <th>549</th>\n",
              "      <td>TED2009</td>\n",
              "      <td>2009-02-21</td>\n",
              "    </tr>\n",
              "    <tr>\n",
              "      <th>418</th>\n",
              "      <td>TED2002</td>\n",
              "      <td>2002-02-02</td>\n",
              "    </tr>\n",
              "    <tr>\n",
              "      <th>2247</th>\n",
              "      <td>TED@BCG Paris</td>\n",
              "      <td>2016-05-18</td>\n",
              "    </tr>\n",
              "    <tr>\n",
              "      <th>864</th>\n",
              "      <td>TEDxSydney</td>\n",
              "      <td>2010-05-28</td>\n",
              "    </tr>\n",
              "    <tr>\n",
              "      <th>1301</th>\n",
              "      <td>TEDxObserver</td>\n",
              "      <td>2012-03-10</td>\n",
              "    </tr>\n",
              "    <tr>\n",
              "      <th>670</th>\n",
              "      <td>TED2010</td>\n",
              "      <td>2010-02-10</td>\n",
              "    </tr>\n",
              "    <tr>\n",
              "      <th>304</th>\n",
              "      <td>TED2003</td>\n",
              "      <td>2003-02-02</td>\n",
              "    </tr>\n",
              "    <tr>\n",
              "      <th>395</th>\n",
              "      <td>TED1998</td>\n",
              "      <td>1998-02-02</td>\n",
              "    </tr>\n",
              "    <tr>\n",
              "      <th>2068</th>\n",
              "      <td>TED Fellows Retreat 2015</td>\n",
              "      <td>2015-08-28</td>\n",
              "    </tr>\n",
              "    <tr>\n",
              "      <th>1283</th>\n",
              "      <td>TEDxStanford</td>\n",
              "      <td>2012-05-19</td>\n",
              "    </tr>\n",
              "    <tr>\n",
              "      <th>660</th>\n",
              "      <td>TED2010</td>\n",
              "      <td>2010-02-12</td>\n",
              "    </tr>\n",
              "    <tr>\n",
              "      <th>1950</th>\n",
              "      <td>TED2015</td>\n",
              "      <td>2015-03-18</td>\n",
              "    </tr>\n",
              "    <tr>\n",
              "      <th>925</th>\n",
              "      <td>TED2011</td>\n",
              "      <td>2011-03-03</td>\n",
              "    </tr>\n",
              "    <tr>\n",
              "      <th>44</th>\n",
              "      <td>TED2005</td>\n",
              "      <td>2005-02-24</td>\n",
              "    </tr>\n",
              "    <tr>\n",
              "      <th>10</th>\n",
              "      <td>TED2006</td>\n",
              "      <td>2006-02-26</td>\n",
              "    </tr>\n",
              "    <tr>\n",
              "      <th>635</th>\n",
              "      <td>TED2010</td>\n",
              "      <td>2010-02-10</td>\n",
              "    </tr>\n",
              "    <tr>\n",
              "      <th>1465</th>\n",
              "      <td>TED2013</td>\n",
              "      <td>2013-02-27</td>\n",
              "    </tr>\n",
              "    <tr>\n",
              "      <th>2057</th>\n",
              "      <td>TEDxBend</td>\n",
              "      <td>2015-04-18</td>\n",
              "    </tr>\n",
              "    <tr>\n",
              "      <th>276</th>\n",
              "      <td>TED2005</td>\n",
              "      <td>2005-02-02</td>\n",
              "    </tr>\n",
              "    <tr>\n",
              "      <th>87</th>\n",
              "      <td>TED2005</td>\n",
              "      <td>2005-02-02</td>\n",
              "    </tr>\n",
              "    <tr>\n",
              "      <th>2279</th>\n",
              "      <td>TED Talks Live</td>\n",
              "      <td>2015-11-01</td>\n",
              "    </tr>\n",
              "    <tr>\n",
              "      <th>1769</th>\n",
              "      <td>TEDSalon NY2014</td>\n",
              "      <td>2014-05-15</td>\n",
              "    </tr>\n",
              "  </tbody>\n",
              "</table>\n",
              "</div>"
            ],
            "text/plain": [
              "                         event film_date_time\n",
              "1110            TEDxWomen 2011     2011-12-01\n",
              "2235                   TED2016     2016-02-16\n",
              "755             TEDGlobal 2010     2010-07-16\n",
              "1147                   TEDxRC2     2011-11-27\n",
              "2131               TEDMED 2015     2015-11-18\n",
              "928                    TED2011     2011-03-02\n",
              "838            TEDSalon NY2011     2010-11-18\n",
              "279                    EG 2007     2007-12-12\n",
              "439                    TED2009     2009-02-05\n",
              "1797     TEDxClaremontColleges     2014-02-12\n",
              "1132       Mission Blue Voyage     2010-04-07\n",
              "391                    TED2009     2009-02-05\n",
              "1227                   TED2012     2012-02-29\n",
              "293                    EG 2007     2007-12-12\n",
              "1723                   TED2014     2014-03-21\n",
              "1692  TED Fellows Retreat 2013     2013-08-12\n",
              "1588                   TED2013     2013-03-01\n",
              "2497                   TED2017     2017-04-24\n",
              "1641             TEDYouth 2013     2013-11-16\n",
              "92                     TED2006     2006-02-02\n",
              "529                    TEDxUSC     2009-03-23\n",
              "608              TEDIndia 2009     2009-11-04\n",
              "2073  TED Fellows Retreat 2015     2015-08-26\n",
              "2452               TEDMED 2016     2016-11-30\n",
              "80                     TED2005     2005-02-24\n",
              "2371                   TED2016     2016-02-15\n",
              "1668             TEDYouth 2013     2013-11-23\n",
              "2491                   TED2017     2017-04-24\n",
              "549                    TED2009     2009-02-21\n",
              "418                    TED2002     2002-02-02\n",
              "2247             TED@BCG Paris     2016-05-18\n",
              "864                 TEDxSydney     2010-05-28\n",
              "1301              TEDxObserver     2012-03-10\n",
              "670                    TED2010     2010-02-10\n",
              "304                    TED2003     2003-02-02\n",
              "395                    TED1998     1998-02-02\n",
              "2068  TED Fellows Retreat 2015     2015-08-28\n",
              "1283              TEDxStanford     2012-05-19\n",
              "660                    TED2010     2010-02-12\n",
              "1950                   TED2015     2015-03-18\n",
              "925                    TED2011     2011-03-03\n",
              "44                     TED2005     2005-02-24\n",
              "10                     TED2006     2006-02-26\n",
              "635                    TED2010     2010-02-10\n",
              "1465                   TED2013     2013-02-27\n",
              "2057                  TEDxBend     2015-04-18\n",
              "276                    TED2005     2005-02-02\n",
              "87                     TED2005     2005-02-02\n",
              "2279            TED Talks Live     2015-11-01\n",
              "1769           TEDSalon NY2014     2014-05-15"
            ]
          },
          "metadata": {
            "tags": []
          },
          "execution_count": 99
        }
      ]
    },
    {
      "cell_type": "code",
      "metadata": {
        "id": "FfbGtBBQhJ6R",
        "colab_type": "code",
        "colab": {
          "base_uri": "https://localhost:8080/",
          "height": 390
        },
        "outputId": "4945e271-6259-4a6a-c659-98bc80fd86a2"
      },
      "source": [
        "ted.dtypes"
      ],
      "execution_count": null,
      "outputs": [
        {
          "output_type": "execute_result",
          "data": {
            "text/plain": [
              "comments                       int64\n",
              "description                   object\n",
              "duration                       int64\n",
              "event                         object\n",
              "film_date                      int64\n",
              "languages                      int64\n",
              "main_speaker                  object\n",
              "name                          object\n",
              "num_speaker                    int64\n",
              "published_date                 int64\n",
              "ratings                       object\n",
              "related_talks                 object\n",
              "speaker_occupation            object\n",
              "tags                          object\n",
              "title                         object\n",
              "url                           object\n",
              "views                          int64\n",
              "comments_per_view            float64\n",
              "views_per_comment            float64\n",
              "film_date_time        datetime64[ns]\n",
              "dtype: object"
            ]
          },
          "metadata": {
            "tags": []
          },
          "execution_count": 100
        }
      ]
    },
    {
      "cell_type": "markdown",
      "metadata": {
        "id": "aebVxvC83406",
        "colab_type": "text"
      },
      "source": [
        "# How many talks per year?\n",
        "Bar plot is excluding years that have no data ![alt text](https://)"
      ]
    },
    {
      "cell_type": "code",
      "metadata": {
        "id": "7QIrlJwpheMQ",
        "colab_type": "code",
        "colab": {
          "base_uri": "https://localhost:8080/",
          "height": 315
        },
        "outputId": "36edd863-0c76-43ef-d497-a85021adf54c"
      },
      "source": [
        "ted.film_date_time.dt.year.value_counts().sort_index().plot(kind='bar', title='No of talks vs year')\n"
      ],
      "execution_count": null,
      "outputs": [
        {
          "output_type": "execute_result",
          "data": {
            "text/plain": [
              "<matplotlib.axes._subplots.AxesSubplot at 0x7fd6bb34e630>"
            ]
          },
          "metadata": {
            "tags": []
          },
          "execution_count": 101
        },
        {
          "output_type": "display_data",
          "data": {
            "image/png": "[encoded data removed]",
            "text/plain": [
              "<Figure size 432x288 with 1 Axes>"
            ]
          },
          "metadata": {
            "tags": [],
            "needs_background": "light"
          }
        }
      ]
    },
    {
      "cell_type": "markdown",
      "metadata": {
        "id": "7PIZ0aW63-qS",
        "colab_type": "text"
      },
      "source": [
        "Let's try line plot!"
      ]
    },
    {
      "cell_type": "code",
      "metadata": {
        "id": "9L8mAj1F3UGS",
        "colab_type": "code",
        "colab": {
          "base_uri": "https://localhost:8080/",
          "height": 299
        },
        "outputId": "f002a767-dd32-4e86-aaee-b4df8a800340"
      },
      "source": [
        "ted.film_date_time.dt.year.value_counts().plot(kind='line',title='Year vs talks')"
      ],
      "execution_count": null,
      "outputs": [
        {
          "output_type": "execute_result",
          "data": {
            "text/plain": [
              "<matplotlib.axes._subplots.AxesSubplot at 0x7fd6bb2b6908>"
            ]
          },
          "metadata": {
            "tags": []
          },
          "execution_count": 102
        },
        {
          "output_type": "display_data",
          "data": {
            "image/png": "[encoded data removed]",
            "text/plain": [
              "<Figure size 432x288 with 1 Axes>"
            ]
          },
          "metadata": {
            "tags": [],
            "needs_background": "light"
          }
        }
      ]
    },
    {
      "cell_type": "markdown",
      "metadata": {
        "id": "j5o1L_kG3YmM",
        "colab_type": "text"
      },
      "source": [
        "Notice that the above data is unsorted so it's plotted in the order of occurence year"
      ]
    },
    {
      "cell_type": "code",
      "metadata": {
        "id": "aj1por-3iqEq",
        "colab_type": "code",
        "colab": {
          "base_uri": "https://localhost:8080/",
          "height": 299
        },
        "outputId": "255e2208-0ff3-4d98-f953-eea791c13d93"
      },
      "source": [
        "ted.film_date_time.dt.year.value_counts().sort_index().plot(kind='line',title='Year vs talks')"
      ],
      "execution_count": null,
      "outputs": [
        {
          "output_type": "execute_result",
          "data": {
            "text/plain": [
              "<matplotlib.axes._subplots.AxesSubplot at 0x7fd6bcfe5470>"
            ]
          },
          "metadata": {
            "tags": []
          },
          "execution_count": 103
        },
        {
          "output_type": "display_data",
          "data": {
            "image/png": "[encoded data removed]",
            "text/plain": [
              "<Figure size 432x288 with 1 Axes>"
            ]
          },
          "metadata": {
            "tags": [],
            "needs_background": "light"
          }
        }
      ]
    },
    {
      "cell_type": "markdown",
      "metadata": {
        "id": "mSRdIkOF4GCR",
        "colab_type": "text"
      },
      "source": [
        "Now it looks great"
      ]
    },
    {
      "cell_type": "markdown",
      "metadata": {
        "id": "Q1rE5WMElGSV",
        "colab_type": "text"
      },
      "source": [
        "## What were the best events in TED history to attend?"
      ]
    },
    {
      "cell_type": "code",
      "metadata": {
        "id": "9IGe62unj3ut",
        "colab_type": "code",
        "colab": {
          "base_uri": "https://localhost:8080/",
          "height": 124
        },
        "outputId": "ddcfb375-d9be-4a42-8748-3d120ac54922"
      },
      "source": [
        "ted.columns"
      ],
      "execution_count": null,
      "outputs": [
        {
          "output_type": "execute_result",
          "data": {
            "text/plain": [
              "Index(['comments', 'description', 'duration', 'event', 'film_date',\n",
              "       'languages', 'main_speaker', 'name', 'num_speaker', 'published_date',\n",
              "       'ratings', 'related_talks', 'speaker_occupation', 'tags', 'title',\n",
              "       'url', 'views', 'comments_per_view', 'views_per_comment',\n",
              "       'film_date_time'],\n",
              "      dtype='object')"
            ]
          },
          "metadata": {
            "tags": []
          },
          "execution_count": 104
        }
      ]
    },
    {
      "cell_type": "code",
      "metadata": {
        "id": "1H24tubulX96",
        "colab_type": "code",
        "colab": {
          "base_uri": "https://localhost:8080/",
          "height": 230
        },
        "outputId": "ebc8d989-5edc-4b99-e824-80a723fffd87"
      },
      "source": [
        "ted.event.sample(100)"
      ],
      "execution_count": null,
      "outputs": [
        {
          "output_type": "execute_result",
          "data": {
            "text/plain": [
              "2332              TEDxNewYork\n",
              "1548           TEDGlobal 2013\n",
              "2428                   TEDNYC\n",
              "842             TEDWomen 2010\n",
              "2455                  TED2017\n",
              "                ...          \n",
              "2275                  TED2016\n",
              "2436    TEDLagos Ideas Search\n",
              "1789                  TED2014\n",
              "682                   TED2010\n",
              "2494                  TED2017\n",
              "Name: event, Length: 100, dtype: object"
            ]
          },
          "metadata": {
            "tags": []
          },
          "execution_count": 105
        }
      ]
    },
    {
      "cell_type": "code",
      "metadata": {
        "id": "NqT00bGLla3J",
        "colab_type": "code",
        "colab": {
          "base_uri": "https://localhost:8080/",
          "height": 230
        },
        "outputId": "e2332975-6a07-45e2-8171-6653b87fd11f"
      },
      "source": [
        "ted.event.value_counts"
      ],
      "execution_count": null,
      "outputs": [
        {
          "output_type": "execute_result",
          "data": {
            "text/plain": [
              "<bound method IndexOpsMixin.value_counts of 0            TED2006\n",
              "1            TED2006\n",
              "2            TED2006\n",
              "3            TED2006\n",
              "4            TED2006\n",
              "            ...     \n",
              "2545         TED2017\n",
              "2546         TED2017\n",
              "2547         TED2017\n",
              "2548    TEDxMileHigh\n",
              "2549         TED2017\n",
              "Name: event, Length: 2550, dtype: object>"
            ]
          },
          "metadata": {
            "tags": []
          },
          "execution_count": 106
        }
      ]
    },
    {
      "cell_type": "code",
      "metadata": {
        "id": "CpM4QL71li3Y",
        "colab_type": "code",
        "colab": {
          "base_uri": "https://localhost:8080/",
          "height": 1000
        },
        "outputId": "fb4fa586-2d25-4bfd-fa45-8346496adb6d"
      },
      "source": [
        "ted.event.unique()"
      ],
      "execution_count": null,
      "outputs": [
        {
          "output_type": "execute_result",
          "data": {
            "text/plain": [
              "array(['TED2006', 'TED2004', 'TED2005', 'TEDGlobal 2005', 'TEDSalon 2006',\n",
              "       'TED2003', 'TED2007', 'TED2002', 'TEDGlobal 2007',\n",
              "       'TEDSalon 2007 Hot Science', 'Skoll World Forum 2007', 'TED2008',\n",
              "       'TED1984', 'TED1990', 'DLD 2007', 'EG 2007', 'TED1998',\n",
              "       'LIFT 2007', 'TED Prize Wish', 'TEDSalon 2009 Compassion',\n",
              "       'Chautauqua Institution', 'Serious Play 2008', 'Taste3 2008',\n",
              "       'TED2001', 'TED in the Field', 'TED2009', 'EG 2008',\n",
              "       'Elizabeth G. Anderson School', 'TEDxUSC', 'TED@State',\n",
              "       'TEDGlobal 2009', 'TEDxKC', 'TEDIndia 2009',\n",
              "       'TEDSalon London 2009', 'Justice with Michael Sandel',\n",
              "       'Business Innovation Factory', 'TEDxTC',\n",
              "       'Carnegie Mellon University', 'Stanford University',\n",
              "       'AORN Congress', 'University of California', 'TEDMED 2009',\n",
              "       'Royal Institution', 'Bowery Poetry Club', 'TEDxSMU',\n",
              "       'Harvard University', 'TEDxBoston 2009', 'TEDxBerlin', 'TED2010',\n",
              "       'TEDxAmsterdam', 'World Science Festival', 'BBC TV',\n",
              "       'Arbejdsglaede Live', 'Web 2.0 Expo 2008', 'TEDxNASA',\n",
              "       'Michael Howard Studios', 'DICE Summit 2010',\n",
              "       \"Eric Whitacre's Virtual Choir\", 'Mission Blue Voyage',\n",
              "       'TEDxPuget Sound ', 'TEDxNYED', 'Toronto Youth Corps',\n",
              "       'TEDSalon London 2010', 'TEDxEdmonton', 'TED@Cannes',\n",
              "       'TEDxAtlanta', 'TEDxEast', 'TEDxOilSpill', 'TEDGlobal 2010',\n",
              "       'Princeton University', 'New York State Senate', 'TEDxBoston 2010',\n",
              "       'RSA Animate', 'TEDxYYC', 'Gel Conference', 'The Do Lectures',\n",
              "       'TEDxChange', 'TED Senior Fellows at TEDGlobal 2010',\n",
              "       'Fort Worth City Council', 'TEDxTelAviv 2010', 'TEDxDU 2010',\n",
              "       'TEDxMidwest', 'TEDxHouston', 'TEDxNextGenerationAsheville',\n",
              "       'TEDxRotterdam 2010', 'TEDWomen 2010', 'TEDxMidAtlantic',\n",
              "       'TEDxSydney', 'TEDSalon NY2011', 'TEDxRainier', 'TEDxToronto 2010',\n",
              "       'TEDxPSU', 'TEDMED 2010', 'TEDxGreatPacificGarbagePatch',\n",
              "       'TEDxGöteborg 2010', 'TEDxToronto 2011', 'TED@MotorCity',\n",
              "       'TEDxPennQuarter', 'TEDPrize@UN', 'TED2011', 'TEDxPeachtree',\n",
              "       'TEDxDubai', 'TEDActive 2011', 'INK Conference', 'TEDxCaltech',\n",
              "       'TEDxWarwick', 'Handheld Learning', 'TEDxSiliconValley',\n",
              "       'TEDxNorthwesternU', 'TEDxMaastricht', 'TEDxBG',\n",
              "       'Full Spectrum Auditions', 'TEDSalon London Spring 2011',\n",
              "       'TEDxSanMigueldeAllende', 'TEDGlobal 2011', 'TEDxBoston 2011',\n",
              "       'TEDxParis 2010', 'NextGen:Charity', 'TEDxUIUC',\n",
              "       'TEDxThessaloniki', \"TEDxO'Porto\", 'TEDxBloomington',\n",
              "       'TEDxSantaCruz', 'TEDxWaterloo', 'TEDxManhattanBeach',\n",
              "       'TEDxKids@Brussels', 'TEDxTeen', 'TEDxBoulder 2011',\n",
              "       'TEDxManhattan', 'TEDxOrangeCoast', 'TEDxBrussels', 'TEDMED 2011',\n",
              "       'TEDxKrakow', 'TEDxCMU', 'TEDxVienna', 'TEDxDU 2011', 'TEDxDirigo',\n",
              "       'TEDxCanberra', 'TEDxRC2', 'TEDxWomen 2011', 'TEDxZurich 2011',\n",
              "       'TEDSalon NY2012', 'TEDxMIA', 'TEDxNASA@SiliconValley',\n",
              "       'TEDxYouth@Manchester', 'TED1994', 'TEDxVancouver',\n",
              "       'TEDSalon London Fall 2011', 'TEDxIslay', 'TEDxAmericanRiviera',\n",
              "       'TEDxDublin', 'TEDxVictoria', 'TEDxPhoenix', 'TEDxAsheville',\n",
              "       'TEDYouth 2011', 'TED2012', 'TEDxUW', 'TED-Ed', 'TEDxCambridge',\n",
              "       'TEDxPortofSpain', 'TEDxNewy', 'TEDxPittsburgh', 'TEDxObserver',\n",
              "       'TEDxConcordiaUPortland', 'TEDxAthens', 'TED@SXSWi', 'TEDxAustin',\n",
              "       'TEDxMonterey', 'TEDxSummit', 'TEDxBerkeley',\n",
              "       'TEDxHogeschoolUtrecht', 'TEDxSanJoseCA', 'TEDxSussexUniversity',\n",
              "       'TEDMED 2012', 'TEDSalon London Spring 2012', 'TEDxGrandRapids',\n",
              "       'TEDxABQ', 'TEDxSanDiego', 'TEDxLondonBusinessSchool',\n",
              "       'TEDGlobal 2012', 'TEDxStanford', 'TEDxImperialCollege',\n",
              "       'TEDxBoston 2012', 'TEDxUCL', 'TEDxExeter', 'TEDxMaui',\n",
              "       'TEDxHousesOfParliament', 'TED@London', 'TEDxWinnipeg',\n",
              "       'TED@Bangalore', 'TED@New York', 'TEDxCHUV', 'TEDxSF',\n",
              "       'TEDxEQChCh', 'TEDxHelvetia', 'TED@Nairobi', 'TEDxGeorgetown',\n",
              "       'TED@Johannesburg', 'TEDxZurich 2012', 'TEDSalon London Fall 2012',\n",
              "       'TEDxWitsUniversity', 'TEDxJaffa 2012', 'TEDxWomen 2012',\n",
              "       'TEDxHampshireCollege', 'TEDxGoodenoughCollege', 'TEDxGlasgow',\n",
              "       'TEDxBeaconStreet', 'SoulPancake', 'TEDxDelft', 'TEDSalon NY2013',\n",
              "       'TEDxSeoul', 'TEDxConcorde', 'TED2013', 'TEDYouth 2012',\n",
              "       'TEDxSeattleU', 'TEDxRiodelaPlata', 'TED@Intel',\n",
              "       'TED Talks Education', 'TEDxMiamiUniversity', 'TEDxFiDiWomen',\n",
              "       'TEDxDeExtinction', 'TEDMED 2013', 'TEDGlobal 2013', 'TEDxCERN',\n",
              "       'TEDxNijmegen', 'TEDxColbyCollege', 'TEDxDanubia', 'TEDxTokyo',\n",
              "       'TEDxBoston', 'TEDxKids@Ambleside', 'TEDCity2.0', 'TEDxUdeM',\n",
              "       'TED@BCG Singapore', 'TED@NYC', 'TEDWomen 2013', 'TEDYouth 2013',\n",
              "       'TEDxBratislava', 'TED@BCG San Francisco', 'TEDxMet', 'TEDxMarin',\n",
              "       'TEDxBeirut', 'TED@State Street Boston', 'TEDxCaFoscariU',\n",
              "       'TEDxJaffa 2013', 'TEDxZurich 2013', 'TED Fellows Retreat 2013',\n",
              "       'TEDxParis 2012', 'TEDxBoulder', 'TED2014', 'TEDxMidAtlantic 2013',\n",
              "       'TEDxPerth', 'TEDxUMKC', 'TEDxLeuvenSalon', 'TEDActive 2014',\n",
              "       'TEDSalon NY2014', 'TEDxUofM', 'TEDxColumbus',\n",
              "       'TEDSalon Berlin 2014', 'TEDxKyoto', 'TEDxClaremontColleges',\n",
              "       'TEDxMonroeCorrectionalComplex', 'TEDxBrighton',\n",
              "       'TEDxSonomaCounty', 'TEDxAmazonia', 'TED@Unilever', 'TEDMED 2014',\n",
              "       'TEDGlobal 2014', 'TED@IBM', 'TEDxNewYork', 'TED@BCG Berlin',\n",
              "       'TEDxArendal', 'TEDxNorrkoping', 'TEDYouth 2014',\n",
              "       'TED@State Street London', 'TEDxPlaceDesNations',\n",
              "       'TEDxBinghamtonUniversity', 'TEDxLinnaeusUniversity', 'TEDxSBU',\n",
              "       'TED2015', 'TEDxMuncyStatePrison', 'TEDxSouthBank',\n",
              "       'TEDWomen 2015', 'TEDSalon NY2015', 'TEDGlobalLondon',\n",
              "       'TEDxIndianapolis', 'TED@BCG London', 'TEDxChapmanU',\n",
              "       'TEDxGoldenGatePark 2012', 'TEDxUF', 'TEDxBend',\n",
              "       'TEDGlobal>London', 'TEDxPenn', 'TEDxProvidence',\n",
              "       'TED Fellows Retreat 2015', 'TED Fellows 2015', 'TEDxOslo',\n",
              "       'TEDxCannes', 'Mission Blue II', 'TED@UPS', 'TEDxToulouse',\n",
              "       'TEDYouth 2015', 'TEDxGroningen', 'TEDGlobal>Geneva',\n",
              "       'TEDxYouth@Sydney', 'TEDxAmoskeagMillyard', 'TEDMED 2015',\n",
              "       'TEDxUM', 'TEDxCreativeCoast', 'TED2016', 'TED@StateStreet Boston',\n",
              "       'TED Talks Live', 'Global Witness HQ', 'TED Studio',\n",
              "       'TEDActive 2015', 'TEDxGatewayWomen', 'TEDxEastEnd',\n",
              "       'TED@BCG Paris', 'TEDSummit', 'TEDxDesMoines',\n",
              "       'TEDxColoradoSprings', 'TEDNYC', 'TEDxUniversityofNevada',\n",
              "       'TEDxMontreal', 'TEDxIndianaUniversity', 'TEDWomen 2016',\n",
              "       'TED Residency', 'TEDxToronto', 'TEDxMtHood', 'TEDxGhent',\n",
              "       'TEDxSaltLakeCity', 'TEDxOmaha', 'TEDxSFU', 'TEDMED 2016',\n",
              "       'TEDxPortland', 'TEDxManchester', 'TEDxMileHigh', 'TED Dialogues',\n",
              "       'TEDxNatick', 'TEDxFrankfurt', 'TED-Ed Weekend',\n",
              "       'TEDxColumbusWomen', 'TEDxEuston', 'TEDxSanQuentin',\n",
              "       'TEDLagos Ideas Search', 'TEDxVirginiaTech', 'TED2017',\n",
              "       'TEDxSkoll', 'TEDNairobi Ideas Search', 'TEDxFulbrightDublin',\n",
              "       'TEDxOrcasIsland', 'TEDxPennsylvaniaAvenue', 'TEDxCrenshaw',\n",
              "       'TEDxHamburg', 'TEDGlobal 2017', 'TEDxZurich'], dtype=object)"
            ]
          },
          "metadata": {
            "tags": []
          },
          "execution_count": 107
        }
      ]
    },
    {
      "cell_type": "code",
      "metadata": {
        "id": "3TSefyo7l864",
        "colab_type": "code",
        "colab": {
          "base_uri": "https://localhost:8080/",
          "height": 88
        },
        "outputId": "b5041e56-9345-4e93-e702-dd4ed525516c"
      },
      "source": [
        "ted[['event', 'ratings', 'views']].dtypes"
      ],
      "execution_count": null,
      "outputs": [
        {
          "output_type": "execute_result",
          "data": {
            "text/plain": [
              "event      object\n",
              "ratings    object\n",
              "views       int64\n",
              "dtype: object"
            ]
          },
          "metadata": {
            "tags": []
          },
          "execution_count": 108
        }
      ]
    },
    {
      "cell_type": "code",
      "metadata": {
        "id": "9tNmisKT6KTx",
        "colab_type": "code",
        "colab": {
          "base_uri": "https://localhost:8080/",
          "height": 124
        },
        "outputId": "4ca920f7-ae2f-46dd-eaad-b418791d6d8a"
      },
      "source": [
        "ted.event.value_counts().head()"
      ],
      "execution_count": null,
      "outputs": [
        {
          "output_type": "execute_result",
          "data": {
            "text/plain": [
              "TED2014    84\n",
              "TED2009    83\n",
              "TED2013    77\n",
              "TED2016    77\n",
              "TED2015    75\n",
              "Name: event, dtype: int64"
            ]
          },
          "metadata": {
            "tags": []
          },
          "execution_count": 109
        }
      ]
    },
    {
      "cell_type": "code",
      "metadata": {
        "id": "biib6Yda5W0F",
        "colab_type": "code",
        "colab": {
          "base_uri": "https://localhost:8080/",
          "height": 141
        },
        "outputId": "7612ba8a-0daa-4acd-db5d-9cb6d9421b70"
      },
      "source": [
        "ted.groupby('event').views.mean().sort_values().tail()"
      ],
      "execution_count": null,
      "outputs": [
        {
          "output_type": "execute_result",
          "data": {
            "text/plain": [
              "event\n",
              "TEDxNorrkoping        6569493.0\n",
              "TEDxCreativeCoast     8444981.0\n",
              "TEDxBloomington       9484259.5\n",
              "TEDxHouston          16140250.5\n",
              "TEDxPuget Sound      34309432.0\n",
              "Name: views, dtype: float64"
            ]
          },
          "metadata": {
            "tags": []
          },
          "execution_count": 110
        }
      ]
    },
    {
      "cell_type": "code",
      "metadata": {
        "id": "-fQigV4YmZne",
        "colab_type": "code",
        "colab": {
          "base_uri": "https://localhost:8080/",
          "height": 237
        },
        "outputId": "5a030b4f-e2ba-4b72-f4c0-cb8d73336096"
      },
      "source": [
        "ted.groupby('event').views.agg(['count', 'mean']).sort_values('mean').tail()"
      ],
      "execution_count": null,
      "outputs": [
        {
          "output_type": "execute_result",
          "data": {
            "text/html": [
              "<div>\n",
              "<style scoped>\n",
              "    .dataframe tbody tr th:only-of-type {\n",
              "        vertical-align: middle;\n",
              "    }\n",
              "\n",
              "    .dataframe tbody tr th {\n",
              "        vertical-align: top;\n",
              "    }\n",
              "\n",
              "    .dataframe thead th {\n",
              "        text-align: right;\n",
              "    }\n",
              "</style>\n",
              "<table border=\"1\" class=\"dataframe\">\n",
              "  <thead>\n",
              "    <tr style=\"text-align: right;\">\n",
              "      <th></th>\n",
              "      <th>count</th>\n",
              "      <th>mean</th>\n",
              "    </tr>\n",
              "    <tr>\n",
              "      <th>event</th>\n",
              "      <th></th>\n",
              "      <th></th>\n",
              "    </tr>\n",
              "  </thead>\n",
              "  <tbody>\n",
              "    <tr>\n",
              "      <th>TEDxNorrkoping</th>\n",
              "      <td>1</td>\n",
              "      <td>6569493.0</td>\n",
              "    </tr>\n",
              "    <tr>\n",
              "      <th>TEDxCreativeCoast</th>\n",
              "      <td>1</td>\n",
              "      <td>8444981.0</td>\n",
              "    </tr>\n",
              "    <tr>\n",
              "      <th>TEDxBloomington</th>\n",
              "      <td>2</td>\n",
              "      <td>9484259.5</td>\n",
              "    </tr>\n",
              "    <tr>\n",
              "      <th>TEDxHouston</th>\n",
              "      <td>2</td>\n",
              "      <td>16140250.5</td>\n",
              "    </tr>\n",
              "    <tr>\n",
              "      <th>TEDxPuget Sound</th>\n",
              "      <td>1</td>\n",
              "      <td>34309432.0</td>\n",
              "    </tr>\n",
              "  </tbody>\n",
              "</table>\n",
              "</div>"
            ],
            "text/plain": [
              "                   count        mean\n",
              "event                               \n",
              "TEDxNorrkoping         1   6569493.0\n",
              "TEDxCreativeCoast      1   8444981.0\n",
              "TEDxBloomington        2   9484259.5\n",
              "TEDxHouston            2  16140250.5\n",
              "TEDxPuget Sound        1  34309432.0"
            ]
          },
          "metadata": {
            "tags": []
          },
          "execution_count": 113
        }
      ]
    },
    {
      "cell_type": "markdown",
      "metadata": {
        "id": "6XsVwlDR6mbO",
        "colab_type": "text"
      },
      "source": [
        "TEDxPugetSound has the highest mean no of views but the count is 1, which is not a good representative!"
      ]
    },
    {
      "cell_type": "code",
      "metadata": {
        "id": "cfQvk7EO7Kj4",
        "colab_type": "code",
        "colab": {
          "base_uri": "https://localhost:8080/",
          "height": 237
        },
        "outputId": "19f749d7-d588-4c55-983b-40683f513e95"
      },
      "source": [
        "ted.groupby('event').views.agg(['count', 'mean']).sort_values('count').tail()"
      ],
      "execution_count": null,
      "outputs": [
        {
          "output_type": "execute_result",
          "data": {
            "text/html": [
              "<div>\n",
              "<style scoped>\n",
              "    .dataframe tbody tr th:only-of-type {\n",
              "        vertical-align: middle;\n",
              "    }\n",
              "\n",
              "    .dataframe tbody tr th {\n",
              "        vertical-align: top;\n",
              "    }\n",
              "\n",
              "    .dataframe thead th {\n",
              "        text-align: right;\n",
              "    }\n",
              "</style>\n",
              "<table border=\"1\" class=\"dataframe\">\n",
              "  <thead>\n",
              "    <tr style=\"text-align: right;\">\n",
              "      <th></th>\n",
              "      <th>count</th>\n",
              "      <th>mean</th>\n",
              "    </tr>\n",
              "    <tr>\n",
              "      <th>event</th>\n",
              "      <th></th>\n",
              "      <th></th>\n",
              "    </tr>\n",
              "  </thead>\n",
              "  <tbody>\n",
              "    <tr>\n",
              "      <th>TED2015</th>\n",
              "      <td>75</td>\n",
              "      <td>2.011017e+06</td>\n",
              "    </tr>\n",
              "    <tr>\n",
              "      <th>TED2016</th>\n",
              "      <td>77</td>\n",
              "      <td>1.812622e+06</td>\n",
              "    </tr>\n",
              "    <tr>\n",
              "      <th>TED2013</th>\n",
              "      <td>77</td>\n",
              "      <td>2.302700e+06</td>\n",
              "    </tr>\n",
              "    <tr>\n",
              "      <th>TED2009</th>\n",
              "      <td>83</td>\n",
              "      <td>1.754896e+06</td>\n",
              "    </tr>\n",
              "    <tr>\n",
              "      <th>TED2014</th>\n",
              "      <td>84</td>\n",
              "      <td>2.072874e+06</td>\n",
              "    </tr>\n",
              "  </tbody>\n",
              "</table>\n",
              "</div>"
            ],
            "text/plain": [
              "         count          mean\n",
              "event                       \n",
              "TED2015     75  2.011017e+06\n",
              "TED2016     77  1.812622e+06\n",
              "TED2013     77  2.302700e+06\n",
              "TED2009     83  1.754896e+06\n",
              "TED2014     84  2.072874e+06"
            ]
          },
          "metadata": {
            "tags": []
          },
          "execution_count": 114
        }
      ]
    },
    {
      "cell_type": "code",
      "metadata": {
        "id": "n0u8xXFXm4e6",
        "colab_type": "code",
        "colab": {
          "base_uri": "https://localhost:8080/",
          "height": 237
        },
        "outputId": "fd60968b-9f6e-4f9a-f1ae-2fabd162feb1"
      },
      "source": [
        "ted.groupby('event').views.agg(['count', 'mean', 'sum']).sort_values('sum').tail()"
      ],
      "execution_count": null,
      "outputs": [
        {
          "output_type": "execute_result",
          "data": {
            "text/html": [
              "<div>\n",
              "<style scoped>\n",
              "    .dataframe tbody tr th:only-of-type {\n",
              "        vertical-align: middle;\n",
              "    }\n",
              "\n",
              "    .dataframe tbody tr th {\n",
              "        vertical-align: top;\n",
              "    }\n",
              "\n",
              "    .dataframe thead th {\n",
              "        text-align: right;\n",
              "    }\n",
              "</style>\n",
              "<table border=\"1\" class=\"dataframe\">\n",
              "  <thead>\n",
              "    <tr style=\"text-align: right;\">\n",
              "      <th></th>\n",
              "      <th>count</th>\n",
              "      <th>mean</th>\n",
              "      <th>sum</th>\n",
              "    </tr>\n",
              "    <tr>\n",
              "      <th>event</th>\n",
              "      <th></th>\n",
              "      <th></th>\n",
              "      <th></th>\n",
              "    </tr>\n",
              "  </thead>\n",
              "  <tbody>\n",
              "    <tr>\n",
              "      <th>TED2006</th>\n",
              "      <td>45</td>\n",
              "      <td>3.274345e+06</td>\n",
              "      <td>147345533</td>\n",
              "    </tr>\n",
              "    <tr>\n",
              "      <th>TED2015</th>\n",
              "      <td>75</td>\n",
              "      <td>2.011017e+06</td>\n",
              "      <td>150826305</td>\n",
              "    </tr>\n",
              "    <tr>\n",
              "      <th>TEDGlobal 2013</th>\n",
              "      <td>66</td>\n",
              "      <td>2.584163e+06</td>\n",
              "      <td>170554736</td>\n",
              "    </tr>\n",
              "    <tr>\n",
              "      <th>TED2014</th>\n",
              "      <td>84</td>\n",
              "      <td>2.072874e+06</td>\n",
              "      <td>174121423</td>\n",
              "    </tr>\n",
              "    <tr>\n",
              "      <th>TED2013</th>\n",
              "      <td>77</td>\n",
              "      <td>2.302700e+06</td>\n",
              "      <td>177307937</td>\n",
              "    </tr>\n",
              "  </tbody>\n",
              "</table>\n",
              "</div>"
            ],
            "text/plain": [
              "                count          mean        sum\n",
              "event                                         \n",
              "TED2006            45  3.274345e+06  147345533\n",
              "TED2015            75  2.011017e+06  150826305\n",
              "TEDGlobal 2013     66  2.584163e+06  170554736\n",
              "TED2014            84  2.072874e+06  174121423\n",
              "TED2013            77  2.302700e+06  177307937"
            ]
          },
          "metadata": {
            "tags": []
          },
          "execution_count": 115
        }
      ]
    },
    {
      "cell_type": "markdown",
      "metadata": {
        "id": "wUcNe0jV40OW",
        "colab_type": "text"
      },
      "source": [
        "TED2012 has the highest sum of events, where sum = mean * count "
      ]
    },
    {
      "cell_type": "markdown",
      "metadata": {
        "id": "IFWeM8xi74bW",
        "colab_type": "text"
      },
      "source": [
        "## Next exercise unpack the ratings data"
      ]
    },
    {
      "cell_type": "code",
      "metadata": {
        "id": "8GvMPbzy75Bp",
        "colab_type": "code",
        "colab": {
          "base_uri": "https://localhost:8080/",
          "height": 124
        },
        "outputId": "0249519e-671d-4d4a-97ed-8695b4c25173"
      },
      "source": [
        "ted.ratings.head()"
      ],
      "execution_count": null,
      "outputs": [
        {
          "output_type": "execute_result",
          "data": {
            "text/plain": [
              "0    [{'id': 7, 'name': 'Funny', 'count': 19645}, {...\n",
              "1    [{'id': 7, 'name': 'Funny', 'count': 544}, {'i...\n",
              "2    [{'id': 7, 'name': 'Funny', 'count': 964}, {'i...\n",
              "3    [{'id': 3, 'name': 'Courageous', 'count': 760}...\n",
              "4    [{'id': 9, 'name': 'Ingenious', 'count': 3202}...\n",
              "Name: ratings, dtype: object"
            ]
          },
          "metadata": {
            "tags": []
          },
          "execution_count": 117
        }
      ]
    },
    {
      "cell_type": "markdown",
      "metadata": {
        "id": "WrUEr_9A-Us7",
        "colab_type": "text"
      },
      "source": [
        "It's tagged!"
      ]
    },
    {
      "cell_type": "code",
      "metadata": {
        "id": "u5PH1SEp-eJY",
        "colab_type": "code",
        "colab": {
          "base_uri": "https://localhost:8080/",
          "height": 55
        },
        "outputId": "8826b0a3-14e2-486e-f424-91877a215147"
      },
      "source": [
        "ted.ratings[0]"
      ],
      "execution_count": null,
      "outputs": [
        {
          "output_type": "execute_result",
          "data": {
            "text/plain": [
              "\"[{'id': 7, 'name': 'Funny', 'count': 19645}, {'id': 1, 'name': 'Beautiful', 'count': 4573}, {'id': 9, 'name': 'Ingenious', 'count': 6073}, {'id': 3, 'name': 'Courageous', 'count': 3253}, {'id': 11, 'name': 'Longwinded', 'count': 387}, {'id': 2, 'name': 'Confusing', 'count': 242}, {'id': 8, 'name': 'Informative', 'count': 7346}, {'id': 22, 'name': 'Fascinating', 'count': 10581}, {'id': 21, 'name': 'Unconvincing', 'count': 300}, {'id': 24, 'name': 'Persuasive', 'count': 10704}, {'id': 23, 'name': 'Jaw-dropping', 'count': 4439}, {'id': 25, 'name': 'OK', 'count': 1174}, {'id': 26, 'name': 'Obnoxious', 'count': 209}, {'id': 10, 'name': 'Inspiring', 'count': 24924}]\""
            ]
          },
          "metadata": {
            "tags": []
          },
          "execution_count": 118
        }
      ]
    },
    {
      "cell_type": "code",
      "metadata": {
        "id": "cRtmwn9w-f7E",
        "colab_type": "code",
        "colab": {
          "base_uri": "https://localhost:8080/",
          "height": 35
        },
        "outputId": "f75884ae-31fd-4938-978d-35a730e6c65e"
      },
      "source": [
        "ted.ratings.dtypes"
      ],
      "execution_count": null,
      "outputs": [
        {
          "output_type": "execute_result",
          "data": {
            "text/plain": [
              "dtype('O')"
            ]
          },
          "metadata": {
            "tags": []
          },
          "execution_count": 125
        }
      ]
    },
    {
      "cell_type": "code",
      "metadata": {
        "id": "gCZtSE76-kdH",
        "colab_type": "code",
        "colab": {}
      },
      "source": [
        "import ast"
      ],
      "execution_count": null,
      "outputs": []
    },
    {
      "cell_type": "code",
      "metadata": {
        "id": "brVuUmh9-2BD",
        "colab_type": "code",
        "colab": {
          "base_uri": "https://localhost:8080/",
          "height": 35
        },
        "outputId": "f2562898-cfc1-4c11-c34c-d4dbd1e767a9"
      },
      "source": [
        "ast.literal_eval('[1, 2, 3]')"
      ],
      "execution_count": null,
      "outputs": [
        {
          "output_type": "execute_result",
          "data": {
            "text/plain": [
              "[1, 2, 3]"
            ]
          },
          "metadata": {
            "tags": []
          },
          "execution_count": 127
        }
      ]
    },
    {
      "cell_type": "code",
      "metadata": {
        "id": "3Uu1mdcC-5z_",
        "colab_type": "code",
        "colab": {
          "base_uri": "https://localhost:8080/",
          "height": 266
        },
        "outputId": "dbb19036-f7b8-496e-daad-6b6197f608b0"
      },
      "source": [
        "ast.literal_eval(ted.ratings[0])"
      ],
      "execution_count": null,
      "outputs": [
        {
          "output_type": "execute_result",
          "data": {
            "text/plain": [
              "[{'count': 19645, 'id': 7, 'name': 'Funny'},\n",
              " {'count': 4573, 'id': 1, 'name': 'Beautiful'},\n",
              " {'count': 6073, 'id': 9, 'name': 'Ingenious'},\n",
              " {'count': 3253, 'id': 3, 'name': 'Courageous'},\n",
              " {'count': 387, 'id': 11, 'name': 'Longwinded'},\n",
              " {'count': 242, 'id': 2, 'name': 'Confusing'},\n",
              " {'count': 7346, 'id': 8, 'name': 'Informative'},\n",
              " {'count': 10581, 'id': 22, 'name': 'Fascinating'},\n",
              " {'count': 300, 'id': 21, 'name': 'Unconvincing'},\n",
              " {'count': 10704, 'id': 24, 'name': 'Persuasive'},\n",
              " {'count': 4439, 'id': 23, 'name': 'Jaw-dropping'},\n",
              " {'count': 1174, 'id': 25, 'name': 'OK'},\n",
              " {'count': 209, 'id': 26, 'name': 'Obnoxious'},\n",
              " {'count': 24924, 'id': 10, 'name': 'Inspiring'}]"
            ]
          },
          "metadata": {
            "tags": []
          },
          "execution_count": 128
        }
      ]
    },
    {
      "cell_type": "code",
      "metadata": {
        "id": "OQzziPCp-9N-",
        "colab_type": "code",
        "colab": {}
      },
      "source": [
        "ted['ratings_list'] = ted.ratings.apply(ast.literal_eval)"
      ],
      "execution_count": null,
      "outputs": []
    },
    {
      "cell_type": "code",
      "metadata": {
        "id": "WN-YM9OA_KeQ",
        "colab_type": "code",
        "colab": {
          "base_uri": "https://localhost:8080/",
          "height": 266
        },
        "outputId": "71d0673d-c962-4af5-f8c8-9e575a10841d"
      },
      "source": [
        "ted['ratings_list'][0]"
      ],
      "execution_count": null,
      "outputs": [
        {
          "output_type": "execute_result",
          "data": {
            "text/plain": [
              "[{'count': 19645, 'id': 7, 'name': 'Funny'},\n",
              " {'count': 4573, 'id': 1, 'name': 'Beautiful'},\n",
              " {'count': 6073, 'id': 9, 'name': 'Ingenious'},\n",
              " {'count': 3253, 'id': 3, 'name': 'Courageous'},\n",
              " {'count': 387, 'id': 11, 'name': 'Longwinded'},\n",
              " {'count': 242, 'id': 2, 'name': 'Confusing'},\n",
              " {'count': 7346, 'id': 8, 'name': 'Informative'},\n",
              " {'count': 10581, 'id': 22, 'name': 'Fascinating'},\n",
              " {'count': 300, 'id': 21, 'name': 'Unconvincing'},\n",
              " {'count': 10704, 'id': 24, 'name': 'Persuasive'},\n",
              " {'count': 4439, 'id': 23, 'name': 'Jaw-dropping'},\n",
              " {'count': 1174, 'id': 25, 'name': 'OK'},\n",
              " {'count': 209, 'id': 26, 'name': 'Obnoxious'},\n",
              " {'count': 24924, 'id': 10, 'name': 'Inspiring'}]"
            ]
          },
          "metadata": {
            "tags": []
          },
          "execution_count": 134
        }
      ]
    },
    {
      "cell_type": "code",
      "metadata": {
        "id": "lquvY95-AW4G",
        "colab_type": "code",
        "colab": {}
      },
      "source": [
        "def get_total_count_ratings(list_of_ratings):\n",
        "  num = 0\n",
        "  for l in list_of_ratings:\n",
        "    num += l['count']\n",
        "  return num"
      ],
      "execution_count": null,
      "outputs": []
    },
    {
      "cell_type": "code",
      "metadata": {
        "id": "GrS26QsbBIO4",
        "colab_type": "code",
        "colab": {
          "base_uri": "https://localhost:8080/",
          "height": 35
        },
        "outputId": "3f3278e8-355a-4e64-b503-6f154f337d9b"
      },
      "source": [
        "get_total_count_ratings(ted['ratings_list'][0])"
      ],
      "execution_count": null,
      "outputs": [
        {
          "output_type": "execute_result",
          "data": {
            "text/plain": [
              "93850"
            ]
          },
          "metadata": {
            "tags": []
          },
          "execution_count": 150
        }
      ]
    },
    {
      "cell_type": "code",
      "metadata": {
        "id": "_6p-uQuoDBRr",
        "colab_type": "code",
        "colab": {
          "base_uri": "https://localhost:8080/",
          "height": 35
        },
        "outputId": "07d5eeac-72c3-498b-d52f-d726c654e480"
      },
      "source": [
        "get_total_count_ratings(ted['ratings_list'][1])"
      ],
      "execution_count": null,
      "outputs": [
        {
          "output_type": "execute_result",
          "data": {
            "text/plain": [
              "2936"
            ]
          },
          "metadata": {
            "tags": []
          },
          "execution_count": 153
        }
      ]
    },
    {
      "cell_type": "code",
      "metadata": {
        "id": "p6tvRJ1ZBt2_",
        "colab_type": "code",
        "colab": {}
      },
      "source": [
        "ted['num_ratings'] = ted.ratings_list.apply(get_total_count_ratings)"
      ],
      "execution_count": null,
      "outputs": []
    },
    {
      "cell_type": "code",
      "metadata": {
        "id": "AA04J9XMC51J",
        "colab_type": "code",
        "colab": {
          "base_uri": "https://localhost:8080/",
          "height": 35
        },
        "outputId": "d9632837-2468-49c8-a926-fbe02a00848c"
      },
      "source": [
        "ted['num_ratings'].max()"
      ],
      "execution_count": null,
      "outputs": [
        {
          "output_type": "execute_result",
          "data": {
            "text/plain": [
              "93850"
            ]
          },
          "metadata": {
            "tags": []
          },
          "execution_count": 157
        }
      ]
    },
    {
      "cell_type": "code",
      "metadata": {
        "id": "H2A7a_ciC8Bx",
        "colab_type": "code",
        "colab": {
          "base_uri": "https://localhost:8080/",
          "height": 35
        },
        "outputId": "1651ad26-aa97-4a57-ca53-0699db508b4d"
      },
      "source": [
        "pd.DataFrame(ted.ratings_list[0])['count'].sum()"
      ],
      "execution_count": null,
      "outputs": [
        {
          "output_type": "execute_result",
          "data": {
            "text/plain": [
              "93850"
            ]
          },
          "metadata": {
            "tags": []
          },
          "execution_count": 161
        }
      ]
    },
    {
      "cell_type": "code",
      "metadata": {
        "id": "x3wtf5v4EVyp",
        "colab_type": "code",
        "colab": {}
      },
      "source": [
        "ted['num_ratings2'] = ted.ratings_list.apply()"
      ],
      "execution_count": null,
      "outputs": []
    },
    {
      "cell_type": "markdown",
      "metadata": {
        "id": "pA2tOogJExrS",
        "colab_type": "text"
      },
      "source": [
        "## Count the number of funny ratings"
      ]
    },
    {
      "cell_type": "code",
      "metadata": {
        "id": "JMisQajLE0HR",
        "colab_type": "code",
        "colab": {
          "base_uri": "https://localhost:8080/",
          "height": 53
        },
        "outputId": "505d2807-f168-40fa-874c-85834b5b3e88"
      },
      "source": [
        "ted.ratings.str.contains('Funny').value_counts()"
      ],
      "execution_count": null,
      "outputs": [
        {
          "output_type": "execute_result",
          "data": {
            "text/plain": [
              "True    2550\n",
              "Name: ratings, dtype: int64"
            ]
          },
          "metadata": {
            "tags": []
          },
          "execution_count": 166
        }
      ]
    },
    {
      "cell_type": "markdown",
      "metadata": {
        "id": "e5YMAUf0Ft__",
        "colab_type": "text"
      },
      "source": [
        "## Which occupations deliver the funniest TED talks on average?"
      ]
    },
    {
      "cell_type": "code",
      "metadata": {
        "id": "eWpafXCqFQiQ",
        "colab_type": "code",
        "colab": {}
      },
      "source": [
        ""
      ],
      "execution_count": null,
      "outputs": []
    }
  ]
}