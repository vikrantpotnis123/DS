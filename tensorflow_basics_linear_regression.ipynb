{
  "nbformat": 4,
  "nbformat_minor": 0,
  "metadata": {
    "colab": {
      "name": "tensorflow_basics_linear_regression.ipynb",
      "provenance": [],
      "collapsed_sections": [],
      "authorship_tag": "ABX9TyMEqRwinkDsmCQ2MTYmpiFY",
      "include_colab_link": true
    },
    "kernelspec": {
      "name": "python3",
      "display_name": "Python 3"
    }
  },
  "cells": [
    {
      "cell_type": "markdown",
      "metadata": {
        "id": "view-in-github",
        "colab_type": "text"
      },
      "source": [
        "<a href=\"https://colab.research.google.com/github/vikrantpotnis123/DS/blob/master/tensorflow_basics_linear_regression.ipynb\" target=\"_parent\"><img src=\"https://colab.research.google.com/assets/colab-badge.svg\" alt=\"Open In Colab\"/></a>"
      ]
    },
    {
      "cell_type": "code",
      "metadata": {
        "id": "7FFdH_--9p0h"
      },
      "source": [
        "%tensorflow_version 1.x"
      ],
      "execution_count": 20,
      "outputs": []
    },
    {
      "cell_type": "code",
      "metadata": {
        "id": "pgJHEsSbyXoR"
      },
      "source": [
        "import tensorflow as tf\r\n",
        "import numpy as np\r\n",
        "import matplotlib.pyplot as plt"
      ],
      "execution_count": 21,
      "outputs": []
    },
    {
      "cell_type": "code",
      "metadata": {
        "id": "ua5wycSRyg_6"
      },
      "source": [
        "def generate_dataset():\r\n",
        "  x_batch = np.linspace(-1,1, 101)\r\n",
        "  # y = 2x + e*0.3, e is sampled for normal distribuion \r\n",
        "  y_batch = 2*x_batch + np.random.randn(*x_batch.shape)*0.3\r\n",
        "  return x_batch, y_batch\r\n"
      ],
      "execution_count": 22,
      "outputs": []
    },
    {
      "cell_type": "code",
      "metadata": {
        "id": "kqc4AX8o3onD"
      },
      "source": [
        "def linear_regression():\r\n",
        "  x = tf.placeholder(tf.float32, shape=(None,), name='x')\r\n",
        "  y = tf.placeholder(tf.float32, shape=(None,), name='y')\r\n",
        "  with tf.variable_scope('lreg') as scope:\r\n",
        "    w = tf.Variable(np.random.normal,  name='W')\r\n",
        "    y_pred = tf.multiply(w, x)\r\n",
        "    loss = tf.reduce_mean(tf.square(y_pred - y))\r\n",
        "  return x, y, y_pred, loss\r\n",
        "    "
      ],
      "execution_count": 27,
      "outputs": []
    },
    {
      "cell_type": "code",
      "metadata": {
        "id": "UOJ65VAz4XCp"
      },
      "source": [
        "def run_graph():\r\n",
        "  x_batch, y_batch = generate_dataset()\r\n",
        "  x, y, y_pred, loss = linear_regression()\r\n",
        "  optimizer = tf.train.GradientDescentOptimizer(0.1).minimize(loss)\r\n",
        "  with tf.Session() as sess:\r\n",
        "    sess.run(tf.global_variables_initializer())\r\n",
        "    # training\r\n",
        "    for _ in range(30):\r\n",
        "      loss_val, _ = sess.run([loss, optimizer], {x:x_batch, y:y_batch})\r\n",
        "      print('loss: ', loss_val.mean())\r\n",
        "    #inference\r\n",
        "    y_pred_batch = sess.run(y_pred, {x:x_batch})\r\n",
        "    plt.figure(1)\r\n",
        "    plt.scatter(x_batch, y_batch)\r\n",
        "    plt.plot(x_batch, y_pred_batch)"
      ],
      "execution_count": 30,
      "outputs": []
    },
    {
      "cell_type": "code",
      "metadata": {
        "colab": {
          "base_uri": "https://localhost:8080/",
          "height": 811
        },
        "id": "aa0iLdzS81mX",
        "outputId": "174aece6-bd81-40ae-8843-6340b02b1b3e"
      },
      "source": [
        "if __name__ == '__main__':\r\n",
        "  run_graph()"
      ],
      "execution_count": 31,
      "outputs": [
        {
          "output_type": "stream",
          "text": [
            "loss:  0.9323035\n",
            "loss:  0.8202997\n",
            "loss:  0.7230106\n",
            "loss:  0.6385029\n",
            "loss:  0.5650975\n",
            "loss:  0.5013358\n",
            "loss:  0.44595087\n",
            "loss:  0.39784217\n",
            "loss:  0.35605386\n",
            "loss:  0.31975546\n",
            "loss:  0.28822583\n",
            "loss:  0.26083842\n",
            "loss:  0.23704904\n",
            "loss:  0.21638508\n",
            "loss:  0.1984358\n",
            "loss:  0.18284465\n",
            "loss:  0.16930182\n",
            "loss:  0.15753818\n",
            "loss:  0.14732002\n",
            "loss:  0.13844427\n",
            "loss:  0.13073456\n",
            "loss:  0.12403772\n",
            "loss:  0.11822072\n",
            "loss:  0.113167904\n",
            "loss:  0.10877891\n",
            "loss:  0.104966514\n",
            "loss:  0.101654984\n",
            "loss:  0.098778516\n",
            "loss:  0.09627996\n",
            "loss:  0.09410964\n"
          ],
          "name": "stdout"
        },
        {
          "output_type": "display_data",
          "data": {
            "image/png": "[encoded data removed]",
            "text/plain": [
              "<Figure size 432x288 with 1 Axes>"
            ]
          },
          "metadata": {
            "tags": [],
            "needs_background": "light"
          }
        }
      ]
    }
  ]
}