{
  "nbformat": 4,
  "nbformat_minor": 0,
  "metadata": {
    "colab": {
      "name": "tensor_basics.ipynb",
      "provenance": [],
      "collapsed_sections": [],
      "authorship_tag": "ABX9TyPT2pSDNVUNeXRA2mKzuVfX",
      "include_colab_link": true
    },
    "kernelspec": {
      "name": "python3",
      "display_name": "Python 3"
    }
  },
  "cells": [
    {
      "cell_type": "markdown",
      "metadata": {
        "id": "view-in-github",
        "colab_type": "text"
      },
      "source": [
        "<a href=\"https://colab.research.google.com/github/vikrantpotnis123/DS/blob/master/tensor_basics.ipynb\" target=\"_parent\"><img src=\"https://colab.research.google.com/assets/colab-badge.svg\" alt=\"Open In Colab\"/></a>"
      ]
    },
    {
      "cell_type": "code",
      "metadata": {
        "id": "KhQcpZzG4tta",
        "colab_type": "code",
        "colab": {
          "base_uri": "https://localhost:8080/",
          "height": 88
        },
        "outputId": "af551119-0e2a-4e6d-df7d-b2b485e0a723"
      },
      "source": [
        "!pip install torch\n",
        "print(torch.cuda.is_available()) "
      ],
      "execution_count": 166,
      "outputs": [
        {
          "output_type": "stream",
          "text": [
            "Requirement already satisfied: torch in /usr/local/lib/python3.6/dist-packages (1.5.0+cu101)\n",
            "Requirement already satisfied: numpy in /usr/local/lib/python3.6/dist-packages (from torch) (1.18.5)\n",
            "Requirement already satisfied: future in /usr/local/lib/python3.6/dist-packages (from torch) (0.16.0)\n",
            "False\n"
          ],
          "name": "stdout"
        }
      ]
    },
    {
      "cell_type": "code",
      "metadata": {
        "id": "FyEGcevaitHh",
        "colab_type": "code",
        "colab": {}
      },
      "source": [
        "import torch\n",
        "import numpy as np\n",
        "from torch.autograd import Variable\n",
        "from torch.nn import Linear\n",
        "import torch.nn as nn\n",
        "import matplotlib.pyplot as plt\n",
        "import pandas as pd"
      ],
      "execution_count": 167,
      "outputs": []
    },
    {
      "cell_type": "code",
      "metadata": {
        "id": "kWSEF72Ti3OJ",
        "colab_type": "code",
        "colab": {
          "base_uri": "https://localhost:8080/",
          "height": 35
        },
        "outputId": "46cb72e6-3452-4c0a-a20a-fca9a84130bd"
      },
      "source": [
        "device = torch.device(\"cuda:0\" if torch.cuda.is_available() else \"cpu\")\n",
        "print(device)"
      ],
      "execution_count": 168,
      "outputs": [
        {
          "output_type": "stream",
          "text": [
            "cpu\n"
          ],
          "name": "stdout"
        }
      ]
    },
    {
      "cell_type": "markdown",
      "metadata": {
        "id": "FXyB1CM4jeFP",
        "colab_type": "text"
      },
      "source": [
        "    Vectors are 1-dimensional tensors.\n",
        "    Matrices are 2-dimensional tensors\n",
        "    Tensors are generalized N-dimensional tensors. N can be anything from 3 to infinity…\n",
        "    A table is naturally equivalent to a 2-D matrix where an individual row (or instance) or individual column (or feature) can be treated as a 1-D vector.\n",
        "    Similarly, a black-and-white image can be treated as a 2-D matrix containing numbers 0 or 1. \n",
        "    This can be fed into a neural network for image classification or segmentation tasks\n",
        "    A time-series or sequence data (e.g., ECG data from a monitoring machine or a stock market price tracking data stream) is another example of 2-D data where one dimension (time) is fixed.\n",
        "    Going beyond 2-D, a color or grayscale image can be treated as a 3-D tensor where each pixel is associated with a so-called ‘color-channel’ – a vector of 3 numbers representing intensities in the Red-Green-Blue (RGB) spectrum. \n",
        "    This is an example of a 3-D tensor.\n",
        "    Videos can be thought of as sequences of color images (or frames) in time and can be thought of as 4-D tensors."
      ]
    },
    {
      "cell_type": "code",
      "metadata": {
        "id": "ByI9o80kjXit",
        "colab_type": "code",
        "colab": {
          "base_uri": "https://localhost:8080/",
          "height": 35
        },
        "outputId": "d5d04827-50ab-40df-804f-c0971c372c25"
      },
      "source": [
        "#1-d tensor from a list\n",
        "t1 = torch.tensor([x for x in  range(4)])\n",
        "t1"
      ],
      "execution_count": 169,
      "outputs": [
        {
          "output_type": "execute_result",
          "data": {
            "text/plain": [
              "tensor([0, 1, 2, 3])"
            ]
          },
          "metadata": {
            "tags": []
          },
          "execution_count": 169
        }
      ]
    },
    {
      "cell_type": "code",
      "metadata": {
        "id": "4Qkc0RDQj4ok",
        "colab_type": "code",
        "colab": {
          "base_uri": "https://localhost:8080/",
          "height": 35
        },
        "outputId": "fc6c2a5a-19ab-4e5c-979f-892965c9829f"
      },
      "source": [
        "print(t1.ndim, t1.size(), t1.type())"
      ],
      "execution_count": 170,
      "outputs": [
        {
          "output_type": "stream",
          "text": [
            "1 torch.Size([4]) torch.LongTensor\n"
          ],
          "name": "stdout"
        }
      ]
    },
    {
      "cell_type": "code",
      "metadata": {
        "id": "As1jmstZlSDR",
        "colab_type": "code",
        "colab": {
          "base_uri": "https://localhost:8080/",
          "height": 53
        },
        "outputId": "eee767de-690e-4134-fea7-144515ecb0d9"
      },
      "source": [
        "t2 = t1.reshape(2,2)\n",
        "t2"
      ],
      "execution_count": 171,
      "outputs": [
        {
          "output_type": "execute_result",
          "data": {
            "text/plain": [
              "tensor([[0, 1],\n",
              "        [2, 3]])"
            ]
          },
          "metadata": {
            "tags": []
          },
          "execution_count": 171
        }
      ]
    },
    {
      "cell_type": "code",
      "metadata": {
        "id": "3itNXG0BlX5x",
        "colab_type": "code",
        "colab": {
          "base_uri": "https://localhost:8080/",
          "height": 53
        },
        "outputId": "f4782ab4-9901-4bff-8bf2-92f49e89215d"
      },
      "source": [
        "# convert numpy <=> tensor\n",
        "t_from_n = torch.from_numpy(np.array([1., 2., 3., 4.]))\n",
        "print(t_from_n)\n",
        "n_from_t = t_from_n.numpy()\n",
        "print(n_from_t)"
      ],
      "execution_count": 172,
      "outputs": [
        {
          "output_type": "stream",
          "text": [
            "tensor([1., 2., 3., 4.], dtype=torch.float64)\n",
            "[1. 2. 3. 4.]\n"
          ],
          "name": "stdout"
        }
      ]
    },
    {
      "cell_type": "code",
      "metadata": {
        "id": "zA7tG0ipmAYf",
        "colab_type": "code",
        "colab": {
          "base_uri": "https://localhost:8080/",
          "height": 35
        },
        "outputId": "ee4d16c1-0a92-44cf-8909-764e0c9162fa"
      },
      "source": [
        "# convert pandas <=> tensor\n",
        "pd_series = pd.Series([2., 3., 4., 5.])\n",
        "pd_to_t  = torch.from_numpy(pd_series.values)\n",
        "print(pd_to_t)"
      ],
      "execution_count": 173,
      "outputs": [
        {
          "output_type": "stream",
          "text": [
            "tensor([2., 3., 4., 5.], dtype=torch.float64)\n"
          ],
          "name": "stdout"
        }
      ]
    },
    {
      "cell_type": "code",
      "metadata": {
        "id": "HXxcGs9jm26N",
        "colab_type": "code",
        "colab": {
          "base_uri": "https://localhost:8080/",
          "height": 35
        },
        "outputId": "fb241dea-d75f-452c-a785-579aa017fd34"
      },
      "source": [
        "# convert to list\n",
        "print(pd_to_t.tolist())"
      ],
      "execution_count": 174,
      "outputs": [
        {
          "output_type": "stream",
          "text": [
            "[2.0, 3.0, 4.0, 5.0]\n"
          ],
          "name": "stdout"
        }
      ]
    },
    {
      "cell_type": "code",
      "metadata": {
        "id": "_LFoyuqvm_Ea",
        "colab_type": "code",
        "colab": {
          "base_uri": "https://localhost:8080/",
          "height": 213
        },
        "outputId": "571477b0-0323-43e3-ce63-839cab35a7d1"
      },
      "source": [
        "# add two vectors\n",
        "u = torch.Tensor([x for x in np.arange(2.1, 11.1, 1.0)])\n",
        "print(u)\n",
        "\n",
        "v = torch.Tensor([x for x in np.arange(1.1, 10.1, 1.0)])\n",
        "print(v)\n",
        "\n",
        "print(u+v)\n",
        "\n",
        "# add scalar\n",
        "w = 5.\n",
        "print(u+v+w)\n",
        "\n",
        "# product of two vectors\n",
        "print(u*v)\n",
        "\n",
        "# product of vector and scalar\n",
        "print(u*v*10)"
      ],
      "execution_count": 175,
      "outputs": [
        {
          "output_type": "stream",
          "text": [
            "tensor([ 2.1000,  3.1000,  4.1000,  5.1000,  6.1000,  7.1000,  8.1000,  9.1000,\n",
            "        10.1000])\n",
            "tensor([1.1000, 2.1000, 3.1000, 4.1000, 5.1000, 6.1000, 7.1000, 8.1000, 9.1000])\n",
            "tensor([ 3.2000,  5.2000,  7.2000,  9.2000, 11.2000, 13.2000, 15.2000, 17.2000,\n",
            "        19.2000])\n",
            "tensor([ 8.2000, 10.2000, 12.2000, 14.2000, 16.2000, 18.2000, 20.2000, 22.2000,\n",
            "        24.2000])\n",
            "tensor([ 2.3100,  6.5100, 12.7100, 20.9100, 31.1100, 43.3100, 57.5100, 73.7100,\n",
            "        91.9100])\n",
            "tensor([ 23.1000,  65.1000, 127.1000, 209.1000, 311.1000, 433.1000, 575.1000,\n",
            "        737.1001, 919.1000])\n"
          ],
          "name": "stdout"
        }
      ]
    },
    {
      "cell_type": "code",
      "metadata": {
        "id": "rsGJPOvfpPpM",
        "colab_type": "code",
        "colab": {
          "base_uri": "https://localhost:8080/",
          "height": 515
        },
        "outputId": "ed9126e9-8783-45d7-8303-c1121ef14b6b"
      },
      "source": [
        "# matrix \n",
        "u = torch.tensor([ [1., 2.], [3., 4.]])\n",
        "print(u)\n",
        "v = torch.tensor([ [11., 22.], [33., 44.]])\n",
        "print(v)\n",
        "\n",
        "# matrix - element wise product\n",
        "print(u*v)\n",
        "\n",
        "# matrix - dot product\n",
        "print(u.shape)\n",
        "print(v.shape)\n",
        "print(torch.mm(u, v))\n",
        "\n",
        "w = torch.tensor(np.arange(12)).reshape(4,3)\n",
        "print(w)\n",
        "print(w.ndim)\n",
        "\n",
        "# matrix slice and dice\n",
        "print(w[0,2])\n",
        "print(w[0:3, 1:3])\n",
        "\n",
        "# matrix transpose\n",
        "print(w.transpose(0, 1))\n",
        "\n",
        "# matrix transpose, here -1 means second dim is adjused automatically\n",
        "print(w.transpose(0, 1))\n",
        "\n",
        "# matrix transpose, here -1 means second dim is adjused automatically\n",
        "print(w.transpose(-1, 0))"
      ],
      "execution_count": 176,
      "outputs": [
        {
          "output_type": "stream",
          "text": [
            "tensor([[1., 2.],\n",
            "        [3., 4.]])\n",
            "tensor([[11., 22.],\n",
            "        [33., 44.]])\n",
            "tensor([[ 11.,  44.],\n",
            "        [ 99., 176.]])\n",
            "torch.Size([2, 2])\n",
            "torch.Size([2, 2])\n",
            "tensor([[ 77., 110.],\n",
            "        [165., 242.]])\n",
            "tensor([[ 0,  1,  2],\n",
            "        [ 3,  4,  5],\n",
            "        [ 6,  7,  8],\n",
            "        [ 9, 10, 11]])\n",
            "2\n",
            "tensor(2)\n",
            "tensor([[1, 2],\n",
            "        [4, 5],\n",
            "        [7, 8]])\n",
            "tensor([[ 0,  3,  6,  9],\n",
            "        [ 1,  4,  7, 10],\n",
            "        [ 2,  5,  8, 11]])\n",
            "tensor([[ 0,  3,  6,  9],\n",
            "        [ 1,  4,  7, 10],\n",
            "        [ 2,  5,  8, 11]])\n",
            "tensor([[ 0,  3,  6,  9],\n",
            "        [ 1,  4,  7, 10],\n",
            "        [ 2,  5,  8, 11]])\n"
          ],
          "name": "stdout"
        }
      ]
    },
    {
      "cell_type": "code",
      "metadata": {
        "id": "lXz4YJOCi8ea",
        "colab_type": "code",
        "colab": {}
      },
      "source": [
        "# N is batch size; D_in is input dimension;\n",
        "# H is hidden dimension; D_out is output dimension.\n",
        "N, D_in, H, D_out = 64, 1000, 100, 10\n",
        "\n",
        "# Create random input and output data\n",
        "x = torch.randn(N, D_in, device=torch.device(\"cpu\"), dtype=torch.float) # vs np.random.randn(N, D_in)\n",
        "y = torch.randn(N, D_out, device=torch.device(\"cpu\"), dtype=torch.float)\n",
        "\n",
        "# Randomly initialize weights\n",
        "w1 = torch.randn(D_in, H, device=torch.device(\"cpu\"), dtype=torch.float)\n",
        "w2 = torch.randn(H, D_out, device=torch.device(\"cpu\"), dtype=torch.float)"
      ],
      "execution_count": 177,
      "outputs": []
    },
    {
      "cell_type": "code",
      "metadata": {
        "id": "j3Qe_VLBXHIs",
        "colab_type": "code",
        "colab": {}
      },
      "source": [
        "torch.manual_seed(5)\n",
        "model = Linear(N, D_in)"
      ],
      "execution_count": 178,
      "outputs": []
    },
    {
      "cell_type": "code",
      "metadata": {
        "id": "G2IJq4pIsPF2",
        "colab_type": "code",
        "colab": {
          "base_uri": "https://localhost:8080/",
          "height": 53
        },
        "outputId": "9c08a37f-00b7-4e67-da9d-b81959d05c41"
      },
      "source": [
        "# first derivative\n",
        "def f_of_x(x):\n",
        "    return x**3 + 8*x**2 + 4*x + 5\n",
        "print(f_of_x(10.0))\n",
        "\n",
        "def first_derivative(x):\n",
        "  return 3*x**2 + 16*x + 4\n",
        "\n",
        "print(first_derivative(10.0))\n",
        "\n"
      ],
      "execution_count": 179,
      "outputs": [
        {
          "output_type": "stream",
          "text": [
            "1845.0\n",
            "464.0\n"
          ],
          "name": "stdout"
        }
      ]
    },
    {
      "cell_type": "code",
      "metadata": {
        "id": "hy1TWAR2tA7m",
        "colab_type": "code",
        "colab": {
          "base_uri": "https://localhost:8080/",
          "height": 70
        },
        "outputId": "cf5997f2-8925-475c-8664-95d557fefcd2"
      },
      "source": [
        "x = torch.tensor(10.0, requires_grad=True)\n",
        "print(x)\n",
        "y = f_of_x(x)\n",
        "print(y)\n",
        "\n",
        "# compute gradient / first derivative\n",
        "z = y.backward()\n",
        "\n",
        "# get that derivative and print it \n",
        "# compare with the value in previous cell\n",
        "print(x.grad)"
      ],
      "execution_count": 180,
      "outputs": [
        {
          "output_type": "stream",
          "text": [
            "tensor(10., requires_grad=True)\n",
            "tensor(1845., grad_fn=<AddBackward0>)\n",
            "tensor(464.)\n"
          ],
          "name": "stdout"
        }
      ]
    },
    {
      "cell_type": "code",
      "metadata": {
        "id": "167M60Jvt3Eq",
        "colab_type": "code",
        "colab": {
          "base_uri": "https://localhost:8080/",
          "height": 70
        },
        "outputId": "8e21fa97-2772-4baa-ecfe-f175c78bd75a"
      },
      "source": [
        "# partial derivatives\n",
        "\n",
        "def f_of_x_y(x,y ):\n",
        "    return x**3 + y**3 + 8*x**2 + 8*y**2 + 4*x + 4*y + 5\n",
        "print(f_of_x(10.0))\n",
        "\n",
        "def partital_derivative_x(x):\n",
        "  return 3*x**2 + 16*x + 4\n",
        "\n",
        "def partital_derivative_y(y):\n",
        "  return 3*y**2 + 16*y + 4\n",
        "\n",
        "print(partital_derivative_x(10.0))\n",
        "print(partital_derivative_y(20.0))"
      ],
      "execution_count": 181,
      "outputs": [
        {
          "output_type": "stream",
          "text": [
            "1845.0\n",
            "464.0\n",
            "1524.0\n"
          ],
          "name": "stdout"
        }
      ]
    },
    {
      "cell_type": "code",
      "metadata": {
        "id": "9QeWamgPxrl_",
        "colab_type": "code",
        "colab": {
          "base_uri": "https://localhost:8080/",
          "height": 88
        },
        "outputId": "56a7176d-d0e0-49f5-d02a-cff14c1b0fb4"
      },
      "source": [
        "x = torch.tensor(10.0, requires_grad=True)\n",
        "y = torch.tensor(20.0, requires_grad=True)\n",
        "print(x, y)\n",
        "r = f_of_x_y(x,y)\n",
        "print(r)\n",
        "\n",
        "# compute gradient / first derivative\n",
        "z = r.backward(retain_graph=True)\n",
        "\n",
        "# get that derivative and print it \n",
        "# compare with the value in previous cell\n",
        "print(x.grad)\n",
        "print(y.grad)"
      ],
      "execution_count": 182,
      "outputs": [
        {
          "output_type": "stream",
          "text": [
            "tensor(10., requires_grad=True) tensor(20., requires_grad=True)\n",
            "tensor(13125., grad_fn=<AddBackward0>)\n",
            "tensor(464.)\n",
            "tensor(1524.)\n"
          ],
          "name": "stdout"
        }
      ]
    },
    {
      "cell_type": "code",
      "metadata": {
        "id": "1btHvmKYylek",
        "colab_type": "code",
        "colab": {
          "base_uri": "https://localhost:8080/",
          "height": 1000
        },
        "outputId": "ba8ff170-f263-434c-f209-be87088207bc"
      },
      "source": [
        "# derivative w.r.t vector\n",
        "x = torch.linspace(-20.0, 20.0, requires_grad=True)\n",
        "print(\"x = \" + str(x))\n",
        "y = f_of_x(x)\n",
        "print(\"y = \" + str(y))\n",
        "\n",
        "r = torch.sum(y)\n",
        "print(\"r = \" + str(r))\n",
        "r.backward(retain_graph=True)\n",
        "print(\"x.grad = \" + str(x.grad))\n"
      ],
      "execution_count": 183,
      "outputs": [
        {
          "output_type": "stream",
          "text": [
            "x = tensor([-20.0000, -19.5960, -19.1919, -18.7879, -18.3838, -17.9798, -17.5758,\n",
            "        -17.1717, -16.7677, -16.3636, -15.9596, -15.5556, -15.1515, -14.7475,\n",
            "        -14.3434, -13.9394, -13.5354, -13.1313, -12.7273, -12.3232, -11.9192,\n",
            "        -11.5152, -11.1111, -10.7071, -10.3030,  -9.8990,  -9.4949,  -9.0909,\n",
            "         -8.6869,  -8.2828,  -7.8788,  -7.4747,  -7.0707,  -6.6667,  -6.2626,\n",
            "         -5.8586,  -5.4545,  -5.0505,  -4.6465,  -4.2424,  -3.8384,  -3.4343,\n",
            "         -3.0303,  -2.6263,  -2.2222,  -1.8182,  -1.4141,  -1.0101,  -0.6061,\n",
            "         -0.2020,   0.2020,   0.6061,   1.0101,   1.4141,   1.8182,   2.2222,\n",
            "          2.6263,   3.0303,   3.4343,   3.8384,   4.2424,   4.6465,   5.0505,\n",
            "          5.4545,   5.8586,   6.2626,   6.6667,   7.0707,   7.4747,   7.8788,\n",
            "          8.2828,   8.6869,   9.0909,   9.4949,   9.8990,  10.3030,  10.7071,\n",
            "         11.1111,  11.5152,  11.9192,  12.3232,  12.7273,  13.1313,  13.5354,\n",
            "         13.9394,  14.3434,  14.7475,  15.1515,  15.5556,  15.9596,  16.3636,\n",
            "         16.7677,  17.1717,  17.5758,  17.9798,  18.3838,  18.7879,  19.1919,\n",
            "         19.5960,  20.0000], requires_grad=True)\n",
            "y = tensor([-4.8750e+03, -4.5263e+03, -4.1941e+03, -3.8781e+03, -3.5779e+03,\n",
            "        -3.2931e+03, -3.0233e+03, -2.7681e+03, -2.5271e+03, -2.3000e+03,\n",
            "        -2.0862e+03, -1.8855e+03, -1.6974e+03, -1.5215e+03, -1.3574e+03,\n",
            "        -1.2048e+03, -1.0633e+03, -9.3232e+02, -8.1165e+02, -7.0083e+02,\n",
            "        -5.9947e+02, -5.0717e+02, -4.2353e+02, -3.4817e+02, -2.8068e+02,\n",
            "        -2.2068e+02, -1.6776e+02, -1.2152e+02, -8.1580e+01, -4.7535e+01,\n",
            "        -1.8991e+01,  4.4478e+00,  2.3177e+01,  3.7593e+01,  4.8090e+01,\n",
            "         5.5065e+01,  5.8914e+01,  6.0033e+01,  5.8816e+01,  5.5660e+01,\n",
            "         5.0960e+01,  4.5113e+01,  3.8514e+01,  3.1559e+01,  2.4643e+01,\n",
            "         1.8163e+01,  1.2514e+01,  8.0914e+00,  5.2916e+00,  4.5102e+00,\n",
            "         6.1428e+00,  1.0585e+01,  1.8233e+01,  2.9483e+01,  4.4730e+01,\n",
            "         6.4369e+01,  8.8797e+01,  1.1841e+02,  1.5360e+02,  1.9477e+02,\n",
            "         2.4231e+02,  2.9662e+02,  3.5809e+02,  4.2712e+02,  5.0410e+02,\n",
            "         5.8944e+02,  6.8352e+02,  7.8674e+02,  8.9950e+02,  1.0222e+03,\n",
            "         1.1552e+03,  1.2990e+03,  1.4538e+03,  1.6202e+03,  1.7985e+03,\n",
            "         1.9891e+03,  2.1924e+03,  2.4088e+03,  2.6387e+03,  2.8825e+03,\n",
            "         3.1406e+03,  3.4134e+03,  3.7012e+03,  4.0045e+03,  4.3237e+03,\n",
            "         4.6592e+03,  5.0113e+03,  5.3805e+03,  5.7671e+03,  6.1716e+03,\n",
            "         6.5943e+03,  7.0356e+03,  7.4960e+03,  7.9758e+03,  8.4755e+03,\n",
            "         8.9954e+03,  9.5359e+03,  1.0097e+04,  1.0680e+04,  1.1285e+04],\n",
            "       grad_fn=<AddBackward0>)\n",
            "r = tensor(109321.5391, grad_fn=<SumBackward0>)\n",
            "x.grad = tensor([ 8.8400e+02,  8.4247e+02,  8.0192e+02,  7.6235e+02,  7.2376e+02,\n",
            "         6.8614e+02,  6.4951e+02,  6.1386e+02,  5.7918e+02,  5.4549e+02,\n",
            "         5.1277e+02,  4.8104e+02,  4.5028e+02,  4.2050e+02,  3.9171e+02,\n",
            "         3.6389e+02,  3.3705e+02,  3.1119e+02,  2.8631e+02,  2.6241e+02,\n",
            "         2.3949e+02,  2.1755e+02,  1.9659e+02,  1.7661e+02,  1.5761e+02,\n",
            "         1.3959e+02,  1.2254e+02,  1.0648e+02,  9.1395e+01,  7.7290e+01,\n",
            "         6.4165e+01,  5.2020e+01,  4.0853e+01,  3.0667e+01,  2.1459e+01,\n",
            "         1.3232e+01,  5.9835e+00, -2.8527e-01, -5.5745e+00, -9.8843e+00,\n",
            "        -1.3215e+01, -1.5565e+01, -1.6937e+01, -1.7328e+01, -1.6741e+01,\n",
            "        -1.5174e+01, -1.2627e+01, -9.1007e+00, -4.5950e+00,  8.9011e-01,\n",
            "         7.3548e+00,  1.4799e+01,  2.3223e+01,  3.2626e+01,  4.3008e+01,\n",
            "         5.4370e+01,  6.6712e+01,  8.0033e+01,  9.4334e+01,  1.0961e+02,\n",
            "         1.2587e+02,  1.4311e+02,  1.6133e+02,  1.8053e+02,  2.0071e+02,\n",
            "         2.2186e+02,  2.4400e+02,  2.6712e+02,  2.9121e+02,  3.1629e+02,\n",
            "         3.4234e+02,  3.6937e+02,  3.9739e+02,  4.2638e+02,  4.5635e+02,\n",
            "         4.8731e+02,  5.1924e+02,  5.5215e+02,  5.8604e+02,  6.2091e+02,\n",
            "         6.5676e+02,  6.9359e+02,  7.3140e+02,  7.7018e+02,  8.0995e+02,\n",
            "         8.5070e+02,  8.9242e+02,  9.3513e+02,  9.7881e+02,  1.0235e+03,\n",
            "         1.0691e+03,  1.1157e+03,  1.1634e+03,  1.2119e+03,  1.2615e+03,\n",
            "         1.3120e+03,  1.3636e+03,  1.4161e+03,  1.4695e+03,  1.5240e+03])\n"
          ],
          "name": "stdout"
        }
      ]
    },
    {
      "cell_type": "code",
      "metadata": {
        "id": "hF4ZXLGR0ega",
        "colab_type": "code",
        "colab": {}
      },
      "source": [
        "% matplotlib inline"
      ],
      "execution_count": 184,
      "outputs": []
    },
    {
      "cell_type": "code",
      "metadata": {
        "id": "B5FMwOd60hBZ",
        "colab_type": "code",
        "colab": {
          "base_uri": "https://localhost:8080/",
          "height": 313
        },
        "outputId": "2062de9d-4d39-4b7f-ff17-bd952265a953"
      },
      "source": [
        "plt.plot(x.detach().numpy(), y.detach().numpy())\n",
        "plt.xlabel('x')\n",
        "plt.ylabel('f_of_x')\n",
        "plt.title('x versus f_of_x, where f_of_x =  x**3 + 8*x**2 + 4*x + 5')"
      ],
      "execution_count": 185,
      "outputs": [
        {
          "output_type": "execute_result",
          "data": {
            "text/plain": [
              "Text(0.5, 1.0, 'x versus f_of_x, where f_of_x =  x**3 + 8*x**2 + 4*x + 5')"
            ]
          },
          "metadata": {
            "tags": []
          },
          "execution_count": 185
        },
        {
          "output_type": "display_data",
          "data": {
            "image/png": "[encoded data removed]",
            "text/plain": [
              "<Figure size 432x288 with 1 Axes>"
            ]
          },
          "metadata": {
            "tags": [],
            "needs_background": "light"
          }
        }
      ]
    },
    {
      "cell_type": "code",
      "metadata": {
        "id": "jHpvCiq32pcD",
        "colab_type": "code",
        "colab": {
          "base_uri": "https://localhost:8080/",
          "height": 313
        },
        "outputId": "968d59c9-5731-4f8c-b7ea-e669b185331a"
      },
      "source": [
        "plt.plot(x.detach().numpy(), x.grad)\n",
        "plt.xlabel('x')\n",
        "plt.ylabel('derivative(f_of_x)')\n",
        "plt.title('x versus derivative(f_of_x)')"
      ],
      "execution_count": 186,
      "outputs": [
        {
          "output_type": "execute_result",
          "data": {
            "text/plain": [
              "Text(0.5, 1.0, 'x versus derivative(f_of_x)')"
            ]
          },
          "metadata": {
            "tags": []
          },
          "execution_count": 186
        },
        {
          "output_type": "display_data",
          "data": {
            "image/png": "[encoded data removed]",
            "text/plain": [
              "<Figure size 432x288 with 1 Axes>"
            ]
          },
          "metadata": {
            "tags": [],
            "needs_background": "light"
          }
        }
      ]
    }
  ]
}