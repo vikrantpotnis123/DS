{
  "nbformat": 4,
  "nbformat_minor": 0,
  "metadata": {
    "colab": {
      "name": "nltk_language_model.ipynb",
      "provenance": [],
      "collapsed_sections": [],
      "authorship_tag": "ABX9TyOR6g5fkAizXMkGWgmY2ViW",
      "include_colab_link": true
    },
    "kernelspec": {
      "name": "python3",
      "display_name": "Python 3"
    }
  },
  "cells": [
    {
      "cell_type": "markdown",
      "metadata": {
        "id": "view-in-github",
        "colab_type": "text"
      },
      "source": [
        "<a href=\"https://colab.research.google.com/github/vikrantpotnis123/DS/blob/master/nltk_language_model.ipynb\" target=\"_parent\"><img src=\"https://colab.research.google.com/assets/colab-badge.svg\" alt=\"Open In Colab\"/></a>"
      ]
    },
    {
      "cell_type": "code",
      "metadata": {
        "id": "iyrgqGO1SmkU",
        "colab_type": "code",
        "colab": {
          "base_uri": "https://localhost:8080/",
          "height": 86
        },
        "outputId": "c68f015d-4231-438b-f935-551849fd9703"
      },
      "source": [
        "import sys\n",
        "assert sys.version_info[0]==3\n",
        "assert sys.version_info[1] >= 5\n",
        "\n",
        "from gensim.models import KeyedVectors\n",
        "from gensim.test.utils import datapath\n",
        "import pprint\n",
        "import matplotlib.pyplot as plt\n",
        "plt.rcParams['figure.figsize'] = [10, 5]\n",
        "import nltk\n",
        "nltk.download('reuters')\n",
        "from nltk.corpus import reuters\n",
        "import numpy as np\n",
        "import random\n",
        "import scipy as sp\n",
        "from sklearn.decomposition import TruncatedSVD\n",
        "from sklearn.decomposition import PCA\n",
        "\n",
        "START_TOKEN = '<START>'\n",
        "END_TOKEN = '<END>'\n",
        "\n",
        "np.random.seed(0)\n",
        "random.seed(0)\n",
        "import nltk\n",
        "nltk.download('punkt')"
      ],
      "execution_count": null,
      "outputs": [
        {
          "output_type": "stream",
          "text": [
            "[nltk_data] Downloading package reuters to /root/nltk_data...\n",
            "[nltk_data] Downloading package punkt to /root/nltk_data...\n",
            "[nltk_data]   Unzipping tokenizers/punkt.zip.\n"
          ],
          "name": "stdout"
        },
        {
          "output_type": "execute_result",
          "data": {
            "text/plain": [
              "True"
            ]
          },
          "metadata": {
            "tags": []
          },
          "execution_count": 2
        }
      ]
    },
    {
      "cell_type": "code",
      "metadata": {
        "id": "r-_Ep5lzL8c_",
        "colab_type": "code",
        "colab": {
          "base_uri": "https://localhost:8080/",
          "height": 124
        },
        "outputId": "bcca4a34-0eb2-4109-8d9d-112cab084130"
      },
      "source": [
        "from google.colab import drive\n",
        "drive.mount('/content/gdrive', force_remount=True)\n",
        "root_dir = \"/content/gdrive/My Drive/\"\n",
        "\n"
      ],
      "execution_count": null,
      "outputs": [
        {
          "output_type": "stream",
          "text": [
            "Go to this URL in a browser: https://accounts.google.com/o/oauth2/auth?client_id=947318989803-6bn6qk8qdgf4n4g3pfee6491hc0brc4i.apps.googleusercontent.com&redirect_uri=urn%3aietf%3awg%3aoauth%3a2.0%3aoob&response_type=code&scope=email%20https%3a%2f%2fwww.googleapis.com%2fauth%2fdocs.test%20https%3a%2f%2fwww.googleapis.com%2fauth%2fdrive%20https%3a%2f%2fwww.googleapis.com%2fauth%2fdrive.photos.readonly%20https%3a%2f%2fwww.googleapis.com%2fauth%2fpeopleapi.readonly\n",
            "\n",
            "Enter your authorization code:\n",
            "··········\n",
            "Mounted at /content/gdrive\n"
          ],
          "name": "stdout"
        }
      ]
    },
    {
      "cell_type": "code",
      "metadata": {
        "id": "4-EufidhLCdW",
        "colab_type": "code",
        "colab": {}
      },
      "source": [
        "pp = pprint.PrettyPrinter(indent=4)\n",
        "from csv import reader\n",
        "with open(root_dir+ 'data/students.csv', 'r') as f:\n",
        "  csv_reader = reader(f)\n",
        "  list_of_rows = list(csv_reader)"
      ],
      "execution_count": null,
      "outputs": []
    },
    {
      "cell_type": "code",
      "metadata": {
        "id": "zPvsXk9BNK87",
        "colab_type": "code",
        "colab": {
          "base_uri": "https://localhost:8080/",
          "height": 104
        },
        "outputId": "5d97305f-469f-432f-efec-03659ec1d971"
      },
      "source": [
        "list_of_rows"
      ],
      "execution_count": null,
      "outputs": [
        {
          "output_type": "execute_result",
          "data": {
            "text/plain": [
              "[['Id', 'Name', 'Course', 'City', 'Session'],\n",
              " ['21', 'Mark', 'Python', 'London', 'Morning'],\n",
              " ['22', 'John', 'Python', 'Tokyo', 'Evening'],\n",
              " ['23', 'Sam', 'Python', 'Paris', 'Morning'],\n",
              " ['32', 'Shaun', 'Java', 'Tokyo', 'Morning']]"
            ]
          },
          "metadata": {
            "tags": []
          },
          "execution_count": 5
        }
      ]
    },
    {
      "cell_type": "code",
      "metadata": {
        "id": "BMd-6cx-h7EH",
        "colab_type": "code",
        "colab": {}
      },
      "source": [
        ""
      ],
      "execution_count": null,
      "outputs": []
    },
    {
      "cell_type": "code",
      "metadata": {
        "id": "ZG0wC6tGLmXB",
        "colab_type": "code",
        "colab": {}
      },
      "source": [
        "from nltk.corpus import reuters\n",
        "from collections import Counter\n",
        "from nltk import bigrams, trigrams\n",
        "from collections import Counter, defaultdict\n",
        " \n",
        "first_sentence = reuters.sents()[0]\n",
        "counts = Counter(reuters.words()) #counter is subclass of dict\n",
        "total_count = len(reuters.words())"
      ],
      "execution_count": null,
      "outputs": []
    },
    {
      "cell_type": "code",
      "metadata": {
        "id": "TPstIFSraZlX",
        "colab_type": "code",
        "colab": {}
      },
      "source": [
        "for word in counts:\n",
        "  counts[word] /= float(total_count)"
      ],
      "execution_count": null,
      "outputs": []
    },
    {
      "cell_type": "code",
      "metadata": {
        "id": "HbaSYrcZaO0g",
        "colab_type": "code",
        "colab": {
          "base_uri": "https://localhost:8080/",
          "height": 191
        },
        "outputId": "b5c22a11-bb59-4b27-ab40-ae4ea270016f"
      },
      "source": [
        "pp.pprint(counts.most_common()[0:10])"
      ],
      "execution_count": null,
      "outputs": [
        {
          "output_type": "stream",
          "text": [
            "[   ('.', 0.055021758950689205),\n",
            "    (',', 0.042047741270415905),\n",
            "    ('the', 0.033849129031826936),\n",
            "    ('of', 0.02090707135390124),\n",
            "    ('to', 0.01977743054365126),\n",
            "    ('in', 0.015386126221089999),\n",
            "    ('said', 0.014657438167564549),\n",
            "    ('and', 0.014552260705293332),\n",
            "    ('a', 0.013650988639090802),\n",
            "    ('mln', 0.010481137497159917)]\n"
          ],
          "name": "stdout"
        }
      ]
    },
    {
      "cell_type": "code",
      "metadata": {
        "id": "ilpZlLblf6_n",
        "colab_type": "code",
        "colab": {
          "base_uri": "https://localhost:8080/",
          "height": 139
        },
        "outputId": "e583dbd7-585d-4411-c1b1-e9ba79c48872"
      },
      "source": [
        " \n",
        "import random\n",
        " \n",
        "# Generate 100 words of language\n",
        "text = []\n",
        " \n",
        "for _ in range(100):\n",
        "    r = random.random()\n",
        "    accumulator = .0\n",
        " \n",
        "    for word, freq in counts.items():\n",
        "        accumulator += freq\n",
        "        if accumulator >= r:\n",
        "            text.append(word)\n",
        "            break\n",
        " \n",
        "pp.pprint(' '.join(text))"
      ],
      "execution_count": null,
      "outputs": [
        {
          "output_type": "stream",
          "text": [
            "('1980 I our to its last payment it two coffee Domestic or while there 000 a '\n",
            " 'UPS Emery Revs houses mln East India declared Australian has 1 > Harris '\n",
            " 'entertainment which 62 to acquired growth . per had shr give U this confined '\n",
            " 'a dlrs PA , 500 a easy cts have the dlrs 2 processing of declined GROWTH '\n",
            " 'prices shrs 5 ballot C January third 3 ( today be , , about 51 two the curb '\n",
            " 'conduct 783 banker trader 058 5 are maturing on CTS Coast authority futures '\n",
            " 'SHELL Commodity share copper InterCare longer tax the about up')\n"
          ],
          "name": "stdout"
        }
      ]
    },
    {
      "cell_type": "code",
      "metadata": {
        "id": "EzesokgGgFbT",
        "colab_type": "code",
        "colab": {
          "base_uri": "https://localhost:8080/",
          "height": 364
        },
        "outputId": "3c1349a3-e675-449b-9e28-97cf45b53ae9"
      },
      "source": [
        "pp.pprint(counts.most_common(n=20))"
      ],
      "execution_count": null,
      "outputs": [
        {
          "output_type": "stream",
          "text": [
            "[   ('.', 0.055021758950689205),\n",
            "    (',', 0.042047741270415905),\n",
            "    ('the', 0.033849129031826936),\n",
            "    ('of', 0.02090707135390124),\n",
            "    ('to', 0.01977743054365126),\n",
            "    ('in', 0.015386126221089999),\n",
            "    ('said', 0.014657438167564549),\n",
            "    ('and', 0.014552260705293332),\n",
            "    ('a', 0.013650988639090802),\n",
            "    ('mln', 0.010481137497159917),\n",
            "    ('vs', 0.008205004239058494),\n",
            "    ('-', 0.007963851494072001),\n",
            "    ('for', 0.007429247818439295),\n",
            "    ('dlrs', 0.006816196864317006),\n",
            "    (\"'\", 0.0065500572084042025),\n",
            "    ('The', 0.0063734055590646994),\n",
            "    ('000', 0.0059718717113883945),\n",
            "    ('1', 0.00579754442585599),\n",
            "    ('s', 0.005402983669600982),\n",
            "    ('pct', 0.005283860024487172)]\n"
          ],
          "name": "stdout"
        }
      ]
    },
    {
      "cell_type": "code",
      "metadata": {
        "id": "bWFI_AXwhFbu",
        "colab_type": "code",
        "colab": {
          "base_uri": "https://localhost:8080/",
          "height": 816
        },
        "outputId": "3465e7a6-a0cc-412a-afcc-b9c2b34ac1b0"
      },
      "source": [
        "pp.pprint(list(trigrams(first_sentence, pad_left=True, pad_right=True))[5:100])"
      ],
      "execution_count": null,
      "outputs": [
        {
          "output_type": "stream",
          "text": [
            "[   ('DAMAGE', 'FROM', 'U'),\n",
            "    ('FROM', 'U', '.'),\n",
            "    ('U', '.', 'S'),\n",
            "    ('.', 'S', '.-'),\n",
            "    ('S', '.-', 'JAPAN'),\n",
            "    ('.-', 'JAPAN', 'RIFT'),\n",
            "    ('JAPAN', 'RIFT', 'Mounting'),\n",
            "    ('RIFT', 'Mounting', 'trade'),\n",
            "    ('Mounting', 'trade', 'friction'),\n",
            "    ('trade', 'friction', 'between'),\n",
            "    ('friction', 'between', 'the'),\n",
            "    ('between', 'the', 'U'),\n",
            "    ('the', 'U', '.'),\n",
            "    ('U', '.', 'S'),\n",
            "    ('.', 'S', '.'),\n",
            "    ('S', '.', 'And'),\n",
            "    ('.', 'And', 'Japan'),\n",
            "    ('And', 'Japan', 'has'),\n",
            "    ('Japan', 'has', 'raised'),\n",
            "    ('has', 'raised', 'fears'),\n",
            "    ('raised', 'fears', 'among'),\n",
            "    ('fears', 'among', 'many'),\n",
            "    ('among', 'many', 'of'),\n",
            "    ('many', 'of', 'Asia'),\n",
            "    ('of', 'Asia', \"'\"),\n",
            "    ('Asia', \"'\", 's'),\n",
            "    (\"'\", 's', 'exporting'),\n",
            "    ('s', 'exporting', 'nations'),\n",
            "    ('exporting', 'nations', 'that'),\n",
            "    ('nations', 'that', 'the'),\n",
            "    ('that', 'the', 'row'),\n",
            "    ('the', 'row', 'could'),\n",
            "    ('row', 'could', 'inflict'),\n",
            "    ('could', 'inflict', 'far'),\n",
            "    ('inflict', 'far', '-'),\n",
            "    ('far', '-', 'reaching'),\n",
            "    ('-', 'reaching', 'economic'),\n",
            "    ('reaching', 'economic', 'damage'),\n",
            "    ('economic', 'damage', ','),\n",
            "    ('damage', ',', 'businessmen'),\n",
            "    (',', 'businessmen', 'and'),\n",
            "    ('businessmen', 'and', 'officials'),\n",
            "    ('and', 'officials', 'said'),\n",
            "    ('officials', 'said', '.'),\n",
            "    ('said', '.', None),\n",
            "    ('.', None, None)]\n"
          ],
          "name": "stdout"
        }
      ]
    },
    {
      "cell_type": "code",
      "metadata": {
        "id": "po1of5zThfdA",
        "colab_type": "code",
        "colab": {
          "base_uri": "https://localhost:8080/",
          "height": 104
        },
        "outputId": "0cee9811-2802-4b8f-e942-214cd5808c2a"
      },
      "source": [
        "model = defaultdict(lambda: defaultdict(lambda: 0))\n",
        " \n",
        "for sentence in reuters.sents():\n",
        "    for w1, w2, w3 in trigrams(sentence, pad_right=True, pad_left=True):\n",
        "        model[(w1, w2)][w3] += 1\n",
        " \n",
        " \n",
        "print(model[\"what\", \"the\"][\"economists\"]) \n",
        "print(model[\"what\", \"the\"][\"nonexistingword\"])\n",
        "print(model[None, None][\"The\"])\n",
        "print(len(model.items()))\n",
        "print(type(model.values()))\n"
      ],
      "execution_count": null,
      "outputs": [
        {
          "output_type": "stream",
          "text": [
            "2\n",
            "0\n",
            "8839\n",
            "398630\n",
            "<class 'dict_values'>\n"
          ],
          "name": "stdout"
        }
      ]
    },
    {
      "cell_type": "code",
      "metadata": {
        "id": "qA8apMbWJNTy",
        "colab_type": "code",
        "colab": {}
      },
      "source": [
        "# Let's transform the counts to probabilities\n",
        "for (i, w1_w2) in enumerate(model):\n",
        "    total_count = float(sum(model[w1_w2].values()))\n",
        "    for w3 in model[w1_w2]:\n",
        "        model[w1_w2][w3] /= total_count"
      ],
      "execution_count": null,
      "outputs": []
    },
    {
      "cell_type": "code",
      "metadata": {
        "id": "_X2MOia0MdrH",
        "colab_type": "code",
        "colab": {
          "base_uri": "https://localhost:8080/",
          "height": 1000
        },
        "outputId": "0756be85-9d61-4a64-ea9b-fff68894204b"
      },
      "source": [
        "for i, (x, y) in enumerate(model):\n",
        "  if i >=5 and i <= 100:\n",
        "    print('{0} => {1}'.format(x, y))\n",
        "  elif i > 100:\n",
        "    break"
      ],
      "execution_count": null,
      "outputs": [
        {
          "output_type": "stream",
          "text": [
            "DAMAGE => FROM\n",
            "FROM => U\n",
            "U => .\n",
            ". => S\n",
            "S => .-\n",
            ".- => JAPAN\n",
            "JAPAN => RIFT\n",
            "RIFT => Mounting\n",
            "Mounting => trade\n",
            "trade => friction\n",
            "friction => between\n",
            "between => the\n",
            "the => U\n",
            "S => .\n",
            ". => And\n",
            "And => Japan\n",
            "Japan => has\n",
            "has => raised\n",
            "raised => fears\n",
            "fears => among\n",
            "among => many\n",
            "many => of\n",
            "of => Asia\n",
            "Asia => '\n",
            "' => s\n",
            "s => exporting\n",
            "exporting => nations\n",
            "nations => that\n",
            "that => the\n",
            "the => row\n",
            "row => could\n",
            "could => inflict\n",
            "inflict => far\n",
            "far => -\n",
            "- => reaching\n",
            "reaching => economic\n",
            "economic => damage\n",
            "damage => ,\n",
            ", => businessmen\n",
            "businessmen => and\n",
            "and => officials\n",
            "officials => said\n",
            "said => .\n",
            ". => None\n",
            "None => They\n",
            "They => told\n",
            "told => Reuter\n",
            "Reuter => correspondents\n",
            "correspondents => in\n",
            "in => Asian\n",
            "Asian => capitals\n",
            "capitals => a\n",
            "a => U\n",
            ". => Move\n",
            "Move => against\n",
            "against => Japan\n",
            "Japan => might\n",
            "might => boost\n",
            "boost => protectionist\n",
            "protectionist => sentiment\n",
            "sentiment => in\n",
            "in => the\n",
            "And => lead\n",
            "lead => to\n",
            "to => curbs\n",
            "curbs => on\n",
            "on => American\n",
            "American => imports\n",
            "imports => of\n",
            "of => their\n",
            "their => products\n",
            "products => .\n",
            "None => But\n",
            "But => some\n",
            "some => exporters\n",
            "exporters => said\n",
            "said => that\n",
            "that => while\n",
            "while => the\n",
            "the => conflict\n",
            "conflict => would\n",
            "would => hurt\n",
            "hurt => them\n",
            "them => in\n",
            "the => long\n",
            "long => -\n",
            "- => run\n",
            "run => ,\n",
            ", => in\n",
            "the => short\n",
            "short => -\n",
            "- => term\n",
            "term => Tokyo\n",
            "Tokyo => '\n",
            "s => loss\n",
            "loss => might\n"
          ],
          "name": "stdout"
        }
      ]
    },
    {
      "cell_type": "code",
      "metadata": {
        "id": "HmtZsSbLJ5pl",
        "colab_type": "code",
        "colab": {
          "base_uri": "https://localhost:8080/",
          "height": 34
        },
        "outputId": "0679e391-d018-4178-a858-902e211f6560"
      },
      "source": [
        "print(model[\"what\", \"the\"][\"economists\"] )"
      ],
      "execution_count": null,
      "outputs": [
        {
          "output_type": "stream",
          "text": [
            "0.043478260869565216\n"
          ],
          "name": "stdout"
        }
      ]
    },
    {
      "cell_type": "code",
      "metadata": {
        "id": "Z8t1Pcf-KEkc",
        "colab_type": "code",
        "colab": {
          "base_uri": "https://localhost:8080/",
          "height": 34
        },
        "outputId": "d34e66b1-dd78-403c-c1c8-a0375abb422e"
      },
      "source": [
        "print(model[\"what\", \"the\"][\"nonexistingword\"] )"
      ],
      "execution_count": null,
      "outputs": [
        {
          "output_type": "stream",
          "text": [
            "0.0\n"
          ],
          "name": "stdout"
        }
      ]
    },
    {
      "cell_type": "code",
      "metadata": {
        "id": "r-_30vHpKJYN",
        "colab_type": "code",
        "colab": {
          "base_uri": "https://localhost:8080/",
          "height": 34
        },
        "outputId": "553040c3-baec-4802-9623-954f84773b64"
      },
      "source": [
        "print(model[None, None][\"The\"])"
      ],
      "execution_count": null,
      "outputs": [
        {
          "output_type": "stream",
          "text": [
            "0.16154324146501936\n"
          ],
          "name": "stdout"
        }
      ]
    },
    {
      "cell_type": "code",
      "metadata": {
        "id": "aKFp0WLIKN_a",
        "colab_type": "code",
        "colab": {
          "base_uri": "https://localhost:8080/",
          "height": 69
        },
        "outputId": "8f07e686-1259-4e47-f2d6-cc6fc0cb8e1f"
      },
      "source": [
        " nltk.download('brown')\n",
        "\n",
        " tokens = nltk.corpus.brown.words(categories='news')\n",
        " print(tokens)"
      ],
      "execution_count": null,
      "outputs": [
        {
          "output_type": "stream",
          "text": [
            "[nltk_data] Downloading package brown to /root/nltk_data...\n",
            "[nltk_data]   Unzipping corpora/brown.zip.\n",
            "['The', 'Fulton', 'County', 'Grand', 'Jury', 'said', ...]\n"
          ],
          "name": "stdout"
        }
      ]
    },
    {
      "cell_type": "code",
      "metadata": {
        "id": "oHxk-cWWAe7w",
        "colab_type": "code",
        "colab": {}
      },
      "source": [
        ""
      ],
      "execution_count": null,
      "outputs": []
    }
  ]
}