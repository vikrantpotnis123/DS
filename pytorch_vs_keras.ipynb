{
  "nbformat": 4,
  "nbformat_minor": 0,
  "metadata": {
    "colab": {
      "name": "pytorch_vs_keras.ipynb",
      "provenance": [],
      "collapsed_sections": [],
      "authorship_tag": "ABX9TyNp7Pyfq27MHpbCxhi85wGJ",
      "include_colab_link": true
    },
    "kernelspec": {
      "name": "python3",
      "display_name": "Python 3"
    }
  },
  "cells": [
    {
      "cell_type": "markdown",
      "metadata": {
        "id": "view-in-github",
        "colab_type": "text"
      },
      "source": [
        "<a href=\"https://colab.research.google.com/github/vikrantpotnis123/DS/blob/master/pytorch_vs_keras.ipynb\" target=\"_parent\"><img src=\"https://colab.research.google.com/assets/colab-badge.svg\" alt=\"Open In Colab\"/></a>"
      ]
    },
    {
      "cell_type": "markdown",
      "metadata": {
        "id": "ECJGcXA-1fYU",
        "colab_type": "text"
      },
      "source": [
        "In TensorFlow, packages like Keras, TensorFlow-Slim, and TFLearn provide higher-level abstractions over raw computational graphs that are useful for building neural networks.\n",
        "\n",
        "In PyTorch, the nn package serves this same purpose. The nn package defines a set of Modules, which are roughly equivalent to neural network layers. A Module receives input Tensors and computes output Tensors, but may also hold internal state such as Tensors containing learnable parameters. The nn package also defines a set of useful loss functions that are commonly used when training neural networks."
      ]
    },
    {
      "cell_type": "code",
      "metadata": {
        "id": "Jp28IOt_1r1u",
        "colab_type": "code",
        "colab": {
          "base_uri": "https://localhost:8080/",
          "height": 283
        },
        "outputId": "05eeedc9-4a9b-4c44-ae5d-3fbdb08890f1"
      },
      "source": [
        "import tensorflow as tf\n",
        "print(tf.__version__)\n",
        "\n",
        "class myCallback(tf.keras.callbacks.Callback):\n",
        "  def on_epoch_end(self, epoch, logs={}):\n",
        "    if(logs.get('accuracy')>0.91):\n",
        "      print(\"\\nReached 91% accuracy so cancelling training!\")\n",
        "      self.model.stop_training = True\n",
        "\n",
        "mnist = tf.keras.datasets.mnist\n",
        "(x_train, y_train),(x_test, y_test) = mnist.load_data()\n",
        "\n",
        "callbacks = myCallback()\n",
        "\n",
        "import numpy as np\n",
        "np.set_printoptions(linewidth=200)\n",
        "\n",
        "import matplotlib.pyplot as plt\n",
        "%matplotlib inline\n",
        "plt.imshow(x_train[0])\n",
        "x_train, x_test = x_train / 255.0, x_test / 255.0\n",
        "\n",
        "#print(x_train[0])\n",
        "#print(x_train[0])\n"
      ],
      "execution_count": 82,
      "outputs": [
        {
          "output_type": "stream",
          "text": [
            "2.2.0\n"
          ],
          "name": "stdout"
        },
        {
          "output_type": "display_data",
          "data": {
            "image/png": "[encoded data removed]",
            "text/plain": [
              "<Figure size 432x288 with 1 Axes>"
            ]
          },
          "metadata": {
            "tags": [],
            "needs_background": "light"
          }
        }
      ]
    },
    {
      "cell_type": "markdown",
      "metadata": {
        "id": "OpwhLJbqOvIR",
        "colab_type": "text"
      },
      "source": [
        "  Flatten 0 just takes square image metr and turns it into a 1 dimensional set.\n",
        "\n",
        "  Dense - adds a layer of neurons\n",
        "  Dense implements the operation: \n",
        "  output = activation(dot(input, kernel) + bias) \n",
        "  where activation is the element-wise activation function passed \n",
        "  as the activation argument, \n",
        "  kernel is a weights matrix created by the layer, and \n",
        "  bias is a bias vector created by the layer \n",
        "  (only applicable if use_bias is True)\n",
        "    check the help for details but output has dimensions [batch_size, d0, units]\n",
        "  when input dimensions are [batch_size, d0, d1]\n",
        "  so here the first argument is the the 'units'\n",
        "\n",
        "  Softmax takes a set of values, and effectively picks the biggest one, so, \n",
        "  for example, if the output of the last layer looks like [0.1, 0.1, 0.05, 0.1, 9.5, 0.1, 0.05, 0.05, 0.05], \n",
        "  it saves you from fishing through it looking for the biggest value, and turns it into [0,0,0,0,1,0,0,0,0] \n",
        "  \n",
        "  Relu = if x > 0 return x else return 0\n",
        "  "
      ]
    },
    {
      "cell_type": "code",
      "metadata": {
        "id": "EMb6XKb_MHYs",
        "colab_type": "code",
        "colab": {
          "base_uri": "https://localhost:8080/",
          "height": 106
        },
        "outputId": "bf6c0449-3b8c-4694-80b1-f03338b75633"
      },
      "source": [
        "# build the model\n",
        "# Sequential: That defines a SEQUENCE of layers in the neural network\n",
        "model = tf.keras.models.Sequential([\n",
        "                                    tf.keras.layers.Flatten(input_shape=(28,28)),\n",
        "                                    tf.keras.layers.Dense(128, activation=tf.nn.relu),\n",
        "                                    tf.keras.layers.Dense(10, activation=tf.nn.softmax)\n",
        "])\n",
        "\n",
        "# then compile the model with a cost/loss function and an optimizer (gradient descent)\n",
        "model.compile(optimizer='adam',\n",
        "              loss='sparse_categorical_crossentropy',\n",
        "              metrics=['accuracy'])\n",
        "\n",
        "# finally train the model\n",
        "model.fit(x_train, y_train, epochs=10, callbacks=[callbacks])"
      ],
      "execution_count": 83,
      "outputs": [
        {
          "output_type": "stream",
          "text": [
            "Epoch 1/10\n",
            "1855/1875 [============================>.] - ETA: 0s - loss: 0.2609 - accuracy: 0.9252\n",
            "Reached 91% accuracy so cancelling training!\n",
            "1875/1875 [==============================] - 3s 2ms/step - loss: 0.2602 - accuracy: 0.9254\n"
          ],
          "name": "stdout"
        },
        {
          "output_type": "execute_result",
          "data": {
            "text/plain": [
              "<tensorflow.python.keras.callbacks.History at 0x7fdaa0630438>"
            ]
          },
          "metadata": {
            "tags": []
          },
          "execution_count": 83
        }
      ]
    },
    {
      "cell_type": "code",
      "metadata": {
        "id": "VDYzFahlLhD5",
        "colab_type": "code",
        "colab": {
          "base_uri": "https://localhost:8080/",
          "height": 53
        },
        "outputId": "bbe4cd34-5418-4f3f-fa59-53d26f75d930"
      },
      "source": [
        "model.evaluate(x_test, y_test)"
      ],
      "execution_count": 80,
      "outputs": [
        {
          "output_type": "stream",
          "text": [
            "313/313 [==============================] - 0s 1ms/step - loss: 0.1520 - accuracy: 0.9561\n"
          ],
          "name": "stdout"
        },
        {
          "output_type": "execute_result",
          "data": {
            "text/plain": [
              "[0.15204931795597076, 0.9560999870300293]"
            ]
          },
          "metadata": {
            "tags": []
          },
          "execution_count": 80
        }
      ]
    },
    {
      "cell_type": "code",
      "metadata": {
        "id": "XjWL_EZbPdHu",
        "colab_type": "code",
        "colab": {
          "base_uri": "https://localhost:8080/",
          "height": 35
        },
        "outputId": "f65cc849-c15b-4572-f95e-b40e708bdbbf"
      },
      "source": [
        "classifications = model.predict(x_test)\n",
        "print(classifications[0])"
      ],
      "execution_count": 81,
      "outputs": [
        {
          "output_type": "stream",
          "text": [
            "[8.2145798e-06 4.4922959e-07 1.1958613e-04 1.2200705e-03 1.3919556e-08 3.1421845e-05 1.5166118e-09 9.9858427e-01 9.5289931e-07 3.5023393e-05]\n"
          ],
          "name": "stdout"
        }
      ]
    },
    {
      "cell_type": "markdown",
      "metadata": {
        "id": "uXlrnWdzP6xl",
        "colab_type": "text"
      },
      "source": [
        "The output of the model is a list of 10 numbers. \n",
        "\n",
        "These numbers are a probability that the value being classified is the corresponding value \n",
        "\n",
        "Check:\n",
        "(https://github.com/zalandoresearch/fashion-mnist#labels).\n",
        "\n",
        "The first value in the list is the probability that the image is of a '0' (T-shirt/top), the next is a '1' (Trouser) etc. \n",
        "\n",
        "For the 9 (Ankle boot), the probability was in the 90's, i.e. the neural network is telling us that it's almost certainly a 7.\n",
        "The rest are very low probabilities."
      ]
    },
    {
      "cell_type": "code",
      "metadata": {
        "id": "bE6ZiKlPLpFF",
        "colab_type": "code",
        "colab": {}
      },
      "source": [
        "import numpy as np\n",
        "import torch\n",
        "import torchvision\n",
        "import matplotlib.pyplot as plt\n",
        "from time import time\n",
        "from torchvision import datasets, transforms\n",
        "from torch import nn, optim"
      ],
      "execution_count": 30,
      "outputs": []
    },
    {
      "cell_type": "markdown",
      "metadata": {
        "id": "DU8Tusx-tKMj",
        "colab_type": "text"
      },
      "source": [
        "Normalize a tensor image with mean and standard deviation. \n",
        "\n",
        "![Standardization](https://www.thoughtco.com/thmb/IuWRp3Yt6U06_Ditky8XbUKllnY=/768x0/filters:no_upscale():max_bytes(150000):strip_icc():format(webp)/zscore-56a8fa785f9b58b7d0f6e87b.GIF)\n",
        "\n",
        "Given mean: (M1,...,Mn) and std: (S1,..,Sn) for n channels, this transform will normalize each channel of the input torch.*Tensor \n",
        "\n",
        "i.e. output[channel] = (input[channel] - mean[channel]) / std[channel]"
      ]
    },
    {
      "cell_type": "code",
      "metadata": {
        "id": "gFEYG37fvf6q",
        "colab_type": "code",
        "colab": {
          "base_uri": "https://localhost:8080/",
          "height": 53
        },
        "outputId": "ef7ca1dc-66ad-4901-84da-39cdb7d0d8a7"
      },
      "source": [
        "print(torch.cuda.is_available()) \n",
        "device = torch.device(\"cuda:0\" if torch.cuda.is_available() else \"cpu\")\n",
        "print(device)"
      ],
      "execution_count": 43,
      "outputs": [
        {
          "output_type": "stream",
          "text": [
            "False\n",
            "cpu\n"
          ],
          "name": "stdout"
        }
      ]
    },
    {
      "cell_type": "code",
      "metadata": {
        "id": "DHPOznUNtI7t",
        "colab_type": "code",
        "colab": {}
      },
      "source": [
        "# Use standard FashionMNIST dataset\n",
        "transform = transforms.Compose([\n",
        "      transforms.ToTensor(),\n",
        "      transforms.Normalize((0.5,), (0.5,))\n",
        "  ])"
      ],
      "execution_count": 32,
      "outputs": []
    },
    {
      "cell_type": "code",
      "metadata": {
        "id": "Ir6gD6HntSdU",
        "colab_type": "code",
        "colab": {}
      },
      "source": [
        "train_set = datasets.MNIST('PATH_TO_STORE_TRAINSET', download=True, train=True, transform=transform)\n",
        "test_set = datasets.MNIST('PATH_TO_STORE_TESTSET', download=True, train=False, transform=transform)\n",
        "train_loader = torch.utils.data.DataLoader(train_set, batch_size=64, shuffle=True)\n",
        "test_loader = torch.utils.data.DataLoader(test_set, batch_size=64, shuffle=True)"
      ],
      "execution_count": 67,
      "outputs": []
    },
    {
      "cell_type": "code",
      "metadata": {
        "id": "5_dyUiFCtUZH",
        "colab_type": "code",
        "colab": {
          "base_uri": "https://localhost:8080/",
          "height": 88
        },
        "outputId": "204c2f68-4bf7-4cfc-f1c8-43c7a269addf"
      },
      "source": [
        "dataiter = iter(train_loader)\n",
        "train_images, train_image_labels = dataiter.next()\n",
        "print(train_images.shape)\n",
        "print(train_image_labels.shape)\n",
        "# print(train_images.squeeze().shape)\n",
        "# print(train_images.squeeze().unsqueeze(1).shape)"
      ],
      "execution_count": 70,
      "outputs": [
        {
          "output_type": "stream",
          "text": [
            "torch.Size([64, 1, 28, 28])\n",
            "torch.Size([64])\n",
            "torch.Size([64, 28, 28])\n",
            "torch.Size([64, 1, 28, 28])\n"
          ],
          "name": "stdout"
        }
      ]
    },
    {
      "cell_type": "markdown",
      "metadata": {
        "id": "WmkynnH1tn2E",
        "colab_type": "text"
      },
      "source": [
        "The shape of images is torch.Size([64,1,28,28]), \n",
        "which shows that there are 64 images in each batch and each image has a dimension of 28 x 28 pixels. \n",
        "\n",
        "\n",
        "---\n",
        "\n",
        "Similarly, the labels have a shape as torch.Size([64]) as they are 64 images"
      ]
    },
    {
      "cell_type": "code",
      "metadata": {
        "id": "j6YfM0mPtoVR",
        "colab_type": "code",
        "colab": {
          "base_uri": "https://localhost:8080/",
          "height": 283
        },
        "outputId": "99e6254b-8975-421a-a670-69b88b02f4b5"
      },
      "source": [
        "plt.imshow(train_images[0].numpy().squeeze(), cmap='gray_r')"
      ],
      "execution_count": 53,
      "outputs": [
        {
          "output_type": "execute_result",
          "data": {
            "text/plain": [
              "<matplotlib.image.AxesImage at 0x7fdaa0ed0160>"
            ]
          },
          "metadata": {
            "tags": []
          },
          "execution_count": 53
        },
        {
          "output_type": "display_data",
          "data": {
            "image/png": "[encoded data removed]",
            "text/plain": [
              "<Figure size 432x288 with 1 Axes>"
            ]
          },
          "metadata": {
            "tags": [],
            "needs_background": "light"
          }
        }
      ]
    },
    {
      "cell_type": "code",
      "metadata": {
        "id": "8OBRb4pWtsq_",
        "colab_type": "code",
        "colab": {
          "base_uri": "https://localhost:8080/",
          "height": 246
        },
        "outputId": "eb7046b3-6083-4002-aa21-57bd668396c5"
      },
      "source": [
        "figure = plt.figure()\n",
        "num_of_images = 60\n",
        "for index in range(1, num_of_images + 1):\n",
        "    plt.subplot(6, 10, index)\n",
        "    plt.axis('off')\n",
        "    plt.imshow(train_images[index].numpy().squeeze(), cmap='gray_r')"
      ],
      "execution_count": 54,
      "outputs": [
        {
          "output_type": "display_data",
          "data": {
            "image/png": "[encoded data removed]",
            "text/plain": [
              "<Figure size 432x288 with 60 Axes>"
            ]
          },
          "metadata": {
            "tags": [],
            "needs_background": "light"
          }
        }
      ]
    },
    {
      "cell_type": "markdown",
      "metadata": {
        "id": "JfMDj-yotzIV",
        "colab_type": "text"
      },
      "source": [
        "Flatten the input image into a 1 dimensionl tensor of 28*28 = 784 as we did in the Keras workflow above.\n",
        "\n",
        "And define the model as we did for Keras (note the similarity!)"
      ]
    },
    {
      "cell_type": "code",
      "metadata": {
        "id": "Jigrpb9ztucO",
        "colab_type": "code",
        "colab": {
          "base_uri": "https://localhost:8080/",
          "height": 159
        },
        "outputId": "060d38a7-59cc-443d-e3d7-7ecc7b6c548b"
      },
      "source": [
        "input_size = 28*28\n",
        "hidden_sizes = [128, 64]\n",
        "output_size = 10\n",
        "\n",
        "model = nn.Sequential(nn.Linear(input_size, hidden_sizes[0]),\n",
        "                      nn.ReLU(),\n",
        "                      nn.Linear(hidden_sizes[0], hidden_sizes[1]),\n",
        "                      nn.ReLU(),\n",
        "                      nn.Linear(hidden_sizes[1], output_size),\n",
        "                      nn.LogSoftmax(dim=1))\n",
        "print(model)"
      ],
      "execution_count": 38,
      "outputs": [
        {
          "output_type": "stream",
          "text": [
            "Sequential(\n",
            "  (0): Linear(in_features=784, out_features=128, bias=True)\n",
            "  (1): ReLU()\n",
            "  (2): Linear(in_features=128, out_features=64, bias=True)\n",
            "  (3): ReLU()\n",
            "  (4): Linear(in_features=64, out_features=10, bias=True)\n",
            "  (5): LogSoftmax()\n",
            ")\n"
          ],
          "name": "stdout"
        }
      ]
    },
    {
      "cell_type": "markdown",
      "metadata": {
        "id": "p7clps2Xt5E-",
        "colab_type": "text"
      },
      "source": [
        "Together the LogSoftmax() and NLLLoss() acts as the cross-entropy loss (note the similarity with the keras model above)."
      ]
    },
    {
      "cell_type": "code",
      "metadata": {
        "id": "BHIfF8nLt8am",
        "colab_type": "code",
        "colab": {
          "base_uri": "https://localhost:8080/",
          "height": 319
        },
        "outputId": "981e1491-8f25-4df7-9eaf-7f957b7a52c2"
      },
      "source": [
        "optimizer = optim.SGD(model.parameters(), lr=0.003, momentum=0.9)\n",
        "start_time = time()\n",
        "epochs = 15\n",
        "for e in range(epochs):\n",
        "    running_loss = 0\n",
        "    for training_images, training_labels in train_loader:\n",
        "        # Flatten MNIST images into a 784 long vector\n",
        "        training_images_flattened = training_images.view(training_images.shape[0], -1)\n",
        "    \n",
        "        # Training pass\n",
        "        optimizer.zero_grad()\n",
        "        \n",
        "        # returns y_pred\n",
        "        predicted_labels = model(training_images_flattened)\n",
        "\n",
        "        loss = criterion(predicted_labels, training_labels)\n",
        "        \n",
        "        #This is where the model learns by backpropagating\n",
        "        loss.backward()\n",
        "        \n",
        "        #And optimizes its weights here\n",
        "        optimizer.step()\n",
        "        \n",
        "        running_loss += loss.item()\n",
        "    else:\n",
        "        print(\"Epoch {} - Training loss: {}\".format(e, running_loss/len(train_loader)))\n",
        "      \n",
        "print(\"\\nTraining Time (in minutes) =\",(time()-start_time)/60)"
      ],
      "execution_count": 76,
      "outputs": [
        {
          "output_type": "stream",
          "text": [
            "Epoch 0 - Training loss: 0.016809021562475886\n",
            "Epoch 1 - Training loss: 0.015677781862967304\n",
            "Epoch 2 - Training loss: 0.014414231488842324\n",
            "Epoch 3 - Training loss: 0.012560943506928886\n",
            "Epoch 4 - Training loss: 0.011679208363596993\n",
            "Epoch 5 - Training loss: 0.011240266711677738\n",
            "Epoch 6 - Training loss: 0.010047140523453981\n",
            "Epoch 7 - Training loss: 0.00902476876208098\n",
            "Epoch 8 - Training loss: 0.009074626353463898\n",
            "Epoch 9 - Training loss: 0.008555181529915292\n",
            "Epoch 10 - Training loss: 0.007872299574366309\n",
            "Epoch 11 - Training loss: 0.006211944721400369\n",
            "Epoch 12 - Training loss: 0.006362969108534156\n",
            "Epoch 13 - Training loss: 0.005944682096604254\n",
            "Epoch 14 - Training loss: 0.005131332781152807\n",
            "\n",
            "Training Time (in minutes) = 2.2493000507354735\n"
          ],
          "name": "stdout"
        }
      ]
    },
    {
      "cell_type": "code",
      "metadata": {
        "id": "UxR3o7xowSt0",
        "colab_type": "code",
        "colab": {
          "base_uri": "https://localhost:8080/",
          "height": 35
        },
        "outputId": "fde133eb-3f3f-4d87-8efc-f2f6b9b892e8"
      },
      "source": [
        "correct = 0\n",
        "total = 0\n",
        "with torch.no_grad():\n",
        "    for test_images, test_labels in train_loader:\n",
        "        # Flatten MNIST images into a 784 long vector\n",
        "        test_images_flattened = test_images.view(test_images.shape[0], -1)\n",
        "        preds = model(test_images_flattened)\n",
        "        _, predicted_labels = torch.max(preds.data, 1)\n",
        "        total += test_labels.size(0)\n",
        "        correct += (predicted_labels == test_labels).sum().item()\n",
        " \n",
        "print('Accuracy of the network on test images: %0.3f %%' % (100 * correct / total))"
      ],
      "execution_count": 77,
      "outputs": [
        {
          "output_type": "stream",
          "text": [
            "Accuracy of the network on test images: 99.932 %\n"
          ],
          "name": "stdout"
        }
      ]
    }
  ]
}